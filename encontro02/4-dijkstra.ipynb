{
 "cells": [
  {
   "cell_type": "markdown",
   "metadata": {},
   "source": [
    "# Encontro 02, Parte 4: Algoritmo de Dijkstra\n",
    "\n",
    "Este guia foi escrito para ajudar você a atingir os seguintes objetivos:\n",
    "\n",
    "* implementar o algoritmo de Dijkstra;\n",
    "* praticar o uso da biblioteca da disciplina.\n",
    "\n",
    "Primeiramente, vamos importar a biblioteca:"
   ]
  },
  {
   "cell_type": "code",
   "execution_count": 16,
   "metadata": {},
   "outputs": [],
   "source": [
    "import sys\n",
    "sys.path.append('..')\n",
    "\n",
    "import socnet as sn"
   ]
  },
  {
   "cell_type": "markdown",
   "metadata": {},
   "source": [
    "A seguir, vamos configurar as propriedades visuais:"
   ]
  },
  {
   "cell_type": "code",
   "execution_count": 17,
   "metadata": {
    "collapsed": true
   },
   "outputs": [],
   "source": [
    "sn.graph_width = 320\n",
    "sn.graph_height = 180"
   ]
  },
  {
   "cell_type": "markdown",
   "metadata": {},
   "source": [
    "Por fim, vamos carregar e visualizar um grafo:"
   ]
  },
  {
   "cell_type": "code",
   "execution_count": 18,
   "metadata": {},
   "outputs": [
    {
     "data": {
      "application/vnd.plotly.v1+json": {
       "data": [
        {
         "hoverinfo": "none",
         "line": {
          "color": "rgb(0, 0, 0)",
          "width": 2
         },
         "mode": "lines",
         "x": [
          0,
          0.5,
          null,
          0.46643085439538495,
          0.44538388103556675,
          null,
          0.46643085439538495,
          0.4285584341548651,
          null,
          0,
          0.5,
          null,
          0.46643085439538495,
          0.4285584341548651,
          null,
          0.46643085439538495,
          0.44538388103556675,
          null,
          0.5,
          1,
          null,
          0.9621212121212122,
          0.9288794484132434,
          null,
          0.9621212121212122,
          0.9288794484132434,
          null,
          0.5075757575757576,
          0.5075757575757576,
          null,
          0.5075757575757576,
          0.5257358158562198,
          null,
          1.0075757575757576,
          1.0075757575757576,
          null,
          1.0075757575757576,
          1.0257358158562198,
          null,
          0.49242424242424243,
          0.49242424242424243,
          null,
          0.49242424242424243,
          0.4742641841437802,
          null,
          0.5,
          1,
          null,
          0.9738173240163878,
          0.9639630823912474,
          null,
          0.9738173240163878,
          0.9377166459078401,
          null,
          0.5,
          1,
          null,
          0.9621212121212122,
          0.9288794484132434,
          null,
          0.9621212121212122,
          0.9288794484132434,
          null,
          1,
          0,
          null,
          0.03664774299318793,
          0.07340128670201525,
          null,
          0.03664774299318793,
          0.06421703965128427,
          null,
          0.9924242424242424,
          0.9924242424242424,
          null,
          0.9924242424242424,
          0.9742641841437802,
          null
         ],
         "y": [
          0.5,
          1,
          null,
          0.966430854395385,
          0.906182816233176,
          null,
          0.966430854395385,
          0.967759498957256,
          null,
          0.5,
          0,
          null,
          0.03356914560461503,
          0.032240501042743994,
          null,
          0.03356914560461503,
          0.09381718376682407,
          null,
          1,
          1,
          null,
          1,
          0.9652590189417244,
          null,
          1,
          1.0347409810582755,
          null,
          1,
          0,
          null,
          0.07246376811594203,
          0.13605670738336034,
          null,
          1,
          0,
          null,
          0.07246376811594203,
          0.13605670738336034,
          null,
          0,
          1,
          null,
          0.927536231884058,
          0.8639432926166397,
          null,
          0,
          1,
          null,
          0.9476346480327754,
          0.8776659754484841,
          null,
          0.9476346480327754,
          0.9256934811496907,
          null,
          0,
          0,
          null,
          0,
          -0.03474098105827558,
          null,
          0,
          0.03474098105827558,
          null,
          0,
          0.5,
          null,
          0.481676128503406,
          0.4992073320037643,
          null,
          0.481676128503406,
          0.4319835048195859,
          null,
          0,
          1,
          null,
          0.927536231884058,
          0.8639432926166397,
          null
         ]
        },
        {
         "hoverinfo": "none",
         "marker": {
          "color": "rgb(255, 255, 255)",
          "line": {
           "color": "rgb(0, 0, 0)",
           "width": 2
          },
          "size": 20
         },
         "mode": "markers+text",
         "text": [],
         "textfont": {
          "color": "rgb(0, 0, 0)"
         },
         "textposition": "middle center",
         "x": [
          0,
          0.5,
          1,
          0.5,
          1
         ],
         "y": [
          0.5,
          1,
          1,
          0,
          0
         ]
        },
        {
         "hoverinfo": "none",
         "mode": "text",
         "text": [
          10,
          5,
          1,
          2,
          4,
          3,
          9,
          2,
          7,
          6
         ],
         "textfont": {
          "color": "rgb(0, 0, 0)"
         },
         "textposition": "middle center",
         "x": [
          0.21643085439538495,
          0.28356914560461505,
          0.75,
          0.5454545454545454,
          1.0454545454545454,
          0.45454545454545453,
          0.713352257006812,
          0.75,
          0.4738173240163877,
          0.9545454545454546
         ],
         "y": [
          0.783569145604615,
          0.28356914560461505,
          1.0724637681159421,
          0.5,
          0.5,
          0.5,
          0.518323871496594,
          0.07246376811594203,
          0.19763464803277542,
          0.5
         ]
        }
       ],
       "layout": {
        "height": 180,
        "margin": {
         "b": 0,
         "l": 0,
         "r": 0,
         "t": 0
        },
        "showlegend": false,
        "width": 320,
        "xaxis": {
         "showgrid": false,
         "showticklabels": false,
         "zeroline": false
        },
        "yaxis": {
         "showgrid": false,
         "showticklabels": false,
         "zeroline": false
        }
       }
      },
      "text/html": [
       "<div id=\"cc1b827c-e901-4124-b647-9f70ecddfcd6\" style=\"height: 180px; width: 320px;\" class=\"plotly-graph-div\"></div><script type=\"text/javascript\">require([\"plotly\"], function(Plotly) { window.PLOTLYENV=window.PLOTLYENV || {};window.PLOTLYENV.BASE_URL=\"https://plot.ly\";Plotly.newPlot(\"cc1b827c-e901-4124-b647-9f70ecddfcd6\", [{\"x\": [0.0, 0.5, null, 0.46643085439538495, 0.44538388103556675, null, 0.46643085439538495, 0.4285584341548651, null, 0.0, 0.5, null, 0.46643085439538495, 0.4285584341548651, null, 0.46643085439538495, 0.44538388103556675, null, 0.5, 1.0, null, 0.9621212121212122, 0.9288794484132434, null, 0.9621212121212122, 0.9288794484132434, null, 0.5075757575757576, 0.5075757575757576, null, 0.5075757575757576, 0.5257358158562198, null, 1.0075757575757576, 1.0075757575757576, null, 1.0075757575757576, 1.0257358158562198, null, 0.49242424242424243, 0.49242424242424243, null, 0.49242424242424243, 0.4742641841437802, null, 0.5, 1.0, null, 0.9738173240163878, 0.9639630823912474, null, 0.9738173240163878, 0.9377166459078401, null, 0.5, 1.0, null, 0.9621212121212122, 0.9288794484132434, null, 0.9621212121212122, 0.9288794484132434, null, 1.0, 0.0, null, 0.03664774299318793, 0.07340128670201525, null, 0.03664774299318793, 0.06421703965128427, null, 0.9924242424242424, 0.9924242424242424, null, 0.9924242424242424, 0.9742641841437802, null], \"y\": [0.5, 1.0, null, 0.966430854395385, 0.906182816233176, null, 0.966430854395385, 0.967759498957256, null, 0.5, 0.0, null, 0.03356914560461503, 0.032240501042743994, null, 0.03356914560461503, 0.09381718376682407, null, 1.0, 1.0, null, 1.0, 0.9652590189417244, null, 1.0, 1.0347409810582755, null, 1.0, 0.0, null, 0.07246376811594203, 0.13605670738336034, null, 1.0, 0.0, null, 0.07246376811594203, 0.13605670738336034, null, 0.0, 1.0, null, 0.927536231884058, 0.8639432926166397, null, 0.0, 1.0, null, 0.9476346480327754, 0.8776659754484841, null, 0.9476346480327754, 0.9256934811496907, null, 0.0, 0.0, null, 0.0, -0.03474098105827558, null, 0.0, 0.03474098105827558, null, 0.0, 0.5, null, 0.481676128503406, 0.4992073320037643, null, 0.481676128503406, 0.4319835048195859, null, 0.0, 1.0, null, 0.927536231884058, 0.8639432926166397, null], \"hoverinfo\": \"none\", \"mode\": \"lines\", \"line\": {\"width\": 2, \"color\": \"rgb(0, 0, 0)\"}}, {\"x\": [0.0, 0.5, 1.0, 0.5, 1.0], \"y\": [0.5, 1.0, 1.0, 0.0, 0.0], \"text\": [], \"textposition\": \"middle center\", \"hoverinfo\": \"none\", \"mode\": \"markers+text\", \"marker\": {\"size\": 20, \"color\": \"rgb(255, 255, 255)\", \"line\": {\"width\": 2, \"color\": \"rgb(0, 0, 0)\"}}, \"textfont\": {\"color\": \"rgb(0, 0, 0)\"}}, {\"x\": [0.21643085439538495, 0.28356914560461505, 0.75, 0.5454545454545454, 1.0454545454545454, 0.45454545454545453, 0.713352257006812, 0.75, 0.4738173240163877, 0.9545454545454546], \"y\": [0.783569145604615, 0.28356914560461505, 1.0724637681159421, 0.5, 0.5, 0.5, 0.518323871496594, 0.07246376811594203, 0.19763464803277542, 0.5], \"text\": [10, 5, 1, 2, 4, 3, 9, 2, 7, 6], \"textposition\": \"middle center\", \"hoverinfo\": \"none\", \"mode\": \"text\", \"textfont\": {\"color\": \"rgb(0, 0, 0)\"}}], {\"showlegend\": false, \"width\": 320, \"height\": 180, \"margin\": {\"b\": 0, \"l\": 0, \"r\": 0, \"t\": 0}, \"xaxis\": {\"showgrid\": false, \"zeroline\": false, \"showticklabels\": false}, \"yaxis\": {\"showgrid\": false, \"zeroline\": false, \"showticklabels\": false}}, {\"showLink\": false, \"linkText\": \"Export to plot.ly\", \"displayModeBar\": false})});</script>"
      ],
      "text/vnd.plotly.v1+html": [
       "<div id=\"cc1b827c-e901-4124-b647-9f70ecddfcd6\" style=\"height: 180px; width: 320px;\" class=\"plotly-graph-div\"></div><script type=\"text/javascript\">require([\"plotly\"], function(Plotly) { window.PLOTLYENV=window.PLOTLYENV || {};window.PLOTLYENV.BASE_URL=\"https://plot.ly\";Plotly.newPlot(\"cc1b827c-e901-4124-b647-9f70ecddfcd6\", [{\"x\": [0.0, 0.5, null, 0.46643085439538495, 0.44538388103556675, null, 0.46643085439538495, 0.4285584341548651, null, 0.0, 0.5, null, 0.46643085439538495, 0.4285584341548651, null, 0.46643085439538495, 0.44538388103556675, null, 0.5, 1.0, null, 0.9621212121212122, 0.9288794484132434, null, 0.9621212121212122, 0.9288794484132434, null, 0.5075757575757576, 0.5075757575757576, null, 0.5075757575757576, 0.5257358158562198, null, 1.0075757575757576, 1.0075757575757576, null, 1.0075757575757576, 1.0257358158562198, null, 0.49242424242424243, 0.49242424242424243, null, 0.49242424242424243, 0.4742641841437802, null, 0.5, 1.0, null, 0.9738173240163878, 0.9639630823912474, null, 0.9738173240163878, 0.9377166459078401, null, 0.5, 1.0, null, 0.9621212121212122, 0.9288794484132434, null, 0.9621212121212122, 0.9288794484132434, null, 1.0, 0.0, null, 0.03664774299318793, 0.07340128670201525, null, 0.03664774299318793, 0.06421703965128427, null, 0.9924242424242424, 0.9924242424242424, null, 0.9924242424242424, 0.9742641841437802, null], \"y\": [0.5, 1.0, null, 0.966430854395385, 0.906182816233176, null, 0.966430854395385, 0.967759498957256, null, 0.5, 0.0, null, 0.03356914560461503, 0.032240501042743994, null, 0.03356914560461503, 0.09381718376682407, null, 1.0, 1.0, null, 1.0, 0.9652590189417244, null, 1.0, 1.0347409810582755, null, 1.0, 0.0, null, 0.07246376811594203, 0.13605670738336034, null, 1.0, 0.0, null, 0.07246376811594203, 0.13605670738336034, null, 0.0, 1.0, null, 0.927536231884058, 0.8639432926166397, null, 0.0, 1.0, null, 0.9476346480327754, 0.8776659754484841, null, 0.9476346480327754, 0.9256934811496907, null, 0.0, 0.0, null, 0.0, -0.03474098105827558, null, 0.0, 0.03474098105827558, null, 0.0, 0.5, null, 0.481676128503406, 0.4992073320037643, null, 0.481676128503406, 0.4319835048195859, null, 0.0, 1.0, null, 0.927536231884058, 0.8639432926166397, null], \"hoverinfo\": \"none\", \"mode\": \"lines\", \"line\": {\"width\": 2, \"color\": \"rgb(0, 0, 0)\"}}, {\"x\": [0.0, 0.5, 1.0, 0.5, 1.0], \"y\": [0.5, 1.0, 1.0, 0.0, 0.0], \"text\": [], \"textposition\": \"middle center\", \"hoverinfo\": \"none\", \"mode\": \"markers+text\", \"marker\": {\"size\": 20, \"color\": \"rgb(255, 255, 255)\", \"line\": {\"width\": 2, \"color\": \"rgb(0, 0, 0)\"}}, \"textfont\": {\"color\": \"rgb(0, 0, 0)\"}}, {\"x\": [0.21643085439538495, 0.28356914560461505, 0.75, 0.5454545454545454, 1.0454545454545454, 0.45454545454545453, 0.713352257006812, 0.75, 0.4738173240163877, 0.9545454545454546], \"y\": [0.783569145604615, 0.28356914560461505, 1.0724637681159421, 0.5, 0.5, 0.5, 0.518323871496594, 0.07246376811594203, 0.19763464803277542, 0.5], \"text\": [10, 5, 1, 2, 4, 3, 9, 2, 7, 6], \"textposition\": \"middle center\", \"hoverinfo\": \"none\", \"mode\": \"text\", \"textfont\": {\"color\": \"rgb(0, 0, 0)\"}}], {\"showlegend\": false, \"width\": 320, \"height\": 180, \"margin\": {\"b\": 0, \"l\": 0, \"r\": 0, \"t\": 0}, \"xaxis\": {\"showgrid\": false, \"zeroline\": false, \"showticklabels\": false}, \"yaxis\": {\"showgrid\": false, \"zeroline\": false, \"showticklabels\": false}}, {\"showLink\": false, \"linkText\": \"Export to plot.ly\", \"displayModeBar\": false})});</script>"
      ]
     },
     "metadata": {},
     "output_type": "display_data"
    }
   ],
   "source": [
    "g = sn.load_graph('4-dijkstra.gml', has_pos=True)\n",
    "\n",
    "for n, m in g.edges():\n",
    "    g.edge[n][m]['label'] = g.edge[n][m]['c']\n",
    "\n",
    "sn.show_graph(g, elab=True)"
   ]
  },
  {
   "cell_type": "markdown",
   "metadata": {},
   "source": [
    "## Algoritmo de Dijkstra\n",
    "\n",
    "A ideia do algoritmo de busca em largura é usar uma fila para visitar os nós em ordem de distância. A ideia do algoritmo de Bellman-Ford é atualizar a distância ponderada de um nó quando descobrimos uma aresta através da qual podemos melhorá-la. A busca em largura é rápida, mas não considera custos. O Bellman-Ford considera custos, mas não é rápido.\n",
    "\n",
    "O **algoritmo de Dijkstra** usa um pouco de cada algoritmo para eficientemente calcular distâncias ponderadas no caso particular em que os custos são todos não-negativos. A ideia é usar uma *fila de prioridade* para visitar os nós em ordem de distância e também atualizar a distância ponderada de um nó não-visitado quando descobrimos uma aresta através da qual podemos melhorá-la. No pseudocódigo abaixo, \"`x.d`\" significa \"atributo `d` do nó `x`\".\n",
    "\n",
    "    inicialize uma fila de prioridade h, onde menor d significa maior prioridade\n",
    "\n",
    "    para cada nó n\n",
    "        n.d = ∞\n",
    "        coloque n em h\n",
    "\n",
    "    s.d = 0\n",
    "    conserte s em h, pois s.d mudou\n",
    "\n",
    "    enquanto h não está vazia\n",
    "        retire n de h, onde n é o nó com maior prioridade\n",
    "\n",
    "        para cada sucessor m de n\n",
    "            d = n.d + c(n, m)\n",
    "\n",
    "            se m.d > d\n",
    "                m.d = d\n",
    "                conserte m em h, pois m.d mudou\n",
    "\n",
    "Vamos especificar uma classe que representa a fila de prioridade necessária. Não é necessário entender todos os detalhes dela, apenas que o método `fix` deve ser usado para *consertar*, o método `put` deve ser usado para *colocar* e o método `get` deve ser usado para *retirar*. "
   ]
  },
  {
   "cell_type": "code",
   "execution_count": 19,
   "metadata": {
    "collapsed": true
   },
   "outputs": [],
   "source": [
    "class Heap(object):\n",
    "    def __init__(self, g):\n",
    "        self.g = g\n",
    "        self.h = []\n",
    "        self.indices = {}\n",
    "\n",
    "    def _parent(self, i):\n",
    "        return (i - 1) // 2\n",
    "\n",
    "    def _left(self, i):\n",
    "        return 2 * i + 1\n",
    "\n",
    "    def _right(self, i):\n",
    "        return 2 * i + 2\n",
    "\n",
    "    def _key(self, i):\n",
    "        return self.g.node[self.h[i]]['d']\n",
    "\n",
    "    def _swap(self, i, j):\n",
    "        self.h[i], self.h[j] = self.h[j], self.h[i]\n",
    "        self.indices[self.h[i]] = i\n",
    "        self.indices[self.h[j]] = j\n",
    "\n",
    "    def empty(self):\n",
    "        return len(self.h) == 0\n",
    "\n",
    "    def fix(self, n):\n",
    "        i = self.indices[n]\n",
    "        p = self._parent(i)\n",
    "        while i > 0 and self._key(p) > self._key(i):\n",
    "            self._swap(i, p)\n",
    "            i = p\n",
    "            p = self._parent(i)\n",
    "\n",
    "    def put(self, n):\n",
    "        self.indices[n] = len(self.h)\n",
    "        self.h.append(n)\n",
    "        self.fix(n)\n",
    "\n",
    "    def get(self):\n",
    "        n = self.h[0]\n",
    "        self._swap(0, len(self.h) - 1)\n",
    "        del self.h[-1]\n",
    "        del self.indices[n]\n",
    "        i = 0\n",
    "        while True:\n",
    "            l = self._left(i)\n",
    "            r = self._right(i)\n",
    "            c = i\n",
    "            if l < len(self.h) and self._key(l) < self._key(c):\n",
    "                c = l\n",
    "            if r < len(self.h) and self._key(r) < self._key(c):\n",
    "                c = r\n",
    "            if i == c:\n",
    "                break\n",
    "            self._swap(i, c)\n",
    "            i = c\n",
    "        return n"
   ]
  },
  {
   "cell_type": "markdown",
   "metadata": {},
   "source": [
    "### Exercício\n",
    "\n",
    "Monte uma visualização do algoritmo de Dijkstra. Use a classe `Heap`."
   ]
  },
  {
   "cell_type": "code",
   "execution_count": 42,
   "metadata": {},
   "outputs": [
    {
     "data": {
      "application/vnd.plotly.v1+json": {
       "data": [
        {
         "hoverinfo": "none",
         "line": {
          "color": "rgb(0, 0, 0)",
          "width": 2
         },
         "mode": "lines",
         "x": [
          0,
          0.5,
          null,
          0.46643085439538495,
          0.44538388103556675,
          null,
          0.46643085439538495,
          0.4285584341548651,
          null
         ],
         "y": [
          0.5,
          1,
          null,
          0.966430854395385,
          0.906182816233176,
          null,
          0.966430854395385,
          0.967759498957256,
          null
         ]
        },
        {
         "hoverinfo": "none",
         "line": {
          "color": "rgb(0, 0, 0)",
          "width": 2
         },
         "mode": "lines",
         "x": [
          0,
          0.5,
          null,
          0.46643085439538495,
          0.4285584341548651,
          null,
          0.46643085439538495,
          0.44538388103556675,
          null
         ],
         "y": [
          0.5,
          0,
          null,
          0.03356914560461503,
          0.032240501042743994,
          null,
          0.03356914560461503,
          0.09381718376682407,
          null
         ]
        },
        {
         "hoverinfo": "none",
         "line": {
          "color": "rgb(0, 0, 0)",
          "width": 2
         },
         "mode": "lines",
         "x": [
          0.5,
          1,
          null,
          0.9621212121212122,
          0.9288794484132434,
          null,
          0.9621212121212122,
          0.9288794484132434,
          null
         ],
         "y": [
          1,
          1,
          null,
          1,
          0.9652590189417244,
          null,
          1,
          1.0347409810582755,
          null
         ]
        },
        {
         "hoverinfo": "none",
         "line": {
          "color": "rgb(0, 0, 0)",
          "width": 2
         },
         "mode": "lines",
         "x": [
          0.5075757575757576,
          0.5075757575757576,
          null,
          0.5075757575757576,
          0.5257358158562198,
          null
         ],
         "y": [
          1,
          0,
          null,
          0.07246376811594203,
          0.13605670738336034,
          null
         ]
        },
        {
         "hoverinfo": "none",
         "line": {
          "color": "rgb(0, 0, 0)",
          "width": 2
         },
         "mode": "lines",
         "x": [
          1.0075757575757576,
          1.0075757575757576,
          null,
          1.0075757575757576,
          1.0257358158562198,
          null
         ],
         "y": [
          1,
          0,
          null,
          0.07246376811594203,
          0.13605670738336034,
          null
         ]
        },
        {
         "hoverinfo": "none",
         "line": {
          "color": "rgb(0, 0, 0)",
          "width": 2
         },
         "mode": "lines",
         "x": [
          0.49242424242424243,
          0.49242424242424243,
          null,
          0.49242424242424243,
          0.4742641841437802,
          null
         ],
         "y": [
          0,
          1,
          null,
          0.927536231884058,
          0.8639432926166397,
          null
         ]
        },
        {
         "hoverinfo": "none",
         "line": {
          "color": "rgb(0, 0, 0)",
          "width": 2
         },
         "mode": "lines",
         "x": [
          0.5,
          1,
          null,
          0.9738173240163878,
          0.9639630823912474,
          null,
          0.9738173240163878,
          0.9377166459078401,
          null
         ],
         "y": [
          0,
          1,
          null,
          0.9476346480327754,
          0.8776659754484841,
          null,
          0.9476346480327754,
          0.9256934811496907,
          null
         ]
        },
        {
         "hoverinfo": "none",
         "line": {
          "color": "rgb(0, 0, 0)",
          "width": 2
         },
         "mode": "lines",
         "x": [
          0.5,
          1,
          null,
          0.9621212121212122,
          0.9288794484132434,
          null,
          0.9621212121212122,
          0.9288794484132434,
          null
         ],
         "y": [
          0,
          0,
          null,
          0,
          -0.03474098105827558,
          null,
          0,
          0.03474098105827558,
          null
         ]
        },
        {
         "hoverinfo": "none",
         "line": {
          "color": "rgb(0, 0, 0)",
          "width": 2
         },
         "mode": "lines",
         "x": [
          1,
          0,
          null,
          0.03664774299318793,
          0.07340128670201525,
          null,
          0.03664774299318793,
          0.06421703965128427,
          null
         ],
         "y": [
          0,
          0.5,
          null,
          0.481676128503406,
          0.4992073320037643,
          null,
          0.481676128503406,
          0.4319835048195859,
          null
         ]
        },
        {
         "hoverinfo": "none",
         "line": {
          "color": "rgb(0, 0, 0)",
          "width": 2
         },
         "mode": "lines",
         "x": [
          0.9924242424242424,
          0.9924242424242424,
          null,
          0.9924242424242424,
          0.9742641841437802,
          null
         ],
         "y": [
          0,
          1,
          null,
          0.927536231884058,
          0.8639432926166397,
          null
         ]
        },
        {
         "hoverinfo": "none",
         "marker": {
          "color": "rgb(255, 255, 255)",
          "line": {
           "color": "rgb(0, 0, 0)",
           "width": 2
          },
          "size": 20
         },
         "mode": "markers+text",
         "text": [
          "0"
         ],
         "textfont": {
          "color": "rgb(0, 0, 0)"
         },
         "textposition": "middle center",
         "x": [
          0
         ],
         "y": [
          0.5
         ]
        },
        {
         "hoverinfo": "none",
         "marker": {
          "color": "rgb(255, 255, 255)",
          "line": {
           "color": "rgb(0, 0, 0)",
           "width": 2
          },
          "size": 20
         },
         "mode": "markers+text",
         "text": [
          "8"
         ],
         "textfont": {
          "color": "rgb(0, 0, 0)"
         },
         "textposition": "middle center",
         "x": [
          0.5
         ],
         "y": [
          1
         ]
        },
        {
         "hoverinfo": "none",
         "marker": {
          "color": "rgb(255, 255, 255)",
          "line": {
           "color": "rgb(0, 0, 0)",
           "width": 2
          },
          "size": 20
         },
         "mode": "markers+text",
         "text": [
          "9"
         ],
         "textfont": {
          "color": "rgb(0, 0, 0)"
         },
         "textposition": "middle center",
         "x": [
          1
         ],
         "y": [
          1
         ]
        },
        {
         "hoverinfo": "none",
         "marker": {
          "color": "rgb(255, 255, 255)",
          "line": {
           "color": "rgb(0, 0, 0)",
           "width": 2
          },
          "size": 20
         },
         "mode": "markers+text",
         "text": [
          "5"
         ],
         "textfont": {
          "color": "rgb(0, 0, 0)"
         },
         "textposition": "middle center",
         "x": [
          0.5
         ],
         "y": [
          0
         ]
        },
        {
         "hoverinfo": "none",
         "marker": {
          "color": "rgb(255, 255, 255)",
          "line": {
           "color": "rgb(0, 0, 0)",
           "width": 2
          },
          "size": 20
         },
         "mode": "markers+text",
         "text": [
          "7"
         ],
         "textfont": {
          "color": "rgb(0, 0, 0)"
         },
         "textposition": "middle center",
         "x": [
          1
         ],
         "y": [
          0
         ]
        }
       ],
       "frames": [
        {
         "data": [
          {
           "hoverinfo": "none",
           "line": {
            "color": "rgb(0, 0, 0)",
            "width": 2
           },
           "mode": "lines",
           "x": [
            0,
            0.5,
            null,
            0.46643085439538495,
            0.44538388103556675,
            null,
            0.46643085439538495,
            0.4285584341548651,
            null
           ],
           "y": [
            0.5,
            1,
            null,
            0.966430854395385,
            0.906182816233176,
            null,
            0.966430854395385,
            0.967759498957256,
            null
           ]
          },
          {
           "hoverinfo": "none",
           "line": {
            "color": "rgb(0, 0, 0)",
            "width": 2
           },
           "mode": "lines",
           "x": [
            0,
            0.5,
            null,
            0.46643085439538495,
            0.4285584341548651,
            null,
            0.46643085439538495,
            0.44538388103556675,
            null
           ],
           "y": [
            0.5,
            0,
            null,
            0.03356914560461503,
            0.032240501042743994,
            null,
            0.03356914560461503,
            0.09381718376682407,
            null
           ]
          },
          {
           "hoverinfo": "none",
           "line": {
            "color": "rgb(0, 0, 0)",
            "width": 2
           },
           "mode": "lines",
           "x": [
            0.5,
            1,
            null,
            0.9621212121212122,
            0.9288794484132434,
            null,
            0.9621212121212122,
            0.9288794484132434,
            null
           ],
           "y": [
            1,
            1,
            null,
            1,
            0.9652590189417244,
            null,
            1,
            1.0347409810582755,
            null
           ]
          },
          {
           "hoverinfo": "none",
           "line": {
            "color": "rgb(0, 0, 0)",
            "width": 2
           },
           "mode": "lines",
           "x": [
            0.5075757575757576,
            0.5075757575757576,
            null,
            0.5075757575757576,
            0.5257358158562198,
            null
           ],
           "y": [
            1,
            0,
            null,
            0.07246376811594203,
            0.13605670738336034,
            null
           ]
          },
          {
           "hoverinfo": "none",
           "line": {
            "color": "rgb(0, 0, 0)",
            "width": 2
           },
           "mode": "lines",
           "x": [
            1.0075757575757576,
            1.0075757575757576,
            null,
            1.0075757575757576,
            1.0257358158562198,
            null
           ],
           "y": [
            1,
            0,
            null,
            0.07246376811594203,
            0.13605670738336034,
            null
           ]
          },
          {
           "hoverinfo": "none",
           "line": {
            "color": "rgb(0, 0, 0)",
            "width": 2
           },
           "mode": "lines",
           "x": [
            0.49242424242424243,
            0.49242424242424243,
            null,
            0.49242424242424243,
            0.4742641841437802,
            null
           ],
           "y": [
            0,
            1,
            null,
            0.927536231884058,
            0.8639432926166397,
            null
           ]
          },
          {
           "hoverinfo": "none",
           "line": {
            "color": "rgb(0, 0, 0)",
            "width": 2
           },
           "mode": "lines",
           "x": [
            0.5,
            1,
            null,
            0.9738173240163878,
            0.9639630823912474,
            null,
            0.9738173240163878,
            0.9377166459078401,
            null
           ],
           "y": [
            0,
            1,
            null,
            0.9476346480327754,
            0.8776659754484841,
            null,
            0.9476346480327754,
            0.9256934811496907,
            null
           ]
          },
          {
           "hoverinfo": "none",
           "line": {
            "color": "rgb(0, 0, 0)",
            "width": 2
           },
           "mode": "lines",
           "x": [
            0.5,
            1,
            null,
            0.9621212121212122,
            0.9288794484132434,
            null,
            0.9621212121212122,
            0.9288794484132434,
            null
           ],
           "y": [
            0,
            0,
            null,
            0,
            -0.03474098105827558,
            null,
            0,
            0.03474098105827558,
            null
           ]
          },
          {
           "hoverinfo": "none",
           "line": {
            "color": "rgb(0, 0, 0)",
            "width": 2
           },
           "mode": "lines",
           "x": [
            1,
            0,
            null,
            0.03664774299318793,
            0.07340128670201525,
            null,
            0.03664774299318793,
            0.06421703965128427,
            null
           ],
           "y": [
            0,
            0.5,
            null,
            0.481676128503406,
            0.4992073320037643,
            null,
            0.481676128503406,
            0.4319835048195859,
            null
           ]
          },
          {
           "hoverinfo": "none",
           "line": {
            "color": "rgb(0, 0, 0)",
            "width": 2
           },
           "mode": "lines",
           "x": [
            0.9924242424242424,
            0.9924242424242424,
            null,
            0.9924242424242424,
            0.9742641841437802,
            null
           ],
           "y": [
            0,
            1,
            null,
            0.927536231884058,
            0.8639432926166397,
            null
           ]
          },
          {
           "hoverinfo": "none",
           "marker": {
            "color": "rgb(255, 255, 255)",
            "line": {
             "color": "rgb(0, 0, 0)",
             "width": 2
            },
            "size": 20
           },
           "mode": "markers+text",
           "text": [
            "0"
           ],
           "textfont": {
            "color": "rgb(0, 0, 0)"
           },
           "textposition": "middle center",
           "x": [
            0
           ],
           "y": [
            0.5
           ]
          },
          {
           "hoverinfo": "none",
           "marker": {
            "color": "rgb(255, 255, 255)",
            "line": {
             "color": "rgb(0, 0, 0)",
             "width": 2
            },
            "size": 20
           },
           "mode": "markers+text",
           "text": [
            "8"
           ],
           "textfont": {
            "color": "rgb(0, 0, 0)"
           },
           "textposition": "middle center",
           "x": [
            0.5
           ],
           "y": [
            1
           ]
          },
          {
           "hoverinfo": "none",
           "marker": {
            "color": "rgb(255, 255, 255)",
            "line": {
             "color": "rgb(0, 0, 0)",
             "width": 2
            },
            "size": 20
           },
           "mode": "markers+text",
           "text": [
            "9"
           ],
           "textfont": {
            "color": "rgb(0, 0, 0)"
           },
           "textposition": "middle center",
           "x": [
            1
           ],
           "y": [
            1
           ]
          },
          {
           "hoverinfo": "none",
           "marker": {
            "color": "rgb(255, 255, 255)",
            "line": {
             "color": "rgb(0, 0, 0)",
             "width": 2
            },
            "size": 20
           },
           "mode": "markers+text",
           "text": [
            "5"
           ],
           "textfont": {
            "color": "rgb(0, 0, 0)"
           },
           "textposition": "middle center",
           "x": [
            0.5
           ],
           "y": [
            0
           ]
          },
          {
           "hoverinfo": "none",
           "marker": {
            "color": "rgb(255, 255, 255)",
            "line": {
             "color": "rgb(0, 0, 0)",
             "width": 2
            },
            "size": 20
           },
           "mode": "markers+text",
           "text": [
            "7"
           ],
           "textfont": {
            "color": "rgb(0, 0, 0)"
           },
           "textposition": "middle center",
           "x": [
            1
           ],
           "y": [
            0
           ]
          }
         ],
         "name": 0
        },
        {
         "data": [
          {
           "hoverinfo": "none",
           "line": {
            "color": "rgb(0, 0, 0)",
            "width": 2
           },
           "mode": "lines",
           "x": [
            0,
            0.5,
            null,
            0.46643085439538495,
            0.44538388103556675,
            null,
            0.46643085439538495,
            0.4285584341548651,
            null
           ],
           "y": [
            0.5,
            1,
            null,
            0.966430854395385,
            0.906182816233176,
            null,
            0.966430854395385,
            0.967759498957256,
            null
           ]
          },
          {
           "hoverinfo": "none",
           "line": {
            "color": "rgb(0, 0, 0)",
            "width": 2
           },
           "mode": "lines",
           "x": [
            0,
            0.5,
            null,
            0.46643085439538495,
            0.4285584341548651,
            null,
            0.46643085439538495,
            0.44538388103556675,
            null
           ],
           "y": [
            0.5,
            0,
            null,
            0.03356914560461503,
            0.032240501042743994,
            null,
            0.03356914560461503,
            0.09381718376682407,
            null
           ]
          },
          {
           "hoverinfo": "none",
           "line": {
            "color": "rgb(0, 0, 0)",
            "width": 2
           },
           "mode": "lines",
           "x": [
            0.5,
            1,
            null,
            0.9621212121212122,
            0.9288794484132434,
            null,
            0.9621212121212122,
            0.9288794484132434,
            null
           ],
           "y": [
            1,
            1,
            null,
            1,
            0.9652590189417244,
            null,
            1,
            1.0347409810582755,
            null
           ]
          },
          {
           "hoverinfo": "none",
           "line": {
            "color": "rgb(0, 0, 0)",
            "width": 2
           },
           "mode": "lines",
           "x": [
            0.5075757575757576,
            0.5075757575757576,
            null,
            0.5075757575757576,
            0.5257358158562198,
            null
           ],
           "y": [
            1,
            0,
            null,
            0.07246376811594203,
            0.13605670738336034,
            null
           ]
          },
          {
           "hoverinfo": "none",
           "line": {
            "color": "rgb(0, 0, 0)",
            "width": 2
           },
           "mode": "lines",
           "x": [
            1.0075757575757576,
            1.0075757575757576,
            null,
            1.0075757575757576,
            1.0257358158562198,
            null
           ],
           "y": [
            1,
            0,
            null,
            0.07246376811594203,
            0.13605670738336034,
            null
           ]
          },
          {
           "hoverinfo": "none",
           "line": {
            "color": "rgb(0, 0, 0)",
            "width": 2
           },
           "mode": "lines",
           "x": [
            0.49242424242424243,
            0.49242424242424243,
            null,
            0.49242424242424243,
            0.4742641841437802,
            null
           ],
           "y": [
            0,
            1,
            null,
            0.927536231884058,
            0.8639432926166397,
            null
           ]
          },
          {
           "hoverinfo": "none",
           "line": {
            "color": "rgb(0, 0, 0)",
            "width": 2
           },
           "mode": "lines",
           "x": [
            0.5,
            1,
            null,
            0.9738173240163878,
            0.9639630823912474,
            null,
            0.9738173240163878,
            0.9377166459078401,
            null
           ],
           "y": [
            0,
            1,
            null,
            0.9476346480327754,
            0.8776659754484841,
            null,
            0.9476346480327754,
            0.9256934811496907,
            null
           ]
          },
          {
           "hoverinfo": "none",
           "line": {
            "color": "rgb(0, 0, 0)",
            "width": 2
           },
           "mode": "lines",
           "x": [
            0.5,
            1,
            null,
            0.9621212121212122,
            0.9288794484132434,
            null,
            0.9621212121212122,
            0.9288794484132434,
            null
           ],
           "y": [
            0,
            0,
            null,
            0,
            -0.03474098105827558,
            null,
            0,
            0.03474098105827558,
            null
           ]
          },
          {
           "hoverinfo": "none",
           "line": {
            "color": "rgb(0, 0, 0)",
            "width": 2
           },
           "mode": "lines",
           "x": [
            1,
            0,
            null,
            0.03664774299318793,
            0.07340128670201525,
            null,
            0.03664774299318793,
            0.06421703965128427,
            null
           ],
           "y": [
            0,
            0.5,
            null,
            0.481676128503406,
            0.4992073320037643,
            null,
            0.481676128503406,
            0.4319835048195859,
            null
           ]
          },
          {
           "hoverinfo": "none",
           "line": {
            "color": "rgb(0, 0, 0)",
            "width": 2
           },
           "mode": "lines",
           "x": [
            0.9924242424242424,
            0.9924242424242424,
            null,
            0.9924242424242424,
            0.9742641841437802,
            null
           ],
           "y": [
            0,
            1,
            null,
            0.927536231884058,
            0.8639432926166397,
            null
           ]
          },
          {
           "hoverinfo": "none",
           "marker": {
            "color": "rgb(0, 255, 0)",
            "line": {
             "color": "rgb(0, 0, 0)",
             "width": 2
            },
            "size": 20
           },
           "mode": "markers+text",
           "text": [
            "0"
           ],
           "textfont": {
            "color": "rgb(0, 0, 0)"
           },
           "textposition": "middle center",
           "x": [
            0
           ],
           "y": [
            0.5
           ]
          },
          {
           "hoverinfo": "none",
           "marker": {
            "color": "rgb(255, 255, 255)",
            "line": {
             "color": "rgb(0, 0, 0)",
             "width": 2
            },
            "size": 20
           },
           "mode": "markers+text",
           "text": [
            "∞"
           ],
           "textfont": {
            "color": "rgb(0, 0, 0)"
           },
           "textposition": "middle center",
           "x": [
            0.5
           ],
           "y": [
            1
           ]
          },
          {
           "hoverinfo": "none",
           "marker": {
            "color": "rgb(255, 255, 255)",
            "line": {
             "color": "rgb(0, 0, 0)",
             "width": 2
            },
            "size": 20
           },
           "mode": "markers+text",
           "text": [
            "∞"
           ],
           "textfont": {
            "color": "rgb(0, 0, 0)"
           },
           "textposition": "middle center",
           "x": [
            1
           ],
           "y": [
            1
           ]
          },
          {
           "hoverinfo": "none",
           "marker": {
            "color": "rgb(255, 255, 255)",
            "line": {
             "color": "rgb(0, 0, 0)",
             "width": 2
            },
            "size": 20
           },
           "mode": "markers+text",
           "text": [
            "∞"
           ],
           "textfont": {
            "color": "rgb(0, 0, 0)"
           },
           "textposition": "middle center",
           "x": [
            0.5
           ],
           "y": [
            0
           ]
          },
          {
           "hoverinfo": "none",
           "marker": {
            "color": "rgb(255, 255, 255)",
            "line": {
             "color": "rgb(0, 0, 0)",
             "width": 2
            },
            "size": 20
           },
           "mode": "markers+text",
           "text": [
            "∞"
           ],
           "textfont": {
            "color": "rgb(0, 0, 0)"
           },
           "textposition": "middle center",
           "x": [
            1
           ],
           "y": [
            0
           ]
          }
         ],
         "name": 1
        },
        {
         "data": [
          {
           "hoverinfo": "none",
           "line": {
            "color": "rgb(255, 0, 0)",
            "width": 2
           },
           "mode": "lines",
           "x": [
            0,
            0.5,
            null,
            0.46643085439538495,
            0.44538388103556675,
            null,
            0.46643085439538495,
            0.4285584341548651,
            null
           ],
           "y": [
            0.5,
            1,
            null,
            0.966430854395385,
            0.906182816233176,
            null,
            0.966430854395385,
            0.967759498957256,
            null
           ]
          },
          {
           "hoverinfo": "none",
           "line": {
            "color": "rgb(0, 0, 0)",
            "width": 2
           },
           "mode": "lines",
           "x": [
            0,
            0.5,
            null,
            0.46643085439538495,
            0.4285584341548651,
            null,
            0.46643085439538495,
            0.44538388103556675,
            null
           ],
           "y": [
            0.5,
            0,
            null,
            0.03356914560461503,
            0.032240501042743994,
            null,
            0.03356914560461503,
            0.09381718376682407,
            null
           ]
          },
          {
           "hoverinfo": "none",
           "line": {
            "color": "rgb(0, 0, 0)",
            "width": 2
           },
           "mode": "lines",
           "x": [
            0.5,
            1,
            null,
            0.9621212121212122,
            0.9288794484132434,
            null,
            0.9621212121212122,
            0.9288794484132434,
            null
           ],
           "y": [
            1,
            1,
            null,
            1,
            0.9652590189417244,
            null,
            1,
            1.0347409810582755,
            null
           ]
          },
          {
           "hoverinfo": "none",
           "line": {
            "color": "rgb(0, 0, 0)",
            "width": 2
           },
           "mode": "lines",
           "x": [
            0.5075757575757576,
            0.5075757575757576,
            null,
            0.5075757575757576,
            0.5257358158562198,
            null
           ],
           "y": [
            1,
            0,
            null,
            0.07246376811594203,
            0.13605670738336034,
            null
           ]
          },
          {
           "hoverinfo": "none",
           "line": {
            "color": "rgb(0, 0, 0)",
            "width": 2
           },
           "mode": "lines",
           "x": [
            1.0075757575757576,
            1.0075757575757576,
            null,
            1.0075757575757576,
            1.0257358158562198,
            null
           ],
           "y": [
            1,
            0,
            null,
            0.07246376811594203,
            0.13605670738336034,
            null
           ]
          },
          {
           "hoverinfo": "none",
           "line": {
            "color": "rgb(0, 0, 0)",
            "width": 2
           },
           "mode": "lines",
           "x": [
            0.49242424242424243,
            0.49242424242424243,
            null,
            0.49242424242424243,
            0.4742641841437802,
            null
           ],
           "y": [
            0,
            1,
            null,
            0.927536231884058,
            0.8639432926166397,
            null
           ]
          },
          {
           "hoverinfo": "none",
           "line": {
            "color": "rgb(0, 0, 0)",
            "width": 2
           },
           "mode": "lines",
           "x": [
            0.5,
            1,
            null,
            0.9738173240163878,
            0.9639630823912474,
            null,
            0.9738173240163878,
            0.9377166459078401,
            null
           ],
           "y": [
            0,
            1,
            null,
            0.9476346480327754,
            0.8776659754484841,
            null,
            0.9476346480327754,
            0.9256934811496907,
            null
           ]
          },
          {
           "hoverinfo": "none",
           "line": {
            "color": "rgb(0, 0, 0)",
            "width": 2
           },
           "mode": "lines",
           "x": [
            0.5,
            1,
            null,
            0.9621212121212122,
            0.9288794484132434,
            null,
            0.9621212121212122,
            0.9288794484132434,
            null
           ],
           "y": [
            0,
            0,
            null,
            0,
            -0.03474098105827558,
            null,
            0,
            0.03474098105827558,
            null
           ]
          },
          {
           "hoverinfo": "none",
           "line": {
            "color": "rgb(0, 0, 0)",
            "width": 2
           },
           "mode": "lines",
           "x": [
            1,
            0,
            null,
            0.03664774299318793,
            0.07340128670201525,
            null,
            0.03664774299318793,
            0.06421703965128427,
            null
           ],
           "y": [
            0,
            0.5,
            null,
            0.481676128503406,
            0.4992073320037643,
            null,
            0.481676128503406,
            0.4319835048195859,
            null
           ]
          },
          {
           "hoverinfo": "none",
           "line": {
            "color": "rgb(0, 0, 0)",
            "width": 2
           },
           "mode": "lines",
           "x": [
            0.9924242424242424,
            0.9924242424242424,
            null,
            0.9924242424242424,
            0.9742641841437802,
            null
           ],
           "y": [
            0,
            1,
            null,
            0.927536231884058,
            0.8639432926166397,
            null
           ]
          },
          {
           "hoverinfo": "none",
           "marker": {
            "color": "rgb(0, 255, 0)",
            "line": {
             "color": "rgb(0, 0, 0)",
             "width": 2
            },
            "size": 20
           },
           "mode": "markers+text",
           "text": [
            "0"
           ],
           "textfont": {
            "color": "rgb(0, 0, 0)"
           },
           "textposition": "middle center",
           "x": [
            0
           ],
           "y": [
            0.5
           ]
          },
          {
           "hoverinfo": "none",
           "marker": {
            "color": "rgb(255, 255, 255)",
            "line": {
             "color": "rgb(0, 0, 0)",
             "width": 2
            },
            "size": 20
           },
           "mode": "markers+text",
           "text": [
            "∞"
           ],
           "textfont": {
            "color": "rgb(0, 0, 0)"
           },
           "textposition": "middle center",
           "x": [
            0.5
           ],
           "y": [
            1
           ]
          },
          {
           "hoverinfo": "none",
           "marker": {
            "color": "rgb(255, 255, 255)",
            "line": {
             "color": "rgb(0, 0, 0)",
             "width": 2
            },
            "size": 20
           },
           "mode": "markers+text",
           "text": [
            "∞"
           ],
           "textfont": {
            "color": "rgb(0, 0, 0)"
           },
           "textposition": "middle center",
           "x": [
            1
           ],
           "y": [
            1
           ]
          },
          {
           "hoverinfo": "none",
           "marker": {
            "color": "rgb(255, 255, 255)",
            "line": {
             "color": "rgb(0, 0, 0)",
             "width": 2
            },
            "size": 20
           },
           "mode": "markers+text",
           "text": [
            "∞"
           ],
           "textfont": {
            "color": "rgb(0, 0, 0)"
           },
           "textposition": "middle center",
           "x": [
            0.5
           ],
           "y": [
            0
           ]
          },
          {
           "hoverinfo": "none",
           "marker": {
            "color": "rgb(255, 255, 255)",
            "line": {
             "color": "rgb(0, 0, 0)",
             "width": 2
            },
            "size": 20
           },
           "mode": "markers+text",
           "text": [
            "∞"
           ],
           "textfont": {
            "color": "rgb(0, 0, 0)"
           },
           "textposition": "middle center",
           "x": [
            1
           ],
           "y": [
            0
           ]
          }
         ],
         "name": 2
        },
        {
         "data": [
          {
           "hoverinfo": "none",
           "line": {
            "color": "rgb(0, 0, 0)",
            "width": 2
           },
           "mode": "lines",
           "x": [
            0,
            0.5,
            null,
            0.46643085439538495,
            0.44538388103556675,
            null,
            0.46643085439538495,
            0.4285584341548651,
            null
           ],
           "y": [
            0.5,
            1,
            null,
            0.966430854395385,
            0.906182816233176,
            null,
            0.966430854395385,
            0.967759498957256,
            null
           ]
          },
          {
           "hoverinfo": "none",
           "line": {
            "color": "rgb(0, 0, 0)",
            "width": 2
           },
           "mode": "lines",
           "x": [
            0,
            0.5,
            null,
            0.46643085439538495,
            0.4285584341548651,
            null,
            0.46643085439538495,
            0.44538388103556675,
            null
           ],
           "y": [
            0.5,
            0,
            null,
            0.03356914560461503,
            0.032240501042743994,
            null,
            0.03356914560461503,
            0.09381718376682407,
            null
           ]
          },
          {
           "hoverinfo": "none",
           "line": {
            "color": "rgb(0, 0, 0)",
            "width": 2
           },
           "mode": "lines",
           "x": [
            0.5,
            1,
            null,
            0.9621212121212122,
            0.9288794484132434,
            null,
            0.9621212121212122,
            0.9288794484132434,
            null
           ],
           "y": [
            1,
            1,
            null,
            1,
            0.9652590189417244,
            null,
            1,
            1.0347409810582755,
            null
           ]
          },
          {
           "hoverinfo": "none",
           "line": {
            "color": "rgb(0, 0, 0)",
            "width": 2
           },
           "mode": "lines",
           "x": [
            0.5075757575757576,
            0.5075757575757576,
            null,
            0.5075757575757576,
            0.5257358158562198,
            null
           ],
           "y": [
            1,
            0,
            null,
            0.07246376811594203,
            0.13605670738336034,
            null
           ]
          },
          {
           "hoverinfo": "none",
           "line": {
            "color": "rgb(0, 0, 0)",
            "width": 2
           },
           "mode": "lines",
           "x": [
            1.0075757575757576,
            1.0075757575757576,
            null,
            1.0075757575757576,
            1.0257358158562198,
            null
           ],
           "y": [
            1,
            0,
            null,
            0.07246376811594203,
            0.13605670738336034,
            null
           ]
          },
          {
           "hoverinfo": "none",
           "line": {
            "color": "rgb(0, 0, 0)",
            "width": 2
           },
           "mode": "lines",
           "x": [
            0.49242424242424243,
            0.49242424242424243,
            null,
            0.49242424242424243,
            0.4742641841437802,
            null
           ],
           "y": [
            0,
            1,
            null,
            0.927536231884058,
            0.8639432926166397,
            null
           ]
          },
          {
           "hoverinfo": "none",
           "line": {
            "color": "rgb(0, 0, 0)",
            "width": 2
           },
           "mode": "lines",
           "x": [
            0.5,
            1,
            null,
            0.9738173240163878,
            0.9639630823912474,
            null,
            0.9738173240163878,
            0.9377166459078401,
            null
           ],
           "y": [
            0,
            1,
            null,
            0.9476346480327754,
            0.8776659754484841,
            null,
            0.9476346480327754,
            0.9256934811496907,
            null
           ]
          },
          {
           "hoverinfo": "none",
           "line": {
            "color": "rgb(0, 0, 0)",
            "width": 2
           },
           "mode": "lines",
           "x": [
            0.5,
            1,
            null,
            0.9621212121212122,
            0.9288794484132434,
            null,
            0.9621212121212122,
            0.9288794484132434,
            null
           ],
           "y": [
            0,
            0,
            null,
            0,
            -0.03474098105827558,
            null,
            0,
            0.03474098105827558,
            null
           ]
          },
          {
           "hoverinfo": "none",
           "line": {
            "color": "rgb(0, 0, 0)",
            "width": 2
           },
           "mode": "lines",
           "x": [
            1,
            0,
            null,
            0.03664774299318793,
            0.07340128670201525,
            null,
            0.03664774299318793,
            0.06421703965128427,
            null
           ],
           "y": [
            0,
            0.5,
            null,
            0.481676128503406,
            0.4992073320037643,
            null,
            0.481676128503406,
            0.4319835048195859,
            null
           ]
          },
          {
           "hoverinfo": "none",
           "line": {
            "color": "rgb(0, 0, 0)",
            "width": 2
           },
           "mode": "lines",
           "x": [
            0.9924242424242424,
            0.9924242424242424,
            null,
            0.9924242424242424,
            0.9742641841437802,
            null
           ],
           "y": [
            0,
            1,
            null,
            0.927536231884058,
            0.8639432926166397,
            null
           ]
          },
          {
           "hoverinfo": "none",
           "marker": {
            "color": "rgb(0, 255, 0)",
            "line": {
             "color": "rgb(0, 0, 0)",
             "width": 2
            },
            "size": 20
           },
           "mode": "markers+text",
           "text": [
            "0"
           ],
           "textfont": {
            "color": "rgb(0, 0, 0)"
           },
           "textposition": "middle center",
           "x": [
            0
           ],
           "y": [
            0.5
           ]
          },
          {
           "hoverinfo": "none",
           "marker": {
            "color": "rgb(255, 255, 255)",
            "line": {
             "color": "rgb(0, 0, 0)",
             "width": 2
            },
            "size": 20
           },
           "mode": "markers+text",
           "text": [
            "10"
           ],
           "textfont": {
            "color": "rgb(0, 0, 0)"
           },
           "textposition": "middle center",
           "x": [
            0.5
           ],
           "y": [
            1
           ]
          },
          {
           "hoverinfo": "none",
           "marker": {
            "color": "rgb(255, 255, 255)",
            "line": {
             "color": "rgb(0, 0, 0)",
             "width": 2
            },
            "size": 20
           },
           "mode": "markers+text",
           "text": [
            "∞"
           ],
           "textfont": {
            "color": "rgb(0, 0, 0)"
           },
           "textposition": "middle center",
           "x": [
            1
           ],
           "y": [
            1
           ]
          },
          {
           "hoverinfo": "none",
           "marker": {
            "color": "rgb(255, 255, 255)",
            "line": {
             "color": "rgb(0, 0, 0)",
             "width": 2
            },
            "size": 20
           },
           "mode": "markers+text",
           "text": [
            "∞"
           ],
           "textfont": {
            "color": "rgb(0, 0, 0)"
           },
           "textposition": "middle center",
           "x": [
            0.5
           ],
           "y": [
            0
           ]
          },
          {
           "hoverinfo": "none",
           "marker": {
            "color": "rgb(255, 255, 255)",
            "line": {
             "color": "rgb(0, 0, 0)",
             "width": 2
            },
            "size": 20
           },
           "mode": "markers+text",
           "text": [
            "∞"
           ],
           "textfont": {
            "color": "rgb(0, 0, 0)"
           },
           "textposition": "middle center",
           "x": [
            1
           ],
           "y": [
            0
           ]
          }
         ],
         "name": 3
        },
        {
         "data": [
          {
           "hoverinfo": "none",
           "line": {
            "color": "rgb(0, 0, 0)",
            "width": 2
           },
           "mode": "lines",
           "x": [
            0,
            0.5,
            null,
            0.46643085439538495,
            0.44538388103556675,
            null,
            0.46643085439538495,
            0.4285584341548651,
            null
           ],
           "y": [
            0.5,
            1,
            null,
            0.966430854395385,
            0.906182816233176,
            null,
            0.966430854395385,
            0.967759498957256,
            null
           ]
          },
          {
           "hoverinfo": "none",
           "line": {
            "color": "rgb(255, 0, 0)",
            "width": 2
           },
           "mode": "lines",
           "x": [
            0,
            0.5,
            null,
            0.46643085439538495,
            0.4285584341548651,
            null,
            0.46643085439538495,
            0.44538388103556675,
            null
           ],
           "y": [
            0.5,
            0,
            null,
            0.03356914560461503,
            0.032240501042743994,
            null,
            0.03356914560461503,
            0.09381718376682407,
            null
           ]
          },
          {
           "hoverinfo": "none",
           "line": {
            "color": "rgb(0, 0, 0)",
            "width": 2
           },
           "mode": "lines",
           "x": [
            0.5,
            1,
            null,
            0.9621212121212122,
            0.9288794484132434,
            null,
            0.9621212121212122,
            0.9288794484132434,
            null
           ],
           "y": [
            1,
            1,
            null,
            1,
            0.9652590189417244,
            null,
            1,
            1.0347409810582755,
            null
           ]
          },
          {
           "hoverinfo": "none",
           "line": {
            "color": "rgb(0, 0, 0)",
            "width": 2
           },
           "mode": "lines",
           "x": [
            0.5075757575757576,
            0.5075757575757576,
            null,
            0.5075757575757576,
            0.5257358158562198,
            null
           ],
           "y": [
            1,
            0,
            null,
            0.07246376811594203,
            0.13605670738336034,
            null
           ]
          },
          {
           "hoverinfo": "none",
           "line": {
            "color": "rgb(0, 0, 0)",
            "width": 2
           },
           "mode": "lines",
           "x": [
            1.0075757575757576,
            1.0075757575757576,
            null,
            1.0075757575757576,
            1.0257358158562198,
            null
           ],
           "y": [
            1,
            0,
            null,
            0.07246376811594203,
            0.13605670738336034,
            null
           ]
          },
          {
           "hoverinfo": "none",
           "line": {
            "color": "rgb(0, 0, 0)",
            "width": 2
           },
           "mode": "lines",
           "x": [
            0.49242424242424243,
            0.49242424242424243,
            null,
            0.49242424242424243,
            0.4742641841437802,
            null
           ],
           "y": [
            0,
            1,
            null,
            0.927536231884058,
            0.8639432926166397,
            null
           ]
          },
          {
           "hoverinfo": "none",
           "line": {
            "color": "rgb(0, 0, 0)",
            "width": 2
           },
           "mode": "lines",
           "x": [
            0.5,
            1,
            null,
            0.9738173240163878,
            0.9639630823912474,
            null,
            0.9738173240163878,
            0.9377166459078401,
            null
           ],
           "y": [
            0,
            1,
            null,
            0.9476346480327754,
            0.8776659754484841,
            null,
            0.9476346480327754,
            0.9256934811496907,
            null
           ]
          },
          {
           "hoverinfo": "none",
           "line": {
            "color": "rgb(0, 0, 0)",
            "width": 2
           },
           "mode": "lines",
           "x": [
            0.5,
            1,
            null,
            0.9621212121212122,
            0.9288794484132434,
            null,
            0.9621212121212122,
            0.9288794484132434,
            null
           ],
           "y": [
            0,
            0,
            null,
            0,
            -0.03474098105827558,
            null,
            0,
            0.03474098105827558,
            null
           ]
          },
          {
           "hoverinfo": "none",
           "line": {
            "color": "rgb(0, 0, 0)",
            "width": 2
           },
           "mode": "lines",
           "x": [
            1,
            0,
            null,
            0.03664774299318793,
            0.07340128670201525,
            null,
            0.03664774299318793,
            0.06421703965128427,
            null
           ],
           "y": [
            0,
            0.5,
            null,
            0.481676128503406,
            0.4992073320037643,
            null,
            0.481676128503406,
            0.4319835048195859,
            null
           ]
          },
          {
           "hoverinfo": "none",
           "line": {
            "color": "rgb(0, 0, 0)",
            "width": 2
           },
           "mode": "lines",
           "x": [
            0.9924242424242424,
            0.9924242424242424,
            null,
            0.9924242424242424,
            0.9742641841437802,
            null
           ],
           "y": [
            0,
            1,
            null,
            0.927536231884058,
            0.8639432926166397,
            null
           ]
          },
          {
           "hoverinfo": "none",
           "marker": {
            "color": "rgb(0, 255, 0)",
            "line": {
             "color": "rgb(0, 0, 0)",
             "width": 2
            },
            "size": 20
           },
           "mode": "markers+text",
           "text": [
            "0"
           ],
           "textfont": {
            "color": "rgb(0, 0, 0)"
           },
           "textposition": "middle center",
           "x": [
            0
           ],
           "y": [
            0.5
           ]
          },
          {
           "hoverinfo": "none",
           "marker": {
            "color": "rgb(255, 255, 255)",
            "line": {
             "color": "rgb(0, 0, 0)",
             "width": 2
            },
            "size": 20
           },
           "mode": "markers+text",
           "text": [
            "10"
           ],
           "textfont": {
            "color": "rgb(0, 0, 0)"
           },
           "textposition": "middle center",
           "x": [
            0.5
           ],
           "y": [
            1
           ]
          },
          {
           "hoverinfo": "none",
           "marker": {
            "color": "rgb(255, 255, 255)",
            "line": {
             "color": "rgb(0, 0, 0)",
             "width": 2
            },
            "size": 20
           },
           "mode": "markers+text",
           "text": [
            "∞"
           ],
           "textfont": {
            "color": "rgb(0, 0, 0)"
           },
           "textposition": "middle center",
           "x": [
            1
           ],
           "y": [
            1
           ]
          },
          {
           "hoverinfo": "none",
           "marker": {
            "color": "rgb(255, 255, 255)",
            "line": {
             "color": "rgb(0, 0, 0)",
             "width": 2
            },
            "size": 20
           },
           "mode": "markers+text",
           "text": [
            "∞"
           ],
           "textfont": {
            "color": "rgb(0, 0, 0)"
           },
           "textposition": "middle center",
           "x": [
            0.5
           ],
           "y": [
            0
           ]
          },
          {
           "hoverinfo": "none",
           "marker": {
            "color": "rgb(255, 255, 255)",
            "line": {
             "color": "rgb(0, 0, 0)",
             "width": 2
            },
            "size": 20
           },
           "mode": "markers+text",
           "text": [
            "∞"
           ],
           "textfont": {
            "color": "rgb(0, 0, 0)"
           },
           "textposition": "middle center",
           "x": [
            1
           ],
           "y": [
            0
           ]
          }
         ],
         "name": 4
        },
        {
         "data": [
          {
           "hoverinfo": "none",
           "line": {
            "color": "rgb(0, 0, 0)",
            "width": 2
           },
           "mode": "lines",
           "x": [
            0,
            0.5,
            null,
            0.46643085439538495,
            0.44538388103556675,
            null,
            0.46643085439538495,
            0.4285584341548651,
            null
           ],
           "y": [
            0.5,
            1,
            null,
            0.966430854395385,
            0.906182816233176,
            null,
            0.966430854395385,
            0.967759498957256,
            null
           ]
          },
          {
           "hoverinfo": "none",
           "line": {
            "color": "rgb(0, 0, 0)",
            "width": 2
           },
           "mode": "lines",
           "x": [
            0,
            0.5,
            null,
            0.46643085439538495,
            0.4285584341548651,
            null,
            0.46643085439538495,
            0.44538388103556675,
            null
           ],
           "y": [
            0.5,
            0,
            null,
            0.03356914560461503,
            0.032240501042743994,
            null,
            0.03356914560461503,
            0.09381718376682407,
            null
           ]
          },
          {
           "hoverinfo": "none",
           "line": {
            "color": "rgb(0, 0, 0)",
            "width": 2
           },
           "mode": "lines",
           "x": [
            0.5,
            1,
            null,
            0.9621212121212122,
            0.9288794484132434,
            null,
            0.9621212121212122,
            0.9288794484132434,
            null
           ],
           "y": [
            1,
            1,
            null,
            1,
            0.9652590189417244,
            null,
            1,
            1.0347409810582755,
            null
           ]
          },
          {
           "hoverinfo": "none",
           "line": {
            "color": "rgb(0, 0, 0)",
            "width": 2
           },
           "mode": "lines",
           "x": [
            0.5075757575757576,
            0.5075757575757576,
            null,
            0.5075757575757576,
            0.5257358158562198,
            null
           ],
           "y": [
            1,
            0,
            null,
            0.07246376811594203,
            0.13605670738336034,
            null
           ]
          },
          {
           "hoverinfo": "none",
           "line": {
            "color": "rgb(0, 0, 0)",
            "width": 2
           },
           "mode": "lines",
           "x": [
            1.0075757575757576,
            1.0075757575757576,
            null,
            1.0075757575757576,
            1.0257358158562198,
            null
           ],
           "y": [
            1,
            0,
            null,
            0.07246376811594203,
            0.13605670738336034,
            null
           ]
          },
          {
           "hoverinfo": "none",
           "line": {
            "color": "rgb(0, 0, 0)",
            "width": 2
           },
           "mode": "lines",
           "x": [
            0.49242424242424243,
            0.49242424242424243,
            null,
            0.49242424242424243,
            0.4742641841437802,
            null
           ],
           "y": [
            0,
            1,
            null,
            0.927536231884058,
            0.8639432926166397,
            null
           ]
          },
          {
           "hoverinfo": "none",
           "line": {
            "color": "rgb(0, 0, 0)",
            "width": 2
           },
           "mode": "lines",
           "x": [
            0.5,
            1,
            null,
            0.9738173240163878,
            0.9639630823912474,
            null,
            0.9738173240163878,
            0.9377166459078401,
            null
           ],
           "y": [
            0,
            1,
            null,
            0.9476346480327754,
            0.8776659754484841,
            null,
            0.9476346480327754,
            0.9256934811496907,
            null
           ]
          },
          {
           "hoverinfo": "none",
           "line": {
            "color": "rgb(0, 0, 0)",
            "width": 2
           },
           "mode": "lines",
           "x": [
            0.5,
            1,
            null,
            0.9621212121212122,
            0.9288794484132434,
            null,
            0.9621212121212122,
            0.9288794484132434,
            null
           ],
           "y": [
            0,
            0,
            null,
            0,
            -0.03474098105827558,
            null,
            0,
            0.03474098105827558,
            null
           ]
          },
          {
           "hoverinfo": "none",
           "line": {
            "color": "rgb(0, 0, 0)",
            "width": 2
           },
           "mode": "lines",
           "x": [
            1,
            0,
            null,
            0.03664774299318793,
            0.07340128670201525,
            null,
            0.03664774299318793,
            0.06421703965128427,
            null
           ],
           "y": [
            0,
            0.5,
            null,
            0.481676128503406,
            0.4992073320037643,
            null,
            0.481676128503406,
            0.4319835048195859,
            null
           ]
          },
          {
           "hoverinfo": "none",
           "line": {
            "color": "rgb(0, 0, 0)",
            "width": 2
           },
           "mode": "lines",
           "x": [
            0.9924242424242424,
            0.9924242424242424,
            null,
            0.9924242424242424,
            0.9742641841437802,
            null
           ],
           "y": [
            0,
            1,
            null,
            0.927536231884058,
            0.8639432926166397,
            null
           ]
          },
          {
           "hoverinfo": "none",
           "marker": {
            "color": "rgb(0, 255, 0)",
            "line": {
             "color": "rgb(0, 0, 0)",
             "width": 2
            },
            "size": 20
           },
           "mode": "markers+text",
           "text": [
            "0"
           ],
           "textfont": {
            "color": "rgb(0, 0, 0)"
           },
           "textposition": "middle center",
           "x": [
            0
           ],
           "y": [
            0.5
           ]
          },
          {
           "hoverinfo": "none",
           "marker": {
            "color": "rgb(255, 255, 255)",
            "line": {
             "color": "rgb(0, 0, 0)",
             "width": 2
            },
            "size": 20
           },
           "mode": "markers+text",
           "text": [
            "10"
           ],
           "textfont": {
            "color": "rgb(0, 0, 0)"
           },
           "textposition": "middle center",
           "x": [
            0.5
           ],
           "y": [
            1
           ]
          },
          {
           "hoverinfo": "none",
           "marker": {
            "color": "rgb(255, 255, 255)",
            "line": {
             "color": "rgb(0, 0, 0)",
             "width": 2
            },
            "size": 20
           },
           "mode": "markers+text",
           "text": [
            "∞"
           ],
           "textfont": {
            "color": "rgb(0, 0, 0)"
           },
           "textposition": "middle center",
           "x": [
            1
           ],
           "y": [
            1
           ]
          },
          {
           "hoverinfo": "none",
           "marker": {
            "color": "rgb(255, 255, 255)",
            "line": {
             "color": "rgb(0, 0, 0)",
             "width": 2
            },
            "size": 20
           },
           "mode": "markers+text",
           "text": [
            "5"
           ],
           "textfont": {
            "color": "rgb(0, 0, 0)"
           },
           "textposition": "middle center",
           "x": [
            0.5
           ],
           "y": [
            0
           ]
          },
          {
           "hoverinfo": "none",
           "marker": {
            "color": "rgb(255, 255, 255)",
            "line": {
             "color": "rgb(0, 0, 0)",
             "width": 2
            },
            "size": 20
           },
           "mode": "markers+text",
           "text": [
            "∞"
           ],
           "textfont": {
            "color": "rgb(0, 0, 0)"
           },
           "textposition": "middle center",
           "x": [
            1
           ],
           "y": [
            0
           ]
          }
         ],
         "name": 5
        },
        {
         "data": [
          {
           "hoverinfo": "none",
           "line": {
            "color": "rgb(0, 0, 0)",
            "width": 2
           },
           "mode": "lines",
           "x": [
            0,
            0.5,
            null,
            0.46643085439538495,
            0.44538388103556675,
            null,
            0.46643085439538495,
            0.4285584341548651,
            null
           ],
           "y": [
            0.5,
            1,
            null,
            0.966430854395385,
            0.906182816233176,
            null,
            0.966430854395385,
            0.967759498957256,
            null
           ]
          },
          {
           "hoverinfo": "none",
           "line": {
            "color": "rgb(0, 0, 0)",
            "width": 2
           },
           "mode": "lines",
           "x": [
            0,
            0.5,
            null,
            0.46643085439538495,
            0.4285584341548651,
            null,
            0.46643085439538495,
            0.44538388103556675,
            null
           ],
           "y": [
            0.5,
            0,
            null,
            0.03356914560461503,
            0.032240501042743994,
            null,
            0.03356914560461503,
            0.09381718376682407,
            null
           ]
          },
          {
           "hoverinfo": "none",
           "line": {
            "color": "rgb(0, 0, 0)",
            "width": 2
           },
           "mode": "lines",
           "x": [
            0.5,
            1,
            null,
            0.9621212121212122,
            0.9288794484132434,
            null,
            0.9621212121212122,
            0.9288794484132434,
            null
           ],
           "y": [
            1,
            1,
            null,
            1,
            0.9652590189417244,
            null,
            1,
            1.0347409810582755,
            null
           ]
          },
          {
           "hoverinfo": "none",
           "line": {
            "color": "rgb(0, 0, 0)",
            "width": 2
           },
           "mode": "lines",
           "x": [
            0.5075757575757576,
            0.5075757575757576,
            null,
            0.5075757575757576,
            0.5257358158562198,
            null
           ],
           "y": [
            1,
            0,
            null,
            0.07246376811594203,
            0.13605670738336034,
            null
           ]
          },
          {
           "hoverinfo": "none",
           "line": {
            "color": "rgb(0, 0, 0)",
            "width": 2
           },
           "mode": "lines",
           "x": [
            1.0075757575757576,
            1.0075757575757576,
            null,
            1.0075757575757576,
            1.0257358158562198,
            null
           ],
           "y": [
            1,
            0,
            null,
            0.07246376811594203,
            0.13605670738336034,
            null
           ]
          },
          {
           "hoverinfo": "none",
           "line": {
            "color": "rgb(0, 0, 0)",
            "width": 2
           },
           "mode": "lines",
           "x": [
            0.49242424242424243,
            0.49242424242424243,
            null,
            0.49242424242424243,
            0.4742641841437802,
            null
           ],
           "y": [
            0,
            1,
            null,
            0.927536231884058,
            0.8639432926166397,
            null
           ]
          },
          {
           "hoverinfo": "none",
           "line": {
            "color": "rgb(0, 0, 0)",
            "width": 2
           },
           "mode": "lines",
           "x": [
            0.5,
            1,
            null,
            0.9738173240163878,
            0.9639630823912474,
            null,
            0.9738173240163878,
            0.9377166459078401,
            null
           ],
           "y": [
            0,
            1,
            null,
            0.9476346480327754,
            0.8776659754484841,
            null,
            0.9476346480327754,
            0.9256934811496907,
            null
           ]
          },
          {
           "hoverinfo": "none",
           "line": {
            "color": "rgb(0, 0, 0)",
            "width": 2
           },
           "mode": "lines",
           "x": [
            0.5,
            1,
            null,
            0.9621212121212122,
            0.9288794484132434,
            null,
            0.9621212121212122,
            0.9288794484132434,
            null
           ],
           "y": [
            0,
            0,
            null,
            0,
            -0.03474098105827558,
            null,
            0,
            0.03474098105827558,
            null
           ]
          },
          {
           "hoverinfo": "none",
           "line": {
            "color": "rgb(0, 0, 0)",
            "width": 2
           },
           "mode": "lines",
           "x": [
            1,
            0,
            null,
            0.03664774299318793,
            0.07340128670201525,
            null,
            0.03664774299318793,
            0.06421703965128427,
            null
           ],
           "y": [
            0,
            0.5,
            null,
            0.481676128503406,
            0.4992073320037643,
            null,
            0.481676128503406,
            0.4319835048195859,
            null
           ]
          },
          {
           "hoverinfo": "none",
           "line": {
            "color": "rgb(0, 0, 0)",
            "width": 2
           },
           "mode": "lines",
           "x": [
            0.9924242424242424,
            0.9924242424242424,
            null,
            0.9924242424242424,
            0.9742641841437802,
            null
           ],
           "y": [
            0,
            1,
            null,
            0.927536231884058,
            0.8639432926166397,
            null
           ]
          },
          {
           "hoverinfo": "none",
           "marker": {
            "color": "rgb(0, 0, 255)",
            "line": {
             "color": "rgb(0, 0, 0)",
             "width": 2
            },
            "size": 20
           },
           "mode": "markers+text",
           "text": [
            "0"
           ],
           "textfont": {
            "color": "rgb(255, 255, 255)"
           },
           "textposition": "middle center",
           "x": [
            0
           ],
           "y": [
            0.5
           ]
          },
          {
           "hoverinfo": "none",
           "marker": {
            "color": "rgb(255, 255, 255)",
            "line": {
             "color": "rgb(0, 0, 0)",
             "width": 2
            },
            "size": 20
           },
           "mode": "markers+text",
           "text": [
            "10"
           ],
           "textfont": {
            "color": "rgb(0, 0, 0)"
           },
           "textposition": "middle center",
           "x": [
            0.5
           ],
           "y": [
            1
           ]
          },
          {
           "hoverinfo": "none",
           "marker": {
            "color": "rgb(255, 255, 255)",
            "line": {
             "color": "rgb(0, 0, 0)",
             "width": 2
            },
            "size": 20
           },
           "mode": "markers+text",
           "text": [
            "∞"
           ],
           "textfont": {
            "color": "rgb(0, 0, 0)"
           },
           "textposition": "middle center",
           "x": [
            1
           ],
           "y": [
            1
           ]
          },
          {
           "hoverinfo": "none",
           "marker": {
            "color": "rgb(255, 255, 255)",
            "line": {
             "color": "rgb(0, 0, 0)",
             "width": 2
            },
            "size": 20
           },
           "mode": "markers+text",
           "text": [
            "5"
           ],
           "textfont": {
            "color": "rgb(0, 0, 0)"
           },
           "textposition": "middle center",
           "x": [
            0.5
           ],
           "y": [
            0
           ]
          },
          {
           "hoverinfo": "none",
           "marker": {
            "color": "rgb(255, 255, 255)",
            "line": {
             "color": "rgb(0, 0, 0)",
             "width": 2
            },
            "size": 20
           },
           "mode": "markers+text",
           "text": [
            "∞"
           ],
           "textfont": {
            "color": "rgb(0, 0, 0)"
           },
           "textposition": "middle center",
           "x": [
            1
           ],
           "y": [
            0
           ]
          }
         ],
         "name": 6
        },
        {
         "data": [
          {
           "hoverinfo": "none",
           "line": {
            "color": "rgb(0, 0, 0)",
            "width": 2
           },
           "mode": "lines",
           "x": [
            0,
            0.5,
            null,
            0.46643085439538495,
            0.44538388103556675,
            null,
            0.46643085439538495,
            0.4285584341548651,
            null
           ],
           "y": [
            0.5,
            1,
            null,
            0.966430854395385,
            0.906182816233176,
            null,
            0.966430854395385,
            0.967759498957256,
            null
           ]
          },
          {
           "hoverinfo": "none",
           "line": {
            "color": "rgb(0, 0, 0)",
            "width": 2
           },
           "mode": "lines",
           "x": [
            0,
            0.5,
            null,
            0.46643085439538495,
            0.4285584341548651,
            null,
            0.46643085439538495,
            0.44538388103556675,
            null
           ],
           "y": [
            0.5,
            0,
            null,
            0.03356914560461503,
            0.032240501042743994,
            null,
            0.03356914560461503,
            0.09381718376682407,
            null
           ]
          },
          {
           "hoverinfo": "none",
           "line": {
            "color": "rgb(0, 0, 0)",
            "width": 2
           },
           "mode": "lines",
           "x": [
            0.5,
            1,
            null,
            0.9621212121212122,
            0.9288794484132434,
            null,
            0.9621212121212122,
            0.9288794484132434,
            null
           ],
           "y": [
            1,
            1,
            null,
            1,
            0.9652590189417244,
            null,
            1,
            1.0347409810582755,
            null
           ]
          },
          {
           "hoverinfo": "none",
           "line": {
            "color": "rgb(0, 0, 0)",
            "width": 2
           },
           "mode": "lines",
           "x": [
            0.5075757575757576,
            0.5075757575757576,
            null,
            0.5075757575757576,
            0.5257358158562198,
            null
           ],
           "y": [
            1,
            0,
            null,
            0.07246376811594203,
            0.13605670738336034,
            null
           ]
          },
          {
           "hoverinfo": "none",
           "line": {
            "color": "rgb(0, 0, 0)",
            "width": 2
           },
           "mode": "lines",
           "x": [
            1.0075757575757576,
            1.0075757575757576,
            null,
            1.0075757575757576,
            1.0257358158562198,
            null
           ],
           "y": [
            1,
            0,
            null,
            0.07246376811594203,
            0.13605670738336034,
            null
           ]
          },
          {
           "hoverinfo": "none",
           "line": {
            "color": "rgb(0, 0, 0)",
            "width": 2
           },
           "mode": "lines",
           "x": [
            0.49242424242424243,
            0.49242424242424243,
            null,
            0.49242424242424243,
            0.4742641841437802,
            null
           ],
           "y": [
            0,
            1,
            null,
            0.927536231884058,
            0.8639432926166397,
            null
           ]
          },
          {
           "hoverinfo": "none",
           "line": {
            "color": "rgb(0, 0, 0)",
            "width": 2
           },
           "mode": "lines",
           "x": [
            0.5,
            1,
            null,
            0.9738173240163878,
            0.9639630823912474,
            null,
            0.9738173240163878,
            0.9377166459078401,
            null
           ],
           "y": [
            0,
            1,
            null,
            0.9476346480327754,
            0.8776659754484841,
            null,
            0.9476346480327754,
            0.9256934811496907,
            null
           ]
          },
          {
           "hoverinfo": "none",
           "line": {
            "color": "rgb(0, 0, 0)",
            "width": 2
           },
           "mode": "lines",
           "x": [
            0.5,
            1,
            null,
            0.9621212121212122,
            0.9288794484132434,
            null,
            0.9621212121212122,
            0.9288794484132434,
            null
           ],
           "y": [
            0,
            0,
            null,
            0,
            -0.03474098105827558,
            null,
            0,
            0.03474098105827558,
            null
           ]
          },
          {
           "hoverinfo": "none",
           "line": {
            "color": "rgb(0, 0, 0)",
            "width": 2
           },
           "mode": "lines",
           "x": [
            1,
            0,
            null,
            0.03664774299318793,
            0.07340128670201525,
            null,
            0.03664774299318793,
            0.06421703965128427,
            null
           ],
           "y": [
            0,
            0.5,
            null,
            0.481676128503406,
            0.4992073320037643,
            null,
            0.481676128503406,
            0.4319835048195859,
            null
           ]
          },
          {
           "hoverinfo": "none",
           "line": {
            "color": "rgb(0, 0, 0)",
            "width": 2
           },
           "mode": "lines",
           "x": [
            0.9924242424242424,
            0.9924242424242424,
            null,
            0.9924242424242424,
            0.9742641841437802,
            null
           ],
           "y": [
            0,
            1,
            null,
            0.927536231884058,
            0.8639432926166397,
            null
           ]
          },
          {
           "hoverinfo": "none",
           "marker": {
            "color": "rgb(0, 0, 255)",
            "line": {
             "color": "rgb(0, 0, 0)",
             "width": 2
            },
            "size": 20
           },
           "mode": "markers+text",
           "text": [
            "0"
           ],
           "textfont": {
            "color": "rgb(255, 255, 255)"
           },
           "textposition": "middle center",
           "x": [
            0
           ],
           "y": [
            0.5
           ]
          },
          {
           "hoverinfo": "none",
           "marker": {
            "color": "rgb(255, 255, 255)",
            "line": {
             "color": "rgb(0, 0, 0)",
             "width": 2
            },
            "size": 20
           },
           "mode": "markers+text",
           "text": [
            "10"
           ],
           "textfont": {
            "color": "rgb(0, 0, 0)"
           },
           "textposition": "middle center",
           "x": [
            0.5
           ],
           "y": [
            1
           ]
          },
          {
           "hoverinfo": "none",
           "marker": {
            "color": "rgb(255, 255, 255)",
            "line": {
             "color": "rgb(0, 0, 0)",
             "width": 2
            },
            "size": 20
           },
           "mode": "markers+text",
           "text": [
            "∞"
           ],
           "textfont": {
            "color": "rgb(0, 0, 0)"
           },
           "textposition": "middle center",
           "x": [
            1
           ],
           "y": [
            1
           ]
          },
          {
           "hoverinfo": "none",
           "marker": {
            "color": "rgb(0, 255, 0)",
            "line": {
             "color": "rgb(0, 0, 0)",
             "width": 2
            },
            "size": 20
           },
           "mode": "markers+text",
           "text": [
            "5"
           ],
           "textfont": {
            "color": "rgb(0, 0, 0)"
           },
           "textposition": "middle center",
           "x": [
            0.5
           ],
           "y": [
            0
           ]
          },
          {
           "hoverinfo": "none",
           "marker": {
            "color": "rgb(255, 255, 255)",
            "line": {
             "color": "rgb(0, 0, 0)",
             "width": 2
            },
            "size": 20
           },
           "mode": "markers+text",
           "text": [
            "∞"
           ],
           "textfont": {
            "color": "rgb(0, 0, 0)"
           },
           "textposition": "middle center",
           "x": [
            1
           ],
           "y": [
            0
           ]
          }
         ],
         "name": 7
        },
        {
         "data": [
          {
           "hoverinfo": "none",
           "line": {
            "color": "rgb(0, 0, 0)",
            "width": 2
           },
           "mode": "lines",
           "x": [
            0,
            0.5,
            null,
            0.46643085439538495,
            0.44538388103556675,
            null,
            0.46643085439538495,
            0.4285584341548651,
            null
           ],
           "y": [
            0.5,
            1,
            null,
            0.966430854395385,
            0.906182816233176,
            null,
            0.966430854395385,
            0.967759498957256,
            null
           ]
          },
          {
           "hoverinfo": "none",
           "line": {
            "color": "rgb(0, 0, 0)",
            "width": 2
           },
           "mode": "lines",
           "x": [
            0,
            0.5,
            null,
            0.46643085439538495,
            0.4285584341548651,
            null,
            0.46643085439538495,
            0.44538388103556675,
            null
           ],
           "y": [
            0.5,
            0,
            null,
            0.03356914560461503,
            0.032240501042743994,
            null,
            0.03356914560461503,
            0.09381718376682407,
            null
           ]
          },
          {
           "hoverinfo": "none",
           "line": {
            "color": "rgb(0, 0, 0)",
            "width": 2
           },
           "mode": "lines",
           "x": [
            0.5,
            1,
            null,
            0.9621212121212122,
            0.9288794484132434,
            null,
            0.9621212121212122,
            0.9288794484132434,
            null
           ],
           "y": [
            1,
            1,
            null,
            1,
            0.9652590189417244,
            null,
            1,
            1.0347409810582755,
            null
           ]
          },
          {
           "hoverinfo": "none",
           "line": {
            "color": "rgb(0, 0, 0)",
            "width": 2
           },
           "mode": "lines",
           "x": [
            0.5075757575757576,
            0.5075757575757576,
            null,
            0.5075757575757576,
            0.5257358158562198,
            null
           ],
           "y": [
            1,
            0,
            null,
            0.07246376811594203,
            0.13605670738336034,
            null
           ]
          },
          {
           "hoverinfo": "none",
           "line": {
            "color": "rgb(0, 0, 0)",
            "width": 2
           },
           "mode": "lines",
           "x": [
            1.0075757575757576,
            1.0075757575757576,
            null,
            1.0075757575757576,
            1.0257358158562198,
            null
           ],
           "y": [
            1,
            0,
            null,
            0.07246376811594203,
            0.13605670738336034,
            null
           ]
          },
          {
           "hoverinfo": "none",
           "line": {
            "color": "rgb(255, 0, 0)",
            "width": 2
           },
           "mode": "lines",
           "x": [
            0.49242424242424243,
            0.49242424242424243,
            null,
            0.49242424242424243,
            0.4742641841437802,
            null
           ],
           "y": [
            0,
            1,
            null,
            0.927536231884058,
            0.8639432926166397,
            null
           ]
          },
          {
           "hoverinfo": "none",
           "line": {
            "color": "rgb(0, 0, 0)",
            "width": 2
           },
           "mode": "lines",
           "x": [
            0.5,
            1,
            null,
            0.9738173240163878,
            0.9639630823912474,
            null,
            0.9738173240163878,
            0.9377166459078401,
            null
           ],
           "y": [
            0,
            1,
            null,
            0.9476346480327754,
            0.8776659754484841,
            null,
            0.9476346480327754,
            0.9256934811496907,
            null
           ]
          },
          {
           "hoverinfo": "none",
           "line": {
            "color": "rgb(0, 0, 0)",
            "width": 2
           },
           "mode": "lines",
           "x": [
            0.5,
            1,
            null,
            0.9621212121212122,
            0.9288794484132434,
            null,
            0.9621212121212122,
            0.9288794484132434,
            null
           ],
           "y": [
            0,
            0,
            null,
            0,
            -0.03474098105827558,
            null,
            0,
            0.03474098105827558,
            null
           ]
          },
          {
           "hoverinfo": "none",
           "line": {
            "color": "rgb(0, 0, 0)",
            "width": 2
           },
           "mode": "lines",
           "x": [
            1,
            0,
            null,
            0.03664774299318793,
            0.07340128670201525,
            null,
            0.03664774299318793,
            0.06421703965128427,
            null
           ],
           "y": [
            0,
            0.5,
            null,
            0.481676128503406,
            0.4992073320037643,
            null,
            0.481676128503406,
            0.4319835048195859,
            null
           ]
          },
          {
           "hoverinfo": "none",
           "line": {
            "color": "rgb(0, 0, 0)",
            "width": 2
           },
           "mode": "lines",
           "x": [
            0.9924242424242424,
            0.9924242424242424,
            null,
            0.9924242424242424,
            0.9742641841437802,
            null
           ],
           "y": [
            0,
            1,
            null,
            0.927536231884058,
            0.8639432926166397,
            null
           ]
          },
          {
           "hoverinfo": "none",
           "marker": {
            "color": "rgb(0, 0, 255)",
            "line": {
             "color": "rgb(0, 0, 0)",
             "width": 2
            },
            "size": 20
           },
           "mode": "markers+text",
           "text": [
            "0"
           ],
           "textfont": {
            "color": "rgb(255, 255, 255)"
           },
           "textposition": "middle center",
           "x": [
            0
           ],
           "y": [
            0.5
           ]
          },
          {
           "hoverinfo": "none",
           "marker": {
            "color": "rgb(255, 255, 255)",
            "line": {
             "color": "rgb(0, 0, 0)",
             "width": 2
            },
            "size": 20
           },
           "mode": "markers+text",
           "text": [
            "10"
           ],
           "textfont": {
            "color": "rgb(0, 0, 0)"
           },
           "textposition": "middle center",
           "x": [
            0.5
           ],
           "y": [
            1
           ]
          },
          {
           "hoverinfo": "none",
           "marker": {
            "color": "rgb(255, 255, 255)",
            "line": {
             "color": "rgb(0, 0, 0)",
             "width": 2
            },
            "size": 20
           },
           "mode": "markers+text",
           "text": [
            "∞"
           ],
           "textfont": {
            "color": "rgb(0, 0, 0)"
           },
           "textposition": "middle center",
           "x": [
            1
           ],
           "y": [
            1
           ]
          },
          {
           "hoverinfo": "none",
           "marker": {
            "color": "rgb(0, 255, 0)",
            "line": {
             "color": "rgb(0, 0, 0)",
             "width": 2
            },
            "size": 20
           },
           "mode": "markers+text",
           "text": [
            "5"
           ],
           "textfont": {
            "color": "rgb(0, 0, 0)"
           },
           "textposition": "middle center",
           "x": [
            0.5
           ],
           "y": [
            0
           ]
          },
          {
           "hoverinfo": "none",
           "marker": {
            "color": "rgb(255, 255, 255)",
            "line": {
             "color": "rgb(0, 0, 0)",
             "width": 2
            },
            "size": 20
           },
           "mode": "markers+text",
           "text": [
            "∞"
           ],
           "textfont": {
            "color": "rgb(0, 0, 0)"
           },
           "textposition": "middle center",
           "x": [
            1
           ],
           "y": [
            0
           ]
          }
         ],
         "name": 8
        },
        {
         "data": [
          {
           "hoverinfo": "none",
           "line": {
            "color": "rgb(0, 0, 0)",
            "width": 2
           },
           "mode": "lines",
           "x": [
            0,
            0.5,
            null,
            0.46643085439538495,
            0.44538388103556675,
            null,
            0.46643085439538495,
            0.4285584341548651,
            null
           ],
           "y": [
            0.5,
            1,
            null,
            0.966430854395385,
            0.906182816233176,
            null,
            0.966430854395385,
            0.967759498957256,
            null
           ]
          },
          {
           "hoverinfo": "none",
           "line": {
            "color": "rgb(0, 0, 0)",
            "width": 2
           },
           "mode": "lines",
           "x": [
            0,
            0.5,
            null,
            0.46643085439538495,
            0.4285584341548651,
            null,
            0.46643085439538495,
            0.44538388103556675,
            null
           ],
           "y": [
            0.5,
            0,
            null,
            0.03356914560461503,
            0.032240501042743994,
            null,
            0.03356914560461503,
            0.09381718376682407,
            null
           ]
          },
          {
           "hoverinfo": "none",
           "line": {
            "color": "rgb(0, 0, 0)",
            "width": 2
           },
           "mode": "lines",
           "x": [
            0.5,
            1,
            null,
            0.9621212121212122,
            0.9288794484132434,
            null,
            0.9621212121212122,
            0.9288794484132434,
            null
           ],
           "y": [
            1,
            1,
            null,
            1,
            0.9652590189417244,
            null,
            1,
            1.0347409810582755,
            null
           ]
          },
          {
           "hoverinfo": "none",
           "line": {
            "color": "rgb(0, 0, 0)",
            "width": 2
           },
           "mode": "lines",
           "x": [
            0.5075757575757576,
            0.5075757575757576,
            null,
            0.5075757575757576,
            0.5257358158562198,
            null
           ],
           "y": [
            1,
            0,
            null,
            0.07246376811594203,
            0.13605670738336034,
            null
           ]
          },
          {
           "hoverinfo": "none",
           "line": {
            "color": "rgb(0, 0, 0)",
            "width": 2
           },
           "mode": "lines",
           "x": [
            1.0075757575757576,
            1.0075757575757576,
            null,
            1.0075757575757576,
            1.0257358158562198,
            null
           ],
           "y": [
            1,
            0,
            null,
            0.07246376811594203,
            0.13605670738336034,
            null
           ]
          },
          {
           "hoverinfo": "none",
           "line": {
            "color": "rgb(0, 0, 0)",
            "width": 2
           },
           "mode": "lines",
           "x": [
            0.49242424242424243,
            0.49242424242424243,
            null,
            0.49242424242424243,
            0.4742641841437802,
            null
           ],
           "y": [
            0,
            1,
            null,
            0.927536231884058,
            0.8639432926166397,
            null
           ]
          },
          {
           "hoverinfo": "none",
           "line": {
            "color": "rgb(0, 0, 0)",
            "width": 2
           },
           "mode": "lines",
           "x": [
            0.5,
            1,
            null,
            0.9738173240163878,
            0.9639630823912474,
            null,
            0.9738173240163878,
            0.9377166459078401,
            null
           ],
           "y": [
            0,
            1,
            null,
            0.9476346480327754,
            0.8776659754484841,
            null,
            0.9476346480327754,
            0.9256934811496907,
            null
           ]
          },
          {
           "hoverinfo": "none",
           "line": {
            "color": "rgb(0, 0, 0)",
            "width": 2
           },
           "mode": "lines",
           "x": [
            0.5,
            1,
            null,
            0.9621212121212122,
            0.9288794484132434,
            null,
            0.9621212121212122,
            0.9288794484132434,
            null
           ],
           "y": [
            0,
            0,
            null,
            0,
            -0.03474098105827558,
            null,
            0,
            0.03474098105827558,
            null
           ]
          },
          {
           "hoverinfo": "none",
           "line": {
            "color": "rgb(0, 0, 0)",
            "width": 2
           },
           "mode": "lines",
           "x": [
            1,
            0,
            null,
            0.03664774299318793,
            0.07340128670201525,
            null,
            0.03664774299318793,
            0.06421703965128427,
            null
           ],
           "y": [
            0,
            0.5,
            null,
            0.481676128503406,
            0.4992073320037643,
            null,
            0.481676128503406,
            0.4319835048195859,
            null
           ]
          },
          {
           "hoverinfo": "none",
           "line": {
            "color": "rgb(0, 0, 0)",
            "width": 2
           },
           "mode": "lines",
           "x": [
            0.9924242424242424,
            0.9924242424242424,
            null,
            0.9924242424242424,
            0.9742641841437802,
            null
           ],
           "y": [
            0,
            1,
            null,
            0.927536231884058,
            0.8639432926166397,
            null
           ]
          },
          {
           "hoverinfo": "none",
           "marker": {
            "color": "rgb(0, 0, 255)",
            "line": {
             "color": "rgb(0, 0, 0)",
             "width": 2
            },
            "size": 20
           },
           "mode": "markers+text",
           "text": [
            "0"
           ],
           "textfont": {
            "color": "rgb(255, 255, 255)"
           },
           "textposition": "middle center",
           "x": [
            0
           ],
           "y": [
            0.5
           ]
          },
          {
           "hoverinfo": "none",
           "marker": {
            "color": "rgb(255, 255, 255)",
            "line": {
             "color": "rgb(0, 0, 0)",
             "width": 2
            },
            "size": 20
           },
           "mode": "markers+text",
           "text": [
            "8"
           ],
           "textfont": {
            "color": "rgb(0, 0, 0)"
           },
           "textposition": "middle center",
           "x": [
            0.5
           ],
           "y": [
            1
           ]
          },
          {
           "hoverinfo": "none",
           "marker": {
            "color": "rgb(255, 255, 255)",
            "line": {
             "color": "rgb(0, 0, 0)",
             "width": 2
            },
            "size": 20
           },
           "mode": "markers+text",
           "text": [
            "∞"
           ],
           "textfont": {
            "color": "rgb(0, 0, 0)"
           },
           "textposition": "middle center",
           "x": [
            1
           ],
           "y": [
            1
           ]
          },
          {
           "hoverinfo": "none",
           "marker": {
            "color": "rgb(0, 255, 0)",
            "line": {
             "color": "rgb(0, 0, 0)",
             "width": 2
            },
            "size": 20
           },
           "mode": "markers+text",
           "text": [
            "5"
           ],
           "textfont": {
            "color": "rgb(0, 0, 0)"
           },
           "textposition": "middle center",
           "x": [
            0.5
           ],
           "y": [
            0
           ]
          },
          {
           "hoverinfo": "none",
           "marker": {
            "color": "rgb(255, 255, 255)",
            "line": {
             "color": "rgb(0, 0, 0)",
             "width": 2
            },
            "size": 20
           },
           "mode": "markers+text",
           "text": [
            "∞"
           ],
           "textfont": {
            "color": "rgb(0, 0, 0)"
           },
           "textposition": "middle center",
           "x": [
            1
           ],
           "y": [
            0
           ]
          }
         ],
         "name": 9
        },
        {
         "data": [
          {
           "hoverinfo": "none",
           "line": {
            "color": "rgb(0, 0, 0)",
            "width": 2
           },
           "mode": "lines",
           "x": [
            0,
            0.5,
            null,
            0.46643085439538495,
            0.44538388103556675,
            null,
            0.46643085439538495,
            0.4285584341548651,
            null
           ],
           "y": [
            0.5,
            1,
            null,
            0.966430854395385,
            0.906182816233176,
            null,
            0.966430854395385,
            0.967759498957256,
            null
           ]
          },
          {
           "hoverinfo": "none",
           "line": {
            "color": "rgb(0, 0, 0)",
            "width": 2
           },
           "mode": "lines",
           "x": [
            0,
            0.5,
            null,
            0.46643085439538495,
            0.4285584341548651,
            null,
            0.46643085439538495,
            0.44538388103556675,
            null
           ],
           "y": [
            0.5,
            0,
            null,
            0.03356914560461503,
            0.032240501042743994,
            null,
            0.03356914560461503,
            0.09381718376682407,
            null
           ]
          },
          {
           "hoverinfo": "none",
           "line": {
            "color": "rgb(0, 0, 0)",
            "width": 2
           },
           "mode": "lines",
           "x": [
            0.5,
            1,
            null,
            0.9621212121212122,
            0.9288794484132434,
            null,
            0.9621212121212122,
            0.9288794484132434,
            null
           ],
           "y": [
            1,
            1,
            null,
            1,
            0.9652590189417244,
            null,
            1,
            1.0347409810582755,
            null
           ]
          },
          {
           "hoverinfo": "none",
           "line": {
            "color": "rgb(0, 0, 0)",
            "width": 2
           },
           "mode": "lines",
           "x": [
            0.5075757575757576,
            0.5075757575757576,
            null,
            0.5075757575757576,
            0.5257358158562198,
            null
           ],
           "y": [
            1,
            0,
            null,
            0.07246376811594203,
            0.13605670738336034,
            null
           ]
          },
          {
           "hoverinfo": "none",
           "line": {
            "color": "rgb(0, 0, 0)",
            "width": 2
           },
           "mode": "lines",
           "x": [
            1.0075757575757576,
            1.0075757575757576,
            null,
            1.0075757575757576,
            1.0257358158562198,
            null
           ],
           "y": [
            1,
            0,
            null,
            0.07246376811594203,
            0.13605670738336034,
            null
           ]
          },
          {
           "hoverinfo": "none",
           "line": {
            "color": "rgb(0, 0, 0)",
            "width": 2
           },
           "mode": "lines",
           "x": [
            0.49242424242424243,
            0.49242424242424243,
            null,
            0.49242424242424243,
            0.4742641841437802,
            null
           ],
           "y": [
            0,
            1,
            null,
            0.927536231884058,
            0.8639432926166397,
            null
           ]
          },
          {
           "hoverinfo": "none",
           "line": {
            "color": "rgb(255, 0, 0)",
            "width": 2
           },
           "mode": "lines",
           "x": [
            0.5,
            1,
            null,
            0.9738173240163878,
            0.9639630823912474,
            null,
            0.9738173240163878,
            0.9377166459078401,
            null
           ],
           "y": [
            0,
            1,
            null,
            0.9476346480327754,
            0.8776659754484841,
            null,
            0.9476346480327754,
            0.9256934811496907,
            null
           ]
          },
          {
           "hoverinfo": "none",
           "line": {
            "color": "rgb(0, 0, 0)",
            "width": 2
           },
           "mode": "lines",
           "x": [
            0.5,
            1,
            null,
            0.9621212121212122,
            0.9288794484132434,
            null,
            0.9621212121212122,
            0.9288794484132434,
            null
           ],
           "y": [
            0,
            0,
            null,
            0,
            -0.03474098105827558,
            null,
            0,
            0.03474098105827558,
            null
           ]
          },
          {
           "hoverinfo": "none",
           "line": {
            "color": "rgb(0, 0, 0)",
            "width": 2
           },
           "mode": "lines",
           "x": [
            1,
            0,
            null,
            0.03664774299318793,
            0.07340128670201525,
            null,
            0.03664774299318793,
            0.06421703965128427,
            null
           ],
           "y": [
            0,
            0.5,
            null,
            0.481676128503406,
            0.4992073320037643,
            null,
            0.481676128503406,
            0.4319835048195859,
            null
           ]
          },
          {
           "hoverinfo": "none",
           "line": {
            "color": "rgb(0, 0, 0)",
            "width": 2
           },
           "mode": "lines",
           "x": [
            0.9924242424242424,
            0.9924242424242424,
            null,
            0.9924242424242424,
            0.9742641841437802,
            null
           ],
           "y": [
            0,
            1,
            null,
            0.927536231884058,
            0.8639432926166397,
            null
           ]
          },
          {
           "hoverinfo": "none",
           "marker": {
            "color": "rgb(0, 0, 255)",
            "line": {
             "color": "rgb(0, 0, 0)",
             "width": 2
            },
            "size": 20
           },
           "mode": "markers+text",
           "text": [
            "0"
           ],
           "textfont": {
            "color": "rgb(255, 255, 255)"
           },
           "textposition": "middle center",
           "x": [
            0
           ],
           "y": [
            0.5
           ]
          },
          {
           "hoverinfo": "none",
           "marker": {
            "color": "rgb(255, 255, 255)",
            "line": {
             "color": "rgb(0, 0, 0)",
             "width": 2
            },
            "size": 20
           },
           "mode": "markers+text",
           "text": [
            "8"
           ],
           "textfont": {
            "color": "rgb(0, 0, 0)"
           },
           "textposition": "middle center",
           "x": [
            0.5
           ],
           "y": [
            1
           ]
          },
          {
           "hoverinfo": "none",
           "marker": {
            "color": "rgb(255, 255, 255)",
            "line": {
             "color": "rgb(0, 0, 0)",
             "width": 2
            },
            "size": 20
           },
           "mode": "markers+text",
           "text": [
            "∞"
           ],
           "textfont": {
            "color": "rgb(0, 0, 0)"
           },
           "textposition": "middle center",
           "x": [
            1
           ],
           "y": [
            1
           ]
          },
          {
           "hoverinfo": "none",
           "marker": {
            "color": "rgb(0, 255, 0)",
            "line": {
             "color": "rgb(0, 0, 0)",
             "width": 2
            },
            "size": 20
           },
           "mode": "markers+text",
           "text": [
            "5"
           ],
           "textfont": {
            "color": "rgb(0, 0, 0)"
           },
           "textposition": "middle center",
           "x": [
            0.5
           ],
           "y": [
            0
           ]
          },
          {
           "hoverinfo": "none",
           "marker": {
            "color": "rgb(255, 255, 255)",
            "line": {
             "color": "rgb(0, 0, 0)",
             "width": 2
            },
            "size": 20
           },
           "mode": "markers+text",
           "text": [
            "∞"
           ],
           "textfont": {
            "color": "rgb(0, 0, 0)"
           },
           "textposition": "middle center",
           "x": [
            1
           ],
           "y": [
            0
           ]
          }
         ],
         "name": 10
        },
        {
         "data": [
          {
           "hoverinfo": "none",
           "line": {
            "color": "rgb(0, 0, 0)",
            "width": 2
           },
           "mode": "lines",
           "x": [
            0,
            0.5,
            null,
            0.46643085439538495,
            0.44538388103556675,
            null,
            0.46643085439538495,
            0.4285584341548651,
            null
           ],
           "y": [
            0.5,
            1,
            null,
            0.966430854395385,
            0.906182816233176,
            null,
            0.966430854395385,
            0.967759498957256,
            null
           ]
          },
          {
           "hoverinfo": "none",
           "line": {
            "color": "rgb(0, 0, 0)",
            "width": 2
           },
           "mode": "lines",
           "x": [
            0,
            0.5,
            null,
            0.46643085439538495,
            0.4285584341548651,
            null,
            0.46643085439538495,
            0.44538388103556675,
            null
           ],
           "y": [
            0.5,
            0,
            null,
            0.03356914560461503,
            0.032240501042743994,
            null,
            0.03356914560461503,
            0.09381718376682407,
            null
           ]
          },
          {
           "hoverinfo": "none",
           "line": {
            "color": "rgb(0, 0, 0)",
            "width": 2
           },
           "mode": "lines",
           "x": [
            0.5,
            1,
            null,
            0.9621212121212122,
            0.9288794484132434,
            null,
            0.9621212121212122,
            0.9288794484132434,
            null
           ],
           "y": [
            1,
            1,
            null,
            1,
            0.9652590189417244,
            null,
            1,
            1.0347409810582755,
            null
           ]
          },
          {
           "hoverinfo": "none",
           "line": {
            "color": "rgb(0, 0, 0)",
            "width": 2
           },
           "mode": "lines",
           "x": [
            0.5075757575757576,
            0.5075757575757576,
            null,
            0.5075757575757576,
            0.5257358158562198,
            null
           ],
           "y": [
            1,
            0,
            null,
            0.07246376811594203,
            0.13605670738336034,
            null
           ]
          },
          {
           "hoverinfo": "none",
           "line": {
            "color": "rgb(0, 0, 0)",
            "width": 2
           },
           "mode": "lines",
           "x": [
            1.0075757575757576,
            1.0075757575757576,
            null,
            1.0075757575757576,
            1.0257358158562198,
            null
           ],
           "y": [
            1,
            0,
            null,
            0.07246376811594203,
            0.13605670738336034,
            null
           ]
          },
          {
           "hoverinfo": "none",
           "line": {
            "color": "rgb(0, 0, 0)",
            "width": 2
           },
           "mode": "lines",
           "x": [
            0.49242424242424243,
            0.49242424242424243,
            null,
            0.49242424242424243,
            0.4742641841437802,
            null
           ],
           "y": [
            0,
            1,
            null,
            0.927536231884058,
            0.8639432926166397,
            null
           ]
          },
          {
           "hoverinfo": "none",
           "line": {
            "color": "rgb(0, 0, 0)",
            "width": 2
           },
           "mode": "lines",
           "x": [
            0.5,
            1,
            null,
            0.9738173240163878,
            0.9639630823912474,
            null,
            0.9738173240163878,
            0.9377166459078401,
            null
           ],
           "y": [
            0,
            1,
            null,
            0.9476346480327754,
            0.8776659754484841,
            null,
            0.9476346480327754,
            0.9256934811496907,
            null
           ]
          },
          {
           "hoverinfo": "none",
           "line": {
            "color": "rgb(0, 0, 0)",
            "width": 2
           },
           "mode": "lines",
           "x": [
            0.5,
            1,
            null,
            0.9621212121212122,
            0.9288794484132434,
            null,
            0.9621212121212122,
            0.9288794484132434,
            null
           ],
           "y": [
            0,
            0,
            null,
            0,
            -0.03474098105827558,
            null,
            0,
            0.03474098105827558,
            null
           ]
          },
          {
           "hoverinfo": "none",
           "line": {
            "color": "rgb(0, 0, 0)",
            "width": 2
           },
           "mode": "lines",
           "x": [
            1,
            0,
            null,
            0.03664774299318793,
            0.07340128670201525,
            null,
            0.03664774299318793,
            0.06421703965128427,
            null
           ],
           "y": [
            0,
            0.5,
            null,
            0.481676128503406,
            0.4992073320037643,
            null,
            0.481676128503406,
            0.4319835048195859,
            null
           ]
          },
          {
           "hoverinfo": "none",
           "line": {
            "color": "rgb(0, 0, 0)",
            "width": 2
           },
           "mode": "lines",
           "x": [
            0.9924242424242424,
            0.9924242424242424,
            null,
            0.9924242424242424,
            0.9742641841437802,
            null
           ],
           "y": [
            0,
            1,
            null,
            0.927536231884058,
            0.8639432926166397,
            null
           ]
          },
          {
           "hoverinfo": "none",
           "marker": {
            "color": "rgb(0, 0, 255)",
            "line": {
             "color": "rgb(0, 0, 0)",
             "width": 2
            },
            "size": 20
           },
           "mode": "markers+text",
           "text": [
            "0"
           ],
           "textfont": {
            "color": "rgb(255, 255, 255)"
           },
           "textposition": "middle center",
           "x": [
            0
           ],
           "y": [
            0.5
           ]
          },
          {
           "hoverinfo": "none",
           "marker": {
            "color": "rgb(255, 255, 255)",
            "line": {
             "color": "rgb(0, 0, 0)",
             "width": 2
            },
            "size": 20
           },
           "mode": "markers+text",
           "text": [
            "8"
           ],
           "textfont": {
            "color": "rgb(0, 0, 0)"
           },
           "textposition": "middle center",
           "x": [
            0.5
           ],
           "y": [
            1
           ]
          },
          {
           "hoverinfo": "none",
           "marker": {
            "color": "rgb(255, 255, 255)",
            "line": {
             "color": "rgb(0, 0, 0)",
             "width": 2
            },
            "size": 20
           },
           "mode": "markers+text",
           "text": [
            "14"
           ],
           "textfont": {
            "color": "rgb(0, 0, 0)"
           },
           "textposition": "middle center",
           "x": [
            1
           ],
           "y": [
            1
           ]
          },
          {
           "hoverinfo": "none",
           "marker": {
            "color": "rgb(0, 255, 0)",
            "line": {
             "color": "rgb(0, 0, 0)",
             "width": 2
            },
            "size": 20
           },
           "mode": "markers+text",
           "text": [
            "5"
           ],
           "textfont": {
            "color": "rgb(0, 0, 0)"
           },
           "textposition": "middle center",
           "x": [
            0.5
           ],
           "y": [
            0
           ]
          },
          {
           "hoverinfo": "none",
           "marker": {
            "color": "rgb(255, 255, 255)",
            "line": {
             "color": "rgb(0, 0, 0)",
             "width": 2
            },
            "size": 20
           },
           "mode": "markers+text",
           "text": [
            "∞"
           ],
           "textfont": {
            "color": "rgb(0, 0, 0)"
           },
           "textposition": "middle center",
           "x": [
            1
           ],
           "y": [
            0
           ]
          }
         ],
         "name": 11
        },
        {
         "data": [
          {
           "hoverinfo": "none",
           "line": {
            "color": "rgb(0, 0, 0)",
            "width": 2
           },
           "mode": "lines",
           "x": [
            0,
            0.5,
            null,
            0.46643085439538495,
            0.44538388103556675,
            null,
            0.46643085439538495,
            0.4285584341548651,
            null
           ],
           "y": [
            0.5,
            1,
            null,
            0.966430854395385,
            0.906182816233176,
            null,
            0.966430854395385,
            0.967759498957256,
            null
           ]
          },
          {
           "hoverinfo": "none",
           "line": {
            "color": "rgb(0, 0, 0)",
            "width": 2
           },
           "mode": "lines",
           "x": [
            0,
            0.5,
            null,
            0.46643085439538495,
            0.4285584341548651,
            null,
            0.46643085439538495,
            0.44538388103556675,
            null
           ],
           "y": [
            0.5,
            0,
            null,
            0.03356914560461503,
            0.032240501042743994,
            null,
            0.03356914560461503,
            0.09381718376682407,
            null
           ]
          },
          {
           "hoverinfo": "none",
           "line": {
            "color": "rgb(0, 0, 0)",
            "width": 2
           },
           "mode": "lines",
           "x": [
            0.5,
            1,
            null,
            0.9621212121212122,
            0.9288794484132434,
            null,
            0.9621212121212122,
            0.9288794484132434,
            null
           ],
           "y": [
            1,
            1,
            null,
            1,
            0.9652590189417244,
            null,
            1,
            1.0347409810582755,
            null
           ]
          },
          {
           "hoverinfo": "none",
           "line": {
            "color": "rgb(0, 0, 0)",
            "width": 2
           },
           "mode": "lines",
           "x": [
            0.5075757575757576,
            0.5075757575757576,
            null,
            0.5075757575757576,
            0.5257358158562198,
            null
           ],
           "y": [
            1,
            0,
            null,
            0.07246376811594203,
            0.13605670738336034,
            null
           ]
          },
          {
           "hoverinfo": "none",
           "line": {
            "color": "rgb(0, 0, 0)",
            "width": 2
           },
           "mode": "lines",
           "x": [
            1.0075757575757576,
            1.0075757575757576,
            null,
            1.0075757575757576,
            1.0257358158562198,
            null
           ],
           "y": [
            1,
            0,
            null,
            0.07246376811594203,
            0.13605670738336034,
            null
           ]
          },
          {
           "hoverinfo": "none",
           "line": {
            "color": "rgb(0, 0, 0)",
            "width": 2
           },
           "mode": "lines",
           "x": [
            0.49242424242424243,
            0.49242424242424243,
            null,
            0.49242424242424243,
            0.4742641841437802,
            null
           ],
           "y": [
            0,
            1,
            null,
            0.927536231884058,
            0.8639432926166397,
            null
           ]
          },
          {
           "hoverinfo": "none",
           "line": {
            "color": "rgb(0, 0, 0)",
            "width": 2
           },
           "mode": "lines",
           "x": [
            0.5,
            1,
            null,
            0.9738173240163878,
            0.9639630823912474,
            null,
            0.9738173240163878,
            0.9377166459078401,
            null
           ],
           "y": [
            0,
            1,
            null,
            0.9476346480327754,
            0.8776659754484841,
            null,
            0.9476346480327754,
            0.9256934811496907,
            null
           ]
          },
          {
           "hoverinfo": "none",
           "line": {
            "color": "rgb(255, 0, 0)",
            "width": 2
           },
           "mode": "lines",
           "x": [
            0.5,
            1,
            null,
            0.9621212121212122,
            0.9288794484132434,
            null,
            0.9621212121212122,
            0.9288794484132434,
            null
           ],
           "y": [
            0,
            0,
            null,
            0,
            -0.03474098105827558,
            null,
            0,
            0.03474098105827558,
            null
           ]
          },
          {
           "hoverinfo": "none",
           "line": {
            "color": "rgb(0, 0, 0)",
            "width": 2
           },
           "mode": "lines",
           "x": [
            1,
            0,
            null,
            0.03664774299318793,
            0.07340128670201525,
            null,
            0.03664774299318793,
            0.06421703965128427,
            null
           ],
           "y": [
            0,
            0.5,
            null,
            0.481676128503406,
            0.4992073320037643,
            null,
            0.481676128503406,
            0.4319835048195859,
            null
           ]
          },
          {
           "hoverinfo": "none",
           "line": {
            "color": "rgb(0, 0, 0)",
            "width": 2
           },
           "mode": "lines",
           "x": [
            0.9924242424242424,
            0.9924242424242424,
            null,
            0.9924242424242424,
            0.9742641841437802,
            null
           ],
           "y": [
            0,
            1,
            null,
            0.927536231884058,
            0.8639432926166397,
            null
           ]
          },
          {
           "hoverinfo": "none",
           "marker": {
            "color": "rgb(0, 0, 255)",
            "line": {
             "color": "rgb(0, 0, 0)",
             "width": 2
            },
            "size": 20
           },
           "mode": "markers+text",
           "text": [
            "0"
           ],
           "textfont": {
            "color": "rgb(255, 255, 255)"
           },
           "textposition": "middle center",
           "x": [
            0
           ],
           "y": [
            0.5
           ]
          },
          {
           "hoverinfo": "none",
           "marker": {
            "color": "rgb(255, 255, 255)",
            "line": {
             "color": "rgb(0, 0, 0)",
             "width": 2
            },
            "size": 20
           },
           "mode": "markers+text",
           "text": [
            "8"
           ],
           "textfont": {
            "color": "rgb(0, 0, 0)"
           },
           "textposition": "middle center",
           "x": [
            0.5
           ],
           "y": [
            1
           ]
          },
          {
           "hoverinfo": "none",
           "marker": {
            "color": "rgb(255, 255, 255)",
            "line": {
             "color": "rgb(0, 0, 0)",
             "width": 2
            },
            "size": 20
           },
           "mode": "markers+text",
           "text": [
            "14"
           ],
           "textfont": {
            "color": "rgb(0, 0, 0)"
           },
           "textposition": "middle center",
           "x": [
            1
           ],
           "y": [
            1
           ]
          },
          {
           "hoverinfo": "none",
           "marker": {
            "color": "rgb(0, 255, 0)",
            "line": {
             "color": "rgb(0, 0, 0)",
             "width": 2
            },
            "size": 20
           },
           "mode": "markers+text",
           "text": [
            "5"
           ],
           "textfont": {
            "color": "rgb(0, 0, 0)"
           },
           "textposition": "middle center",
           "x": [
            0.5
           ],
           "y": [
            0
           ]
          },
          {
           "hoverinfo": "none",
           "marker": {
            "color": "rgb(255, 255, 255)",
            "line": {
             "color": "rgb(0, 0, 0)",
             "width": 2
            },
            "size": 20
           },
           "mode": "markers+text",
           "text": [
            "∞"
           ],
           "textfont": {
            "color": "rgb(0, 0, 0)"
           },
           "textposition": "middle center",
           "x": [
            1
           ],
           "y": [
            0
           ]
          }
         ],
         "name": 12
        },
        {
         "data": [
          {
           "hoverinfo": "none",
           "line": {
            "color": "rgb(0, 0, 0)",
            "width": 2
           },
           "mode": "lines",
           "x": [
            0,
            0.5,
            null,
            0.46643085439538495,
            0.44538388103556675,
            null,
            0.46643085439538495,
            0.4285584341548651,
            null
           ],
           "y": [
            0.5,
            1,
            null,
            0.966430854395385,
            0.906182816233176,
            null,
            0.966430854395385,
            0.967759498957256,
            null
           ]
          },
          {
           "hoverinfo": "none",
           "line": {
            "color": "rgb(0, 0, 0)",
            "width": 2
           },
           "mode": "lines",
           "x": [
            0,
            0.5,
            null,
            0.46643085439538495,
            0.4285584341548651,
            null,
            0.46643085439538495,
            0.44538388103556675,
            null
           ],
           "y": [
            0.5,
            0,
            null,
            0.03356914560461503,
            0.032240501042743994,
            null,
            0.03356914560461503,
            0.09381718376682407,
            null
           ]
          },
          {
           "hoverinfo": "none",
           "line": {
            "color": "rgb(0, 0, 0)",
            "width": 2
           },
           "mode": "lines",
           "x": [
            0.5,
            1,
            null,
            0.9621212121212122,
            0.9288794484132434,
            null,
            0.9621212121212122,
            0.9288794484132434,
            null
           ],
           "y": [
            1,
            1,
            null,
            1,
            0.9652590189417244,
            null,
            1,
            1.0347409810582755,
            null
           ]
          },
          {
           "hoverinfo": "none",
           "line": {
            "color": "rgb(0, 0, 0)",
            "width": 2
           },
           "mode": "lines",
           "x": [
            0.5075757575757576,
            0.5075757575757576,
            null,
            0.5075757575757576,
            0.5257358158562198,
            null
           ],
           "y": [
            1,
            0,
            null,
            0.07246376811594203,
            0.13605670738336034,
            null
           ]
          },
          {
           "hoverinfo": "none",
           "line": {
            "color": "rgb(0, 0, 0)",
            "width": 2
           },
           "mode": "lines",
           "x": [
            1.0075757575757576,
            1.0075757575757576,
            null,
            1.0075757575757576,
            1.0257358158562198,
            null
           ],
           "y": [
            1,
            0,
            null,
            0.07246376811594203,
            0.13605670738336034,
            null
           ]
          },
          {
           "hoverinfo": "none",
           "line": {
            "color": "rgb(0, 0, 0)",
            "width": 2
           },
           "mode": "lines",
           "x": [
            0.49242424242424243,
            0.49242424242424243,
            null,
            0.49242424242424243,
            0.4742641841437802,
            null
           ],
           "y": [
            0,
            1,
            null,
            0.927536231884058,
            0.8639432926166397,
            null
           ]
          },
          {
           "hoverinfo": "none",
           "line": {
            "color": "rgb(0, 0, 0)",
            "width": 2
           },
           "mode": "lines",
           "x": [
            0.5,
            1,
            null,
            0.9738173240163878,
            0.9639630823912474,
            null,
            0.9738173240163878,
            0.9377166459078401,
            null
           ],
           "y": [
            0,
            1,
            null,
            0.9476346480327754,
            0.8776659754484841,
            null,
            0.9476346480327754,
            0.9256934811496907,
            null
           ]
          },
          {
           "hoverinfo": "none",
           "line": {
            "color": "rgb(0, 0, 0)",
            "width": 2
           },
           "mode": "lines",
           "x": [
            0.5,
            1,
            null,
            0.9621212121212122,
            0.9288794484132434,
            null,
            0.9621212121212122,
            0.9288794484132434,
            null
           ],
           "y": [
            0,
            0,
            null,
            0,
            -0.03474098105827558,
            null,
            0,
            0.03474098105827558,
            null
           ]
          },
          {
           "hoverinfo": "none",
           "line": {
            "color": "rgb(0, 0, 0)",
            "width": 2
           },
           "mode": "lines",
           "x": [
            1,
            0,
            null,
            0.03664774299318793,
            0.07340128670201525,
            null,
            0.03664774299318793,
            0.06421703965128427,
            null
           ],
           "y": [
            0,
            0.5,
            null,
            0.481676128503406,
            0.4992073320037643,
            null,
            0.481676128503406,
            0.4319835048195859,
            null
           ]
          },
          {
           "hoverinfo": "none",
           "line": {
            "color": "rgb(0, 0, 0)",
            "width": 2
           },
           "mode": "lines",
           "x": [
            0.9924242424242424,
            0.9924242424242424,
            null,
            0.9924242424242424,
            0.9742641841437802,
            null
           ],
           "y": [
            0,
            1,
            null,
            0.927536231884058,
            0.8639432926166397,
            null
           ]
          },
          {
           "hoverinfo": "none",
           "marker": {
            "color": "rgb(0, 0, 255)",
            "line": {
             "color": "rgb(0, 0, 0)",
             "width": 2
            },
            "size": 20
           },
           "mode": "markers+text",
           "text": [
            "0"
           ],
           "textfont": {
            "color": "rgb(255, 255, 255)"
           },
           "textposition": "middle center",
           "x": [
            0
           ],
           "y": [
            0.5
           ]
          },
          {
           "hoverinfo": "none",
           "marker": {
            "color": "rgb(255, 255, 255)",
            "line": {
             "color": "rgb(0, 0, 0)",
             "width": 2
            },
            "size": 20
           },
           "mode": "markers+text",
           "text": [
            "8"
           ],
           "textfont": {
            "color": "rgb(0, 0, 0)"
           },
           "textposition": "middle center",
           "x": [
            0.5
           ],
           "y": [
            1
           ]
          },
          {
           "hoverinfo": "none",
           "marker": {
            "color": "rgb(255, 255, 255)",
            "line": {
             "color": "rgb(0, 0, 0)",
             "width": 2
            },
            "size": 20
           },
           "mode": "markers+text",
           "text": [
            "14"
           ],
           "textfont": {
            "color": "rgb(0, 0, 0)"
           },
           "textposition": "middle center",
           "x": [
            1
           ],
           "y": [
            1
           ]
          },
          {
           "hoverinfo": "none",
           "marker": {
            "color": "rgb(0, 255, 0)",
            "line": {
             "color": "rgb(0, 0, 0)",
             "width": 2
            },
            "size": 20
           },
           "mode": "markers+text",
           "text": [
            "5"
           ],
           "textfont": {
            "color": "rgb(0, 0, 0)"
           },
           "textposition": "middle center",
           "x": [
            0.5
           ],
           "y": [
            0
           ]
          },
          {
           "hoverinfo": "none",
           "marker": {
            "color": "rgb(255, 255, 255)",
            "line": {
             "color": "rgb(0, 0, 0)",
             "width": 2
            },
            "size": 20
           },
           "mode": "markers+text",
           "text": [
            "7"
           ],
           "textfont": {
            "color": "rgb(0, 0, 0)"
           },
           "textposition": "middle center",
           "x": [
            1
           ],
           "y": [
            0
           ]
          }
         ],
         "name": 13
        },
        {
         "data": [
          {
           "hoverinfo": "none",
           "line": {
            "color": "rgb(0, 0, 0)",
            "width": 2
           },
           "mode": "lines",
           "x": [
            0,
            0.5,
            null,
            0.46643085439538495,
            0.44538388103556675,
            null,
            0.46643085439538495,
            0.4285584341548651,
            null
           ],
           "y": [
            0.5,
            1,
            null,
            0.966430854395385,
            0.906182816233176,
            null,
            0.966430854395385,
            0.967759498957256,
            null
           ]
          },
          {
           "hoverinfo": "none",
           "line": {
            "color": "rgb(0, 0, 0)",
            "width": 2
           },
           "mode": "lines",
           "x": [
            0,
            0.5,
            null,
            0.46643085439538495,
            0.4285584341548651,
            null,
            0.46643085439538495,
            0.44538388103556675,
            null
           ],
           "y": [
            0.5,
            0,
            null,
            0.03356914560461503,
            0.032240501042743994,
            null,
            0.03356914560461503,
            0.09381718376682407,
            null
           ]
          },
          {
           "hoverinfo": "none",
           "line": {
            "color": "rgb(0, 0, 0)",
            "width": 2
           },
           "mode": "lines",
           "x": [
            0.5,
            1,
            null,
            0.9621212121212122,
            0.9288794484132434,
            null,
            0.9621212121212122,
            0.9288794484132434,
            null
           ],
           "y": [
            1,
            1,
            null,
            1,
            0.9652590189417244,
            null,
            1,
            1.0347409810582755,
            null
           ]
          },
          {
           "hoverinfo": "none",
           "line": {
            "color": "rgb(0, 0, 0)",
            "width": 2
           },
           "mode": "lines",
           "x": [
            0.5075757575757576,
            0.5075757575757576,
            null,
            0.5075757575757576,
            0.5257358158562198,
            null
           ],
           "y": [
            1,
            0,
            null,
            0.07246376811594203,
            0.13605670738336034,
            null
           ]
          },
          {
           "hoverinfo": "none",
           "line": {
            "color": "rgb(0, 0, 0)",
            "width": 2
           },
           "mode": "lines",
           "x": [
            1.0075757575757576,
            1.0075757575757576,
            null,
            1.0075757575757576,
            1.0257358158562198,
            null
           ],
           "y": [
            1,
            0,
            null,
            0.07246376811594203,
            0.13605670738336034,
            null
           ]
          },
          {
           "hoverinfo": "none",
           "line": {
            "color": "rgb(0, 0, 0)",
            "width": 2
           },
           "mode": "lines",
           "x": [
            0.49242424242424243,
            0.49242424242424243,
            null,
            0.49242424242424243,
            0.4742641841437802,
            null
           ],
           "y": [
            0,
            1,
            null,
            0.927536231884058,
            0.8639432926166397,
            null
           ]
          },
          {
           "hoverinfo": "none",
           "line": {
            "color": "rgb(0, 0, 0)",
            "width": 2
           },
           "mode": "lines",
           "x": [
            0.5,
            1,
            null,
            0.9738173240163878,
            0.9639630823912474,
            null,
            0.9738173240163878,
            0.9377166459078401,
            null
           ],
           "y": [
            0,
            1,
            null,
            0.9476346480327754,
            0.8776659754484841,
            null,
            0.9476346480327754,
            0.9256934811496907,
            null
           ]
          },
          {
           "hoverinfo": "none",
           "line": {
            "color": "rgb(0, 0, 0)",
            "width": 2
           },
           "mode": "lines",
           "x": [
            0.5,
            1,
            null,
            0.9621212121212122,
            0.9288794484132434,
            null,
            0.9621212121212122,
            0.9288794484132434,
            null
           ],
           "y": [
            0,
            0,
            null,
            0,
            -0.03474098105827558,
            null,
            0,
            0.03474098105827558,
            null
           ]
          },
          {
           "hoverinfo": "none",
           "line": {
            "color": "rgb(0, 0, 0)",
            "width": 2
           },
           "mode": "lines",
           "x": [
            1,
            0,
            null,
            0.03664774299318793,
            0.07340128670201525,
            null,
            0.03664774299318793,
            0.06421703965128427,
            null
           ],
           "y": [
            0,
            0.5,
            null,
            0.481676128503406,
            0.4992073320037643,
            null,
            0.481676128503406,
            0.4319835048195859,
            null
           ]
          },
          {
           "hoverinfo": "none",
           "line": {
            "color": "rgb(0, 0, 0)",
            "width": 2
           },
           "mode": "lines",
           "x": [
            0.9924242424242424,
            0.9924242424242424,
            null,
            0.9924242424242424,
            0.9742641841437802,
            null
           ],
           "y": [
            0,
            1,
            null,
            0.927536231884058,
            0.8639432926166397,
            null
           ]
          },
          {
           "hoverinfo": "none",
           "marker": {
            "color": "rgb(0, 0, 255)",
            "line": {
             "color": "rgb(0, 0, 0)",
             "width": 2
            },
            "size": 20
           },
           "mode": "markers+text",
           "text": [
            "0"
           ],
           "textfont": {
            "color": "rgb(255, 255, 255)"
           },
           "textposition": "middle center",
           "x": [
            0
           ],
           "y": [
            0.5
           ]
          },
          {
           "hoverinfo": "none",
           "marker": {
            "color": "rgb(255, 255, 255)",
            "line": {
             "color": "rgb(0, 0, 0)",
             "width": 2
            },
            "size": 20
           },
           "mode": "markers+text",
           "text": [
            "8"
           ],
           "textfont": {
            "color": "rgb(0, 0, 0)"
           },
           "textposition": "middle center",
           "x": [
            0.5
           ],
           "y": [
            1
           ]
          },
          {
           "hoverinfo": "none",
           "marker": {
            "color": "rgb(255, 255, 255)",
            "line": {
             "color": "rgb(0, 0, 0)",
             "width": 2
            },
            "size": 20
           },
           "mode": "markers+text",
           "text": [
            "14"
           ],
           "textfont": {
            "color": "rgb(0, 0, 0)"
           },
           "textposition": "middle center",
           "x": [
            1
           ],
           "y": [
            1
           ]
          },
          {
           "hoverinfo": "none",
           "marker": {
            "color": "rgb(0, 0, 255)",
            "line": {
             "color": "rgb(0, 0, 0)",
             "width": 2
            },
            "size": 20
           },
           "mode": "markers+text",
           "text": [
            "5"
           ],
           "textfont": {
            "color": "rgb(255, 255, 255)"
           },
           "textposition": "middle center",
           "x": [
            0.5
           ],
           "y": [
            0
           ]
          },
          {
           "hoverinfo": "none",
           "marker": {
            "color": "rgb(255, 255, 255)",
            "line": {
             "color": "rgb(0, 0, 0)",
             "width": 2
            },
            "size": 20
           },
           "mode": "markers+text",
           "text": [
            "7"
           ],
           "textfont": {
            "color": "rgb(0, 0, 0)"
           },
           "textposition": "middle center",
           "x": [
            1
           ],
           "y": [
            0
           ]
          }
         ],
         "name": 14
        },
        {
         "data": [
          {
           "hoverinfo": "none",
           "line": {
            "color": "rgb(0, 0, 0)",
            "width": 2
           },
           "mode": "lines",
           "x": [
            0,
            0.5,
            null,
            0.46643085439538495,
            0.44538388103556675,
            null,
            0.46643085439538495,
            0.4285584341548651,
            null
           ],
           "y": [
            0.5,
            1,
            null,
            0.966430854395385,
            0.906182816233176,
            null,
            0.966430854395385,
            0.967759498957256,
            null
           ]
          },
          {
           "hoverinfo": "none",
           "line": {
            "color": "rgb(0, 0, 0)",
            "width": 2
           },
           "mode": "lines",
           "x": [
            0,
            0.5,
            null,
            0.46643085439538495,
            0.4285584341548651,
            null,
            0.46643085439538495,
            0.44538388103556675,
            null
           ],
           "y": [
            0.5,
            0,
            null,
            0.03356914560461503,
            0.032240501042743994,
            null,
            0.03356914560461503,
            0.09381718376682407,
            null
           ]
          },
          {
           "hoverinfo": "none",
           "line": {
            "color": "rgb(0, 0, 0)",
            "width": 2
           },
           "mode": "lines",
           "x": [
            0.5,
            1,
            null,
            0.9621212121212122,
            0.9288794484132434,
            null,
            0.9621212121212122,
            0.9288794484132434,
            null
           ],
           "y": [
            1,
            1,
            null,
            1,
            0.9652590189417244,
            null,
            1,
            1.0347409810582755,
            null
           ]
          },
          {
           "hoverinfo": "none",
           "line": {
            "color": "rgb(0, 0, 0)",
            "width": 2
           },
           "mode": "lines",
           "x": [
            0.5075757575757576,
            0.5075757575757576,
            null,
            0.5075757575757576,
            0.5257358158562198,
            null
           ],
           "y": [
            1,
            0,
            null,
            0.07246376811594203,
            0.13605670738336034,
            null
           ]
          },
          {
           "hoverinfo": "none",
           "line": {
            "color": "rgb(0, 0, 0)",
            "width": 2
           },
           "mode": "lines",
           "x": [
            1.0075757575757576,
            1.0075757575757576,
            null,
            1.0075757575757576,
            1.0257358158562198,
            null
           ],
           "y": [
            1,
            0,
            null,
            0.07246376811594203,
            0.13605670738336034,
            null
           ]
          },
          {
           "hoverinfo": "none",
           "line": {
            "color": "rgb(0, 0, 0)",
            "width": 2
           },
           "mode": "lines",
           "x": [
            0.49242424242424243,
            0.49242424242424243,
            null,
            0.49242424242424243,
            0.4742641841437802,
            null
           ],
           "y": [
            0,
            1,
            null,
            0.927536231884058,
            0.8639432926166397,
            null
           ]
          },
          {
           "hoverinfo": "none",
           "line": {
            "color": "rgb(0, 0, 0)",
            "width": 2
           },
           "mode": "lines",
           "x": [
            0.5,
            1,
            null,
            0.9738173240163878,
            0.9639630823912474,
            null,
            0.9738173240163878,
            0.9377166459078401,
            null
           ],
           "y": [
            0,
            1,
            null,
            0.9476346480327754,
            0.8776659754484841,
            null,
            0.9476346480327754,
            0.9256934811496907,
            null
           ]
          },
          {
           "hoverinfo": "none",
           "line": {
            "color": "rgb(0, 0, 0)",
            "width": 2
           },
           "mode": "lines",
           "x": [
            0.5,
            1,
            null,
            0.9621212121212122,
            0.9288794484132434,
            null,
            0.9621212121212122,
            0.9288794484132434,
            null
           ],
           "y": [
            0,
            0,
            null,
            0,
            -0.03474098105827558,
            null,
            0,
            0.03474098105827558,
            null
           ]
          },
          {
           "hoverinfo": "none",
           "line": {
            "color": "rgb(0, 0, 0)",
            "width": 2
           },
           "mode": "lines",
           "x": [
            1,
            0,
            null,
            0.03664774299318793,
            0.07340128670201525,
            null,
            0.03664774299318793,
            0.06421703965128427,
            null
           ],
           "y": [
            0,
            0.5,
            null,
            0.481676128503406,
            0.4992073320037643,
            null,
            0.481676128503406,
            0.4319835048195859,
            null
           ]
          },
          {
           "hoverinfo": "none",
           "line": {
            "color": "rgb(0, 0, 0)",
            "width": 2
           },
           "mode": "lines",
           "x": [
            0.9924242424242424,
            0.9924242424242424,
            null,
            0.9924242424242424,
            0.9742641841437802,
            null
           ],
           "y": [
            0,
            1,
            null,
            0.927536231884058,
            0.8639432926166397,
            null
           ]
          },
          {
           "hoverinfo": "none",
           "marker": {
            "color": "rgb(0, 0, 255)",
            "line": {
             "color": "rgb(0, 0, 0)",
             "width": 2
            },
            "size": 20
           },
           "mode": "markers+text",
           "text": [
            "0"
           ],
           "textfont": {
            "color": "rgb(255, 255, 255)"
           },
           "textposition": "middle center",
           "x": [
            0
           ],
           "y": [
            0.5
           ]
          },
          {
           "hoverinfo": "none",
           "marker": {
            "color": "rgb(255, 255, 255)",
            "line": {
             "color": "rgb(0, 0, 0)",
             "width": 2
            },
            "size": 20
           },
           "mode": "markers+text",
           "text": [
            "8"
           ],
           "textfont": {
            "color": "rgb(0, 0, 0)"
           },
           "textposition": "middle center",
           "x": [
            0.5
           ],
           "y": [
            1
           ]
          },
          {
           "hoverinfo": "none",
           "marker": {
            "color": "rgb(255, 255, 255)",
            "line": {
             "color": "rgb(0, 0, 0)",
             "width": 2
            },
            "size": 20
           },
           "mode": "markers+text",
           "text": [
            "14"
           ],
           "textfont": {
            "color": "rgb(0, 0, 0)"
           },
           "textposition": "middle center",
           "x": [
            1
           ],
           "y": [
            1
           ]
          },
          {
           "hoverinfo": "none",
           "marker": {
            "color": "rgb(0, 0, 255)",
            "line": {
             "color": "rgb(0, 0, 0)",
             "width": 2
            },
            "size": 20
           },
           "mode": "markers+text",
           "text": [
            "5"
           ],
           "textfont": {
            "color": "rgb(255, 255, 255)"
           },
           "textposition": "middle center",
           "x": [
            0.5
           ],
           "y": [
            0
           ]
          },
          {
           "hoverinfo": "none",
           "marker": {
            "color": "rgb(0, 255, 0)",
            "line": {
             "color": "rgb(0, 0, 0)",
             "width": 2
            },
            "size": 20
           },
           "mode": "markers+text",
           "text": [
            "7"
           ],
           "textfont": {
            "color": "rgb(0, 0, 0)"
           },
           "textposition": "middle center",
           "x": [
            1
           ],
           "y": [
            0
           ]
          }
         ],
         "name": 15
        },
        {
         "data": [
          {
           "hoverinfo": "none",
           "line": {
            "color": "rgb(0, 0, 0)",
            "width": 2
           },
           "mode": "lines",
           "x": [
            0,
            0.5,
            null,
            0.46643085439538495,
            0.44538388103556675,
            null,
            0.46643085439538495,
            0.4285584341548651,
            null
           ],
           "y": [
            0.5,
            1,
            null,
            0.966430854395385,
            0.906182816233176,
            null,
            0.966430854395385,
            0.967759498957256,
            null
           ]
          },
          {
           "hoverinfo": "none",
           "line": {
            "color": "rgb(0, 0, 0)",
            "width": 2
           },
           "mode": "lines",
           "x": [
            0,
            0.5,
            null,
            0.46643085439538495,
            0.4285584341548651,
            null,
            0.46643085439538495,
            0.44538388103556675,
            null
           ],
           "y": [
            0.5,
            0,
            null,
            0.03356914560461503,
            0.032240501042743994,
            null,
            0.03356914560461503,
            0.09381718376682407,
            null
           ]
          },
          {
           "hoverinfo": "none",
           "line": {
            "color": "rgb(0, 0, 0)",
            "width": 2
           },
           "mode": "lines",
           "x": [
            0.5,
            1,
            null,
            0.9621212121212122,
            0.9288794484132434,
            null,
            0.9621212121212122,
            0.9288794484132434,
            null
           ],
           "y": [
            1,
            1,
            null,
            1,
            0.9652590189417244,
            null,
            1,
            1.0347409810582755,
            null
           ]
          },
          {
           "hoverinfo": "none",
           "line": {
            "color": "rgb(0, 0, 0)",
            "width": 2
           },
           "mode": "lines",
           "x": [
            0.5075757575757576,
            0.5075757575757576,
            null,
            0.5075757575757576,
            0.5257358158562198,
            null
           ],
           "y": [
            1,
            0,
            null,
            0.07246376811594203,
            0.13605670738336034,
            null
           ]
          },
          {
           "hoverinfo": "none",
           "line": {
            "color": "rgb(0, 0, 0)",
            "width": 2
           },
           "mode": "lines",
           "x": [
            1.0075757575757576,
            1.0075757575757576,
            null,
            1.0075757575757576,
            1.0257358158562198,
            null
           ],
           "y": [
            1,
            0,
            null,
            0.07246376811594203,
            0.13605670738336034,
            null
           ]
          },
          {
           "hoverinfo": "none",
           "line": {
            "color": "rgb(0, 0, 0)",
            "width": 2
           },
           "mode": "lines",
           "x": [
            0.49242424242424243,
            0.49242424242424243,
            null,
            0.49242424242424243,
            0.4742641841437802,
            null
           ],
           "y": [
            0,
            1,
            null,
            0.927536231884058,
            0.8639432926166397,
            null
           ]
          },
          {
           "hoverinfo": "none",
           "line": {
            "color": "rgb(0, 0, 0)",
            "width": 2
           },
           "mode": "lines",
           "x": [
            0.5,
            1,
            null,
            0.9738173240163878,
            0.9639630823912474,
            null,
            0.9738173240163878,
            0.9377166459078401,
            null
           ],
           "y": [
            0,
            1,
            null,
            0.9476346480327754,
            0.8776659754484841,
            null,
            0.9476346480327754,
            0.9256934811496907,
            null
           ]
          },
          {
           "hoverinfo": "none",
           "line": {
            "color": "rgb(0, 0, 0)",
            "width": 2
           },
           "mode": "lines",
           "x": [
            0.5,
            1,
            null,
            0.9621212121212122,
            0.9288794484132434,
            null,
            0.9621212121212122,
            0.9288794484132434,
            null
           ],
           "y": [
            0,
            0,
            null,
            0,
            -0.03474098105827558,
            null,
            0,
            0.03474098105827558,
            null
           ]
          },
          {
           "hoverinfo": "none",
           "line": {
            "color": "rgb(255, 0, 0)",
            "width": 2
           },
           "mode": "lines",
           "x": [
            1,
            0,
            null,
            0.03664774299318793,
            0.07340128670201525,
            null,
            0.03664774299318793,
            0.06421703965128427,
            null
           ],
           "y": [
            0,
            0.5,
            null,
            0.481676128503406,
            0.4992073320037643,
            null,
            0.481676128503406,
            0.4319835048195859,
            null
           ]
          },
          {
           "hoverinfo": "none",
           "line": {
            "color": "rgb(0, 0, 0)",
            "width": 2
           },
           "mode": "lines",
           "x": [
            0.9924242424242424,
            0.9924242424242424,
            null,
            0.9924242424242424,
            0.9742641841437802,
            null
           ],
           "y": [
            0,
            1,
            null,
            0.927536231884058,
            0.8639432926166397,
            null
           ]
          },
          {
           "hoverinfo": "none",
           "marker": {
            "color": "rgb(0, 0, 255)",
            "line": {
             "color": "rgb(0, 0, 0)",
             "width": 2
            },
            "size": 20
           },
           "mode": "markers+text",
           "text": [
            "0"
           ],
           "textfont": {
            "color": "rgb(255, 255, 255)"
           },
           "textposition": "middle center",
           "x": [
            0
           ],
           "y": [
            0.5
           ]
          },
          {
           "hoverinfo": "none",
           "marker": {
            "color": "rgb(255, 255, 255)",
            "line": {
             "color": "rgb(0, 0, 0)",
             "width": 2
            },
            "size": 20
           },
           "mode": "markers+text",
           "text": [
            "8"
           ],
           "textfont": {
            "color": "rgb(0, 0, 0)"
           },
           "textposition": "middle center",
           "x": [
            0.5
           ],
           "y": [
            1
           ]
          },
          {
           "hoverinfo": "none",
           "marker": {
            "color": "rgb(255, 255, 255)",
            "line": {
             "color": "rgb(0, 0, 0)",
             "width": 2
            },
            "size": 20
           },
           "mode": "markers+text",
           "text": [
            "14"
           ],
           "textfont": {
            "color": "rgb(0, 0, 0)"
           },
           "textposition": "middle center",
           "x": [
            1
           ],
           "y": [
            1
           ]
          },
          {
           "hoverinfo": "none",
           "marker": {
            "color": "rgb(0, 0, 255)",
            "line": {
             "color": "rgb(0, 0, 0)",
             "width": 2
            },
            "size": 20
           },
           "mode": "markers+text",
           "text": [
            "5"
           ],
           "textfont": {
            "color": "rgb(255, 255, 255)"
           },
           "textposition": "middle center",
           "x": [
            0.5
           ],
           "y": [
            0
           ]
          },
          {
           "hoverinfo": "none",
           "marker": {
            "color": "rgb(0, 255, 0)",
            "line": {
             "color": "rgb(0, 0, 0)",
             "width": 2
            },
            "size": 20
           },
           "mode": "markers+text",
           "text": [
            "7"
           ],
           "textfont": {
            "color": "rgb(0, 0, 0)"
           },
           "textposition": "middle center",
           "x": [
            1
           ],
           "y": [
            0
           ]
          }
         ],
         "name": 16
        },
        {
         "data": [
          {
           "hoverinfo": "none",
           "line": {
            "color": "rgb(0, 0, 0)",
            "width": 2
           },
           "mode": "lines",
           "x": [
            0,
            0.5,
            null,
            0.46643085439538495,
            0.44538388103556675,
            null,
            0.46643085439538495,
            0.4285584341548651,
            null
           ],
           "y": [
            0.5,
            1,
            null,
            0.966430854395385,
            0.906182816233176,
            null,
            0.966430854395385,
            0.967759498957256,
            null
           ]
          },
          {
           "hoverinfo": "none",
           "line": {
            "color": "rgb(0, 0, 0)",
            "width": 2
           },
           "mode": "lines",
           "x": [
            0,
            0.5,
            null,
            0.46643085439538495,
            0.4285584341548651,
            null,
            0.46643085439538495,
            0.44538388103556675,
            null
           ],
           "y": [
            0.5,
            0,
            null,
            0.03356914560461503,
            0.032240501042743994,
            null,
            0.03356914560461503,
            0.09381718376682407,
            null
           ]
          },
          {
           "hoverinfo": "none",
           "line": {
            "color": "rgb(0, 0, 0)",
            "width": 2
           },
           "mode": "lines",
           "x": [
            0.5,
            1,
            null,
            0.9621212121212122,
            0.9288794484132434,
            null,
            0.9621212121212122,
            0.9288794484132434,
            null
           ],
           "y": [
            1,
            1,
            null,
            1,
            0.9652590189417244,
            null,
            1,
            1.0347409810582755,
            null
           ]
          },
          {
           "hoverinfo": "none",
           "line": {
            "color": "rgb(0, 0, 0)",
            "width": 2
           },
           "mode": "lines",
           "x": [
            0.5075757575757576,
            0.5075757575757576,
            null,
            0.5075757575757576,
            0.5257358158562198,
            null
           ],
           "y": [
            1,
            0,
            null,
            0.07246376811594203,
            0.13605670738336034,
            null
           ]
          },
          {
           "hoverinfo": "none",
           "line": {
            "color": "rgb(0, 0, 0)",
            "width": 2
           },
           "mode": "lines",
           "x": [
            1.0075757575757576,
            1.0075757575757576,
            null,
            1.0075757575757576,
            1.0257358158562198,
            null
           ],
           "y": [
            1,
            0,
            null,
            0.07246376811594203,
            0.13605670738336034,
            null
           ]
          },
          {
           "hoverinfo": "none",
           "line": {
            "color": "rgb(0, 0, 0)",
            "width": 2
           },
           "mode": "lines",
           "x": [
            0.49242424242424243,
            0.49242424242424243,
            null,
            0.49242424242424243,
            0.4742641841437802,
            null
           ],
           "y": [
            0,
            1,
            null,
            0.927536231884058,
            0.8639432926166397,
            null
           ]
          },
          {
           "hoverinfo": "none",
           "line": {
            "color": "rgb(0, 0, 0)",
            "width": 2
           },
           "mode": "lines",
           "x": [
            0.5,
            1,
            null,
            0.9738173240163878,
            0.9639630823912474,
            null,
            0.9738173240163878,
            0.9377166459078401,
            null
           ],
           "y": [
            0,
            1,
            null,
            0.9476346480327754,
            0.8776659754484841,
            null,
            0.9476346480327754,
            0.9256934811496907,
            null
           ]
          },
          {
           "hoverinfo": "none",
           "line": {
            "color": "rgb(0, 0, 0)",
            "width": 2
           },
           "mode": "lines",
           "x": [
            0.5,
            1,
            null,
            0.9621212121212122,
            0.9288794484132434,
            null,
            0.9621212121212122,
            0.9288794484132434,
            null
           ],
           "y": [
            0,
            0,
            null,
            0,
            -0.03474098105827558,
            null,
            0,
            0.03474098105827558,
            null
           ]
          },
          {
           "hoverinfo": "none",
           "line": {
            "color": "rgb(0, 0, 0)",
            "width": 2
           },
           "mode": "lines",
           "x": [
            1,
            0,
            null,
            0.03664774299318793,
            0.07340128670201525,
            null,
            0.03664774299318793,
            0.06421703965128427,
            null
           ],
           "y": [
            0,
            0.5,
            null,
            0.481676128503406,
            0.4992073320037643,
            null,
            0.481676128503406,
            0.4319835048195859,
            null
           ]
          },
          {
           "hoverinfo": "none",
           "line": {
            "color": "rgb(0, 0, 0)",
            "width": 2
           },
           "mode": "lines",
           "x": [
            0.9924242424242424,
            0.9924242424242424,
            null,
            0.9924242424242424,
            0.9742641841437802,
            null
           ],
           "y": [
            0,
            1,
            null,
            0.927536231884058,
            0.8639432926166397,
            null
           ]
          },
          {
           "hoverinfo": "none",
           "marker": {
            "color": "rgb(0, 0, 255)",
            "line": {
             "color": "rgb(0, 0, 0)",
             "width": 2
            },
            "size": 20
           },
           "mode": "markers+text",
           "text": [
            "0"
           ],
           "textfont": {
            "color": "rgb(255, 255, 255)"
           },
           "textposition": "middle center",
           "x": [
            0
           ],
           "y": [
            0.5
           ]
          },
          {
           "hoverinfo": "none",
           "marker": {
            "color": "rgb(255, 255, 255)",
            "line": {
             "color": "rgb(0, 0, 0)",
             "width": 2
            },
            "size": 20
           },
           "mode": "markers+text",
           "text": [
            "8"
           ],
           "textfont": {
            "color": "rgb(0, 0, 0)"
           },
           "textposition": "middle center",
           "x": [
            0.5
           ],
           "y": [
            1
           ]
          },
          {
           "hoverinfo": "none",
           "marker": {
            "color": "rgb(255, 255, 255)",
            "line": {
             "color": "rgb(0, 0, 0)",
             "width": 2
            },
            "size": 20
           },
           "mode": "markers+text",
           "text": [
            "14"
           ],
           "textfont": {
            "color": "rgb(0, 0, 0)"
           },
           "textposition": "middle center",
           "x": [
            1
           ],
           "y": [
            1
           ]
          },
          {
           "hoverinfo": "none",
           "marker": {
            "color": "rgb(0, 0, 255)",
            "line": {
             "color": "rgb(0, 0, 0)",
             "width": 2
            },
            "size": 20
           },
           "mode": "markers+text",
           "text": [
            "5"
           ],
           "textfont": {
            "color": "rgb(255, 255, 255)"
           },
           "textposition": "middle center",
           "x": [
            0.5
           ],
           "y": [
            0
           ]
          },
          {
           "hoverinfo": "none",
           "marker": {
            "color": "rgb(0, 255, 0)",
            "line": {
             "color": "rgb(0, 0, 0)",
             "width": 2
            },
            "size": 20
           },
           "mode": "markers+text",
           "text": [
            "7"
           ],
           "textfont": {
            "color": "rgb(0, 0, 0)"
           },
           "textposition": "middle center",
           "x": [
            1
           ],
           "y": [
            0
           ]
          }
         ],
         "name": 17
        },
        {
         "data": [
          {
           "hoverinfo": "none",
           "line": {
            "color": "rgb(0, 0, 0)",
            "width": 2
           },
           "mode": "lines",
           "x": [
            0,
            0.5,
            null,
            0.46643085439538495,
            0.44538388103556675,
            null,
            0.46643085439538495,
            0.4285584341548651,
            null
           ],
           "y": [
            0.5,
            1,
            null,
            0.966430854395385,
            0.906182816233176,
            null,
            0.966430854395385,
            0.967759498957256,
            null
           ]
          },
          {
           "hoverinfo": "none",
           "line": {
            "color": "rgb(0, 0, 0)",
            "width": 2
           },
           "mode": "lines",
           "x": [
            0,
            0.5,
            null,
            0.46643085439538495,
            0.4285584341548651,
            null,
            0.46643085439538495,
            0.44538388103556675,
            null
           ],
           "y": [
            0.5,
            0,
            null,
            0.03356914560461503,
            0.032240501042743994,
            null,
            0.03356914560461503,
            0.09381718376682407,
            null
           ]
          },
          {
           "hoverinfo": "none",
           "line": {
            "color": "rgb(0, 0, 0)",
            "width": 2
           },
           "mode": "lines",
           "x": [
            0.5,
            1,
            null,
            0.9621212121212122,
            0.9288794484132434,
            null,
            0.9621212121212122,
            0.9288794484132434,
            null
           ],
           "y": [
            1,
            1,
            null,
            1,
            0.9652590189417244,
            null,
            1,
            1.0347409810582755,
            null
           ]
          },
          {
           "hoverinfo": "none",
           "line": {
            "color": "rgb(0, 0, 0)",
            "width": 2
           },
           "mode": "lines",
           "x": [
            0.5075757575757576,
            0.5075757575757576,
            null,
            0.5075757575757576,
            0.5257358158562198,
            null
           ],
           "y": [
            1,
            0,
            null,
            0.07246376811594203,
            0.13605670738336034,
            null
           ]
          },
          {
           "hoverinfo": "none",
           "line": {
            "color": "rgb(0, 0, 0)",
            "width": 2
           },
           "mode": "lines",
           "x": [
            1.0075757575757576,
            1.0075757575757576,
            null,
            1.0075757575757576,
            1.0257358158562198,
            null
           ],
           "y": [
            1,
            0,
            null,
            0.07246376811594203,
            0.13605670738336034,
            null
           ]
          },
          {
           "hoverinfo": "none",
           "line": {
            "color": "rgb(0, 0, 0)",
            "width": 2
           },
           "mode": "lines",
           "x": [
            0.49242424242424243,
            0.49242424242424243,
            null,
            0.49242424242424243,
            0.4742641841437802,
            null
           ],
           "y": [
            0,
            1,
            null,
            0.927536231884058,
            0.8639432926166397,
            null
           ]
          },
          {
           "hoverinfo": "none",
           "line": {
            "color": "rgb(0, 0, 0)",
            "width": 2
           },
           "mode": "lines",
           "x": [
            0.5,
            1,
            null,
            0.9738173240163878,
            0.9639630823912474,
            null,
            0.9738173240163878,
            0.9377166459078401,
            null
           ],
           "y": [
            0,
            1,
            null,
            0.9476346480327754,
            0.8776659754484841,
            null,
            0.9476346480327754,
            0.9256934811496907,
            null
           ]
          },
          {
           "hoverinfo": "none",
           "line": {
            "color": "rgb(0, 0, 0)",
            "width": 2
           },
           "mode": "lines",
           "x": [
            0.5,
            1,
            null,
            0.9621212121212122,
            0.9288794484132434,
            null,
            0.9621212121212122,
            0.9288794484132434,
            null
           ],
           "y": [
            0,
            0,
            null,
            0,
            -0.03474098105827558,
            null,
            0,
            0.03474098105827558,
            null
           ]
          },
          {
           "hoverinfo": "none",
           "line": {
            "color": "rgb(0, 0, 0)",
            "width": 2
           },
           "mode": "lines",
           "x": [
            1,
            0,
            null,
            0.03664774299318793,
            0.07340128670201525,
            null,
            0.03664774299318793,
            0.06421703965128427,
            null
           ],
           "y": [
            0,
            0.5,
            null,
            0.481676128503406,
            0.4992073320037643,
            null,
            0.481676128503406,
            0.4319835048195859,
            null
           ]
          },
          {
           "hoverinfo": "none",
           "line": {
            "color": "rgb(255, 0, 0)",
            "width": 2
           },
           "mode": "lines",
           "x": [
            0.9924242424242424,
            0.9924242424242424,
            null,
            0.9924242424242424,
            0.9742641841437802,
            null
           ],
           "y": [
            0,
            1,
            null,
            0.927536231884058,
            0.8639432926166397,
            null
           ]
          },
          {
           "hoverinfo": "none",
           "marker": {
            "color": "rgb(0, 0, 255)",
            "line": {
             "color": "rgb(0, 0, 0)",
             "width": 2
            },
            "size": 20
           },
           "mode": "markers+text",
           "text": [
            "0"
           ],
           "textfont": {
            "color": "rgb(255, 255, 255)"
           },
           "textposition": "middle center",
           "x": [
            0
           ],
           "y": [
            0.5
           ]
          },
          {
           "hoverinfo": "none",
           "marker": {
            "color": "rgb(255, 255, 255)",
            "line": {
             "color": "rgb(0, 0, 0)",
             "width": 2
            },
            "size": 20
           },
           "mode": "markers+text",
           "text": [
            "8"
           ],
           "textfont": {
            "color": "rgb(0, 0, 0)"
           },
           "textposition": "middle center",
           "x": [
            0.5
           ],
           "y": [
            1
           ]
          },
          {
           "hoverinfo": "none",
           "marker": {
            "color": "rgb(255, 255, 255)",
            "line": {
             "color": "rgb(0, 0, 0)",
             "width": 2
            },
            "size": 20
           },
           "mode": "markers+text",
           "text": [
            "14"
           ],
           "textfont": {
            "color": "rgb(0, 0, 0)"
           },
           "textposition": "middle center",
           "x": [
            1
           ],
           "y": [
            1
           ]
          },
          {
           "hoverinfo": "none",
           "marker": {
            "color": "rgb(0, 0, 255)",
            "line": {
             "color": "rgb(0, 0, 0)",
             "width": 2
            },
            "size": 20
           },
           "mode": "markers+text",
           "text": [
            "5"
           ],
           "textfont": {
            "color": "rgb(255, 255, 255)"
           },
           "textposition": "middle center",
           "x": [
            0.5
           ],
           "y": [
            0
           ]
          },
          {
           "hoverinfo": "none",
           "marker": {
            "color": "rgb(0, 255, 0)",
            "line": {
             "color": "rgb(0, 0, 0)",
             "width": 2
            },
            "size": 20
           },
           "mode": "markers+text",
           "text": [
            "7"
           ],
           "textfont": {
            "color": "rgb(0, 0, 0)"
           },
           "textposition": "middle center",
           "x": [
            1
           ],
           "y": [
            0
           ]
          }
         ],
         "name": 18
        },
        {
         "data": [
          {
           "hoverinfo": "none",
           "line": {
            "color": "rgb(0, 0, 0)",
            "width": 2
           },
           "mode": "lines",
           "x": [
            0,
            0.5,
            null,
            0.46643085439538495,
            0.44538388103556675,
            null,
            0.46643085439538495,
            0.4285584341548651,
            null
           ],
           "y": [
            0.5,
            1,
            null,
            0.966430854395385,
            0.906182816233176,
            null,
            0.966430854395385,
            0.967759498957256,
            null
           ]
          },
          {
           "hoverinfo": "none",
           "line": {
            "color": "rgb(0, 0, 0)",
            "width": 2
           },
           "mode": "lines",
           "x": [
            0,
            0.5,
            null,
            0.46643085439538495,
            0.4285584341548651,
            null,
            0.46643085439538495,
            0.44538388103556675,
            null
           ],
           "y": [
            0.5,
            0,
            null,
            0.03356914560461503,
            0.032240501042743994,
            null,
            0.03356914560461503,
            0.09381718376682407,
            null
           ]
          },
          {
           "hoverinfo": "none",
           "line": {
            "color": "rgb(0, 0, 0)",
            "width": 2
           },
           "mode": "lines",
           "x": [
            0.5,
            1,
            null,
            0.9621212121212122,
            0.9288794484132434,
            null,
            0.9621212121212122,
            0.9288794484132434,
            null
           ],
           "y": [
            1,
            1,
            null,
            1,
            0.9652590189417244,
            null,
            1,
            1.0347409810582755,
            null
           ]
          },
          {
           "hoverinfo": "none",
           "line": {
            "color": "rgb(0, 0, 0)",
            "width": 2
           },
           "mode": "lines",
           "x": [
            0.5075757575757576,
            0.5075757575757576,
            null,
            0.5075757575757576,
            0.5257358158562198,
            null
           ],
           "y": [
            1,
            0,
            null,
            0.07246376811594203,
            0.13605670738336034,
            null
           ]
          },
          {
           "hoverinfo": "none",
           "line": {
            "color": "rgb(0, 0, 0)",
            "width": 2
           },
           "mode": "lines",
           "x": [
            1.0075757575757576,
            1.0075757575757576,
            null,
            1.0075757575757576,
            1.0257358158562198,
            null
           ],
           "y": [
            1,
            0,
            null,
            0.07246376811594203,
            0.13605670738336034,
            null
           ]
          },
          {
           "hoverinfo": "none",
           "line": {
            "color": "rgb(0, 0, 0)",
            "width": 2
           },
           "mode": "lines",
           "x": [
            0.49242424242424243,
            0.49242424242424243,
            null,
            0.49242424242424243,
            0.4742641841437802,
            null
           ],
           "y": [
            0,
            1,
            null,
            0.927536231884058,
            0.8639432926166397,
            null
           ]
          },
          {
           "hoverinfo": "none",
           "line": {
            "color": "rgb(0, 0, 0)",
            "width": 2
           },
           "mode": "lines",
           "x": [
            0.5,
            1,
            null,
            0.9738173240163878,
            0.9639630823912474,
            null,
            0.9738173240163878,
            0.9377166459078401,
            null
           ],
           "y": [
            0,
            1,
            null,
            0.9476346480327754,
            0.8776659754484841,
            null,
            0.9476346480327754,
            0.9256934811496907,
            null
           ]
          },
          {
           "hoverinfo": "none",
           "line": {
            "color": "rgb(0, 0, 0)",
            "width": 2
           },
           "mode": "lines",
           "x": [
            0.5,
            1,
            null,
            0.9621212121212122,
            0.9288794484132434,
            null,
            0.9621212121212122,
            0.9288794484132434,
            null
           ],
           "y": [
            0,
            0,
            null,
            0,
            -0.03474098105827558,
            null,
            0,
            0.03474098105827558,
            null
           ]
          },
          {
           "hoverinfo": "none",
           "line": {
            "color": "rgb(0, 0, 0)",
            "width": 2
           },
           "mode": "lines",
           "x": [
            1,
            0,
            null,
            0.03664774299318793,
            0.07340128670201525,
            null,
            0.03664774299318793,
            0.06421703965128427,
            null
           ],
           "y": [
            0,
            0.5,
            null,
            0.481676128503406,
            0.4992073320037643,
            null,
            0.481676128503406,
            0.4319835048195859,
            null
           ]
          },
          {
           "hoverinfo": "none",
           "line": {
            "color": "rgb(0, 0, 0)",
            "width": 2
           },
           "mode": "lines",
           "x": [
            0.9924242424242424,
            0.9924242424242424,
            null,
            0.9924242424242424,
            0.9742641841437802,
            null
           ],
           "y": [
            0,
            1,
            null,
            0.927536231884058,
            0.8639432926166397,
            null
           ]
          },
          {
           "hoverinfo": "none",
           "marker": {
            "color": "rgb(0, 0, 255)",
            "line": {
             "color": "rgb(0, 0, 0)",
             "width": 2
            },
            "size": 20
           },
           "mode": "markers+text",
           "text": [
            "0"
           ],
           "textfont": {
            "color": "rgb(255, 255, 255)"
           },
           "textposition": "middle center",
           "x": [
            0
           ],
           "y": [
            0.5
           ]
          },
          {
           "hoverinfo": "none",
           "marker": {
            "color": "rgb(255, 255, 255)",
            "line": {
             "color": "rgb(0, 0, 0)",
             "width": 2
            },
            "size": 20
           },
           "mode": "markers+text",
           "text": [
            "8"
           ],
           "textfont": {
            "color": "rgb(0, 0, 0)"
           },
           "textposition": "middle center",
           "x": [
            0.5
           ],
           "y": [
            1
           ]
          },
          {
           "hoverinfo": "none",
           "marker": {
            "color": "rgb(255, 255, 255)",
            "line": {
             "color": "rgb(0, 0, 0)",
             "width": 2
            },
            "size": 20
           },
           "mode": "markers+text",
           "text": [
            "13"
           ],
           "textfont": {
            "color": "rgb(0, 0, 0)"
           },
           "textposition": "middle center",
           "x": [
            1
           ],
           "y": [
            1
           ]
          },
          {
           "hoverinfo": "none",
           "marker": {
            "color": "rgb(0, 0, 255)",
            "line": {
             "color": "rgb(0, 0, 0)",
             "width": 2
            },
            "size": 20
           },
           "mode": "markers+text",
           "text": [
            "5"
           ],
           "textfont": {
            "color": "rgb(255, 255, 255)"
           },
           "textposition": "middle center",
           "x": [
            0.5
           ],
           "y": [
            0
           ]
          },
          {
           "hoverinfo": "none",
           "marker": {
            "color": "rgb(0, 255, 0)",
            "line": {
             "color": "rgb(0, 0, 0)",
             "width": 2
            },
            "size": 20
           },
           "mode": "markers+text",
           "text": [
            "7"
           ],
           "textfont": {
            "color": "rgb(0, 0, 0)"
           },
           "textposition": "middle center",
           "x": [
            1
           ],
           "y": [
            0
           ]
          }
         ],
         "name": 19
        },
        {
         "data": [
          {
           "hoverinfo": "none",
           "line": {
            "color": "rgb(0, 0, 0)",
            "width": 2
           },
           "mode": "lines",
           "x": [
            0,
            0.5,
            null,
            0.46643085439538495,
            0.44538388103556675,
            null,
            0.46643085439538495,
            0.4285584341548651,
            null
           ],
           "y": [
            0.5,
            1,
            null,
            0.966430854395385,
            0.906182816233176,
            null,
            0.966430854395385,
            0.967759498957256,
            null
           ]
          },
          {
           "hoverinfo": "none",
           "line": {
            "color": "rgb(0, 0, 0)",
            "width": 2
           },
           "mode": "lines",
           "x": [
            0,
            0.5,
            null,
            0.46643085439538495,
            0.4285584341548651,
            null,
            0.46643085439538495,
            0.44538388103556675,
            null
           ],
           "y": [
            0.5,
            0,
            null,
            0.03356914560461503,
            0.032240501042743994,
            null,
            0.03356914560461503,
            0.09381718376682407,
            null
           ]
          },
          {
           "hoverinfo": "none",
           "line": {
            "color": "rgb(0, 0, 0)",
            "width": 2
           },
           "mode": "lines",
           "x": [
            0.5,
            1,
            null,
            0.9621212121212122,
            0.9288794484132434,
            null,
            0.9621212121212122,
            0.9288794484132434,
            null
           ],
           "y": [
            1,
            1,
            null,
            1,
            0.9652590189417244,
            null,
            1,
            1.0347409810582755,
            null
           ]
          },
          {
           "hoverinfo": "none",
           "line": {
            "color": "rgb(0, 0, 0)",
            "width": 2
           },
           "mode": "lines",
           "x": [
            0.5075757575757576,
            0.5075757575757576,
            null,
            0.5075757575757576,
            0.5257358158562198,
            null
           ],
           "y": [
            1,
            0,
            null,
            0.07246376811594203,
            0.13605670738336034,
            null
           ]
          },
          {
           "hoverinfo": "none",
           "line": {
            "color": "rgb(0, 0, 0)",
            "width": 2
           },
           "mode": "lines",
           "x": [
            1.0075757575757576,
            1.0075757575757576,
            null,
            1.0075757575757576,
            1.0257358158562198,
            null
           ],
           "y": [
            1,
            0,
            null,
            0.07246376811594203,
            0.13605670738336034,
            null
           ]
          },
          {
           "hoverinfo": "none",
           "line": {
            "color": "rgb(0, 0, 0)",
            "width": 2
           },
           "mode": "lines",
           "x": [
            0.49242424242424243,
            0.49242424242424243,
            null,
            0.49242424242424243,
            0.4742641841437802,
            null
           ],
           "y": [
            0,
            1,
            null,
            0.927536231884058,
            0.8639432926166397,
            null
           ]
          },
          {
           "hoverinfo": "none",
           "line": {
            "color": "rgb(0, 0, 0)",
            "width": 2
           },
           "mode": "lines",
           "x": [
            0.5,
            1,
            null,
            0.9738173240163878,
            0.9639630823912474,
            null,
            0.9738173240163878,
            0.9377166459078401,
            null
           ],
           "y": [
            0,
            1,
            null,
            0.9476346480327754,
            0.8776659754484841,
            null,
            0.9476346480327754,
            0.9256934811496907,
            null
           ]
          },
          {
           "hoverinfo": "none",
           "line": {
            "color": "rgb(0, 0, 0)",
            "width": 2
           },
           "mode": "lines",
           "x": [
            0.5,
            1,
            null,
            0.9621212121212122,
            0.9288794484132434,
            null,
            0.9621212121212122,
            0.9288794484132434,
            null
           ],
           "y": [
            0,
            0,
            null,
            0,
            -0.03474098105827558,
            null,
            0,
            0.03474098105827558,
            null
           ]
          },
          {
           "hoverinfo": "none",
           "line": {
            "color": "rgb(0, 0, 0)",
            "width": 2
           },
           "mode": "lines",
           "x": [
            1,
            0,
            null,
            0.03664774299318793,
            0.07340128670201525,
            null,
            0.03664774299318793,
            0.06421703965128427,
            null
           ],
           "y": [
            0,
            0.5,
            null,
            0.481676128503406,
            0.4992073320037643,
            null,
            0.481676128503406,
            0.4319835048195859,
            null
           ]
          },
          {
           "hoverinfo": "none",
           "line": {
            "color": "rgb(0, 0, 0)",
            "width": 2
           },
           "mode": "lines",
           "x": [
            0.9924242424242424,
            0.9924242424242424,
            null,
            0.9924242424242424,
            0.9742641841437802,
            null
           ],
           "y": [
            0,
            1,
            null,
            0.927536231884058,
            0.8639432926166397,
            null
           ]
          },
          {
           "hoverinfo": "none",
           "marker": {
            "color": "rgb(0, 0, 255)",
            "line": {
             "color": "rgb(0, 0, 0)",
             "width": 2
            },
            "size": 20
           },
           "mode": "markers+text",
           "text": [
            "0"
           ],
           "textfont": {
            "color": "rgb(255, 255, 255)"
           },
           "textposition": "middle center",
           "x": [
            0
           ],
           "y": [
            0.5
           ]
          },
          {
           "hoverinfo": "none",
           "marker": {
            "color": "rgb(255, 255, 255)",
            "line": {
             "color": "rgb(0, 0, 0)",
             "width": 2
            },
            "size": 20
           },
           "mode": "markers+text",
           "text": [
            "8"
           ],
           "textfont": {
            "color": "rgb(0, 0, 0)"
           },
           "textposition": "middle center",
           "x": [
            0.5
           ],
           "y": [
            1
           ]
          },
          {
           "hoverinfo": "none",
           "marker": {
            "color": "rgb(255, 255, 255)",
            "line": {
             "color": "rgb(0, 0, 0)",
             "width": 2
            },
            "size": 20
           },
           "mode": "markers+text",
           "text": [
            "13"
           ],
           "textfont": {
            "color": "rgb(0, 0, 0)"
           },
           "textposition": "middle center",
           "x": [
            1
           ],
           "y": [
            1
           ]
          },
          {
           "hoverinfo": "none",
           "marker": {
            "color": "rgb(0, 0, 255)",
            "line": {
             "color": "rgb(0, 0, 0)",
             "width": 2
            },
            "size": 20
           },
           "mode": "markers+text",
           "text": [
            "5"
           ],
           "textfont": {
            "color": "rgb(255, 255, 255)"
           },
           "textposition": "middle center",
           "x": [
            0.5
           ],
           "y": [
            0
           ]
          },
          {
           "hoverinfo": "none",
           "marker": {
            "color": "rgb(0, 0, 255)",
            "line": {
             "color": "rgb(0, 0, 0)",
             "width": 2
            },
            "size": 20
           },
           "mode": "markers+text",
           "text": [
            "7"
           ],
           "textfont": {
            "color": "rgb(255, 255, 255)"
           },
           "textposition": "middle center",
           "x": [
            1
           ],
           "y": [
            0
           ]
          }
         ],
         "name": 20
        },
        {
         "data": [
          {
           "hoverinfo": "none",
           "line": {
            "color": "rgb(0, 0, 0)",
            "width": 2
           },
           "mode": "lines",
           "x": [
            0,
            0.5,
            null,
            0.46643085439538495,
            0.44538388103556675,
            null,
            0.46643085439538495,
            0.4285584341548651,
            null
           ],
           "y": [
            0.5,
            1,
            null,
            0.966430854395385,
            0.906182816233176,
            null,
            0.966430854395385,
            0.967759498957256,
            null
           ]
          },
          {
           "hoverinfo": "none",
           "line": {
            "color": "rgb(0, 0, 0)",
            "width": 2
           },
           "mode": "lines",
           "x": [
            0,
            0.5,
            null,
            0.46643085439538495,
            0.4285584341548651,
            null,
            0.46643085439538495,
            0.44538388103556675,
            null
           ],
           "y": [
            0.5,
            0,
            null,
            0.03356914560461503,
            0.032240501042743994,
            null,
            0.03356914560461503,
            0.09381718376682407,
            null
           ]
          },
          {
           "hoverinfo": "none",
           "line": {
            "color": "rgb(0, 0, 0)",
            "width": 2
           },
           "mode": "lines",
           "x": [
            0.5,
            1,
            null,
            0.9621212121212122,
            0.9288794484132434,
            null,
            0.9621212121212122,
            0.9288794484132434,
            null
           ],
           "y": [
            1,
            1,
            null,
            1,
            0.9652590189417244,
            null,
            1,
            1.0347409810582755,
            null
           ]
          },
          {
           "hoverinfo": "none",
           "line": {
            "color": "rgb(0, 0, 0)",
            "width": 2
           },
           "mode": "lines",
           "x": [
            0.5075757575757576,
            0.5075757575757576,
            null,
            0.5075757575757576,
            0.5257358158562198,
            null
           ],
           "y": [
            1,
            0,
            null,
            0.07246376811594203,
            0.13605670738336034,
            null
           ]
          },
          {
           "hoverinfo": "none",
           "line": {
            "color": "rgb(0, 0, 0)",
            "width": 2
           },
           "mode": "lines",
           "x": [
            1.0075757575757576,
            1.0075757575757576,
            null,
            1.0075757575757576,
            1.0257358158562198,
            null
           ],
           "y": [
            1,
            0,
            null,
            0.07246376811594203,
            0.13605670738336034,
            null
           ]
          },
          {
           "hoverinfo": "none",
           "line": {
            "color": "rgb(0, 0, 0)",
            "width": 2
           },
           "mode": "lines",
           "x": [
            0.49242424242424243,
            0.49242424242424243,
            null,
            0.49242424242424243,
            0.4742641841437802,
            null
           ],
           "y": [
            0,
            1,
            null,
            0.927536231884058,
            0.8639432926166397,
            null
           ]
          },
          {
           "hoverinfo": "none",
           "line": {
            "color": "rgb(0, 0, 0)",
            "width": 2
           },
           "mode": "lines",
           "x": [
            0.5,
            1,
            null,
            0.9738173240163878,
            0.9639630823912474,
            null,
            0.9738173240163878,
            0.9377166459078401,
            null
           ],
           "y": [
            0,
            1,
            null,
            0.9476346480327754,
            0.8776659754484841,
            null,
            0.9476346480327754,
            0.9256934811496907,
            null
           ]
          },
          {
           "hoverinfo": "none",
           "line": {
            "color": "rgb(0, 0, 0)",
            "width": 2
           },
           "mode": "lines",
           "x": [
            0.5,
            1,
            null,
            0.9621212121212122,
            0.9288794484132434,
            null,
            0.9621212121212122,
            0.9288794484132434,
            null
           ],
           "y": [
            0,
            0,
            null,
            0,
            -0.03474098105827558,
            null,
            0,
            0.03474098105827558,
            null
           ]
          },
          {
           "hoverinfo": "none",
           "line": {
            "color": "rgb(0, 0, 0)",
            "width": 2
           },
           "mode": "lines",
           "x": [
            1,
            0,
            null,
            0.03664774299318793,
            0.07340128670201525,
            null,
            0.03664774299318793,
            0.06421703965128427,
            null
           ],
           "y": [
            0,
            0.5,
            null,
            0.481676128503406,
            0.4992073320037643,
            null,
            0.481676128503406,
            0.4319835048195859,
            null
           ]
          },
          {
           "hoverinfo": "none",
           "line": {
            "color": "rgb(0, 0, 0)",
            "width": 2
           },
           "mode": "lines",
           "x": [
            0.9924242424242424,
            0.9924242424242424,
            null,
            0.9924242424242424,
            0.9742641841437802,
            null
           ],
           "y": [
            0,
            1,
            null,
            0.927536231884058,
            0.8639432926166397,
            null
           ]
          },
          {
           "hoverinfo": "none",
           "marker": {
            "color": "rgb(0, 0, 255)",
            "line": {
             "color": "rgb(0, 0, 0)",
             "width": 2
            },
            "size": 20
           },
           "mode": "markers+text",
           "text": [
            "0"
           ],
           "textfont": {
            "color": "rgb(255, 255, 255)"
           },
           "textposition": "middle center",
           "x": [
            0
           ],
           "y": [
            0.5
           ]
          },
          {
           "hoverinfo": "none",
           "marker": {
            "color": "rgb(0, 255, 0)",
            "line": {
             "color": "rgb(0, 0, 0)",
             "width": 2
            },
            "size": 20
           },
           "mode": "markers+text",
           "text": [
            "8"
           ],
           "textfont": {
            "color": "rgb(0, 0, 0)"
           },
           "textposition": "middle center",
           "x": [
            0.5
           ],
           "y": [
            1
           ]
          },
          {
           "hoverinfo": "none",
           "marker": {
            "color": "rgb(255, 255, 255)",
            "line": {
             "color": "rgb(0, 0, 0)",
             "width": 2
            },
            "size": 20
           },
           "mode": "markers+text",
           "text": [
            "13"
           ],
           "textfont": {
            "color": "rgb(0, 0, 0)"
           },
           "textposition": "middle center",
           "x": [
            1
           ],
           "y": [
            1
           ]
          },
          {
           "hoverinfo": "none",
           "marker": {
            "color": "rgb(0, 0, 255)",
            "line": {
             "color": "rgb(0, 0, 0)",
             "width": 2
            },
            "size": 20
           },
           "mode": "markers+text",
           "text": [
            "5"
           ],
           "textfont": {
            "color": "rgb(255, 255, 255)"
           },
           "textposition": "middle center",
           "x": [
            0.5
           ],
           "y": [
            0
           ]
          },
          {
           "hoverinfo": "none",
           "marker": {
            "color": "rgb(0, 0, 255)",
            "line": {
             "color": "rgb(0, 0, 0)",
             "width": 2
            },
            "size": 20
           },
           "mode": "markers+text",
           "text": [
            "7"
           ],
           "textfont": {
            "color": "rgb(255, 255, 255)"
           },
           "textposition": "middle center",
           "x": [
            1
           ],
           "y": [
            0
           ]
          }
         ],
         "name": 21
        },
        {
         "data": [
          {
           "hoverinfo": "none",
           "line": {
            "color": "rgb(0, 0, 0)",
            "width": 2
           },
           "mode": "lines",
           "x": [
            0,
            0.5,
            null,
            0.46643085439538495,
            0.44538388103556675,
            null,
            0.46643085439538495,
            0.4285584341548651,
            null
           ],
           "y": [
            0.5,
            1,
            null,
            0.966430854395385,
            0.906182816233176,
            null,
            0.966430854395385,
            0.967759498957256,
            null
           ]
          },
          {
           "hoverinfo": "none",
           "line": {
            "color": "rgb(0, 0, 0)",
            "width": 2
           },
           "mode": "lines",
           "x": [
            0,
            0.5,
            null,
            0.46643085439538495,
            0.4285584341548651,
            null,
            0.46643085439538495,
            0.44538388103556675,
            null
           ],
           "y": [
            0.5,
            0,
            null,
            0.03356914560461503,
            0.032240501042743994,
            null,
            0.03356914560461503,
            0.09381718376682407,
            null
           ]
          },
          {
           "hoverinfo": "none",
           "line": {
            "color": "rgb(255, 0, 0)",
            "width": 2
           },
           "mode": "lines",
           "x": [
            0.5,
            1,
            null,
            0.9621212121212122,
            0.9288794484132434,
            null,
            0.9621212121212122,
            0.9288794484132434,
            null
           ],
           "y": [
            1,
            1,
            null,
            1,
            0.9652590189417244,
            null,
            1,
            1.0347409810582755,
            null
           ]
          },
          {
           "hoverinfo": "none",
           "line": {
            "color": "rgb(0, 0, 0)",
            "width": 2
           },
           "mode": "lines",
           "x": [
            0.5075757575757576,
            0.5075757575757576,
            null,
            0.5075757575757576,
            0.5257358158562198,
            null
           ],
           "y": [
            1,
            0,
            null,
            0.07246376811594203,
            0.13605670738336034,
            null
           ]
          },
          {
           "hoverinfo": "none",
           "line": {
            "color": "rgb(0, 0, 0)",
            "width": 2
           },
           "mode": "lines",
           "x": [
            1.0075757575757576,
            1.0075757575757576,
            null,
            1.0075757575757576,
            1.0257358158562198,
            null
           ],
           "y": [
            1,
            0,
            null,
            0.07246376811594203,
            0.13605670738336034,
            null
           ]
          },
          {
           "hoverinfo": "none",
           "line": {
            "color": "rgb(0, 0, 0)",
            "width": 2
           },
           "mode": "lines",
           "x": [
            0.49242424242424243,
            0.49242424242424243,
            null,
            0.49242424242424243,
            0.4742641841437802,
            null
           ],
           "y": [
            0,
            1,
            null,
            0.927536231884058,
            0.8639432926166397,
            null
           ]
          },
          {
           "hoverinfo": "none",
           "line": {
            "color": "rgb(0, 0, 0)",
            "width": 2
           },
           "mode": "lines",
           "x": [
            0.5,
            1,
            null,
            0.9738173240163878,
            0.9639630823912474,
            null,
            0.9738173240163878,
            0.9377166459078401,
            null
           ],
           "y": [
            0,
            1,
            null,
            0.9476346480327754,
            0.8776659754484841,
            null,
            0.9476346480327754,
            0.9256934811496907,
            null
           ]
          },
          {
           "hoverinfo": "none",
           "line": {
            "color": "rgb(0, 0, 0)",
            "width": 2
           },
           "mode": "lines",
           "x": [
            0.5,
            1,
            null,
            0.9621212121212122,
            0.9288794484132434,
            null,
            0.9621212121212122,
            0.9288794484132434,
            null
           ],
           "y": [
            0,
            0,
            null,
            0,
            -0.03474098105827558,
            null,
            0,
            0.03474098105827558,
            null
           ]
          },
          {
           "hoverinfo": "none",
           "line": {
            "color": "rgb(0, 0, 0)",
            "width": 2
           },
           "mode": "lines",
           "x": [
            1,
            0,
            null,
            0.03664774299318793,
            0.07340128670201525,
            null,
            0.03664774299318793,
            0.06421703965128427,
            null
           ],
           "y": [
            0,
            0.5,
            null,
            0.481676128503406,
            0.4992073320037643,
            null,
            0.481676128503406,
            0.4319835048195859,
            null
           ]
          },
          {
           "hoverinfo": "none",
           "line": {
            "color": "rgb(0, 0, 0)",
            "width": 2
           },
           "mode": "lines",
           "x": [
            0.9924242424242424,
            0.9924242424242424,
            null,
            0.9924242424242424,
            0.9742641841437802,
            null
           ],
           "y": [
            0,
            1,
            null,
            0.927536231884058,
            0.8639432926166397,
            null
           ]
          },
          {
           "hoverinfo": "none",
           "marker": {
            "color": "rgb(0, 0, 255)",
            "line": {
             "color": "rgb(0, 0, 0)",
             "width": 2
            },
            "size": 20
           },
           "mode": "markers+text",
           "text": [
            "0"
           ],
           "textfont": {
            "color": "rgb(255, 255, 255)"
           },
           "textposition": "middle center",
           "x": [
            0
           ],
           "y": [
            0.5
           ]
          },
          {
           "hoverinfo": "none",
           "marker": {
            "color": "rgb(0, 255, 0)",
            "line": {
             "color": "rgb(0, 0, 0)",
             "width": 2
            },
            "size": 20
           },
           "mode": "markers+text",
           "text": [
            "8"
           ],
           "textfont": {
            "color": "rgb(0, 0, 0)"
           },
           "textposition": "middle center",
           "x": [
            0.5
           ],
           "y": [
            1
           ]
          },
          {
           "hoverinfo": "none",
           "marker": {
            "color": "rgb(255, 255, 255)",
            "line": {
             "color": "rgb(0, 0, 0)",
             "width": 2
            },
            "size": 20
           },
           "mode": "markers+text",
           "text": [
            "13"
           ],
           "textfont": {
            "color": "rgb(0, 0, 0)"
           },
           "textposition": "middle center",
           "x": [
            1
           ],
           "y": [
            1
           ]
          },
          {
           "hoverinfo": "none",
           "marker": {
            "color": "rgb(0, 0, 255)",
            "line": {
             "color": "rgb(0, 0, 0)",
             "width": 2
            },
            "size": 20
           },
           "mode": "markers+text",
           "text": [
            "5"
           ],
           "textfont": {
            "color": "rgb(255, 255, 255)"
           },
           "textposition": "middle center",
           "x": [
            0.5
           ],
           "y": [
            0
           ]
          },
          {
           "hoverinfo": "none",
           "marker": {
            "color": "rgb(0, 0, 255)",
            "line": {
             "color": "rgb(0, 0, 0)",
             "width": 2
            },
            "size": 20
           },
           "mode": "markers+text",
           "text": [
            "7"
           ],
           "textfont": {
            "color": "rgb(255, 255, 255)"
           },
           "textposition": "middle center",
           "x": [
            1
           ],
           "y": [
            0
           ]
          }
         ],
         "name": 22
        },
        {
         "data": [
          {
           "hoverinfo": "none",
           "line": {
            "color": "rgb(0, 0, 0)",
            "width": 2
           },
           "mode": "lines",
           "x": [
            0,
            0.5,
            null,
            0.46643085439538495,
            0.44538388103556675,
            null,
            0.46643085439538495,
            0.4285584341548651,
            null
           ],
           "y": [
            0.5,
            1,
            null,
            0.966430854395385,
            0.906182816233176,
            null,
            0.966430854395385,
            0.967759498957256,
            null
           ]
          },
          {
           "hoverinfo": "none",
           "line": {
            "color": "rgb(0, 0, 0)",
            "width": 2
           },
           "mode": "lines",
           "x": [
            0,
            0.5,
            null,
            0.46643085439538495,
            0.4285584341548651,
            null,
            0.46643085439538495,
            0.44538388103556675,
            null
           ],
           "y": [
            0.5,
            0,
            null,
            0.03356914560461503,
            0.032240501042743994,
            null,
            0.03356914560461503,
            0.09381718376682407,
            null
           ]
          },
          {
           "hoverinfo": "none",
           "line": {
            "color": "rgb(0, 0, 0)",
            "width": 2
           },
           "mode": "lines",
           "x": [
            0.5,
            1,
            null,
            0.9621212121212122,
            0.9288794484132434,
            null,
            0.9621212121212122,
            0.9288794484132434,
            null
           ],
           "y": [
            1,
            1,
            null,
            1,
            0.9652590189417244,
            null,
            1,
            1.0347409810582755,
            null
           ]
          },
          {
           "hoverinfo": "none",
           "line": {
            "color": "rgb(0, 0, 0)",
            "width": 2
           },
           "mode": "lines",
           "x": [
            0.5075757575757576,
            0.5075757575757576,
            null,
            0.5075757575757576,
            0.5257358158562198,
            null
           ],
           "y": [
            1,
            0,
            null,
            0.07246376811594203,
            0.13605670738336034,
            null
           ]
          },
          {
           "hoverinfo": "none",
           "line": {
            "color": "rgb(0, 0, 0)",
            "width": 2
           },
           "mode": "lines",
           "x": [
            1.0075757575757576,
            1.0075757575757576,
            null,
            1.0075757575757576,
            1.0257358158562198,
            null
           ],
           "y": [
            1,
            0,
            null,
            0.07246376811594203,
            0.13605670738336034,
            null
           ]
          },
          {
           "hoverinfo": "none",
           "line": {
            "color": "rgb(0, 0, 0)",
            "width": 2
           },
           "mode": "lines",
           "x": [
            0.49242424242424243,
            0.49242424242424243,
            null,
            0.49242424242424243,
            0.4742641841437802,
            null
           ],
           "y": [
            0,
            1,
            null,
            0.927536231884058,
            0.8639432926166397,
            null
           ]
          },
          {
           "hoverinfo": "none",
           "line": {
            "color": "rgb(0, 0, 0)",
            "width": 2
           },
           "mode": "lines",
           "x": [
            0.5,
            1,
            null,
            0.9738173240163878,
            0.9639630823912474,
            null,
            0.9738173240163878,
            0.9377166459078401,
            null
           ],
           "y": [
            0,
            1,
            null,
            0.9476346480327754,
            0.8776659754484841,
            null,
            0.9476346480327754,
            0.9256934811496907,
            null
           ]
          },
          {
           "hoverinfo": "none",
           "line": {
            "color": "rgb(0, 0, 0)",
            "width": 2
           },
           "mode": "lines",
           "x": [
            0.5,
            1,
            null,
            0.9621212121212122,
            0.9288794484132434,
            null,
            0.9621212121212122,
            0.9288794484132434,
            null
           ],
           "y": [
            0,
            0,
            null,
            0,
            -0.03474098105827558,
            null,
            0,
            0.03474098105827558,
            null
           ]
          },
          {
           "hoverinfo": "none",
           "line": {
            "color": "rgb(0, 0, 0)",
            "width": 2
           },
           "mode": "lines",
           "x": [
            1,
            0,
            null,
            0.03664774299318793,
            0.07340128670201525,
            null,
            0.03664774299318793,
            0.06421703965128427,
            null
           ],
           "y": [
            0,
            0.5,
            null,
            0.481676128503406,
            0.4992073320037643,
            null,
            0.481676128503406,
            0.4319835048195859,
            null
           ]
          },
          {
           "hoverinfo": "none",
           "line": {
            "color": "rgb(0, 0, 0)",
            "width": 2
           },
           "mode": "lines",
           "x": [
            0.9924242424242424,
            0.9924242424242424,
            null,
            0.9924242424242424,
            0.9742641841437802,
            null
           ],
           "y": [
            0,
            1,
            null,
            0.927536231884058,
            0.8639432926166397,
            null
           ]
          },
          {
           "hoverinfo": "none",
           "marker": {
            "color": "rgb(0, 0, 255)",
            "line": {
             "color": "rgb(0, 0, 0)",
             "width": 2
            },
            "size": 20
           },
           "mode": "markers+text",
           "text": [
            "0"
           ],
           "textfont": {
            "color": "rgb(255, 255, 255)"
           },
           "textposition": "middle center",
           "x": [
            0
           ],
           "y": [
            0.5
           ]
          },
          {
           "hoverinfo": "none",
           "marker": {
            "color": "rgb(0, 255, 0)",
            "line": {
             "color": "rgb(0, 0, 0)",
             "width": 2
            },
            "size": 20
           },
           "mode": "markers+text",
           "text": [
            "8"
           ],
           "textfont": {
            "color": "rgb(0, 0, 0)"
           },
           "textposition": "middle center",
           "x": [
            0.5
           ],
           "y": [
            1
           ]
          },
          {
           "hoverinfo": "none",
           "marker": {
            "color": "rgb(255, 255, 255)",
            "line": {
             "color": "rgb(0, 0, 0)",
             "width": 2
            },
            "size": 20
           },
           "mode": "markers+text",
           "text": [
            "9"
           ],
           "textfont": {
            "color": "rgb(0, 0, 0)"
           },
           "textposition": "middle center",
           "x": [
            1
           ],
           "y": [
            1
           ]
          },
          {
           "hoverinfo": "none",
           "marker": {
            "color": "rgb(0, 0, 255)",
            "line": {
             "color": "rgb(0, 0, 0)",
             "width": 2
            },
            "size": 20
           },
           "mode": "markers+text",
           "text": [
            "5"
           ],
           "textfont": {
            "color": "rgb(255, 255, 255)"
           },
           "textposition": "middle center",
           "x": [
            0.5
           ],
           "y": [
            0
           ]
          },
          {
           "hoverinfo": "none",
           "marker": {
            "color": "rgb(0, 0, 255)",
            "line": {
             "color": "rgb(0, 0, 0)",
             "width": 2
            },
            "size": 20
           },
           "mode": "markers+text",
           "text": [
            "7"
           ],
           "textfont": {
            "color": "rgb(255, 255, 255)"
           },
           "textposition": "middle center",
           "x": [
            1
           ],
           "y": [
            0
           ]
          }
         ],
         "name": 23
        },
        {
         "data": [
          {
           "hoverinfo": "none",
           "line": {
            "color": "rgb(0, 0, 0)",
            "width": 2
           },
           "mode": "lines",
           "x": [
            0,
            0.5,
            null,
            0.46643085439538495,
            0.44538388103556675,
            null,
            0.46643085439538495,
            0.4285584341548651,
            null
           ],
           "y": [
            0.5,
            1,
            null,
            0.966430854395385,
            0.906182816233176,
            null,
            0.966430854395385,
            0.967759498957256,
            null
           ]
          },
          {
           "hoverinfo": "none",
           "line": {
            "color": "rgb(0, 0, 0)",
            "width": 2
           },
           "mode": "lines",
           "x": [
            0,
            0.5,
            null,
            0.46643085439538495,
            0.4285584341548651,
            null,
            0.46643085439538495,
            0.44538388103556675,
            null
           ],
           "y": [
            0.5,
            0,
            null,
            0.03356914560461503,
            0.032240501042743994,
            null,
            0.03356914560461503,
            0.09381718376682407,
            null
           ]
          },
          {
           "hoverinfo": "none",
           "line": {
            "color": "rgb(0, 0, 0)",
            "width": 2
           },
           "mode": "lines",
           "x": [
            0.5,
            1,
            null,
            0.9621212121212122,
            0.9288794484132434,
            null,
            0.9621212121212122,
            0.9288794484132434,
            null
           ],
           "y": [
            1,
            1,
            null,
            1,
            0.9652590189417244,
            null,
            1,
            1.0347409810582755,
            null
           ]
          },
          {
           "hoverinfo": "none",
           "line": {
            "color": "rgb(255, 0, 0)",
            "width": 2
           },
           "mode": "lines",
           "x": [
            0.5075757575757576,
            0.5075757575757576,
            null,
            0.5075757575757576,
            0.5257358158562198,
            null
           ],
           "y": [
            1,
            0,
            null,
            0.07246376811594203,
            0.13605670738336034,
            null
           ]
          },
          {
           "hoverinfo": "none",
           "line": {
            "color": "rgb(0, 0, 0)",
            "width": 2
           },
           "mode": "lines",
           "x": [
            1.0075757575757576,
            1.0075757575757576,
            null,
            1.0075757575757576,
            1.0257358158562198,
            null
           ],
           "y": [
            1,
            0,
            null,
            0.07246376811594203,
            0.13605670738336034,
            null
           ]
          },
          {
           "hoverinfo": "none",
           "line": {
            "color": "rgb(0, 0, 0)",
            "width": 2
           },
           "mode": "lines",
           "x": [
            0.49242424242424243,
            0.49242424242424243,
            null,
            0.49242424242424243,
            0.4742641841437802,
            null
           ],
           "y": [
            0,
            1,
            null,
            0.927536231884058,
            0.8639432926166397,
            null
           ]
          },
          {
           "hoverinfo": "none",
           "line": {
            "color": "rgb(0, 0, 0)",
            "width": 2
           },
           "mode": "lines",
           "x": [
            0.5,
            1,
            null,
            0.9738173240163878,
            0.9639630823912474,
            null,
            0.9738173240163878,
            0.9377166459078401,
            null
           ],
           "y": [
            0,
            1,
            null,
            0.9476346480327754,
            0.8776659754484841,
            null,
            0.9476346480327754,
            0.9256934811496907,
            null
           ]
          },
          {
           "hoverinfo": "none",
           "line": {
            "color": "rgb(0, 0, 0)",
            "width": 2
           },
           "mode": "lines",
           "x": [
            0.5,
            1,
            null,
            0.9621212121212122,
            0.9288794484132434,
            null,
            0.9621212121212122,
            0.9288794484132434,
            null
           ],
           "y": [
            0,
            0,
            null,
            0,
            -0.03474098105827558,
            null,
            0,
            0.03474098105827558,
            null
           ]
          },
          {
           "hoverinfo": "none",
           "line": {
            "color": "rgb(0, 0, 0)",
            "width": 2
           },
           "mode": "lines",
           "x": [
            1,
            0,
            null,
            0.03664774299318793,
            0.07340128670201525,
            null,
            0.03664774299318793,
            0.06421703965128427,
            null
           ],
           "y": [
            0,
            0.5,
            null,
            0.481676128503406,
            0.4992073320037643,
            null,
            0.481676128503406,
            0.4319835048195859,
            null
           ]
          },
          {
           "hoverinfo": "none",
           "line": {
            "color": "rgb(0, 0, 0)",
            "width": 2
           },
           "mode": "lines",
           "x": [
            0.9924242424242424,
            0.9924242424242424,
            null,
            0.9924242424242424,
            0.9742641841437802,
            null
           ],
           "y": [
            0,
            1,
            null,
            0.927536231884058,
            0.8639432926166397,
            null
           ]
          },
          {
           "hoverinfo": "none",
           "marker": {
            "color": "rgb(0, 0, 255)",
            "line": {
             "color": "rgb(0, 0, 0)",
             "width": 2
            },
            "size": 20
           },
           "mode": "markers+text",
           "text": [
            "0"
           ],
           "textfont": {
            "color": "rgb(255, 255, 255)"
           },
           "textposition": "middle center",
           "x": [
            0
           ],
           "y": [
            0.5
           ]
          },
          {
           "hoverinfo": "none",
           "marker": {
            "color": "rgb(0, 255, 0)",
            "line": {
             "color": "rgb(0, 0, 0)",
             "width": 2
            },
            "size": 20
           },
           "mode": "markers+text",
           "text": [
            "8"
           ],
           "textfont": {
            "color": "rgb(0, 0, 0)"
           },
           "textposition": "middle center",
           "x": [
            0.5
           ],
           "y": [
            1
           ]
          },
          {
           "hoverinfo": "none",
           "marker": {
            "color": "rgb(255, 255, 255)",
            "line": {
             "color": "rgb(0, 0, 0)",
             "width": 2
            },
            "size": 20
           },
           "mode": "markers+text",
           "text": [
            "9"
           ],
           "textfont": {
            "color": "rgb(0, 0, 0)"
           },
           "textposition": "middle center",
           "x": [
            1
           ],
           "y": [
            1
           ]
          },
          {
           "hoverinfo": "none",
           "marker": {
            "color": "rgb(0, 0, 255)",
            "line": {
             "color": "rgb(0, 0, 0)",
             "width": 2
            },
            "size": 20
           },
           "mode": "markers+text",
           "text": [
            "5"
           ],
           "textfont": {
            "color": "rgb(255, 255, 255)"
           },
           "textposition": "middle center",
           "x": [
            0.5
           ],
           "y": [
            0
           ]
          },
          {
           "hoverinfo": "none",
           "marker": {
            "color": "rgb(0, 0, 255)",
            "line": {
             "color": "rgb(0, 0, 0)",
             "width": 2
            },
            "size": 20
           },
           "mode": "markers+text",
           "text": [
            "7"
           ],
           "textfont": {
            "color": "rgb(255, 255, 255)"
           },
           "textposition": "middle center",
           "x": [
            1
           ],
           "y": [
            0
           ]
          }
         ],
         "name": 24
        },
        {
         "data": [
          {
           "hoverinfo": "none",
           "line": {
            "color": "rgb(0, 0, 0)",
            "width": 2
           },
           "mode": "lines",
           "x": [
            0,
            0.5,
            null,
            0.46643085439538495,
            0.44538388103556675,
            null,
            0.46643085439538495,
            0.4285584341548651,
            null
           ],
           "y": [
            0.5,
            1,
            null,
            0.966430854395385,
            0.906182816233176,
            null,
            0.966430854395385,
            0.967759498957256,
            null
           ]
          },
          {
           "hoverinfo": "none",
           "line": {
            "color": "rgb(0, 0, 0)",
            "width": 2
           },
           "mode": "lines",
           "x": [
            0,
            0.5,
            null,
            0.46643085439538495,
            0.4285584341548651,
            null,
            0.46643085439538495,
            0.44538388103556675,
            null
           ],
           "y": [
            0.5,
            0,
            null,
            0.03356914560461503,
            0.032240501042743994,
            null,
            0.03356914560461503,
            0.09381718376682407,
            null
           ]
          },
          {
           "hoverinfo": "none",
           "line": {
            "color": "rgb(0, 0, 0)",
            "width": 2
           },
           "mode": "lines",
           "x": [
            0.5,
            1,
            null,
            0.9621212121212122,
            0.9288794484132434,
            null,
            0.9621212121212122,
            0.9288794484132434,
            null
           ],
           "y": [
            1,
            1,
            null,
            1,
            0.9652590189417244,
            null,
            1,
            1.0347409810582755,
            null
           ]
          },
          {
           "hoverinfo": "none",
           "line": {
            "color": "rgb(0, 0, 0)",
            "width": 2
           },
           "mode": "lines",
           "x": [
            0.5075757575757576,
            0.5075757575757576,
            null,
            0.5075757575757576,
            0.5257358158562198,
            null
           ],
           "y": [
            1,
            0,
            null,
            0.07246376811594203,
            0.13605670738336034,
            null
           ]
          },
          {
           "hoverinfo": "none",
           "line": {
            "color": "rgb(0, 0, 0)",
            "width": 2
           },
           "mode": "lines",
           "x": [
            1.0075757575757576,
            1.0075757575757576,
            null,
            1.0075757575757576,
            1.0257358158562198,
            null
           ],
           "y": [
            1,
            0,
            null,
            0.07246376811594203,
            0.13605670738336034,
            null
           ]
          },
          {
           "hoverinfo": "none",
           "line": {
            "color": "rgb(0, 0, 0)",
            "width": 2
           },
           "mode": "lines",
           "x": [
            0.49242424242424243,
            0.49242424242424243,
            null,
            0.49242424242424243,
            0.4742641841437802,
            null
           ],
           "y": [
            0,
            1,
            null,
            0.927536231884058,
            0.8639432926166397,
            null
           ]
          },
          {
           "hoverinfo": "none",
           "line": {
            "color": "rgb(0, 0, 0)",
            "width": 2
           },
           "mode": "lines",
           "x": [
            0.5,
            1,
            null,
            0.9738173240163878,
            0.9639630823912474,
            null,
            0.9738173240163878,
            0.9377166459078401,
            null
           ],
           "y": [
            0,
            1,
            null,
            0.9476346480327754,
            0.8776659754484841,
            null,
            0.9476346480327754,
            0.9256934811496907,
            null
           ]
          },
          {
           "hoverinfo": "none",
           "line": {
            "color": "rgb(0, 0, 0)",
            "width": 2
           },
           "mode": "lines",
           "x": [
            0.5,
            1,
            null,
            0.9621212121212122,
            0.9288794484132434,
            null,
            0.9621212121212122,
            0.9288794484132434,
            null
           ],
           "y": [
            0,
            0,
            null,
            0,
            -0.03474098105827558,
            null,
            0,
            0.03474098105827558,
            null
           ]
          },
          {
           "hoverinfo": "none",
           "line": {
            "color": "rgb(0, 0, 0)",
            "width": 2
           },
           "mode": "lines",
           "x": [
            1,
            0,
            null,
            0.03664774299318793,
            0.07340128670201525,
            null,
            0.03664774299318793,
            0.06421703965128427,
            null
           ],
           "y": [
            0,
            0.5,
            null,
            0.481676128503406,
            0.4992073320037643,
            null,
            0.481676128503406,
            0.4319835048195859,
            null
           ]
          },
          {
           "hoverinfo": "none",
           "line": {
            "color": "rgb(0, 0, 0)",
            "width": 2
           },
           "mode": "lines",
           "x": [
            0.9924242424242424,
            0.9924242424242424,
            null,
            0.9924242424242424,
            0.9742641841437802,
            null
           ],
           "y": [
            0,
            1,
            null,
            0.927536231884058,
            0.8639432926166397,
            null
           ]
          },
          {
           "hoverinfo": "none",
           "marker": {
            "color": "rgb(0, 0, 255)",
            "line": {
             "color": "rgb(0, 0, 0)",
             "width": 2
            },
            "size": 20
           },
           "mode": "markers+text",
           "text": [
            "0"
           ],
           "textfont": {
            "color": "rgb(255, 255, 255)"
           },
           "textposition": "middle center",
           "x": [
            0
           ],
           "y": [
            0.5
           ]
          },
          {
           "hoverinfo": "none",
           "marker": {
            "color": "rgb(0, 255, 0)",
            "line": {
             "color": "rgb(0, 0, 0)",
             "width": 2
            },
            "size": 20
           },
           "mode": "markers+text",
           "text": [
            "8"
           ],
           "textfont": {
            "color": "rgb(0, 0, 0)"
           },
           "textposition": "middle center",
           "x": [
            0.5
           ],
           "y": [
            1
           ]
          },
          {
           "hoverinfo": "none",
           "marker": {
            "color": "rgb(255, 255, 255)",
            "line": {
             "color": "rgb(0, 0, 0)",
             "width": 2
            },
            "size": 20
           },
           "mode": "markers+text",
           "text": [
            "9"
           ],
           "textfont": {
            "color": "rgb(0, 0, 0)"
           },
           "textposition": "middle center",
           "x": [
            1
           ],
           "y": [
            1
           ]
          },
          {
           "hoverinfo": "none",
           "marker": {
            "color": "rgb(0, 0, 255)",
            "line": {
             "color": "rgb(0, 0, 0)",
             "width": 2
            },
            "size": 20
           },
           "mode": "markers+text",
           "text": [
            "5"
           ],
           "textfont": {
            "color": "rgb(255, 255, 255)"
           },
           "textposition": "middle center",
           "x": [
            0.5
           ],
           "y": [
            0
           ]
          },
          {
           "hoverinfo": "none",
           "marker": {
            "color": "rgb(0, 0, 255)",
            "line": {
             "color": "rgb(0, 0, 0)",
             "width": 2
            },
            "size": 20
           },
           "mode": "markers+text",
           "text": [
            "7"
           ],
           "textfont": {
            "color": "rgb(255, 255, 255)"
           },
           "textposition": "middle center",
           "x": [
            1
           ],
           "y": [
            0
           ]
          }
         ],
         "name": 25
        },
        {
         "data": [
          {
           "hoverinfo": "none",
           "line": {
            "color": "rgb(0, 0, 0)",
            "width": 2
           },
           "mode": "lines",
           "x": [
            0,
            0.5,
            null,
            0.46643085439538495,
            0.44538388103556675,
            null,
            0.46643085439538495,
            0.4285584341548651,
            null
           ],
           "y": [
            0.5,
            1,
            null,
            0.966430854395385,
            0.906182816233176,
            null,
            0.966430854395385,
            0.967759498957256,
            null
           ]
          },
          {
           "hoverinfo": "none",
           "line": {
            "color": "rgb(0, 0, 0)",
            "width": 2
           },
           "mode": "lines",
           "x": [
            0,
            0.5,
            null,
            0.46643085439538495,
            0.4285584341548651,
            null,
            0.46643085439538495,
            0.44538388103556675,
            null
           ],
           "y": [
            0.5,
            0,
            null,
            0.03356914560461503,
            0.032240501042743994,
            null,
            0.03356914560461503,
            0.09381718376682407,
            null
           ]
          },
          {
           "hoverinfo": "none",
           "line": {
            "color": "rgb(0, 0, 0)",
            "width": 2
           },
           "mode": "lines",
           "x": [
            0.5,
            1,
            null,
            0.9621212121212122,
            0.9288794484132434,
            null,
            0.9621212121212122,
            0.9288794484132434,
            null
           ],
           "y": [
            1,
            1,
            null,
            1,
            0.9652590189417244,
            null,
            1,
            1.0347409810582755,
            null
           ]
          },
          {
           "hoverinfo": "none",
           "line": {
            "color": "rgb(0, 0, 0)",
            "width": 2
           },
           "mode": "lines",
           "x": [
            0.5075757575757576,
            0.5075757575757576,
            null,
            0.5075757575757576,
            0.5257358158562198,
            null
           ],
           "y": [
            1,
            0,
            null,
            0.07246376811594203,
            0.13605670738336034,
            null
           ]
          },
          {
           "hoverinfo": "none",
           "line": {
            "color": "rgb(0, 0, 0)",
            "width": 2
           },
           "mode": "lines",
           "x": [
            1.0075757575757576,
            1.0075757575757576,
            null,
            1.0075757575757576,
            1.0257358158562198,
            null
           ],
           "y": [
            1,
            0,
            null,
            0.07246376811594203,
            0.13605670738336034,
            null
           ]
          },
          {
           "hoverinfo": "none",
           "line": {
            "color": "rgb(0, 0, 0)",
            "width": 2
           },
           "mode": "lines",
           "x": [
            0.49242424242424243,
            0.49242424242424243,
            null,
            0.49242424242424243,
            0.4742641841437802,
            null
           ],
           "y": [
            0,
            1,
            null,
            0.927536231884058,
            0.8639432926166397,
            null
           ]
          },
          {
           "hoverinfo": "none",
           "line": {
            "color": "rgb(0, 0, 0)",
            "width": 2
           },
           "mode": "lines",
           "x": [
            0.5,
            1,
            null,
            0.9738173240163878,
            0.9639630823912474,
            null,
            0.9738173240163878,
            0.9377166459078401,
            null
           ],
           "y": [
            0,
            1,
            null,
            0.9476346480327754,
            0.8776659754484841,
            null,
            0.9476346480327754,
            0.9256934811496907,
            null
           ]
          },
          {
           "hoverinfo": "none",
           "line": {
            "color": "rgb(0, 0, 0)",
            "width": 2
           },
           "mode": "lines",
           "x": [
            0.5,
            1,
            null,
            0.9621212121212122,
            0.9288794484132434,
            null,
            0.9621212121212122,
            0.9288794484132434,
            null
           ],
           "y": [
            0,
            0,
            null,
            0,
            -0.03474098105827558,
            null,
            0,
            0.03474098105827558,
            null
           ]
          },
          {
           "hoverinfo": "none",
           "line": {
            "color": "rgb(0, 0, 0)",
            "width": 2
           },
           "mode": "lines",
           "x": [
            1,
            0,
            null,
            0.03664774299318793,
            0.07340128670201525,
            null,
            0.03664774299318793,
            0.06421703965128427,
            null
           ],
           "y": [
            0,
            0.5,
            null,
            0.481676128503406,
            0.4992073320037643,
            null,
            0.481676128503406,
            0.4319835048195859,
            null
           ]
          },
          {
           "hoverinfo": "none",
           "line": {
            "color": "rgb(0, 0, 0)",
            "width": 2
           },
           "mode": "lines",
           "x": [
            0.9924242424242424,
            0.9924242424242424,
            null,
            0.9924242424242424,
            0.9742641841437802,
            null
           ],
           "y": [
            0,
            1,
            null,
            0.927536231884058,
            0.8639432926166397,
            null
           ]
          },
          {
           "hoverinfo": "none",
           "marker": {
            "color": "rgb(0, 0, 255)",
            "line": {
             "color": "rgb(0, 0, 0)",
             "width": 2
            },
            "size": 20
           },
           "mode": "markers+text",
           "text": [
            "0"
           ],
           "textfont": {
            "color": "rgb(255, 255, 255)"
           },
           "textposition": "middle center",
           "x": [
            0
           ],
           "y": [
            0.5
           ]
          },
          {
           "hoverinfo": "none",
           "marker": {
            "color": "rgb(0, 0, 255)",
            "line": {
             "color": "rgb(0, 0, 0)",
             "width": 2
            },
            "size": 20
           },
           "mode": "markers+text",
           "text": [
            "8"
           ],
           "textfont": {
            "color": "rgb(255, 255, 255)"
           },
           "textposition": "middle center",
           "x": [
            0.5
           ],
           "y": [
            1
           ]
          },
          {
           "hoverinfo": "none",
           "marker": {
            "color": "rgb(255, 255, 255)",
            "line": {
             "color": "rgb(0, 0, 0)",
             "width": 2
            },
            "size": 20
           },
           "mode": "markers+text",
           "text": [
            "9"
           ],
           "textfont": {
            "color": "rgb(0, 0, 0)"
           },
           "textposition": "middle center",
           "x": [
            1
           ],
           "y": [
            1
           ]
          },
          {
           "hoverinfo": "none",
           "marker": {
            "color": "rgb(0, 0, 255)",
            "line": {
             "color": "rgb(0, 0, 0)",
             "width": 2
            },
            "size": 20
           },
           "mode": "markers+text",
           "text": [
            "5"
           ],
           "textfont": {
            "color": "rgb(255, 255, 255)"
           },
           "textposition": "middle center",
           "x": [
            0.5
           ],
           "y": [
            0
           ]
          },
          {
           "hoverinfo": "none",
           "marker": {
            "color": "rgb(0, 0, 255)",
            "line": {
             "color": "rgb(0, 0, 0)",
             "width": 2
            },
            "size": 20
           },
           "mode": "markers+text",
           "text": [
            "7"
           ],
           "textfont": {
            "color": "rgb(255, 255, 255)"
           },
           "textposition": "middle center",
           "x": [
            1
           ],
           "y": [
            0
           ]
          }
         ],
         "name": 26
        },
        {
         "data": [
          {
           "hoverinfo": "none",
           "line": {
            "color": "rgb(0, 0, 0)",
            "width": 2
           },
           "mode": "lines",
           "x": [
            0,
            0.5,
            null,
            0.46643085439538495,
            0.44538388103556675,
            null,
            0.46643085439538495,
            0.4285584341548651,
            null
           ],
           "y": [
            0.5,
            1,
            null,
            0.966430854395385,
            0.906182816233176,
            null,
            0.966430854395385,
            0.967759498957256,
            null
           ]
          },
          {
           "hoverinfo": "none",
           "line": {
            "color": "rgb(0, 0, 0)",
            "width": 2
           },
           "mode": "lines",
           "x": [
            0,
            0.5,
            null,
            0.46643085439538495,
            0.4285584341548651,
            null,
            0.46643085439538495,
            0.44538388103556675,
            null
           ],
           "y": [
            0.5,
            0,
            null,
            0.03356914560461503,
            0.032240501042743994,
            null,
            0.03356914560461503,
            0.09381718376682407,
            null
           ]
          },
          {
           "hoverinfo": "none",
           "line": {
            "color": "rgb(0, 0, 0)",
            "width": 2
           },
           "mode": "lines",
           "x": [
            0.5,
            1,
            null,
            0.9621212121212122,
            0.9288794484132434,
            null,
            0.9621212121212122,
            0.9288794484132434,
            null
           ],
           "y": [
            1,
            1,
            null,
            1,
            0.9652590189417244,
            null,
            1,
            1.0347409810582755,
            null
           ]
          },
          {
           "hoverinfo": "none",
           "line": {
            "color": "rgb(0, 0, 0)",
            "width": 2
           },
           "mode": "lines",
           "x": [
            0.5075757575757576,
            0.5075757575757576,
            null,
            0.5075757575757576,
            0.5257358158562198,
            null
           ],
           "y": [
            1,
            0,
            null,
            0.07246376811594203,
            0.13605670738336034,
            null
           ]
          },
          {
           "hoverinfo": "none",
           "line": {
            "color": "rgb(0, 0, 0)",
            "width": 2
           },
           "mode": "lines",
           "x": [
            1.0075757575757576,
            1.0075757575757576,
            null,
            1.0075757575757576,
            1.0257358158562198,
            null
           ],
           "y": [
            1,
            0,
            null,
            0.07246376811594203,
            0.13605670738336034,
            null
           ]
          },
          {
           "hoverinfo": "none",
           "line": {
            "color": "rgb(0, 0, 0)",
            "width": 2
           },
           "mode": "lines",
           "x": [
            0.49242424242424243,
            0.49242424242424243,
            null,
            0.49242424242424243,
            0.4742641841437802,
            null
           ],
           "y": [
            0,
            1,
            null,
            0.927536231884058,
            0.8639432926166397,
            null
           ]
          },
          {
           "hoverinfo": "none",
           "line": {
            "color": "rgb(0, 0, 0)",
            "width": 2
           },
           "mode": "lines",
           "x": [
            0.5,
            1,
            null,
            0.9738173240163878,
            0.9639630823912474,
            null,
            0.9738173240163878,
            0.9377166459078401,
            null
           ],
           "y": [
            0,
            1,
            null,
            0.9476346480327754,
            0.8776659754484841,
            null,
            0.9476346480327754,
            0.9256934811496907,
            null
           ]
          },
          {
           "hoverinfo": "none",
           "line": {
            "color": "rgb(0, 0, 0)",
            "width": 2
           },
           "mode": "lines",
           "x": [
            0.5,
            1,
            null,
            0.9621212121212122,
            0.9288794484132434,
            null,
            0.9621212121212122,
            0.9288794484132434,
            null
           ],
           "y": [
            0,
            0,
            null,
            0,
            -0.03474098105827558,
            null,
            0,
            0.03474098105827558,
            null
           ]
          },
          {
           "hoverinfo": "none",
           "line": {
            "color": "rgb(0, 0, 0)",
            "width": 2
           },
           "mode": "lines",
           "x": [
            1,
            0,
            null,
            0.03664774299318793,
            0.07340128670201525,
            null,
            0.03664774299318793,
            0.06421703965128427,
            null
           ],
           "y": [
            0,
            0.5,
            null,
            0.481676128503406,
            0.4992073320037643,
            null,
            0.481676128503406,
            0.4319835048195859,
            null
           ]
          },
          {
           "hoverinfo": "none",
           "line": {
            "color": "rgb(0, 0, 0)",
            "width": 2
           },
           "mode": "lines",
           "x": [
            0.9924242424242424,
            0.9924242424242424,
            null,
            0.9924242424242424,
            0.9742641841437802,
            null
           ],
           "y": [
            0,
            1,
            null,
            0.927536231884058,
            0.8639432926166397,
            null
           ]
          },
          {
           "hoverinfo": "none",
           "marker": {
            "color": "rgb(0, 0, 255)",
            "line": {
             "color": "rgb(0, 0, 0)",
             "width": 2
            },
            "size": 20
           },
           "mode": "markers+text",
           "text": [
            "0"
           ],
           "textfont": {
            "color": "rgb(255, 255, 255)"
           },
           "textposition": "middle center",
           "x": [
            0
           ],
           "y": [
            0.5
           ]
          },
          {
           "hoverinfo": "none",
           "marker": {
            "color": "rgb(0, 0, 255)",
            "line": {
             "color": "rgb(0, 0, 0)",
             "width": 2
            },
            "size": 20
           },
           "mode": "markers+text",
           "text": [
            "8"
           ],
           "textfont": {
            "color": "rgb(255, 255, 255)"
           },
           "textposition": "middle center",
           "x": [
            0.5
           ],
           "y": [
            1
           ]
          },
          {
           "hoverinfo": "none",
           "marker": {
            "color": "rgb(0, 255, 0)",
            "line": {
             "color": "rgb(0, 0, 0)",
             "width": 2
            },
            "size": 20
           },
           "mode": "markers+text",
           "text": [
            "9"
           ],
           "textfont": {
            "color": "rgb(0, 0, 0)"
           },
           "textposition": "middle center",
           "x": [
            1
           ],
           "y": [
            1
           ]
          },
          {
           "hoverinfo": "none",
           "marker": {
            "color": "rgb(0, 0, 255)",
            "line": {
             "color": "rgb(0, 0, 0)",
             "width": 2
            },
            "size": 20
           },
           "mode": "markers+text",
           "text": [
            "5"
           ],
           "textfont": {
            "color": "rgb(255, 255, 255)"
           },
           "textposition": "middle center",
           "x": [
            0.5
           ],
           "y": [
            0
           ]
          },
          {
           "hoverinfo": "none",
           "marker": {
            "color": "rgb(0, 0, 255)",
            "line": {
             "color": "rgb(0, 0, 0)",
             "width": 2
            },
            "size": 20
           },
           "mode": "markers+text",
           "text": [
            "7"
           ],
           "textfont": {
            "color": "rgb(255, 255, 255)"
           },
           "textposition": "middle center",
           "x": [
            1
           ],
           "y": [
            0
           ]
          }
         ],
         "name": 27
        },
        {
         "data": [
          {
           "hoverinfo": "none",
           "line": {
            "color": "rgb(0, 0, 0)",
            "width": 2
           },
           "mode": "lines",
           "x": [
            0,
            0.5,
            null,
            0.46643085439538495,
            0.44538388103556675,
            null,
            0.46643085439538495,
            0.4285584341548651,
            null
           ],
           "y": [
            0.5,
            1,
            null,
            0.966430854395385,
            0.906182816233176,
            null,
            0.966430854395385,
            0.967759498957256,
            null
           ]
          },
          {
           "hoverinfo": "none",
           "line": {
            "color": "rgb(0, 0, 0)",
            "width": 2
           },
           "mode": "lines",
           "x": [
            0,
            0.5,
            null,
            0.46643085439538495,
            0.4285584341548651,
            null,
            0.46643085439538495,
            0.44538388103556675,
            null
           ],
           "y": [
            0.5,
            0,
            null,
            0.03356914560461503,
            0.032240501042743994,
            null,
            0.03356914560461503,
            0.09381718376682407,
            null
           ]
          },
          {
           "hoverinfo": "none",
           "line": {
            "color": "rgb(0, 0, 0)",
            "width": 2
           },
           "mode": "lines",
           "x": [
            0.5,
            1,
            null,
            0.9621212121212122,
            0.9288794484132434,
            null,
            0.9621212121212122,
            0.9288794484132434,
            null
           ],
           "y": [
            1,
            1,
            null,
            1,
            0.9652590189417244,
            null,
            1,
            1.0347409810582755,
            null
           ]
          },
          {
           "hoverinfo": "none",
           "line": {
            "color": "rgb(0, 0, 0)",
            "width": 2
           },
           "mode": "lines",
           "x": [
            0.5075757575757576,
            0.5075757575757576,
            null,
            0.5075757575757576,
            0.5257358158562198,
            null
           ],
           "y": [
            1,
            0,
            null,
            0.07246376811594203,
            0.13605670738336034,
            null
           ]
          },
          {
           "hoverinfo": "none",
           "line": {
            "color": "rgb(255, 0, 0)",
            "width": 2
           },
           "mode": "lines",
           "x": [
            1.0075757575757576,
            1.0075757575757576,
            null,
            1.0075757575757576,
            1.0257358158562198,
            null
           ],
           "y": [
            1,
            0,
            null,
            0.07246376811594203,
            0.13605670738336034,
            null
           ]
          },
          {
           "hoverinfo": "none",
           "line": {
            "color": "rgb(0, 0, 0)",
            "width": 2
           },
           "mode": "lines",
           "x": [
            0.49242424242424243,
            0.49242424242424243,
            null,
            0.49242424242424243,
            0.4742641841437802,
            null
           ],
           "y": [
            0,
            1,
            null,
            0.927536231884058,
            0.8639432926166397,
            null
           ]
          },
          {
           "hoverinfo": "none",
           "line": {
            "color": "rgb(0, 0, 0)",
            "width": 2
           },
           "mode": "lines",
           "x": [
            0.5,
            1,
            null,
            0.9738173240163878,
            0.9639630823912474,
            null,
            0.9738173240163878,
            0.9377166459078401,
            null
           ],
           "y": [
            0,
            1,
            null,
            0.9476346480327754,
            0.8776659754484841,
            null,
            0.9476346480327754,
            0.9256934811496907,
            null
           ]
          },
          {
           "hoverinfo": "none",
           "line": {
            "color": "rgb(0, 0, 0)",
            "width": 2
           },
           "mode": "lines",
           "x": [
            0.5,
            1,
            null,
            0.9621212121212122,
            0.9288794484132434,
            null,
            0.9621212121212122,
            0.9288794484132434,
            null
           ],
           "y": [
            0,
            0,
            null,
            0,
            -0.03474098105827558,
            null,
            0,
            0.03474098105827558,
            null
           ]
          },
          {
           "hoverinfo": "none",
           "line": {
            "color": "rgb(0, 0, 0)",
            "width": 2
           },
           "mode": "lines",
           "x": [
            1,
            0,
            null,
            0.03664774299318793,
            0.07340128670201525,
            null,
            0.03664774299318793,
            0.06421703965128427,
            null
           ],
           "y": [
            0,
            0.5,
            null,
            0.481676128503406,
            0.4992073320037643,
            null,
            0.481676128503406,
            0.4319835048195859,
            null
           ]
          },
          {
           "hoverinfo": "none",
           "line": {
            "color": "rgb(0, 0, 0)",
            "width": 2
           },
           "mode": "lines",
           "x": [
            0.9924242424242424,
            0.9924242424242424,
            null,
            0.9924242424242424,
            0.9742641841437802,
            null
           ],
           "y": [
            0,
            1,
            null,
            0.927536231884058,
            0.8639432926166397,
            null
           ]
          },
          {
           "hoverinfo": "none",
           "marker": {
            "color": "rgb(0, 0, 255)",
            "line": {
             "color": "rgb(0, 0, 0)",
             "width": 2
            },
            "size": 20
           },
           "mode": "markers+text",
           "text": [
            "0"
           ],
           "textfont": {
            "color": "rgb(255, 255, 255)"
           },
           "textposition": "middle center",
           "x": [
            0
           ],
           "y": [
            0.5
           ]
          },
          {
           "hoverinfo": "none",
           "marker": {
            "color": "rgb(0, 0, 255)",
            "line": {
             "color": "rgb(0, 0, 0)",
             "width": 2
            },
            "size": 20
           },
           "mode": "markers+text",
           "text": [
            "8"
           ],
           "textfont": {
            "color": "rgb(255, 255, 255)"
           },
           "textposition": "middle center",
           "x": [
            0.5
           ],
           "y": [
            1
           ]
          },
          {
           "hoverinfo": "none",
           "marker": {
            "color": "rgb(0, 255, 0)",
            "line": {
             "color": "rgb(0, 0, 0)",
             "width": 2
            },
            "size": 20
           },
           "mode": "markers+text",
           "text": [
            "9"
           ],
           "textfont": {
            "color": "rgb(0, 0, 0)"
           },
           "textposition": "middle center",
           "x": [
            1
           ],
           "y": [
            1
           ]
          },
          {
           "hoverinfo": "none",
           "marker": {
            "color": "rgb(0, 0, 255)",
            "line": {
             "color": "rgb(0, 0, 0)",
             "width": 2
            },
            "size": 20
           },
           "mode": "markers+text",
           "text": [
            "5"
           ],
           "textfont": {
            "color": "rgb(255, 255, 255)"
           },
           "textposition": "middle center",
           "x": [
            0.5
           ],
           "y": [
            0
           ]
          },
          {
           "hoverinfo": "none",
           "marker": {
            "color": "rgb(0, 0, 255)",
            "line": {
             "color": "rgb(0, 0, 0)",
             "width": 2
            },
            "size": 20
           },
           "mode": "markers+text",
           "text": [
            "7"
           ],
           "textfont": {
            "color": "rgb(255, 255, 255)"
           },
           "textposition": "middle center",
           "x": [
            1
           ],
           "y": [
            0
           ]
          }
         ],
         "name": 28
        },
        {
         "data": [
          {
           "hoverinfo": "none",
           "line": {
            "color": "rgb(0, 0, 0)",
            "width": 2
           },
           "mode": "lines",
           "x": [
            0,
            0.5,
            null,
            0.46643085439538495,
            0.44538388103556675,
            null,
            0.46643085439538495,
            0.4285584341548651,
            null
           ],
           "y": [
            0.5,
            1,
            null,
            0.966430854395385,
            0.906182816233176,
            null,
            0.966430854395385,
            0.967759498957256,
            null
           ]
          },
          {
           "hoverinfo": "none",
           "line": {
            "color": "rgb(0, 0, 0)",
            "width": 2
           },
           "mode": "lines",
           "x": [
            0,
            0.5,
            null,
            0.46643085439538495,
            0.4285584341548651,
            null,
            0.46643085439538495,
            0.44538388103556675,
            null
           ],
           "y": [
            0.5,
            0,
            null,
            0.03356914560461503,
            0.032240501042743994,
            null,
            0.03356914560461503,
            0.09381718376682407,
            null
           ]
          },
          {
           "hoverinfo": "none",
           "line": {
            "color": "rgb(0, 0, 0)",
            "width": 2
           },
           "mode": "lines",
           "x": [
            0.5,
            1,
            null,
            0.9621212121212122,
            0.9288794484132434,
            null,
            0.9621212121212122,
            0.9288794484132434,
            null
           ],
           "y": [
            1,
            1,
            null,
            1,
            0.9652590189417244,
            null,
            1,
            1.0347409810582755,
            null
           ]
          },
          {
           "hoverinfo": "none",
           "line": {
            "color": "rgb(0, 0, 0)",
            "width": 2
           },
           "mode": "lines",
           "x": [
            0.5075757575757576,
            0.5075757575757576,
            null,
            0.5075757575757576,
            0.5257358158562198,
            null
           ],
           "y": [
            1,
            0,
            null,
            0.07246376811594203,
            0.13605670738336034,
            null
           ]
          },
          {
           "hoverinfo": "none",
           "line": {
            "color": "rgb(0, 0, 0)",
            "width": 2
           },
           "mode": "lines",
           "x": [
            1.0075757575757576,
            1.0075757575757576,
            null,
            1.0075757575757576,
            1.0257358158562198,
            null
           ],
           "y": [
            1,
            0,
            null,
            0.07246376811594203,
            0.13605670738336034,
            null
           ]
          },
          {
           "hoverinfo": "none",
           "line": {
            "color": "rgb(0, 0, 0)",
            "width": 2
           },
           "mode": "lines",
           "x": [
            0.49242424242424243,
            0.49242424242424243,
            null,
            0.49242424242424243,
            0.4742641841437802,
            null
           ],
           "y": [
            0,
            1,
            null,
            0.927536231884058,
            0.8639432926166397,
            null
           ]
          },
          {
           "hoverinfo": "none",
           "line": {
            "color": "rgb(0, 0, 0)",
            "width": 2
           },
           "mode": "lines",
           "x": [
            0.5,
            1,
            null,
            0.9738173240163878,
            0.9639630823912474,
            null,
            0.9738173240163878,
            0.9377166459078401,
            null
           ],
           "y": [
            0,
            1,
            null,
            0.9476346480327754,
            0.8776659754484841,
            null,
            0.9476346480327754,
            0.9256934811496907,
            null
           ]
          },
          {
           "hoverinfo": "none",
           "line": {
            "color": "rgb(0, 0, 0)",
            "width": 2
           },
           "mode": "lines",
           "x": [
            0.5,
            1,
            null,
            0.9621212121212122,
            0.9288794484132434,
            null,
            0.9621212121212122,
            0.9288794484132434,
            null
           ],
           "y": [
            0,
            0,
            null,
            0,
            -0.03474098105827558,
            null,
            0,
            0.03474098105827558,
            null
           ]
          },
          {
           "hoverinfo": "none",
           "line": {
            "color": "rgb(0, 0, 0)",
            "width": 2
           },
           "mode": "lines",
           "x": [
            1,
            0,
            null,
            0.03664774299318793,
            0.07340128670201525,
            null,
            0.03664774299318793,
            0.06421703965128427,
            null
           ],
           "y": [
            0,
            0.5,
            null,
            0.481676128503406,
            0.4992073320037643,
            null,
            0.481676128503406,
            0.4319835048195859,
            null
           ]
          },
          {
           "hoverinfo": "none",
           "line": {
            "color": "rgb(0, 0, 0)",
            "width": 2
           },
           "mode": "lines",
           "x": [
            0.9924242424242424,
            0.9924242424242424,
            null,
            0.9924242424242424,
            0.9742641841437802,
            null
           ],
           "y": [
            0,
            1,
            null,
            0.927536231884058,
            0.8639432926166397,
            null
           ]
          },
          {
           "hoverinfo": "none",
           "marker": {
            "color": "rgb(0, 0, 255)",
            "line": {
             "color": "rgb(0, 0, 0)",
             "width": 2
            },
            "size": 20
           },
           "mode": "markers+text",
           "text": [
            "0"
           ],
           "textfont": {
            "color": "rgb(255, 255, 255)"
           },
           "textposition": "middle center",
           "x": [
            0
           ],
           "y": [
            0.5
           ]
          },
          {
           "hoverinfo": "none",
           "marker": {
            "color": "rgb(0, 0, 255)",
            "line": {
             "color": "rgb(0, 0, 0)",
             "width": 2
            },
            "size": 20
           },
           "mode": "markers+text",
           "text": [
            "8"
           ],
           "textfont": {
            "color": "rgb(255, 255, 255)"
           },
           "textposition": "middle center",
           "x": [
            0.5
           ],
           "y": [
            1
           ]
          },
          {
           "hoverinfo": "none",
           "marker": {
            "color": "rgb(0, 255, 0)",
            "line": {
             "color": "rgb(0, 0, 0)",
             "width": 2
            },
            "size": 20
           },
           "mode": "markers+text",
           "text": [
            "9"
           ],
           "textfont": {
            "color": "rgb(0, 0, 0)"
           },
           "textposition": "middle center",
           "x": [
            1
           ],
           "y": [
            1
           ]
          },
          {
           "hoverinfo": "none",
           "marker": {
            "color": "rgb(0, 0, 255)",
            "line": {
             "color": "rgb(0, 0, 0)",
             "width": 2
            },
            "size": 20
           },
           "mode": "markers+text",
           "text": [
            "5"
           ],
           "textfont": {
            "color": "rgb(255, 255, 255)"
           },
           "textposition": "middle center",
           "x": [
            0.5
           ],
           "y": [
            0
           ]
          },
          {
           "hoverinfo": "none",
           "marker": {
            "color": "rgb(0, 0, 255)",
            "line": {
             "color": "rgb(0, 0, 0)",
             "width": 2
            },
            "size": 20
           },
           "mode": "markers+text",
           "text": [
            "7"
           ],
           "textfont": {
            "color": "rgb(255, 255, 255)"
           },
           "textposition": "middle center",
           "x": [
            1
           ],
           "y": [
            0
           ]
          }
         ],
         "name": 29
        },
        {
         "data": [
          {
           "hoverinfo": "none",
           "line": {
            "color": "rgb(0, 0, 0)",
            "width": 2
           },
           "mode": "lines",
           "x": [
            0,
            0.5,
            null,
            0.46643085439538495,
            0.44538388103556675,
            null,
            0.46643085439538495,
            0.4285584341548651,
            null
           ],
           "y": [
            0.5,
            1,
            null,
            0.966430854395385,
            0.906182816233176,
            null,
            0.966430854395385,
            0.967759498957256,
            null
           ]
          },
          {
           "hoverinfo": "none",
           "line": {
            "color": "rgb(0, 0, 0)",
            "width": 2
           },
           "mode": "lines",
           "x": [
            0,
            0.5,
            null,
            0.46643085439538495,
            0.4285584341548651,
            null,
            0.46643085439538495,
            0.44538388103556675,
            null
           ],
           "y": [
            0.5,
            0,
            null,
            0.03356914560461503,
            0.032240501042743994,
            null,
            0.03356914560461503,
            0.09381718376682407,
            null
           ]
          },
          {
           "hoverinfo": "none",
           "line": {
            "color": "rgb(0, 0, 0)",
            "width": 2
           },
           "mode": "lines",
           "x": [
            0.5,
            1,
            null,
            0.9621212121212122,
            0.9288794484132434,
            null,
            0.9621212121212122,
            0.9288794484132434,
            null
           ],
           "y": [
            1,
            1,
            null,
            1,
            0.9652590189417244,
            null,
            1,
            1.0347409810582755,
            null
           ]
          },
          {
           "hoverinfo": "none",
           "line": {
            "color": "rgb(0, 0, 0)",
            "width": 2
           },
           "mode": "lines",
           "x": [
            0.5075757575757576,
            0.5075757575757576,
            null,
            0.5075757575757576,
            0.5257358158562198,
            null
           ],
           "y": [
            1,
            0,
            null,
            0.07246376811594203,
            0.13605670738336034,
            null
           ]
          },
          {
           "hoverinfo": "none",
           "line": {
            "color": "rgb(0, 0, 0)",
            "width": 2
           },
           "mode": "lines",
           "x": [
            1.0075757575757576,
            1.0075757575757576,
            null,
            1.0075757575757576,
            1.0257358158562198,
            null
           ],
           "y": [
            1,
            0,
            null,
            0.07246376811594203,
            0.13605670738336034,
            null
           ]
          },
          {
           "hoverinfo": "none",
           "line": {
            "color": "rgb(0, 0, 0)",
            "width": 2
           },
           "mode": "lines",
           "x": [
            0.49242424242424243,
            0.49242424242424243,
            null,
            0.49242424242424243,
            0.4742641841437802,
            null
           ],
           "y": [
            0,
            1,
            null,
            0.927536231884058,
            0.8639432926166397,
            null
           ]
          },
          {
           "hoverinfo": "none",
           "line": {
            "color": "rgb(0, 0, 0)",
            "width": 2
           },
           "mode": "lines",
           "x": [
            0.5,
            1,
            null,
            0.9738173240163878,
            0.9639630823912474,
            null,
            0.9738173240163878,
            0.9377166459078401,
            null
           ],
           "y": [
            0,
            1,
            null,
            0.9476346480327754,
            0.8776659754484841,
            null,
            0.9476346480327754,
            0.9256934811496907,
            null
           ]
          },
          {
           "hoverinfo": "none",
           "line": {
            "color": "rgb(0, 0, 0)",
            "width": 2
           },
           "mode": "lines",
           "x": [
            0.5,
            1,
            null,
            0.9621212121212122,
            0.9288794484132434,
            null,
            0.9621212121212122,
            0.9288794484132434,
            null
           ],
           "y": [
            0,
            0,
            null,
            0,
            -0.03474098105827558,
            null,
            0,
            0.03474098105827558,
            null
           ]
          },
          {
           "hoverinfo": "none",
           "line": {
            "color": "rgb(0, 0, 0)",
            "width": 2
           },
           "mode": "lines",
           "x": [
            1,
            0,
            null,
            0.03664774299318793,
            0.07340128670201525,
            null,
            0.03664774299318793,
            0.06421703965128427,
            null
           ],
           "y": [
            0,
            0.5,
            null,
            0.481676128503406,
            0.4992073320037643,
            null,
            0.481676128503406,
            0.4319835048195859,
            null
           ]
          },
          {
           "hoverinfo": "none",
           "line": {
            "color": "rgb(0, 0, 0)",
            "width": 2
           },
           "mode": "lines",
           "x": [
            0.9924242424242424,
            0.9924242424242424,
            null,
            0.9924242424242424,
            0.9742641841437802,
            null
           ],
           "y": [
            0,
            1,
            null,
            0.927536231884058,
            0.8639432926166397,
            null
           ]
          },
          {
           "hoverinfo": "none",
           "marker": {
            "color": "rgb(0, 0, 255)",
            "line": {
             "color": "rgb(0, 0, 0)",
             "width": 2
            },
            "size": 20
           },
           "mode": "markers+text",
           "text": [
            "0"
           ],
           "textfont": {
            "color": "rgb(255, 255, 255)"
           },
           "textposition": "middle center",
           "x": [
            0
           ],
           "y": [
            0.5
           ]
          },
          {
           "hoverinfo": "none",
           "marker": {
            "color": "rgb(0, 0, 255)",
            "line": {
             "color": "rgb(0, 0, 0)",
             "width": 2
            },
            "size": 20
           },
           "mode": "markers+text",
           "text": [
            "8"
           ],
           "textfont": {
            "color": "rgb(255, 255, 255)"
           },
           "textposition": "middle center",
           "x": [
            0.5
           ],
           "y": [
            1
           ]
          },
          {
           "hoverinfo": "none",
           "marker": {
            "color": "rgb(0, 0, 255)",
            "line": {
             "color": "rgb(0, 0, 0)",
             "width": 2
            },
            "size": 20
           },
           "mode": "markers+text",
           "text": [
            "9"
           ],
           "textfont": {
            "color": "rgb(255, 255, 255)"
           },
           "textposition": "middle center",
           "x": [
            1
           ],
           "y": [
            1
           ]
          },
          {
           "hoverinfo": "none",
           "marker": {
            "color": "rgb(0, 0, 255)",
            "line": {
             "color": "rgb(0, 0, 0)",
             "width": 2
            },
            "size": 20
           },
           "mode": "markers+text",
           "text": [
            "5"
           ],
           "textfont": {
            "color": "rgb(255, 255, 255)"
           },
           "textposition": "middle center",
           "x": [
            0.5
           ],
           "y": [
            0
           ]
          },
          {
           "hoverinfo": "none",
           "marker": {
            "color": "rgb(0, 0, 255)",
            "line": {
             "color": "rgb(0, 0, 0)",
             "width": 2
            },
            "size": 20
           },
           "mode": "markers+text",
           "text": [
            "7"
           ],
           "textfont": {
            "color": "rgb(255, 255, 255)"
           },
           "textposition": "middle center",
           "x": [
            1
           ],
           "y": [
            0
           ]
          }
         ],
         "name": 30
        },
        {
         "data": [
          {
           "hoverinfo": "none",
           "line": {
            "color": "rgb(0, 0, 0)",
            "width": 2
           },
           "mode": "lines",
           "x": [
            0,
            0.5,
            null,
            0.46643085439538495,
            0.44538388103556675,
            null,
            0.46643085439538495,
            0.4285584341548651,
            null
           ],
           "y": [
            0.5,
            1,
            null,
            0.966430854395385,
            0.906182816233176,
            null,
            0.966430854395385,
            0.967759498957256,
            null
           ]
          },
          {
           "hoverinfo": "none",
           "line": {
            "color": "rgb(0, 0, 0)",
            "width": 2
           },
           "mode": "lines",
           "x": [
            0,
            0.5,
            null,
            0.46643085439538495,
            0.4285584341548651,
            null,
            0.46643085439538495,
            0.44538388103556675,
            null
           ],
           "y": [
            0.5,
            0,
            null,
            0.03356914560461503,
            0.032240501042743994,
            null,
            0.03356914560461503,
            0.09381718376682407,
            null
           ]
          },
          {
           "hoverinfo": "none",
           "line": {
            "color": "rgb(0, 0, 0)",
            "width": 2
           },
           "mode": "lines",
           "x": [
            0.5,
            1,
            null,
            0.9621212121212122,
            0.9288794484132434,
            null,
            0.9621212121212122,
            0.9288794484132434,
            null
           ],
           "y": [
            1,
            1,
            null,
            1,
            0.9652590189417244,
            null,
            1,
            1.0347409810582755,
            null
           ]
          },
          {
           "hoverinfo": "none",
           "line": {
            "color": "rgb(0, 0, 0)",
            "width": 2
           },
           "mode": "lines",
           "x": [
            0.5075757575757576,
            0.5075757575757576,
            null,
            0.5075757575757576,
            0.5257358158562198,
            null
           ],
           "y": [
            1,
            0,
            null,
            0.07246376811594203,
            0.13605670738336034,
            null
           ]
          },
          {
           "hoverinfo": "none",
           "line": {
            "color": "rgb(0, 0, 0)",
            "width": 2
           },
           "mode": "lines",
           "x": [
            1.0075757575757576,
            1.0075757575757576,
            null,
            1.0075757575757576,
            1.0257358158562198,
            null
           ],
           "y": [
            1,
            0,
            null,
            0.07246376811594203,
            0.13605670738336034,
            null
           ]
          },
          {
           "hoverinfo": "none",
           "line": {
            "color": "rgb(0, 0, 0)",
            "width": 2
           },
           "mode": "lines",
           "x": [
            0.49242424242424243,
            0.49242424242424243,
            null,
            0.49242424242424243,
            0.4742641841437802,
            null
           ],
           "y": [
            0,
            1,
            null,
            0.927536231884058,
            0.8639432926166397,
            null
           ]
          },
          {
           "hoverinfo": "none",
           "line": {
            "color": "rgb(0, 0, 0)",
            "width": 2
           },
           "mode": "lines",
           "x": [
            0.5,
            1,
            null,
            0.9738173240163878,
            0.9639630823912474,
            null,
            0.9738173240163878,
            0.9377166459078401,
            null
           ],
           "y": [
            0,
            1,
            null,
            0.9476346480327754,
            0.8776659754484841,
            null,
            0.9476346480327754,
            0.9256934811496907,
            null
           ]
          },
          {
           "hoverinfo": "none",
           "line": {
            "color": "rgb(0, 0, 0)",
            "width": 2
           },
           "mode": "lines",
           "x": [
            0.5,
            1,
            null,
            0.9621212121212122,
            0.9288794484132434,
            null,
            0.9621212121212122,
            0.9288794484132434,
            null
           ],
           "y": [
            0,
            0,
            null,
            0,
            -0.03474098105827558,
            null,
            0,
            0.03474098105827558,
            null
           ]
          },
          {
           "hoverinfo": "none",
           "line": {
            "color": "rgb(0, 0, 0)",
            "width": 2
           },
           "mode": "lines",
           "x": [
            1,
            0,
            null,
            0.03664774299318793,
            0.07340128670201525,
            null,
            0.03664774299318793,
            0.06421703965128427,
            null
           ],
           "y": [
            0,
            0.5,
            null,
            0.481676128503406,
            0.4992073320037643,
            null,
            0.481676128503406,
            0.4319835048195859,
            null
           ]
          },
          {
           "hoverinfo": "none",
           "line": {
            "color": "rgb(0, 0, 0)",
            "width": 2
           },
           "mode": "lines",
           "x": [
            0.9924242424242424,
            0.9924242424242424,
            null,
            0.9924242424242424,
            0.9742641841437802,
            null
           ],
           "y": [
            0,
            1,
            null,
            0.927536231884058,
            0.8639432926166397,
            null
           ]
          },
          {
           "hoverinfo": "none",
           "marker": {
            "color": "rgb(0, 0, 255)",
            "line": {
             "color": "rgb(0, 0, 0)",
             "width": 2
            },
            "size": 20
           },
           "mode": "markers+text",
           "text": [
            "0"
           ],
           "textfont": {
            "color": "rgb(255, 255, 255)"
           },
           "textposition": "middle center",
           "x": [
            0
           ],
           "y": [
            0.5
           ]
          },
          {
           "hoverinfo": "none",
           "marker": {
            "color": "rgb(0, 0, 255)",
            "line": {
             "color": "rgb(0, 0, 0)",
             "width": 2
            },
            "size": 20
           },
           "mode": "markers+text",
           "text": [
            "8"
           ],
           "textfont": {
            "color": "rgb(255, 255, 255)"
           },
           "textposition": "middle center",
           "x": [
            0.5
           ],
           "y": [
            1
           ]
          },
          {
           "hoverinfo": "none",
           "marker": {
            "color": "rgb(0, 0, 255)",
            "line": {
             "color": "rgb(0, 0, 0)",
             "width": 2
            },
            "size": 20
           },
           "mode": "markers+text",
           "text": [
            "9"
           ],
           "textfont": {
            "color": "rgb(255, 255, 255)"
           },
           "textposition": "middle center",
           "x": [
            1
           ],
           "y": [
            1
           ]
          },
          {
           "hoverinfo": "none",
           "marker": {
            "color": "rgb(0, 0, 255)",
            "line": {
             "color": "rgb(0, 0, 0)",
             "width": 2
            },
            "size": 20
           },
           "mode": "markers+text",
           "text": [
            "5"
           ],
           "textfont": {
            "color": "rgb(255, 255, 255)"
           },
           "textposition": "middle center",
           "x": [
            0.5
           ],
           "y": [
            0
           ]
          },
          {
           "hoverinfo": "none",
           "marker": {
            "color": "rgb(0, 0, 255)",
            "line": {
             "color": "rgb(0, 0, 0)",
             "width": 2
            },
            "size": 20
           },
           "mode": "markers+text",
           "text": [
            "7"
           ],
           "textfont": {
            "color": "rgb(255, 255, 255)"
           },
           "textposition": "middle center",
           "x": [
            1
           ],
           "y": [
            0
           ]
          }
         ],
         "name": 31
        },
        {
         "data": [
          {
           "hoverinfo": "none",
           "line": {
            "color": "rgb(0, 0, 0)",
            "width": 2
           },
           "mode": "lines",
           "x": [
            0,
            0.5,
            null,
            0.46643085439538495,
            0.44538388103556675,
            null,
            0.46643085439538495,
            0.4285584341548651,
            null
           ],
           "y": [
            0.5,
            1,
            null,
            0.966430854395385,
            0.906182816233176,
            null,
            0.966430854395385,
            0.967759498957256,
            null
           ]
          },
          {
           "hoverinfo": "none",
           "line": {
            "color": "rgb(0, 0, 0)",
            "width": 2
           },
           "mode": "lines",
           "x": [
            0,
            0.5,
            null,
            0.46643085439538495,
            0.4285584341548651,
            null,
            0.46643085439538495,
            0.44538388103556675,
            null
           ],
           "y": [
            0.5,
            0,
            null,
            0.03356914560461503,
            0.032240501042743994,
            null,
            0.03356914560461503,
            0.09381718376682407,
            null
           ]
          },
          {
           "hoverinfo": "none",
           "line": {
            "color": "rgb(0, 0, 0)",
            "width": 2
           },
           "mode": "lines",
           "x": [
            0.5,
            1,
            null,
            0.9621212121212122,
            0.9288794484132434,
            null,
            0.9621212121212122,
            0.9288794484132434,
            null
           ],
           "y": [
            1,
            1,
            null,
            1,
            0.9652590189417244,
            null,
            1,
            1.0347409810582755,
            null
           ]
          },
          {
           "hoverinfo": "none",
           "line": {
            "color": "rgb(0, 0, 0)",
            "width": 2
           },
           "mode": "lines",
           "x": [
            0.5075757575757576,
            0.5075757575757576,
            null,
            0.5075757575757576,
            0.5257358158562198,
            null
           ],
           "y": [
            1,
            0,
            null,
            0.07246376811594203,
            0.13605670738336034,
            null
           ]
          },
          {
           "hoverinfo": "none",
           "line": {
            "color": "rgb(0, 0, 0)",
            "width": 2
           },
           "mode": "lines",
           "x": [
            1.0075757575757576,
            1.0075757575757576,
            null,
            1.0075757575757576,
            1.0257358158562198,
            null
           ],
           "y": [
            1,
            0,
            null,
            0.07246376811594203,
            0.13605670738336034,
            null
           ]
          },
          {
           "hoverinfo": "none",
           "line": {
            "color": "rgb(0, 0, 0)",
            "width": 2
           },
           "mode": "lines",
           "x": [
            0.49242424242424243,
            0.49242424242424243,
            null,
            0.49242424242424243,
            0.4742641841437802,
            null
           ],
           "y": [
            0,
            1,
            null,
            0.927536231884058,
            0.8639432926166397,
            null
           ]
          },
          {
           "hoverinfo": "none",
           "line": {
            "color": "rgb(0, 0, 0)",
            "width": 2
           },
           "mode": "lines",
           "x": [
            0.5,
            1,
            null,
            0.9738173240163878,
            0.9639630823912474,
            null,
            0.9738173240163878,
            0.9377166459078401,
            null
           ],
           "y": [
            0,
            1,
            null,
            0.9476346480327754,
            0.8776659754484841,
            null,
            0.9476346480327754,
            0.9256934811496907,
            null
           ]
          },
          {
           "hoverinfo": "none",
           "line": {
            "color": "rgb(0, 0, 0)",
            "width": 2
           },
           "mode": "lines",
           "x": [
            0.5,
            1,
            null,
            0.9621212121212122,
            0.9288794484132434,
            null,
            0.9621212121212122,
            0.9288794484132434,
            null
           ],
           "y": [
            0,
            0,
            null,
            0,
            -0.03474098105827558,
            null,
            0,
            0.03474098105827558,
            null
           ]
          },
          {
           "hoverinfo": "none",
           "line": {
            "color": "rgb(0, 0, 0)",
            "width": 2
           },
           "mode": "lines",
           "x": [
            1,
            0,
            null,
            0.03664774299318793,
            0.07340128670201525,
            null,
            0.03664774299318793,
            0.06421703965128427,
            null
           ],
           "y": [
            0,
            0.5,
            null,
            0.481676128503406,
            0.4992073320037643,
            null,
            0.481676128503406,
            0.4319835048195859,
            null
           ]
          },
          {
           "hoverinfo": "none",
           "line": {
            "color": "rgb(0, 0, 0)",
            "width": 2
           },
           "mode": "lines",
           "x": [
            0.9924242424242424,
            0.9924242424242424,
            null,
            0.9924242424242424,
            0.9742641841437802,
            null
           ],
           "y": [
            0,
            1,
            null,
            0.927536231884058,
            0.8639432926166397,
            null
           ]
          },
          {
           "hoverinfo": "none",
           "marker": {
            "color": "rgb(255, 255, 255)",
            "line": {
             "color": "rgb(0, 0, 0)",
             "width": 2
            },
            "size": 20
           },
           "mode": "markers+text",
           "text": [
            "0"
           ],
           "textfont": {
            "color": "rgb(0, 0, 0)"
           },
           "textposition": "middle center",
           "x": [
            0
           ],
           "y": [
            0.5
           ]
          },
          {
           "hoverinfo": "none",
           "marker": {
            "color": "rgb(255, 255, 255)",
            "line": {
             "color": "rgb(0, 0, 0)",
             "width": 2
            },
            "size": 20
           },
           "mode": "markers+text",
           "text": [
            "8"
           ],
           "textfont": {
            "color": "rgb(0, 0, 0)"
           },
           "textposition": "middle center",
           "x": [
            0.5
           ],
           "y": [
            1
           ]
          },
          {
           "hoverinfo": "none",
           "marker": {
            "color": "rgb(255, 255, 255)",
            "line": {
             "color": "rgb(0, 0, 0)",
             "width": 2
            },
            "size": 20
           },
           "mode": "markers+text",
           "text": [
            "9"
           ],
           "textfont": {
            "color": "rgb(0, 0, 0)"
           },
           "textposition": "middle center",
           "x": [
            1
           ],
           "y": [
            1
           ]
          },
          {
           "hoverinfo": "none",
           "marker": {
            "color": "rgb(255, 255, 255)",
            "line": {
             "color": "rgb(0, 0, 0)",
             "width": 2
            },
            "size": 20
           },
           "mode": "markers+text",
           "text": [
            "5"
           ],
           "textfont": {
            "color": "rgb(0, 0, 0)"
           },
           "textposition": "middle center",
           "x": [
            0.5
           ],
           "y": [
            0
           ]
          },
          {
           "hoverinfo": "none",
           "marker": {
            "color": "rgb(255, 255, 255)",
            "line": {
             "color": "rgb(0, 0, 0)",
             "width": 2
            },
            "size": 20
           },
           "mode": "markers+text",
           "text": [
            "7"
           ],
           "textfont": {
            "color": "rgb(0, 0, 0)"
           },
           "textposition": "middle center",
           "x": [
            1
           ],
           "y": [
            0
           ]
          }
         ],
         "name": 32
        }
       ],
       "layout": {
        "height": 256,
        "margin": {
         "b": 0,
         "l": 0,
         "r": 0,
         "t": 0
        },
        "showlegend": false,
        "sliders": [
         {
          "currentvalue": {
           "visible": false
          },
          "steps": [
           {
            "args": [
             [
              0
             ],
             {
              "frame": {
               "redraw": false
              },
              "mode": "immediate"
             }
            ],
            "label": "",
            "method": "animate"
           },
           {
            "args": [
             [
              1
             ],
             {
              "frame": {
               "redraw": false
              },
              "mode": "immediate"
             }
            ],
            "label": "",
            "method": "animate"
           },
           {
            "args": [
             [
              2
             ],
             {
              "frame": {
               "redraw": false
              },
              "mode": "immediate"
             }
            ],
            "label": "",
            "method": "animate"
           },
           {
            "args": [
             [
              3
             ],
             {
              "frame": {
               "redraw": false
              },
              "mode": "immediate"
             }
            ],
            "label": "",
            "method": "animate"
           },
           {
            "args": [
             [
              4
             ],
             {
              "frame": {
               "redraw": false
              },
              "mode": "immediate"
             }
            ],
            "label": "",
            "method": "animate"
           },
           {
            "args": [
             [
              5
             ],
             {
              "frame": {
               "redraw": false
              },
              "mode": "immediate"
             }
            ],
            "label": "",
            "method": "animate"
           },
           {
            "args": [
             [
              6
             ],
             {
              "frame": {
               "redraw": false
              },
              "mode": "immediate"
             }
            ],
            "label": "",
            "method": "animate"
           },
           {
            "args": [
             [
              7
             ],
             {
              "frame": {
               "redraw": false
              },
              "mode": "immediate"
             }
            ],
            "label": "",
            "method": "animate"
           },
           {
            "args": [
             [
              8
             ],
             {
              "frame": {
               "redraw": false
              },
              "mode": "immediate"
             }
            ],
            "label": "",
            "method": "animate"
           },
           {
            "args": [
             [
              9
             ],
             {
              "frame": {
               "redraw": false
              },
              "mode": "immediate"
             }
            ],
            "label": "",
            "method": "animate"
           },
           {
            "args": [
             [
              10
             ],
             {
              "frame": {
               "redraw": false
              },
              "mode": "immediate"
             }
            ],
            "label": "",
            "method": "animate"
           },
           {
            "args": [
             [
              11
             ],
             {
              "frame": {
               "redraw": false
              },
              "mode": "immediate"
             }
            ],
            "label": "",
            "method": "animate"
           },
           {
            "args": [
             [
              12
             ],
             {
              "frame": {
               "redraw": false
              },
              "mode": "immediate"
             }
            ],
            "label": "",
            "method": "animate"
           },
           {
            "args": [
             [
              13
             ],
             {
              "frame": {
               "redraw": false
              },
              "mode": "immediate"
             }
            ],
            "label": "",
            "method": "animate"
           },
           {
            "args": [
             [
              14
             ],
             {
              "frame": {
               "redraw": false
              },
              "mode": "immediate"
             }
            ],
            "label": "",
            "method": "animate"
           },
           {
            "args": [
             [
              15
             ],
             {
              "frame": {
               "redraw": false
              },
              "mode": "immediate"
             }
            ],
            "label": "",
            "method": "animate"
           },
           {
            "args": [
             [
              16
             ],
             {
              "frame": {
               "redraw": false
              },
              "mode": "immediate"
             }
            ],
            "label": "",
            "method": "animate"
           },
           {
            "args": [
             [
              17
             ],
             {
              "frame": {
               "redraw": false
              },
              "mode": "immediate"
             }
            ],
            "label": "",
            "method": "animate"
           },
           {
            "args": [
             [
              18
             ],
             {
              "frame": {
               "redraw": false
              },
              "mode": "immediate"
             }
            ],
            "label": "",
            "method": "animate"
           },
           {
            "args": [
             [
              19
             ],
             {
              "frame": {
               "redraw": false
              },
              "mode": "immediate"
             }
            ],
            "label": "",
            "method": "animate"
           },
           {
            "args": [
             [
              20
             ],
             {
              "frame": {
               "redraw": false
              },
              "mode": "immediate"
             }
            ],
            "label": "",
            "method": "animate"
           },
           {
            "args": [
             [
              21
             ],
             {
              "frame": {
               "redraw": false
              },
              "mode": "immediate"
             }
            ],
            "label": "",
            "method": "animate"
           },
           {
            "args": [
             [
              22
             ],
             {
              "frame": {
               "redraw": false
              },
              "mode": "immediate"
             }
            ],
            "label": "",
            "method": "animate"
           },
           {
            "args": [
             [
              23
             ],
             {
              "frame": {
               "redraw": false
              },
              "mode": "immediate"
             }
            ],
            "label": "",
            "method": "animate"
           },
           {
            "args": [
             [
              24
             ],
             {
              "frame": {
               "redraw": false
              },
              "mode": "immediate"
             }
            ],
            "label": "",
            "method": "animate"
           },
           {
            "args": [
             [
              25
             ],
             {
              "frame": {
               "redraw": false
              },
              "mode": "immediate"
             }
            ],
            "label": "",
            "method": "animate"
           },
           {
            "args": [
             [
              26
             ],
             {
              "frame": {
               "redraw": false
              },
              "mode": "immediate"
             }
            ],
            "label": "",
            "method": "animate"
           },
           {
            "args": [
             [
              27
             ],
             {
              "frame": {
               "redraw": false
              },
              "mode": "immediate"
             }
            ],
            "label": "",
            "method": "animate"
           },
           {
            "args": [
             [
              28
             ],
             {
              "frame": {
               "redraw": false
              },
              "mode": "immediate"
             }
            ],
            "label": "",
            "method": "animate"
           },
           {
            "args": [
             [
              29
             ],
             {
              "frame": {
               "redraw": false
              },
              "mode": "immediate"
             }
            ],
            "label": "",
            "method": "animate"
           },
           {
            "args": [
             [
              30
             ],
             {
              "frame": {
               "redraw": false
              },
              "mode": "immediate"
             }
            ],
            "label": "",
            "method": "animate"
           },
           {
            "args": [
             [
              31
             ],
             {
              "frame": {
               "redraw": false
              },
              "mode": "immediate"
             }
            ],
            "label": "",
            "method": "animate"
           },
           {
            "args": [
             [
              32
             ],
             {
              "frame": {
               "redraw": false
              },
              "mode": "immediate"
             }
            ],
            "label": "",
            "method": "animate"
           }
          ]
         }
        ],
        "updatemenus": [
         {
          "buttons": [
           {
            "args": [
             null,
             {
              "frame": {
               "redraw": false
              },
              "fromcurrent": true
             }
            ],
            "label": "Play",
            "method": "animate"
           },
           {
            "args": [
             [
              null
             ],
             {
              "frame": {
               "redraw": false
              },
              "mode": "immediate"
             }
            ],
            "label": "Pause",
            "method": "animate"
           }
          ],
          "showactive": true,
          "type": "buttons"
         }
        ],
        "width": 408,
        "xaxis": {
         "showgrid": false,
         "showticklabels": false,
         "zeroline": false
        },
        "yaxis": {
         "showgrid": false,
         "showticklabels": false,
         "zeroline": false
        }
       }
      },
      "text/html": [
       "<div id=\"c426ebf0-f873-4967-bee1-74a1938ec32c\" style=\"height: 256.0px; width: 408.0px;\" class=\"plotly-graph-div\"></div><script type=\"text/javascript\">require([\"plotly\"], function(Plotly) { window.PLOTLYENV=window.PLOTLYENV || {};window.PLOTLYENV.BASE_URL=\"https://plot.ly\";\n",
       "        Plotly.plot(\n",
       "            'c426ebf0-f873-4967-bee1-74a1938ec32c',\n",
       "            [{\"x\": [0.0, 0.5, null, 0.46643085439538495, 0.44538388103556675, null, 0.46643085439538495, 0.4285584341548651, null], \"y\": [0.5, 1.0, null, 0.966430854395385, 0.906182816233176, null, 0.966430854395385, 0.967759498957256, null], \"hoverinfo\": \"none\", \"mode\": \"lines\", \"line\": {\"width\": 2, \"color\": \"rgb(0, 0, 0)\"}}, {\"x\": [0.0, 0.5, null, 0.46643085439538495, 0.4285584341548651, null, 0.46643085439538495, 0.44538388103556675, null], \"y\": [0.5, 0.0, null, 0.03356914560461503, 0.032240501042743994, null, 0.03356914560461503, 0.09381718376682407, null], \"hoverinfo\": \"none\", \"mode\": \"lines\", \"line\": {\"width\": 2, \"color\": \"rgb(0, 0, 0)\"}}, {\"x\": [0.5, 1.0, null, 0.9621212121212122, 0.9288794484132434, null, 0.9621212121212122, 0.9288794484132434, null], \"y\": [1.0, 1.0, null, 1.0, 0.9652590189417244, null, 1.0, 1.0347409810582755, null], \"hoverinfo\": \"none\", \"mode\": \"lines\", \"line\": {\"width\": 2, \"color\": \"rgb(0, 0, 0)\"}}, {\"x\": [0.5075757575757576, 0.5075757575757576, null, 0.5075757575757576, 0.5257358158562198, null], \"y\": [1.0, 0.0, null, 0.07246376811594203, 0.13605670738336034, null], \"hoverinfo\": \"none\", \"mode\": \"lines\", \"line\": {\"width\": 2, \"color\": \"rgb(0, 0, 0)\"}}, {\"x\": [1.0075757575757576, 1.0075757575757576, null, 1.0075757575757576, 1.0257358158562198, null], \"y\": [1.0, 0.0, null, 0.07246376811594203, 0.13605670738336034, null], \"hoverinfo\": \"none\", \"mode\": \"lines\", \"line\": {\"width\": 2, \"color\": \"rgb(0, 0, 0)\"}}, {\"x\": [0.49242424242424243, 0.49242424242424243, null, 0.49242424242424243, 0.4742641841437802, null], \"y\": [0.0, 1.0, null, 0.927536231884058, 0.8639432926166397, null], \"hoverinfo\": \"none\", \"mode\": \"lines\", \"line\": {\"width\": 2, \"color\": \"rgb(0, 0, 0)\"}}, {\"x\": [0.5, 1.0, null, 0.9738173240163878, 0.9639630823912474, null, 0.9738173240163878, 0.9377166459078401, null], \"y\": [0.0, 1.0, null, 0.9476346480327754, 0.8776659754484841, null, 0.9476346480327754, 0.9256934811496907, null], \"hoverinfo\": \"none\", \"mode\": \"lines\", \"line\": {\"width\": 2, \"color\": \"rgb(0, 0, 0)\"}}, {\"x\": [0.5, 1.0, null, 0.9621212121212122, 0.9288794484132434, null, 0.9621212121212122, 0.9288794484132434, null], \"y\": [0.0, 0.0, null, 0.0, -0.03474098105827558, null, 0.0, 0.03474098105827558, null], \"hoverinfo\": \"none\", \"mode\": \"lines\", \"line\": {\"width\": 2, \"color\": \"rgb(0, 0, 0)\"}}, {\"x\": [1.0, 0.0, null, 0.03664774299318793, 0.07340128670201525, null, 0.03664774299318793, 0.06421703965128427, null], \"y\": [0.0, 0.5, null, 0.481676128503406, 0.4992073320037643, null, 0.481676128503406, 0.4319835048195859, null], \"hoverinfo\": \"none\", \"mode\": \"lines\", \"line\": {\"width\": 2, \"color\": \"rgb(0, 0, 0)\"}}, {\"x\": [0.9924242424242424, 0.9924242424242424, null, 0.9924242424242424, 0.9742641841437802, null], \"y\": [0.0, 1.0, null, 0.927536231884058, 0.8639432926166397, null], \"hoverinfo\": \"none\", \"mode\": \"lines\", \"line\": {\"width\": 2, \"color\": \"rgb(0, 0, 0)\"}}, {\"x\": [0.0], \"y\": [0.5], \"text\": [\"0\"], \"textposition\": \"middle center\", \"hoverinfo\": \"none\", \"mode\": \"markers+text\", \"marker\": {\"size\": 20, \"color\": \"rgb(255, 255, 255)\", \"line\": {\"width\": 2, \"color\": \"rgb(0, 0, 0)\"}}, \"textfont\": {\"color\": \"rgb(0, 0, 0)\"}}, {\"x\": [0.5], \"y\": [1.0], \"text\": [\"8\"], \"textposition\": \"middle center\", \"hoverinfo\": \"none\", \"mode\": \"markers+text\", \"marker\": {\"size\": 20, \"color\": \"rgb(255, 255, 255)\", \"line\": {\"width\": 2, \"color\": \"rgb(0, 0, 0)\"}}, \"textfont\": {\"color\": \"rgb(0, 0, 0)\"}}, {\"x\": [1.0], \"y\": [1.0], \"text\": [\"9\"], \"textposition\": \"middle center\", \"hoverinfo\": \"none\", \"mode\": \"markers+text\", \"marker\": {\"size\": 20, \"color\": \"rgb(255, 255, 255)\", \"line\": {\"width\": 2, \"color\": \"rgb(0, 0, 0)\"}}, \"textfont\": {\"color\": \"rgb(0, 0, 0)\"}}, {\"x\": [0.5], \"y\": [0.0], \"text\": [\"5\"], \"textposition\": \"middle center\", \"hoverinfo\": \"none\", \"mode\": \"markers+text\", \"marker\": {\"size\": 20, \"color\": \"rgb(255, 255, 255)\", \"line\": {\"width\": 2, \"color\": \"rgb(0, 0, 0)\"}}, \"textfont\": {\"color\": \"rgb(0, 0, 0)\"}}, {\"x\": [1.0], \"y\": [0.0], \"text\": [\"7\"], \"textposition\": \"middle center\", \"hoverinfo\": \"none\", \"mode\": \"markers+text\", \"marker\": {\"size\": 20, \"color\": \"rgb(255, 255, 255)\", \"line\": {\"width\": 2, \"color\": \"rgb(0, 0, 0)\"}}, \"textfont\": {\"color\": \"rgb(0, 0, 0)\"}}],\n",
       "            {\"showlegend\": false, \"width\": 408.0, \"height\": 256.0, \"margin\": {\"b\": 0, \"l\": 0, \"r\": 0, \"t\": 0}, \"xaxis\": {\"showgrid\": false, \"zeroline\": false, \"showticklabels\": false}, \"yaxis\": {\"showgrid\": false, \"zeroline\": false, \"showticklabels\": false}, \"updatemenus\": [{\"buttons\": [{\"args\": [null, {\"frame\": {\"redraw\": false}, \"fromcurrent\": true}], \"label\": \"Play\", \"method\": \"animate\"}, {\"args\": [[null], {\"frame\": {\"redraw\": false}, \"mode\": \"immediate\"}], \"label\": \"Pause\", \"method\": \"animate\"}], \"showactive\": true, \"type\": \"buttons\"}], \"sliders\": [{\"currentvalue\": {\"visible\": false}, \"steps\": [{\"args\": [[0], {\"frame\": {\"redraw\": false}, \"mode\": \"immediate\"}], \"label\": \"\", \"method\": \"animate\"}, {\"args\": [[1], {\"frame\": {\"redraw\": false}, \"mode\": \"immediate\"}], \"label\": \"\", \"method\": \"animate\"}, {\"args\": [[2], {\"frame\": {\"redraw\": false}, \"mode\": \"immediate\"}], \"label\": \"\", \"method\": \"animate\"}, {\"args\": [[3], {\"frame\": {\"redraw\": false}, \"mode\": \"immediate\"}], \"label\": \"\", \"method\": \"animate\"}, {\"args\": [[4], {\"frame\": {\"redraw\": false}, \"mode\": \"immediate\"}], \"label\": \"\", \"method\": \"animate\"}, {\"args\": [[5], {\"frame\": {\"redraw\": false}, \"mode\": \"immediate\"}], \"label\": \"\", \"method\": \"animate\"}, {\"args\": [[6], {\"frame\": {\"redraw\": false}, \"mode\": \"immediate\"}], \"label\": \"\", \"method\": \"animate\"}, {\"args\": [[7], {\"frame\": {\"redraw\": false}, \"mode\": \"immediate\"}], \"label\": \"\", \"method\": \"animate\"}, {\"args\": [[8], {\"frame\": {\"redraw\": false}, \"mode\": \"immediate\"}], \"label\": \"\", \"method\": \"animate\"}, {\"args\": [[9], {\"frame\": {\"redraw\": false}, \"mode\": \"immediate\"}], \"label\": \"\", \"method\": \"animate\"}, {\"args\": [[10], {\"frame\": {\"redraw\": false}, \"mode\": \"immediate\"}], \"label\": \"\", \"method\": \"animate\"}, {\"args\": [[11], {\"frame\": {\"redraw\": false}, \"mode\": \"immediate\"}], \"label\": \"\", \"method\": \"animate\"}, {\"args\": [[12], {\"frame\": {\"redraw\": false}, \"mode\": \"immediate\"}], \"label\": \"\", \"method\": \"animate\"}, {\"args\": [[13], {\"frame\": {\"redraw\": false}, \"mode\": \"immediate\"}], \"label\": \"\", \"method\": \"animate\"}, {\"args\": [[14], {\"frame\": {\"redraw\": false}, \"mode\": \"immediate\"}], \"label\": \"\", \"method\": \"animate\"}, {\"args\": [[15], {\"frame\": {\"redraw\": false}, \"mode\": \"immediate\"}], \"label\": \"\", \"method\": \"animate\"}, {\"args\": [[16], {\"frame\": {\"redraw\": false}, \"mode\": \"immediate\"}], \"label\": \"\", \"method\": \"animate\"}, {\"args\": [[17], {\"frame\": {\"redraw\": false}, \"mode\": \"immediate\"}], \"label\": \"\", \"method\": \"animate\"}, {\"args\": [[18], {\"frame\": {\"redraw\": false}, \"mode\": \"immediate\"}], \"label\": \"\", \"method\": \"animate\"}, {\"args\": [[19], {\"frame\": {\"redraw\": false}, \"mode\": \"immediate\"}], \"label\": \"\", \"method\": \"animate\"}, {\"args\": [[20], {\"frame\": {\"redraw\": false}, \"mode\": \"immediate\"}], \"label\": \"\", \"method\": \"animate\"}, {\"args\": [[21], {\"frame\": {\"redraw\": false}, \"mode\": \"immediate\"}], \"label\": \"\", \"method\": \"animate\"}, {\"args\": [[22], {\"frame\": {\"redraw\": false}, \"mode\": \"immediate\"}], \"label\": \"\", \"method\": \"animate\"}, {\"args\": [[23], {\"frame\": {\"redraw\": false}, \"mode\": \"immediate\"}], \"label\": \"\", \"method\": \"animate\"}, {\"args\": [[24], {\"frame\": {\"redraw\": false}, \"mode\": \"immediate\"}], \"label\": \"\", \"method\": \"animate\"}, {\"args\": [[25], {\"frame\": {\"redraw\": false}, \"mode\": \"immediate\"}], \"label\": \"\", \"method\": \"animate\"}, {\"args\": [[26], {\"frame\": {\"redraw\": false}, \"mode\": \"immediate\"}], \"label\": \"\", \"method\": \"animate\"}, {\"args\": [[27], {\"frame\": {\"redraw\": false}, \"mode\": \"immediate\"}], \"label\": \"\", \"method\": \"animate\"}, {\"args\": [[28], {\"frame\": {\"redraw\": false}, \"mode\": \"immediate\"}], \"label\": \"\", \"method\": \"animate\"}, {\"args\": [[29], {\"frame\": {\"redraw\": false}, \"mode\": \"immediate\"}], \"label\": \"\", \"method\": \"animate\"}, {\"args\": [[30], {\"frame\": {\"redraw\": false}, \"mode\": \"immediate\"}], \"label\": \"\", \"method\": \"animate\"}, {\"args\": [[31], {\"frame\": {\"redraw\": false}, \"mode\": \"immediate\"}], \"label\": \"\", \"method\": \"animate\"}, {\"args\": [[32], {\"frame\": {\"redraw\": false}, \"mode\": \"immediate\"}], \"label\": \"\", \"method\": \"animate\"}]}]},\n",
       "            {\"showLink\": false, \"linkText\": \"Export to plot.ly\", \"displayModeBar\": false}\n",
       "        ).then(function () {return Plotly.addFrames('c426ebf0-f873-4967-bee1-74a1938ec32c',[{\"data\": [{\"x\": [0.0, 0.5, null, 0.46643085439538495, 0.44538388103556675, null, 0.46643085439538495, 0.4285584341548651, null], \"y\": [0.5, 1.0, null, 0.966430854395385, 0.906182816233176, null, 0.966430854395385, 0.967759498957256, null], \"hoverinfo\": \"none\", \"mode\": \"lines\", \"line\": {\"width\": 2, \"color\": \"rgb(0, 0, 0)\"}}, {\"x\": [0.0, 0.5, null, 0.46643085439538495, 0.4285584341548651, null, 0.46643085439538495, 0.44538388103556675, null], \"y\": [0.5, 0.0, null, 0.03356914560461503, 0.032240501042743994, null, 0.03356914560461503, 0.09381718376682407, null], \"hoverinfo\": \"none\", \"mode\": \"lines\", \"line\": {\"width\": 2, \"color\": \"rgb(0, 0, 0)\"}}, {\"x\": [0.5, 1.0, null, 0.9621212121212122, 0.9288794484132434, null, 0.9621212121212122, 0.9288794484132434, null], \"y\": [1.0, 1.0, null, 1.0, 0.9652590189417244, null, 1.0, 1.0347409810582755, null], \"hoverinfo\": \"none\", \"mode\": \"lines\", \"line\": {\"width\": 2, \"color\": \"rgb(0, 0, 0)\"}}, {\"x\": [0.5075757575757576, 0.5075757575757576, null, 0.5075757575757576, 0.5257358158562198, null], \"y\": [1.0, 0.0, null, 0.07246376811594203, 0.13605670738336034, null], \"hoverinfo\": \"none\", \"mode\": \"lines\", \"line\": {\"width\": 2, \"color\": \"rgb(0, 0, 0)\"}}, {\"x\": [1.0075757575757576, 1.0075757575757576, null, 1.0075757575757576, 1.0257358158562198, null], \"y\": [1.0, 0.0, null, 0.07246376811594203, 0.13605670738336034, null], \"hoverinfo\": \"none\", \"mode\": \"lines\", \"line\": {\"width\": 2, \"color\": \"rgb(0, 0, 0)\"}}, {\"x\": [0.49242424242424243, 0.49242424242424243, null, 0.49242424242424243, 0.4742641841437802, null], \"y\": [0.0, 1.0, null, 0.927536231884058, 0.8639432926166397, null], \"hoverinfo\": \"none\", \"mode\": \"lines\", \"line\": {\"width\": 2, \"color\": \"rgb(0, 0, 0)\"}}, {\"x\": [0.5, 1.0, null, 0.9738173240163878, 0.9639630823912474, null, 0.9738173240163878, 0.9377166459078401, null], \"y\": [0.0, 1.0, null, 0.9476346480327754, 0.8776659754484841, null, 0.9476346480327754, 0.9256934811496907, null], \"hoverinfo\": \"none\", \"mode\": \"lines\", \"line\": {\"width\": 2, \"color\": \"rgb(0, 0, 0)\"}}, {\"x\": [0.5, 1.0, null, 0.9621212121212122, 0.9288794484132434, null, 0.9621212121212122, 0.9288794484132434, null], \"y\": [0.0, 0.0, null, 0.0, -0.03474098105827558, null, 0.0, 0.03474098105827558, null], \"hoverinfo\": \"none\", \"mode\": \"lines\", \"line\": {\"width\": 2, \"color\": \"rgb(0, 0, 0)\"}}, {\"x\": [1.0, 0.0, null, 0.03664774299318793, 0.07340128670201525, null, 0.03664774299318793, 0.06421703965128427, null], \"y\": [0.0, 0.5, null, 0.481676128503406, 0.4992073320037643, null, 0.481676128503406, 0.4319835048195859, null], \"hoverinfo\": \"none\", \"mode\": \"lines\", \"line\": {\"width\": 2, \"color\": \"rgb(0, 0, 0)\"}}, {\"x\": [0.9924242424242424, 0.9924242424242424, null, 0.9924242424242424, 0.9742641841437802, null], \"y\": [0.0, 1.0, null, 0.927536231884058, 0.8639432926166397, null], \"hoverinfo\": \"none\", \"mode\": \"lines\", \"line\": {\"width\": 2, \"color\": \"rgb(0, 0, 0)\"}}, {\"x\": [0.0], \"y\": [0.5], \"text\": [\"0\"], \"textposition\": \"middle center\", \"hoverinfo\": \"none\", \"mode\": \"markers+text\", \"marker\": {\"size\": 20, \"color\": \"rgb(255, 255, 255)\", \"line\": {\"width\": 2, \"color\": \"rgb(0, 0, 0)\"}}, \"textfont\": {\"color\": \"rgb(0, 0, 0)\"}}, {\"x\": [0.5], \"y\": [1.0], \"text\": [\"8\"], \"textposition\": \"middle center\", \"hoverinfo\": \"none\", \"mode\": \"markers+text\", \"marker\": {\"size\": 20, \"color\": \"rgb(255, 255, 255)\", \"line\": {\"width\": 2, \"color\": \"rgb(0, 0, 0)\"}}, \"textfont\": {\"color\": \"rgb(0, 0, 0)\"}}, {\"x\": [1.0], \"y\": [1.0], \"text\": [\"9\"], \"textposition\": \"middle center\", \"hoverinfo\": \"none\", \"mode\": \"markers+text\", \"marker\": {\"size\": 20, \"color\": \"rgb(255, 255, 255)\", \"line\": {\"width\": 2, \"color\": \"rgb(0, 0, 0)\"}}, \"textfont\": {\"color\": \"rgb(0, 0, 0)\"}}, {\"x\": [0.5], \"y\": [0.0], \"text\": [\"5\"], \"textposition\": \"middle center\", \"hoverinfo\": \"none\", \"mode\": \"markers+text\", \"marker\": {\"size\": 20, \"color\": \"rgb(255, 255, 255)\", \"line\": {\"width\": 2, \"color\": \"rgb(0, 0, 0)\"}}, \"textfont\": {\"color\": \"rgb(0, 0, 0)\"}}, {\"x\": [1.0], \"y\": [0.0], \"text\": [\"7\"], \"textposition\": \"middle center\", \"hoverinfo\": \"none\", \"mode\": \"markers+text\", \"marker\": {\"size\": 20, \"color\": \"rgb(255, 255, 255)\", \"line\": {\"width\": 2, \"color\": \"rgb(0, 0, 0)\"}}, \"textfont\": {\"color\": \"rgb(0, 0, 0)\"}}], \"name\": 0}, {\"data\": [{\"x\": [0.0, 0.5, null, 0.46643085439538495, 0.44538388103556675, null, 0.46643085439538495, 0.4285584341548651, null], \"y\": [0.5, 1.0, null, 0.966430854395385, 0.906182816233176, null, 0.966430854395385, 0.967759498957256, null], \"hoverinfo\": \"none\", \"mode\": \"lines\", \"line\": {\"width\": 2, \"color\": \"rgb(0, 0, 0)\"}}, {\"x\": [0.0, 0.5, null, 0.46643085439538495, 0.4285584341548651, null, 0.46643085439538495, 0.44538388103556675, null], \"y\": [0.5, 0.0, null, 0.03356914560461503, 0.032240501042743994, null, 0.03356914560461503, 0.09381718376682407, null], \"hoverinfo\": \"none\", \"mode\": \"lines\", \"line\": {\"width\": 2, \"color\": \"rgb(0, 0, 0)\"}}, {\"x\": [0.5, 1.0, null, 0.9621212121212122, 0.9288794484132434, null, 0.9621212121212122, 0.9288794484132434, null], \"y\": [1.0, 1.0, null, 1.0, 0.9652590189417244, null, 1.0, 1.0347409810582755, null], \"hoverinfo\": \"none\", \"mode\": \"lines\", \"line\": {\"width\": 2, \"color\": \"rgb(0, 0, 0)\"}}, {\"x\": [0.5075757575757576, 0.5075757575757576, null, 0.5075757575757576, 0.5257358158562198, null], \"y\": [1.0, 0.0, null, 0.07246376811594203, 0.13605670738336034, null], \"hoverinfo\": \"none\", \"mode\": \"lines\", \"line\": {\"width\": 2, \"color\": \"rgb(0, 0, 0)\"}}, {\"x\": [1.0075757575757576, 1.0075757575757576, null, 1.0075757575757576, 1.0257358158562198, null], \"y\": [1.0, 0.0, null, 0.07246376811594203, 0.13605670738336034, null], \"hoverinfo\": \"none\", \"mode\": \"lines\", \"line\": {\"width\": 2, \"color\": \"rgb(0, 0, 0)\"}}, {\"x\": [0.49242424242424243, 0.49242424242424243, null, 0.49242424242424243, 0.4742641841437802, null], \"y\": [0.0, 1.0, null, 0.927536231884058, 0.8639432926166397, null], \"hoverinfo\": \"none\", \"mode\": \"lines\", \"line\": {\"width\": 2, \"color\": \"rgb(0, 0, 0)\"}}, {\"x\": [0.5, 1.0, null, 0.9738173240163878, 0.9639630823912474, null, 0.9738173240163878, 0.9377166459078401, null], \"y\": [0.0, 1.0, null, 0.9476346480327754, 0.8776659754484841, null, 0.9476346480327754, 0.9256934811496907, null], \"hoverinfo\": \"none\", \"mode\": \"lines\", \"line\": {\"width\": 2, \"color\": \"rgb(0, 0, 0)\"}}, {\"x\": [0.5, 1.0, null, 0.9621212121212122, 0.9288794484132434, null, 0.9621212121212122, 0.9288794484132434, null], \"y\": [0.0, 0.0, null, 0.0, -0.03474098105827558, null, 0.0, 0.03474098105827558, null], \"hoverinfo\": \"none\", \"mode\": \"lines\", \"line\": {\"width\": 2, \"color\": \"rgb(0, 0, 0)\"}}, {\"x\": [1.0, 0.0, null, 0.03664774299318793, 0.07340128670201525, null, 0.03664774299318793, 0.06421703965128427, null], \"y\": [0.0, 0.5, null, 0.481676128503406, 0.4992073320037643, null, 0.481676128503406, 0.4319835048195859, null], \"hoverinfo\": \"none\", \"mode\": \"lines\", \"line\": {\"width\": 2, \"color\": \"rgb(0, 0, 0)\"}}, {\"x\": [0.9924242424242424, 0.9924242424242424, null, 0.9924242424242424, 0.9742641841437802, null], \"y\": [0.0, 1.0, null, 0.927536231884058, 0.8639432926166397, null], \"hoverinfo\": \"none\", \"mode\": \"lines\", \"line\": {\"width\": 2, \"color\": \"rgb(0, 0, 0)\"}}, {\"x\": [0.0], \"y\": [0.5], \"text\": [\"0\"], \"textposition\": \"middle center\", \"hoverinfo\": \"none\", \"mode\": \"markers+text\", \"marker\": {\"size\": 20, \"color\": \"rgb(0, 255, 0)\", \"line\": {\"width\": 2, \"color\": \"rgb(0, 0, 0)\"}}, \"textfont\": {\"color\": \"rgb(0, 0, 0)\"}}, {\"x\": [0.5], \"y\": [1.0], \"text\": [\"\\u221e\"], \"textposition\": \"middle center\", \"hoverinfo\": \"none\", \"mode\": \"markers+text\", \"marker\": {\"size\": 20, \"color\": \"rgb(255, 255, 255)\", \"line\": {\"width\": 2, \"color\": \"rgb(0, 0, 0)\"}}, \"textfont\": {\"color\": \"rgb(0, 0, 0)\"}}, {\"x\": [1.0], \"y\": [1.0], \"text\": [\"\\u221e\"], \"textposition\": \"middle center\", \"hoverinfo\": \"none\", \"mode\": \"markers+text\", \"marker\": {\"size\": 20, \"color\": \"rgb(255, 255, 255)\", \"line\": {\"width\": 2, \"color\": \"rgb(0, 0, 0)\"}}, \"textfont\": {\"color\": \"rgb(0, 0, 0)\"}}, {\"x\": [0.5], \"y\": [0.0], \"text\": [\"\\u221e\"], \"textposition\": \"middle center\", \"hoverinfo\": \"none\", \"mode\": \"markers+text\", \"marker\": {\"size\": 20, \"color\": \"rgb(255, 255, 255)\", \"line\": {\"width\": 2, \"color\": \"rgb(0, 0, 0)\"}}, \"textfont\": {\"color\": \"rgb(0, 0, 0)\"}}, {\"x\": [1.0], \"y\": [0.0], \"text\": [\"\\u221e\"], \"textposition\": \"middle center\", \"hoverinfo\": \"none\", \"mode\": \"markers+text\", \"marker\": {\"size\": 20, \"color\": \"rgb(255, 255, 255)\", \"line\": {\"width\": 2, \"color\": \"rgb(0, 0, 0)\"}}, \"textfont\": {\"color\": \"rgb(0, 0, 0)\"}}], \"name\": 1}, {\"data\": [{\"x\": [0.0, 0.5, null, 0.46643085439538495, 0.44538388103556675, null, 0.46643085439538495, 0.4285584341548651, null], \"y\": [0.5, 1.0, null, 0.966430854395385, 0.906182816233176, null, 0.966430854395385, 0.967759498957256, null], \"hoverinfo\": \"none\", \"mode\": \"lines\", \"line\": {\"width\": 2, \"color\": \"rgb(255, 0, 0)\"}}, {\"x\": [0.0, 0.5, null, 0.46643085439538495, 0.4285584341548651, null, 0.46643085439538495, 0.44538388103556675, null], \"y\": [0.5, 0.0, null, 0.03356914560461503, 0.032240501042743994, null, 0.03356914560461503, 0.09381718376682407, null], \"hoverinfo\": \"none\", \"mode\": \"lines\", \"line\": {\"width\": 2, \"color\": \"rgb(0, 0, 0)\"}}, {\"x\": [0.5, 1.0, null, 0.9621212121212122, 0.9288794484132434, null, 0.9621212121212122, 0.9288794484132434, null], \"y\": [1.0, 1.0, null, 1.0, 0.9652590189417244, null, 1.0, 1.0347409810582755, null], \"hoverinfo\": \"none\", \"mode\": \"lines\", \"line\": {\"width\": 2, \"color\": \"rgb(0, 0, 0)\"}}, {\"x\": [0.5075757575757576, 0.5075757575757576, null, 0.5075757575757576, 0.5257358158562198, null], \"y\": [1.0, 0.0, null, 0.07246376811594203, 0.13605670738336034, null], \"hoverinfo\": \"none\", \"mode\": \"lines\", \"line\": {\"width\": 2, \"color\": \"rgb(0, 0, 0)\"}}, {\"x\": [1.0075757575757576, 1.0075757575757576, null, 1.0075757575757576, 1.0257358158562198, null], \"y\": [1.0, 0.0, null, 0.07246376811594203, 0.13605670738336034, null], \"hoverinfo\": \"none\", \"mode\": \"lines\", \"line\": {\"width\": 2, \"color\": \"rgb(0, 0, 0)\"}}, {\"x\": [0.49242424242424243, 0.49242424242424243, null, 0.49242424242424243, 0.4742641841437802, null], \"y\": [0.0, 1.0, null, 0.927536231884058, 0.8639432926166397, null], \"hoverinfo\": \"none\", \"mode\": \"lines\", \"line\": {\"width\": 2, \"color\": \"rgb(0, 0, 0)\"}}, {\"x\": [0.5, 1.0, null, 0.9738173240163878, 0.9639630823912474, null, 0.9738173240163878, 0.9377166459078401, null], \"y\": [0.0, 1.0, null, 0.9476346480327754, 0.8776659754484841, null, 0.9476346480327754, 0.9256934811496907, null], \"hoverinfo\": \"none\", \"mode\": \"lines\", \"line\": {\"width\": 2, \"color\": \"rgb(0, 0, 0)\"}}, {\"x\": [0.5, 1.0, null, 0.9621212121212122, 0.9288794484132434, null, 0.9621212121212122, 0.9288794484132434, null], \"y\": [0.0, 0.0, null, 0.0, -0.03474098105827558, null, 0.0, 0.03474098105827558, null], \"hoverinfo\": \"none\", \"mode\": \"lines\", \"line\": {\"width\": 2, \"color\": \"rgb(0, 0, 0)\"}}, {\"x\": [1.0, 0.0, null, 0.03664774299318793, 0.07340128670201525, null, 0.03664774299318793, 0.06421703965128427, null], \"y\": [0.0, 0.5, null, 0.481676128503406, 0.4992073320037643, null, 0.481676128503406, 0.4319835048195859, null], \"hoverinfo\": \"none\", \"mode\": \"lines\", \"line\": {\"width\": 2, \"color\": \"rgb(0, 0, 0)\"}}, {\"x\": [0.9924242424242424, 0.9924242424242424, null, 0.9924242424242424, 0.9742641841437802, null], \"y\": [0.0, 1.0, null, 0.927536231884058, 0.8639432926166397, null], \"hoverinfo\": \"none\", \"mode\": \"lines\", \"line\": {\"width\": 2, \"color\": \"rgb(0, 0, 0)\"}}, {\"x\": [0.0], \"y\": [0.5], \"text\": [\"0\"], \"textposition\": \"middle center\", \"hoverinfo\": \"none\", \"mode\": \"markers+text\", \"marker\": {\"size\": 20, \"color\": \"rgb(0, 255, 0)\", \"line\": {\"width\": 2, \"color\": \"rgb(0, 0, 0)\"}}, \"textfont\": {\"color\": \"rgb(0, 0, 0)\"}}, {\"x\": [0.5], \"y\": [1.0], \"text\": [\"\\u221e\"], \"textposition\": \"middle center\", \"hoverinfo\": \"none\", \"mode\": \"markers+text\", \"marker\": {\"size\": 20, \"color\": \"rgb(255, 255, 255)\", \"line\": {\"width\": 2, \"color\": \"rgb(0, 0, 0)\"}}, \"textfont\": {\"color\": \"rgb(0, 0, 0)\"}}, {\"x\": [1.0], \"y\": [1.0], \"text\": [\"\\u221e\"], \"textposition\": \"middle center\", \"hoverinfo\": \"none\", \"mode\": \"markers+text\", \"marker\": {\"size\": 20, \"color\": \"rgb(255, 255, 255)\", \"line\": {\"width\": 2, \"color\": \"rgb(0, 0, 0)\"}}, \"textfont\": {\"color\": \"rgb(0, 0, 0)\"}}, {\"x\": [0.5], \"y\": [0.0], \"text\": [\"\\u221e\"], \"textposition\": \"middle center\", \"hoverinfo\": \"none\", \"mode\": \"markers+text\", \"marker\": {\"size\": 20, \"color\": \"rgb(255, 255, 255)\", \"line\": {\"width\": 2, \"color\": \"rgb(0, 0, 0)\"}}, \"textfont\": {\"color\": \"rgb(0, 0, 0)\"}}, {\"x\": [1.0], \"y\": [0.0], \"text\": [\"\\u221e\"], \"textposition\": \"middle center\", \"hoverinfo\": \"none\", \"mode\": \"markers+text\", \"marker\": {\"size\": 20, \"color\": \"rgb(255, 255, 255)\", \"line\": {\"width\": 2, \"color\": \"rgb(0, 0, 0)\"}}, \"textfont\": {\"color\": \"rgb(0, 0, 0)\"}}], \"name\": 2}, {\"data\": [{\"x\": [0.0, 0.5, null, 0.46643085439538495, 0.44538388103556675, null, 0.46643085439538495, 0.4285584341548651, null], \"y\": [0.5, 1.0, null, 0.966430854395385, 0.906182816233176, null, 0.966430854395385, 0.967759498957256, null], \"hoverinfo\": \"none\", \"mode\": \"lines\", \"line\": {\"width\": 2, \"color\": \"rgb(0, 0, 0)\"}}, {\"x\": [0.0, 0.5, null, 0.46643085439538495, 0.4285584341548651, null, 0.46643085439538495, 0.44538388103556675, null], \"y\": [0.5, 0.0, null, 0.03356914560461503, 0.032240501042743994, null, 0.03356914560461503, 0.09381718376682407, null], \"hoverinfo\": \"none\", \"mode\": \"lines\", \"line\": {\"width\": 2, \"color\": \"rgb(0, 0, 0)\"}}, {\"x\": [0.5, 1.0, null, 0.9621212121212122, 0.9288794484132434, null, 0.9621212121212122, 0.9288794484132434, null], \"y\": [1.0, 1.0, null, 1.0, 0.9652590189417244, null, 1.0, 1.0347409810582755, null], \"hoverinfo\": \"none\", \"mode\": \"lines\", \"line\": {\"width\": 2, \"color\": \"rgb(0, 0, 0)\"}}, {\"x\": [0.5075757575757576, 0.5075757575757576, null, 0.5075757575757576, 0.5257358158562198, null], \"y\": [1.0, 0.0, null, 0.07246376811594203, 0.13605670738336034, null], \"hoverinfo\": \"none\", \"mode\": \"lines\", \"line\": {\"width\": 2, \"color\": \"rgb(0, 0, 0)\"}}, {\"x\": [1.0075757575757576, 1.0075757575757576, null, 1.0075757575757576, 1.0257358158562198, null], \"y\": [1.0, 0.0, null, 0.07246376811594203, 0.13605670738336034, null], \"hoverinfo\": \"none\", \"mode\": \"lines\", \"line\": {\"width\": 2, \"color\": \"rgb(0, 0, 0)\"}}, {\"x\": [0.49242424242424243, 0.49242424242424243, null, 0.49242424242424243, 0.4742641841437802, null], \"y\": [0.0, 1.0, null, 0.927536231884058, 0.8639432926166397, null], \"hoverinfo\": \"none\", \"mode\": \"lines\", \"line\": {\"width\": 2, \"color\": \"rgb(0, 0, 0)\"}}, {\"x\": [0.5, 1.0, null, 0.9738173240163878, 0.9639630823912474, null, 0.9738173240163878, 0.9377166459078401, null], \"y\": [0.0, 1.0, null, 0.9476346480327754, 0.8776659754484841, null, 0.9476346480327754, 0.9256934811496907, null], \"hoverinfo\": \"none\", \"mode\": \"lines\", \"line\": {\"width\": 2, \"color\": \"rgb(0, 0, 0)\"}}, {\"x\": [0.5, 1.0, null, 0.9621212121212122, 0.9288794484132434, null, 0.9621212121212122, 0.9288794484132434, null], \"y\": [0.0, 0.0, null, 0.0, -0.03474098105827558, null, 0.0, 0.03474098105827558, null], \"hoverinfo\": \"none\", \"mode\": \"lines\", \"line\": {\"width\": 2, \"color\": \"rgb(0, 0, 0)\"}}, {\"x\": [1.0, 0.0, null, 0.03664774299318793, 0.07340128670201525, null, 0.03664774299318793, 0.06421703965128427, null], \"y\": [0.0, 0.5, null, 0.481676128503406, 0.4992073320037643, null, 0.481676128503406, 0.4319835048195859, null], \"hoverinfo\": \"none\", \"mode\": \"lines\", \"line\": {\"width\": 2, \"color\": \"rgb(0, 0, 0)\"}}, {\"x\": [0.9924242424242424, 0.9924242424242424, null, 0.9924242424242424, 0.9742641841437802, null], \"y\": [0.0, 1.0, null, 0.927536231884058, 0.8639432926166397, null], \"hoverinfo\": \"none\", \"mode\": \"lines\", \"line\": {\"width\": 2, \"color\": \"rgb(0, 0, 0)\"}}, {\"x\": [0.0], \"y\": [0.5], \"text\": [\"0\"], \"textposition\": \"middle center\", \"hoverinfo\": \"none\", \"mode\": \"markers+text\", \"marker\": {\"size\": 20, \"color\": \"rgb(0, 255, 0)\", \"line\": {\"width\": 2, \"color\": \"rgb(0, 0, 0)\"}}, \"textfont\": {\"color\": \"rgb(0, 0, 0)\"}}, {\"x\": [0.5], \"y\": [1.0], \"text\": [\"10\"], \"textposition\": \"middle center\", \"hoverinfo\": \"none\", \"mode\": \"markers+text\", \"marker\": {\"size\": 20, \"color\": \"rgb(255, 255, 255)\", \"line\": {\"width\": 2, \"color\": \"rgb(0, 0, 0)\"}}, \"textfont\": {\"color\": \"rgb(0, 0, 0)\"}}, {\"x\": [1.0], \"y\": [1.0], \"text\": [\"\\u221e\"], \"textposition\": \"middle center\", \"hoverinfo\": \"none\", \"mode\": \"markers+text\", \"marker\": {\"size\": 20, \"color\": \"rgb(255, 255, 255)\", \"line\": {\"width\": 2, \"color\": \"rgb(0, 0, 0)\"}}, \"textfont\": {\"color\": \"rgb(0, 0, 0)\"}}, {\"x\": [0.5], \"y\": [0.0], \"text\": [\"\\u221e\"], \"textposition\": \"middle center\", \"hoverinfo\": \"none\", \"mode\": \"markers+text\", \"marker\": {\"size\": 20, \"color\": \"rgb(255, 255, 255)\", \"line\": {\"width\": 2, \"color\": \"rgb(0, 0, 0)\"}}, \"textfont\": {\"color\": \"rgb(0, 0, 0)\"}}, {\"x\": [1.0], \"y\": [0.0], \"text\": [\"\\u221e\"], \"textposition\": \"middle center\", \"hoverinfo\": \"none\", \"mode\": \"markers+text\", \"marker\": {\"size\": 20, \"color\": \"rgb(255, 255, 255)\", \"line\": {\"width\": 2, \"color\": \"rgb(0, 0, 0)\"}}, \"textfont\": {\"color\": \"rgb(0, 0, 0)\"}}], \"name\": 3}, {\"data\": [{\"x\": [0.0, 0.5, null, 0.46643085439538495, 0.44538388103556675, null, 0.46643085439538495, 0.4285584341548651, null], \"y\": [0.5, 1.0, null, 0.966430854395385, 0.906182816233176, null, 0.966430854395385, 0.967759498957256, null], \"hoverinfo\": \"none\", \"mode\": \"lines\", \"line\": {\"width\": 2, \"color\": \"rgb(0, 0, 0)\"}}, {\"x\": [0.0, 0.5, null, 0.46643085439538495, 0.4285584341548651, null, 0.46643085439538495, 0.44538388103556675, null], \"y\": [0.5, 0.0, null, 0.03356914560461503, 0.032240501042743994, null, 0.03356914560461503, 0.09381718376682407, null], \"hoverinfo\": \"none\", \"mode\": \"lines\", \"line\": {\"width\": 2, \"color\": \"rgb(255, 0, 0)\"}}, {\"x\": [0.5, 1.0, null, 0.9621212121212122, 0.9288794484132434, null, 0.9621212121212122, 0.9288794484132434, null], \"y\": [1.0, 1.0, null, 1.0, 0.9652590189417244, null, 1.0, 1.0347409810582755, null], \"hoverinfo\": \"none\", \"mode\": \"lines\", \"line\": {\"width\": 2, \"color\": \"rgb(0, 0, 0)\"}}, {\"x\": [0.5075757575757576, 0.5075757575757576, null, 0.5075757575757576, 0.5257358158562198, null], \"y\": [1.0, 0.0, null, 0.07246376811594203, 0.13605670738336034, null], \"hoverinfo\": \"none\", \"mode\": \"lines\", \"line\": {\"width\": 2, \"color\": \"rgb(0, 0, 0)\"}}, {\"x\": [1.0075757575757576, 1.0075757575757576, null, 1.0075757575757576, 1.0257358158562198, null], \"y\": [1.0, 0.0, null, 0.07246376811594203, 0.13605670738336034, null], \"hoverinfo\": \"none\", \"mode\": \"lines\", \"line\": {\"width\": 2, \"color\": \"rgb(0, 0, 0)\"}}, {\"x\": [0.49242424242424243, 0.49242424242424243, null, 0.49242424242424243, 0.4742641841437802, null], \"y\": [0.0, 1.0, null, 0.927536231884058, 0.8639432926166397, null], \"hoverinfo\": \"none\", \"mode\": \"lines\", \"line\": {\"width\": 2, \"color\": \"rgb(0, 0, 0)\"}}, {\"x\": [0.5, 1.0, null, 0.9738173240163878, 0.9639630823912474, null, 0.9738173240163878, 0.9377166459078401, null], \"y\": [0.0, 1.0, null, 0.9476346480327754, 0.8776659754484841, null, 0.9476346480327754, 0.9256934811496907, null], \"hoverinfo\": \"none\", \"mode\": \"lines\", \"line\": {\"width\": 2, \"color\": \"rgb(0, 0, 0)\"}}, {\"x\": [0.5, 1.0, null, 0.9621212121212122, 0.9288794484132434, null, 0.9621212121212122, 0.9288794484132434, null], \"y\": [0.0, 0.0, null, 0.0, -0.03474098105827558, null, 0.0, 0.03474098105827558, null], \"hoverinfo\": \"none\", \"mode\": \"lines\", \"line\": {\"width\": 2, \"color\": \"rgb(0, 0, 0)\"}}, {\"x\": [1.0, 0.0, null, 0.03664774299318793, 0.07340128670201525, null, 0.03664774299318793, 0.06421703965128427, null], \"y\": [0.0, 0.5, null, 0.481676128503406, 0.4992073320037643, null, 0.481676128503406, 0.4319835048195859, null], \"hoverinfo\": \"none\", \"mode\": \"lines\", \"line\": {\"width\": 2, \"color\": \"rgb(0, 0, 0)\"}}, {\"x\": [0.9924242424242424, 0.9924242424242424, null, 0.9924242424242424, 0.9742641841437802, null], \"y\": [0.0, 1.0, null, 0.927536231884058, 0.8639432926166397, null], \"hoverinfo\": \"none\", \"mode\": \"lines\", \"line\": {\"width\": 2, \"color\": \"rgb(0, 0, 0)\"}}, {\"x\": [0.0], \"y\": [0.5], \"text\": [\"0\"], \"textposition\": \"middle center\", \"hoverinfo\": \"none\", \"mode\": \"markers+text\", \"marker\": {\"size\": 20, \"color\": \"rgb(0, 255, 0)\", \"line\": {\"width\": 2, \"color\": \"rgb(0, 0, 0)\"}}, \"textfont\": {\"color\": \"rgb(0, 0, 0)\"}}, {\"x\": [0.5], \"y\": [1.0], \"text\": [\"10\"], \"textposition\": \"middle center\", \"hoverinfo\": \"none\", \"mode\": \"markers+text\", \"marker\": {\"size\": 20, \"color\": \"rgb(255, 255, 255)\", \"line\": {\"width\": 2, \"color\": \"rgb(0, 0, 0)\"}}, \"textfont\": {\"color\": \"rgb(0, 0, 0)\"}}, {\"x\": [1.0], \"y\": [1.0], \"text\": [\"\\u221e\"], \"textposition\": \"middle center\", \"hoverinfo\": \"none\", \"mode\": \"markers+text\", \"marker\": {\"size\": 20, \"color\": \"rgb(255, 255, 255)\", \"line\": {\"width\": 2, \"color\": \"rgb(0, 0, 0)\"}}, \"textfont\": {\"color\": \"rgb(0, 0, 0)\"}}, {\"x\": [0.5], \"y\": [0.0], \"text\": [\"\\u221e\"], \"textposition\": \"middle center\", \"hoverinfo\": \"none\", \"mode\": \"markers+text\", \"marker\": {\"size\": 20, \"color\": \"rgb(255, 255, 255)\", \"line\": {\"width\": 2, \"color\": \"rgb(0, 0, 0)\"}}, \"textfont\": {\"color\": \"rgb(0, 0, 0)\"}}, {\"x\": [1.0], \"y\": [0.0], \"text\": [\"\\u221e\"], \"textposition\": \"middle center\", \"hoverinfo\": \"none\", \"mode\": \"markers+text\", \"marker\": {\"size\": 20, \"color\": \"rgb(255, 255, 255)\", \"line\": {\"width\": 2, \"color\": \"rgb(0, 0, 0)\"}}, \"textfont\": {\"color\": \"rgb(0, 0, 0)\"}}], \"name\": 4}, {\"data\": [{\"x\": [0.0, 0.5, null, 0.46643085439538495, 0.44538388103556675, null, 0.46643085439538495, 0.4285584341548651, null], \"y\": [0.5, 1.0, null, 0.966430854395385, 0.906182816233176, null, 0.966430854395385, 0.967759498957256, null], \"hoverinfo\": \"none\", \"mode\": \"lines\", \"line\": {\"width\": 2, \"color\": \"rgb(0, 0, 0)\"}}, {\"x\": [0.0, 0.5, null, 0.46643085439538495, 0.4285584341548651, null, 0.46643085439538495, 0.44538388103556675, null], \"y\": [0.5, 0.0, null, 0.03356914560461503, 0.032240501042743994, null, 0.03356914560461503, 0.09381718376682407, null], \"hoverinfo\": \"none\", \"mode\": \"lines\", \"line\": {\"width\": 2, \"color\": \"rgb(0, 0, 0)\"}}, {\"x\": [0.5, 1.0, null, 0.9621212121212122, 0.9288794484132434, null, 0.9621212121212122, 0.9288794484132434, null], \"y\": [1.0, 1.0, null, 1.0, 0.9652590189417244, null, 1.0, 1.0347409810582755, null], \"hoverinfo\": \"none\", \"mode\": \"lines\", \"line\": {\"width\": 2, \"color\": \"rgb(0, 0, 0)\"}}, {\"x\": [0.5075757575757576, 0.5075757575757576, null, 0.5075757575757576, 0.5257358158562198, null], \"y\": [1.0, 0.0, null, 0.07246376811594203, 0.13605670738336034, null], \"hoverinfo\": \"none\", \"mode\": \"lines\", \"line\": {\"width\": 2, \"color\": \"rgb(0, 0, 0)\"}}, {\"x\": [1.0075757575757576, 1.0075757575757576, null, 1.0075757575757576, 1.0257358158562198, null], \"y\": [1.0, 0.0, null, 0.07246376811594203, 0.13605670738336034, null], \"hoverinfo\": \"none\", \"mode\": \"lines\", \"line\": {\"width\": 2, \"color\": \"rgb(0, 0, 0)\"}}, {\"x\": [0.49242424242424243, 0.49242424242424243, null, 0.49242424242424243, 0.4742641841437802, null], \"y\": [0.0, 1.0, null, 0.927536231884058, 0.8639432926166397, null], \"hoverinfo\": \"none\", \"mode\": \"lines\", \"line\": {\"width\": 2, \"color\": \"rgb(0, 0, 0)\"}}, {\"x\": [0.5, 1.0, null, 0.9738173240163878, 0.9639630823912474, null, 0.9738173240163878, 0.9377166459078401, null], \"y\": [0.0, 1.0, null, 0.9476346480327754, 0.8776659754484841, null, 0.9476346480327754, 0.9256934811496907, null], \"hoverinfo\": \"none\", \"mode\": \"lines\", \"line\": {\"width\": 2, \"color\": \"rgb(0, 0, 0)\"}}, {\"x\": [0.5, 1.0, null, 0.9621212121212122, 0.9288794484132434, null, 0.9621212121212122, 0.9288794484132434, null], \"y\": [0.0, 0.0, null, 0.0, -0.03474098105827558, null, 0.0, 0.03474098105827558, null], \"hoverinfo\": \"none\", \"mode\": \"lines\", \"line\": {\"width\": 2, \"color\": \"rgb(0, 0, 0)\"}}, {\"x\": [1.0, 0.0, null, 0.03664774299318793, 0.07340128670201525, null, 0.03664774299318793, 0.06421703965128427, null], \"y\": [0.0, 0.5, null, 0.481676128503406, 0.4992073320037643, null, 0.481676128503406, 0.4319835048195859, null], \"hoverinfo\": \"none\", \"mode\": \"lines\", \"line\": {\"width\": 2, \"color\": \"rgb(0, 0, 0)\"}}, {\"x\": [0.9924242424242424, 0.9924242424242424, null, 0.9924242424242424, 0.9742641841437802, null], \"y\": [0.0, 1.0, null, 0.927536231884058, 0.8639432926166397, null], \"hoverinfo\": \"none\", \"mode\": \"lines\", \"line\": {\"width\": 2, \"color\": \"rgb(0, 0, 0)\"}}, {\"x\": [0.0], \"y\": [0.5], \"text\": [\"0\"], \"textposition\": \"middle center\", \"hoverinfo\": \"none\", \"mode\": \"markers+text\", \"marker\": {\"size\": 20, \"color\": \"rgb(0, 255, 0)\", \"line\": {\"width\": 2, \"color\": \"rgb(0, 0, 0)\"}}, \"textfont\": {\"color\": \"rgb(0, 0, 0)\"}}, {\"x\": [0.5], \"y\": [1.0], \"text\": [\"10\"], \"textposition\": \"middle center\", \"hoverinfo\": \"none\", \"mode\": \"markers+text\", \"marker\": {\"size\": 20, \"color\": \"rgb(255, 255, 255)\", \"line\": {\"width\": 2, \"color\": \"rgb(0, 0, 0)\"}}, \"textfont\": {\"color\": \"rgb(0, 0, 0)\"}}, {\"x\": [1.0], \"y\": [1.0], \"text\": [\"\\u221e\"], \"textposition\": \"middle center\", \"hoverinfo\": \"none\", \"mode\": \"markers+text\", \"marker\": {\"size\": 20, \"color\": \"rgb(255, 255, 255)\", \"line\": {\"width\": 2, \"color\": \"rgb(0, 0, 0)\"}}, \"textfont\": {\"color\": \"rgb(0, 0, 0)\"}}, {\"x\": [0.5], \"y\": [0.0], \"text\": [\"5\"], \"textposition\": \"middle center\", \"hoverinfo\": \"none\", \"mode\": \"markers+text\", \"marker\": {\"size\": 20, \"color\": \"rgb(255, 255, 255)\", \"line\": {\"width\": 2, \"color\": \"rgb(0, 0, 0)\"}}, \"textfont\": {\"color\": \"rgb(0, 0, 0)\"}}, {\"x\": [1.0], \"y\": [0.0], \"text\": [\"\\u221e\"], \"textposition\": \"middle center\", \"hoverinfo\": \"none\", \"mode\": \"markers+text\", \"marker\": {\"size\": 20, \"color\": \"rgb(255, 255, 255)\", \"line\": {\"width\": 2, \"color\": \"rgb(0, 0, 0)\"}}, \"textfont\": {\"color\": \"rgb(0, 0, 0)\"}}], \"name\": 5}, {\"data\": [{\"x\": [0.0, 0.5, null, 0.46643085439538495, 0.44538388103556675, null, 0.46643085439538495, 0.4285584341548651, null], \"y\": [0.5, 1.0, null, 0.966430854395385, 0.906182816233176, null, 0.966430854395385, 0.967759498957256, null], \"hoverinfo\": \"none\", \"mode\": \"lines\", \"line\": {\"width\": 2, \"color\": \"rgb(0, 0, 0)\"}}, {\"x\": [0.0, 0.5, null, 0.46643085439538495, 0.4285584341548651, null, 0.46643085439538495, 0.44538388103556675, null], \"y\": [0.5, 0.0, null, 0.03356914560461503, 0.032240501042743994, null, 0.03356914560461503, 0.09381718376682407, null], \"hoverinfo\": \"none\", \"mode\": \"lines\", \"line\": {\"width\": 2, \"color\": \"rgb(0, 0, 0)\"}}, {\"x\": [0.5, 1.0, null, 0.9621212121212122, 0.9288794484132434, null, 0.9621212121212122, 0.9288794484132434, null], \"y\": [1.0, 1.0, null, 1.0, 0.9652590189417244, null, 1.0, 1.0347409810582755, null], \"hoverinfo\": \"none\", \"mode\": \"lines\", \"line\": {\"width\": 2, \"color\": \"rgb(0, 0, 0)\"}}, {\"x\": [0.5075757575757576, 0.5075757575757576, null, 0.5075757575757576, 0.5257358158562198, null], \"y\": [1.0, 0.0, null, 0.07246376811594203, 0.13605670738336034, null], \"hoverinfo\": \"none\", \"mode\": \"lines\", \"line\": {\"width\": 2, \"color\": \"rgb(0, 0, 0)\"}}, {\"x\": [1.0075757575757576, 1.0075757575757576, null, 1.0075757575757576, 1.0257358158562198, null], \"y\": [1.0, 0.0, null, 0.07246376811594203, 0.13605670738336034, null], \"hoverinfo\": \"none\", \"mode\": \"lines\", \"line\": {\"width\": 2, \"color\": \"rgb(0, 0, 0)\"}}, {\"x\": [0.49242424242424243, 0.49242424242424243, null, 0.49242424242424243, 0.4742641841437802, null], \"y\": [0.0, 1.0, null, 0.927536231884058, 0.8639432926166397, null], \"hoverinfo\": \"none\", \"mode\": \"lines\", \"line\": {\"width\": 2, \"color\": \"rgb(0, 0, 0)\"}}, {\"x\": [0.5, 1.0, null, 0.9738173240163878, 0.9639630823912474, null, 0.9738173240163878, 0.9377166459078401, null], \"y\": [0.0, 1.0, null, 0.9476346480327754, 0.8776659754484841, null, 0.9476346480327754, 0.9256934811496907, null], \"hoverinfo\": \"none\", \"mode\": \"lines\", \"line\": {\"width\": 2, \"color\": \"rgb(0, 0, 0)\"}}, {\"x\": [0.5, 1.0, null, 0.9621212121212122, 0.9288794484132434, null, 0.9621212121212122, 0.9288794484132434, null], \"y\": [0.0, 0.0, null, 0.0, -0.03474098105827558, null, 0.0, 0.03474098105827558, null], \"hoverinfo\": \"none\", \"mode\": \"lines\", \"line\": {\"width\": 2, \"color\": \"rgb(0, 0, 0)\"}}, {\"x\": [1.0, 0.0, null, 0.03664774299318793, 0.07340128670201525, null, 0.03664774299318793, 0.06421703965128427, null], \"y\": [0.0, 0.5, null, 0.481676128503406, 0.4992073320037643, null, 0.481676128503406, 0.4319835048195859, null], \"hoverinfo\": \"none\", \"mode\": \"lines\", \"line\": {\"width\": 2, \"color\": \"rgb(0, 0, 0)\"}}, {\"x\": [0.9924242424242424, 0.9924242424242424, null, 0.9924242424242424, 0.9742641841437802, null], \"y\": [0.0, 1.0, null, 0.927536231884058, 0.8639432926166397, null], \"hoverinfo\": \"none\", \"mode\": \"lines\", \"line\": {\"width\": 2, \"color\": \"rgb(0, 0, 0)\"}}, {\"x\": [0.0], \"y\": [0.5], \"text\": [\"0\"], \"textposition\": \"middle center\", \"hoverinfo\": \"none\", \"mode\": \"markers+text\", \"marker\": {\"size\": 20, \"color\": \"rgb(0, 0, 255)\", \"line\": {\"width\": 2, \"color\": \"rgb(0, 0, 0)\"}}, \"textfont\": {\"color\": \"rgb(255, 255, 255)\"}}, {\"x\": [0.5], \"y\": [1.0], \"text\": [\"10\"], \"textposition\": \"middle center\", \"hoverinfo\": \"none\", \"mode\": \"markers+text\", \"marker\": {\"size\": 20, \"color\": \"rgb(255, 255, 255)\", \"line\": {\"width\": 2, \"color\": \"rgb(0, 0, 0)\"}}, \"textfont\": {\"color\": \"rgb(0, 0, 0)\"}}, {\"x\": [1.0], \"y\": [1.0], \"text\": [\"\\u221e\"], \"textposition\": \"middle center\", \"hoverinfo\": \"none\", \"mode\": \"markers+text\", \"marker\": {\"size\": 20, \"color\": \"rgb(255, 255, 255)\", \"line\": {\"width\": 2, \"color\": \"rgb(0, 0, 0)\"}}, \"textfont\": {\"color\": \"rgb(0, 0, 0)\"}}, {\"x\": [0.5], \"y\": [0.0], \"text\": [\"5\"], \"textposition\": \"middle center\", \"hoverinfo\": \"none\", \"mode\": \"markers+text\", \"marker\": {\"size\": 20, \"color\": \"rgb(255, 255, 255)\", \"line\": {\"width\": 2, \"color\": \"rgb(0, 0, 0)\"}}, \"textfont\": {\"color\": \"rgb(0, 0, 0)\"}}, {\"x\": [1.0], \"y\": [0.0], \"text\": [\"\\u221e\"], \"textposition\": \"middle center\", \"hoverinfo\": \"none\", \"mode\": \"markers+text\", \"marker\": {\"size\": 20, \"color\": \"rgb(255, 255, 255)\", \"line\": {\"width\": 2, \"color\": \"rgb(0, 0, 0)\"}}, \"textfont\": {\"color\": \"rgb(0, 0, 0)\"}}], \"name\": 6}, {\"data\": [{\"x\": [0.0, 0.5, null, 0.46643085439538495, 0.44538388103556675, null, 0.46643085439538495, 0.4285584341548651, null], \"y\": [0.5, 1.0, null, 0.966430854395385, 0.906182816233176, null, 0.966430854395385, 0.967759498957256, null], \"hoverinfo\": \"none\", \"mode\": \"lines\", \"line\": {\"width\": 2, \"color\": \"rgb(0, 0, 0)\"}}, {\"x\": [0.0, 0.5, null, 0.46643085439538495, 0.4285584341548651, null, 0.46643085439538495, 0.44538388103556675, null], \"y\": [0.5, 0.0, null, 0.03356914560461503, 0.032240501042743994, null, 0.03356914560461503, 0.09381718376682407, null], \"hoverinfo\": \"none\", \"mode\": \"lines\", \"line\": {\"width\": 2, \"color\": \"rgb(0, 0, 0)\"}}, {\"x\": [0.5, 1.0, null, 0.9621212121212122, 0.9288794484132434, null, 0.9621212121212122, 0.9288794484132434, null], \"y\": [1.0, 1.0, null, 1.0, 0.9652590189417244, null, 1.0, 1.0347409810582755, null], \"hoverinfo\": \"none\", \"mode\": \"lines\", \"line\": {\"width\": 2, \"color\": \"rgb(0, 0, 0)\"}}, {\"x\": [0.5075757575757576, 0.5075757575757576, null, 0.5075757575757576, 0.5257358158562198, null], \"y\": [1.0, 0.0, null, 0.07246376811594203, 0.13605670738336034, null], \"hoverinfo\": \"none\", \"mode\": \"lines\", \"line\": {\"width\": 2, \"color\": \"rgb(0, 0, 0)\"}}, {\"x\": [1.0075757575757576, 1.0075757575757576, null, 1.0075757575757576, 1.0257358158562198, null], \"y\": [1.0, 0.0, null, 0.07246376811594203, 0.13605670738336034, null], \"hoverinfo\": \"none\", \"mode\": \"lines\", \"line\": {\"width\": 2, \"color\": \"rgb(0, 0, 0)\"}}, {\"x\": [0.49242424242424243, 0.49242424242424243, null, 0.49242424242424243, 0.4742641841437802, null], \"y\": [0.0, 1.0, null, 0.927536231884058, 0.8639432926166397, null], \"hoverinfo\": \"none\", \"mode\": \"lines\", \"line\": {\"width\": 2, \"color\": \"rgb(0, 0, 0)\"}}, {\"x\": [0.5, 1.0, null, 0.9738173240163878, 0.9639630823912474, null, 0.9738173240163878, 0.9377166459078401, null], \"y\": [0.0, 1.0, null, 0.9476346480327754, 0.8776659754484841, null, 0.9476346480327754, 0.9256934811496907, null], \"hoverinfo\": \"none\", \"mode\": \"lines\", \"line\": {\"width\": 2, \"color\": \"rgb(0, 0, 0)\"}}, {\"x\": [0.5, 1.0, null, 0.9621212121212122, 0.9288794484132434, null, 0.9621212121212122, 0.9288794484132434, null], \"y\": [0.0, 0.0, null, 0.0, -0.03474098105827558, null, 0.0, 0.03474098105827558, null], \"hoverinfo\": \"none\", \"mode\": \"lines\", \"line\": {\"width\": 2, \"color\": \"rgb(0, 0, 0)\"}}, {\"x\": [1.0, 0.0, null, 0.03664774299318793, 0.07340128670201525, null, 0.03664774299318793, 0.06421703965128427, null], \"y\": [0.0, 0.5, null, 0.481676128503406, 0.4992073320037643, null, 0.481676128503406, 0.4319835048195859, null], \"hoverinfo\": \"none\", \"mode\": \"lines\", \"line\": {\"width\": 2, \"color\": \"rgb(0, 0, 0)\"}}, {\"x\": [0.9924242424242424, 0.9924242424242424, null, 0.9924242424242424, 0.9742641841437802, null], \"y\": [0.0, 1.0, null, 0.927536231884058, 0.8639432926166397, null], \"hoverinfo\": \"none\", \"mode\": \"lines\", \"line\": {\"width\": 2, \"color\": \"rgb(0, 0, 0)\"}}, {\"x\": [0.0], \"y\": [0.5], \"text\": [\"0\"], \"textposition\": \"middle center\", \"hoverinfo\": \"none\", \"mode\": \"markers+text\", \"marker\": {\"size\": 20, \"color\": \"rgb(0, 0, 255)\", \"line\": {\"width\": 2, \"color\": \"rgb(0, 0, 0)\"}}, \"textfont\": {\"color\": \"rgb(255, 255, 255)\"}}, {\"x\": [0.5], \"y\": [1.0], \"text\": [\"10\"], \"textposition\": \"middle center\", \"hoverinfo\": \"none\", \"mode\": \"markers+text\", \"marker\": {\"size\": 20, \"color\": \"rgb(255, 255, 255)\", \"line\": {\"width\": 2, \"color\": \"rgb(0, 0, 0)\"}}, \"textfont\": {\"color\": \"rgb(0, 0, 0)\"}}, {\"x\": [1.0], \"y\": [1.0], \"text\": [\"\\u221e\"], \"textposition\": \"middle center\", \"hoverinfo\": \"none\", \"mode\": \"markers+text\", \"marker\": {\"size\": 20, \"color\": \"rgb(255, 255, 255)\", \"line\": {\"width\": 2, \"color\": \"rgb(0, 0, 0)\"}}, \"textfont\": {\"color\": \"rgb(0, 0, 0)\"}}, {\"x\": [0.5], \"y\": [0.0], \"text\": [\"5\"], \"textposition\": \"middle center\", \"hoverinfo\": \"none\", \"mode\": \"markers+text\", \"marker\": {\"size\": 20, \"color\": \"rgb(0, 255, 0)\", \"line\": {\"width\": 2, \"color\": \"rgb(0, 0, 0)\"}}, \"textfont\": {\"color\": \"rgb(0, 0, 0)\"}}, {\"x\": [1.0], \"y\": [0.0], \"text\": [\"\\u221e\"], \"textposition\": \"middle center\", \"hoverinfo\": \"none\", \"mode\": \"markers+text\", \"marker\": {\"size\": 20, \"color\": \"rgb(255, 255, 255)\", \"line\": {\"width\": 2, \"color\": \"rgb(0, 0, 0)\"}}, \"textfont\": {\"color\": \"rgb(0, 0, 0)\"}}], \"name\": 7}, {\"data\": [{\"x\": [0.0, 0.5, null, 0.46643085439538495, 0.44538388103556675, null, 0.46643085439538495, 0.4285584341548651, null], \"y\": [0.5, 1.0, null, 0.966430854395385, 0.906182816233176, null, 0.966430854395385, 0.967759498957256, null], \"hoverinfo\": \"none\", \"mode\": \"lines\", \"line\": {\"width\": 2, \"color\": \"rgb(0, 0, 0)\"}}, {\"x\": [0.0, 0.5, null, 0.46643085439538495, 0.4285584341548651, null, 0.46643085439538495, 0.44538388103556675, null], \"y\": [0.5, 0.0, null, 0.03356914560461503, 0.032240501042743994, null, 0.03356914560461503, 0.09381718376682407, null], \"hoverinfo\": \"none\", \"mode\": \"lines\", \"line\": {\"width\": 2, \"color\": \"rgb(0, 0, 0)\"}}, {\"x\": [0.5, 1.0, null, 0.9621212121212122, 0.9288794484132434, null, 0.9621212121212122, 0.9288794484132434, null], \"y\": [1.0, 1.0, null, 1.0, 0.9652590189417244, null, 1.0, 1.0347409810582755, null], \"hoverinfo\": \"none\", \"mode\": \"lines\", \"line\": {\"width\": 2, \"color\": \"rgb(0, 0, 0)\"}}, {\"x\": [0.5075757575757576, 0.5075757575757576, null, 0.5075757575757576, 0.5257358158562198, null], \"y\": [1.0, 0.0, null, 0.07246376811594203, 0.13605670738336034, null], \"hoverinfo\": \"none\", \"mode\": \"lines\", \"line\": {\"width\": 2, \"color\": \"rgb(0, 0, 0)\"}}, {\"x\": [1.0075757575757576, 1.0075757575757576, null, 1.0075757575757576, 1.0257358158562198, null], \"y\": [1.0, 0.0, null, 0.07246376811594203, 0.13605670738336034, null], \"hoverinfo\": \"none\", \"mode\": \"lines\", \"line\": {\"width\": 2, \"color\": \"rgb(0, 0, 0)\"}}, {\"x\": [0.49242424242424243, 0.49242424242424243, null, 0.49242424242424243, 0.4742641841437802, null], \"y\": [0.0, 1.0, null, 0.927536231884058, 0.8639432926166397, null], \"hoverinfo\": \"none\", \"mode\": \"lines\", \"line\": {\"width\": 2, \"color\": \"rgb(255, 0, 0)\"}}, {\"x\": [0.5, 1.0, null, 0.9738173240163878, 0.9639630823912474, null, 0.9738173240163878, 0.9377166459078401, null], \"y\": [0.0, 1.0, null, 0.9476346480327754, 0.8776659754484841, null, 0.9476346480327754, 0.9256934811496907, null], \"hoverinfo\": \"none\", \"mode\": \"lines\", \"line\": {\"width\": 2, \"color\": \"rgb(0, 0, 0)\"}}, {\"x\": [0.5, 1.0, null, 0.9621212121212122, 0.9288794484132434, null, 0.9621212121212122, 0.9288794484132434, null], \"y\": [0.0, 0.0, null, 0.0, -0.03474098105827558, null, 0.0, 0.03474098105827558, null], \"hoverinfo\": \"none\", \"mode\": \"lines\", \"line\": {\"width\": 2, \"color\": \"rgb(0, 0, 0)\"}}, {\"x\": [1.0, 0.0, null, 0.03664774299318793, 0.07340128670201525, null, 0.03664774299318793, 0.06421703965128427, null], \"y\": [0.0, 0.5, null, 0.481676128503406, 0.4992073320037643, null, 0.481676128503406, 0.4319835048195859, null], \"hoverinfo\": \"none\", \"mode\": \"lines\", \"line\": {\"width\": 2, \"color\": \"rgb(0, 0, 0)\"}}, {\"x\": [0.9924242424242424, 0.9924242424242424, null, 0.9924242424242424, 0.9742641841437802, null], \"y\": [0.0, 1.0, null, 0.927536231884058, 0.8639432926166397, null], \"hoverinfo\": \"none\", \"mode\": \"lines\", \"line\": {\"width\": 2, \"color\": \"rgb(0, 0, 0)\"}}, {\"x\": [0.0], \"y\": [0.5], \"text\": [\"0\"], \"textposition\": \"middle center\", \"hoverinfo\": \"none\", \"mode\": \"markers+text\", \"marker\": {\"size\": 20, \"color\": \"rgb(0, 0, 255)\", \"line\": {\"width\": 2, \"color\": \"rgb(0, 0, 0)\"}}, \"textfont\": {\"color\": \"rgb(255, 255, 255)\"}}, {\"x\": [0.5], \"y\": [1.0], \"text\": [\"10\"], \"textposition\": \"middle center\", \"hoverinfo\": \"none\", \"mode\": \"markers+text\", \"marker\": {\"size\": 20, \"color\": \"rgb(255, 255, 255)\", \"line\": {\"width\": 2, \"color\": \"rgb(0, 0, 0)\"}}, \"textfont\": {\"color\": \"rgb(0, 0, 0)\"}}, {\"x\": [1.0], \"y\": [1.0], \"text\": [\"\\u221e\"], \"textposition\": \"middle center\", \"hoverinfo\": \"none\", \"mode\": \"markers+text\", \"marker\": {\"size\": 20, \"color\": \"rgb(255, 255, 255)\", \"line\": {\"width\": 2, \"color\": \"rgb(0, 0, 0)\"}}, \"textfont\": {\"color\": \"rgb(0, 0, 0)\"}}, {\"x\": [0.5], \"y\": [0.0], \"text\": [\"5\"], \"textposition\": \"middle center\", \"hoverinfo\": \"none\", \"mode\": \"markers+text\", \"marker\": {\"size\": 20, \"color\": \"rgb(0, 255, 0)\", \"line\": {\"width\": 2, \"color\": \"rgb(0, 0, 0)\"}}, \"textfont\": {\"color\": \"rgb(0, 0, 0)\"}}, {\"x\": [1.0], \"y\": [0.0], \"text\": [\"\\u221e\"], \"textposition\": \"middle center\", \"hoverinfo\": \"none\", \"mode\": \"markers+text\", \"marker\": {\"size\": 20, \"color\": \"rgb(255, 255, 255)\", \"line\": {\"width\": 2, \"color\": \"rgb(0, 0, 0)\"}}, \"textfont\": {\"color\": \"rgb(0, 0, 0)\"}}], \"name\": 8}, {\"data\": [{\"x\": [0.0, 0.5, null, 0.46643085439538495, 0.44538388103556675, null, 0.46643085439538495, 0.4285584341548651, null], \"y\": [0.5, 1.0, null, 0.966430854395385, 0.906182816233176, null, 0.966430854395385, 0.967759498957256, null], \"hoverinfo\": \"none\", \"mode\": \"lines\", \"line\": {\"width\": 2, \"color\": \"rgb(0, 0, 0)\"}}, {\"x\": [0.0, 0.5, null, 0.46643085439538495, 0.4285584341548651, null, 0.46643085439538495, 0.44538388103556675, null], \"y\": [0.5, 0.0, null, 0.03356914560461503, 0.032240501042743994, null, 0.03356914560461503, 0.09381718376682407, null], \"hoverinfo\": \"none\", \"mode\": \"lines\", \"line\": {\"width\": 2, \"color\": \"rgb(0, 0, 0)\"}}, {\"x\": [0.5, 1.0, null, 0.9621212121212122, 0.9288794484132434, null, 0.9621212121212122, 0.9288794484132434, null], \"y\": [1.0, 1.0, null, 1.0, 0.9652590189417244, null, 1.0, 1.0347409810582755, null], \"hoverinfo\": \"none\", \"mode\": \"lines\", \"line\": {\"width\": 2, \"color\": \"rgb(0, 0, 0)\"}}, {\"x\": [0.5075757575757576, 0.5075757575757576, null, 0.5075757575757576, 0.5257358158562198, null], \"y\": [1.0, 0.0, null, 0.07246376811594203, 0.13605670738336034, null], \"hoverinfo\": \"none\", \"mode\": \"lines\", \"line\": {\"width\": 2, \"color\": \"rgb(0, 0, 0)\"}}, {\"x\": [1.0075757575757576, 1.0075757575757576, null, 1.0075757575757576, 1.0257358158562198, null], \"y\": [1.0, 0.0, null, 0.07246376811594203, 0.13605670738336034, null], \"hoverinfo\": \"none\", \"mode\": \"lines\", \"line\": {\"width\": 2, \"color\": \"rgb(0, 0, 0)\"}}, {\"x\": [0.49242424242424243, 0.49242424242424243, null, 0.49242424242424243, 0.4742641841437802, null], \"y\": [0.0, 1.0, null, 0.927536231884058, 0.8639432926166397, null], \"hoverinfo\": \"none\", \"mode\": \"lines\", \"line\": {\"width\": 2, \"color\": \"rgb(0, 0, 0)\"}}, {\"x\": [0.5, 1.0, null, 0.9738173240163878, 0.9639630823912474, null, 0.9738173240163878, 0.9377166459078401, null], \"y\": [0.0, 1.0, null, 0.9476346480327754, 0.8776659754484841, null, 0.9476346480327754, 0.9256934811496907, null], \"hoverinfo\": \"none\", \"mode\": \"lines\", \"line\": {\"width\": 2, \"color\": \"rgb(0, 0, 0)\"}}, {\"x\": [0.5, 1.0, null, 0.9621212121212122, 0.9288794484132434, null, 0.9621212121212122, 0.9288794484132434, null], \"y\": [0.0, 0.0, null, 0.0, -0.03474098105827558, null, 0.0, 0.03474098105827558, null], \"hoverinfo\": \"none\", \"mode\": \"lines\", \"line\": {\"width\": 2, \"color\": \"rgb(0, 0, 0)\"}}, {\"x\": [1.0, 0.0, null, 0.03664774299318793, 0.07340128670201525, null, 0.03664774299318793, 0.06421703965128427, null], \"y\": [0.0, 0.5, null, 0.481676128503406, 0.4992073320037643, null, 0.481676128503406, 0.4319835048195859, null], \"hoverinfo\": \"none\", \"mode\": \"lines\", \"line\": {\"width\": 2, \"color\": \"rgb(0, 0, 0)\"}}, {\"x\": [0.9924242424242424, 0.9924242424242424, null, 0.9924242424242424, 0.9742641841437802, null], \"y\": [0.0, 1.0, null, 0.927536231884058, 0.8639432926166397, null], \"hoverinfo\": \"none\", \"mode\": \"lines\", \"line\": {\"width\": 2, \"color\": \"rgb(0, 0, 0)\"}}, {\"x\": [0.0], \"y\": [0.5], \"text\": [\"0\"], \"textposition\": \"middle center\", \"hoverinfo\": \"none\", \"mode\": \"markers+text\", \"marker\": {\"size\": 20, \"color\": \"rgb(0, 0, 255)\", \"line\": {\"width\": 2, \"color\": \"rgb(0, 0, 0)\"}}, \"textfont\": {\"color\": \"rgb(255, 255, 255)\"}}, {\"x\": [0.5], \"y\": [1.0], \"text\": [\"8\"], \"textposition\": \"middle center\", \"hoverinfo\": \"none\", \"mode\": \"markers+text\", \"marker\": {\"size\": 20, \"color\": \"rgb(255, 255, 255)\", \"line\": {\"width\": 2, \"color\": \"rgb(0, 0, 0)\"}}, \"textfont\": {\"color\": \"rgb(0, 0, 0)\"}}, {\"x\": [1.0], \"y\": [1.0], \"text\": [\"\\u221e\"], \"textposition\": \"middle center\", \"hoverinfo\": \"none\", \"mode\": \"markers+text\", \"marker\": {\"size\": 20, \"color\": \"rgb(255, 255, 255)\", \"line\": {\"width\": 2, \"color\": \"rgb(0, 0, 0)\"}}, \"textfont\": {\"color\": \"rgb(0, 0, 0)\"}}, {\"x\": [0.5], \"y\": [0.0], \"text\": [\"5\"], \"textposition\": \"middle center\", \"hoverinfo\": \"none\", \"mode\": \"markers+text\", \"marker\": {\"size\": 20, \"color\": \"rgb(0, 255, 0)\", \"line\": {\"width\": 2, \"color\": \"rgb(0, 0, 0)\"}}, \"textfont\": {\"color\": \"rgb(0, 0, 0)\"}}, {\"x\": [1.0], \"y\": [0.0], \"text\": [\"\\u221e\"], \"textposition\": \"middle center\", \"hoverinfo\": \"none\", \"mode\": \"markers+text\", \"marker\": {\"size\": 20, \"color\": \"rgb(255, 255, 255)\", \"line\": {\"width\": 2, \"color\": \"rgb(0, 0, 0)\"}}, \"textfont\": {\"color\": \"rgb(0, 0, 0)\"}}], \"name\": 9}, {\"data\": [{\"x\": [0.0, 0.5, null, 0.46643085439538495, 0.44538388103556675, null, 0.46643085439538495, 0.4285584341548651, null], \"y\": [0.5, 1.0, null, 0.966430854395385, 0.906182816233176, null, 0.966430854395385, 0.967759498957256, null], \"hoverinfo\": \"none\", \"mode\": \"lines\", \"line\": {\"width\": 2, \"color\": \"rgb(0, 0, 0)\"}}, {\"x\": [0.0, 0.5, null, 0.46643085439538495, 0.4285584341548651, null, 0.46643085439538495, 0.44538388103556675, null], \"y\": [0.5, 0.0, null, 0.03356914560461503, 0.032240501042743994, null, 0.03356914560461503, 0.09381718376682407, null], \"hoverinfo\": \"none\", \"mode\": \"lines\", \"line\": {\"width\": 2, \"color\": \"rgb(0, 0, 0)\"}}, {\"x\": [0.5, 1.0, null, 0.9621212121212122, 0.9288794484132434, null, 0.9621212121212122, 0.9288794484132434, null], \"y\": [1.0, 1.0, null, 1.0, 0.9652590189417244, null, 1.0, 1.0347409810582755, null], \"hoverinfo\": \"none\", \"mode\": \"lines\", \"line\": {\"width\": 2, \"color\": \"rgb(0, 0, 0)\"}}, {\"x\": [0.5075757575757576, 0.5075757575757576, null, 0.5075757575757576, 0.5257358158562198, null], \"y\": [1.0, 0.0, null, 0.07246376811594203, 0.13605670738336034, null], \"hoverinfo\": \"none\", \"mode\": \"lines\", \"line\": {\"width\": 2, \"color\": \"rgb(0, 0, 0)\"}}, {\"x\": [1.0075757575757576, 1.0075757575757576, null, 1.0075757575757576, 1.0257358158562198, null], \"y\": [1.0, 0.0, null, 0.07246376811594203, 0.13605670738336034, null], \"hoverinfo\": \"none\", \"mode\": \"lines\", \"line\": {\"width\": 2, \"color\": \"rgb(0, 0, 0)\"}}, {\"x\": [0.49242424242424243, 0.49242424242424243, null, 0.49242424242424243, 0.4742641841437802, null], \"y\": [0.0, 1.0, null, 0.927536231884058, 0.8639432926166397, null], \"hoverinfo\": \"none\", \"mode\": \"lines\", \"line\": {\"width\": 2, \"color\": \"rgb(0, 0, 0)\"}}, {\"x\": [0.5, 1.0, null, 0.9738173240163878, 0.9639630823912474, null, 0.9738173240163878, 0.9377166459078401, null], \"y\": [0.0, 1.0, null, 0.9476346480327754, 0.8776659754484841, null, 0.9476346480327754, 0.9256934811496907, null], \"hoverinfo\": \"none\", \"mode\": \"lines\", \"line\": {\"width\": 2, \"color\": \"rgb(255, 0, 0)\"}}, {\"x\": [0.5, 1.0, null, 0.9621212121212122, 0.9288794484132434, null, 0.9621212121212122, 0.9288794484132434, null], \"y\": [0.0, 0.0, null, 0.0, -0.03474098105827558, null, 0.0, 0.03474098105827558, null], \"hoverinfo\": \"none\", \"mode\": \"lines\", \"line\": {\"width\": 2, \"color\": \"rgb(0, 0, 0)\"}}, {\"x\": [1.0, 0.0, null, 0.03664774299318793, 0.07340128670201525, null, 0.03664774299318793, 0.06421703965128427, null], \"y\": [0.0, 0.5, null, 0.481676128503406, 0.4992073320037643, null, 0.481676128503406, 0.4319835048195859, null], \"hoverinfo\": \"none\", \"mode\": \"lines\", \"line\": {\"width\": 2, \"color\": \"rgb(0, 0, 0)\"}}, {\"x\": [0.9924242424242424, 0.9924242424242424, null, 0.9924242424242424, 0.9742641841437802, null], \"y\": [0.0, 1.0, null, 0.927536231884058, 0.8639432926166397, null], \"hoverinfo\": \"none\", \"mode\": \"lines\", \"line\": {\"width\": 2, \"color\": \"rgb(0, 0, 0)\"}}, {\"x\": [0.0], \"y\": [0.5], \"text\": [\"0\"], \"textposition\": \"middle center\", \"hoverinfo\": \"none\", \"mode\": \"markers+text\", \"marker\": {\"size\": 20, \"color\": \"rgb(0, 0, 255)\", \"line\": {\"width\": 2, \"color\": \"rgb(0, 0, 0)\"}}, \"textfont\": {\"color\": \"rgb(255, 255, 255)\"}}, {\"x\": [0.5], \"y\": [1.0], \"text\": [\"8\"], \"textposition\": \"middle center\", \"hoverinfo\": \"none\", \"mode\": \"markers+text\", \"marker\": {\"size\": 20, \"color\": \"rgb(255, 255, 255)\", \"line\": {\"width\": 2, \"color\": \"rgb(0, 0, 0)\"}}, \"textfont\": {\"color\": \"rgb(0, 0, 0)\"}}, {\"x\": [1.0], \"y\": [1.0], \"text\": [\"\\u221e\"], \"textposition\": \"middle center\", \"hoverinfo\": \"none\", \"mode\": \"markers+text\", \"marker\": {\"size\": 20, \"color\": \"rgb(255, 255, 255)\", \"line\": {\"width\": 2, \"color\": \"rgb(0, 0, 0)\"}}, \"textfont\": {\"color\": \"rgb(0, 0, 0)\"}}, {\"x\": [0.5], \"y\": [0.0], \"text\": [\"5\"], \"textposition\": \"middle center\", \"hoverinfo\": \"none\", \"mode\": \"markers+text\", \"marker\": {\"size\": 20, \"color\": \"rgb(0, 255, 0)\", \"line\": {\"width\": 2, \"color\": \"rgb(0, 0, 0)\"}}, \"textfont\": {\"color\": \"rgb(0, 0, 0)\"}}, {\"x\": [1.0], \"y\": [0.0], \"text\": [\"\\u221e\"], \"textposition\": \"middle center\", \"hoverinfo\": \"none\", \"mode\": \"markers+text\", \"marker\": {\"size\": 20, \"color\": \"rgb(255, 255, 255)\", \"line\": {\"width\": 2, \"color\": \"rgb(0, 0, 0)\"}}, \"textfont\": {\"color\": \"rgb(0, 0, 0)\"}}], \"name\": 10}, {\"data\": [{\"x\": [0.0, 0.5, null, 0.46643085439538495, 0.44538388103556675, null, 0.46643085439538495, 0.4285584341548651, null], \"y\": [0.5, 1.0, null, 0.966430854395385, 0.906182816233176, null, 0.966430854395385, 0.967759498957256, null], \"hoverinfo\": \"none\", \"mode\": \"lines\", \"line\": {\"width\": 2, \"color\": \"rgb(0, 0, 0)\"}}, {\"x\": [0.0, 0.5, null, 0.46643085439538495, 0.4285584341548651, null, 0.46643085439538495, 0.44538388103556675, null], \"y\": [0.5, 0.0, null, 0.03356914560461503, 0.032240501042743994, null, 0.03356914560461503, 0.09381718376682407, null], \"hoverinfo\": \"none\", \"mode\": \"lines\", \"line\": {\"width\": 2, \"color\": \"rgb(0, 0, 0)\"}}, {\"x\": [0.5, 1.0, null, 0.9621212121212122, 0.9288794484132434, null, 0.9621212121212122, 0.9288794484132434, null], \"y\": [1.0, 1.0, null, 1.0, 0.9652590189417244, null, 1.0, 1.0347409810582755, null], \"hoverinfo\": \"none\", \"mode\": \"lines\", \"line\": {\"width\": 2, \"color\": \"rgb(0, 0, 0)\"}}, {\"x\": [0.5075757575757576, 0.5075757575757576, null, 0.5075757575757576, 0.5257358158562198, null], \"y\": [1.0, 0.0, null, 0.07246376811594203, 0.13605670738336034, null], \"hoverinfo\": \"none\", \"mode\": \"lines\", \"line\": {\"width\": 2, \"color\": \"rgb(0, 0, 0)\"}}, {\"x\": [1.0075757575757576, 1.0075757575757576, null, 1.0075757575757576, 1.0257358158562198, null], \"y\": [1.0, 0.0, null, 0.07246376811594203, 0.13605670738336034, null], \"hoverinfo\": \"none\", \"mode\": \"lines\", \"line\": {\"width\": 2, \"color\": \"rgb(0, 0, 0)\"}}, {\"x\": [0.49242424242424243, 0.49242424242424243, null, 0.49242424242424243, 0.4742641841437802, null], \"y\": [0.0, 1.0, null, 0.927536231884058, 0.8639432926166397, null], \"hoverinfo\": \"none\", \"mode\": \"lines\", \"line\": {\"width\": 2, \"color\": \"rgb(0, 0, 0)\"}}, {\"x\": [0.5, 1.0, null, 0.9738173240163878, 0.9639630823912474, null, 0.9738173240163878, 0.9377166459078401, null], \"y\": [0.0, 1.0, null, 0.9476346480327754, 0.8776659754484841, null, 0.9476346480327754, 0.9256934811496907, null], \"hoverinfo\": \"none\", \"mode\": \"lines\", \"line\": {\"width\": 2, \"color\": \"rgb(0, 0, 0)\"}}, {\"x\": [0.5, 1.0, null, 0.9621212121212122, 0.9288794484132434, null, 0.9621212121212122, 0.9288794484132434, null], \"y\": [0.0, 0.0, null, 0.0, -0.03474098105827558, null, 0.0, 0.03474098105827558, null], \"hoverinfo\": \"none\", \"mode\": \"lines\", \"line\": {\"width\": 2, \"color\": \"rgb(0, 0, 0)\"}}, {\"x\": [1.0, 0.0, null, 0.03664774299318793, 0.07340128670201525, null, 0.03664774299318793, 0.06421703965128427, null], \"y\": [0.0, 0.5, null, 0.481676128503406, 0.4992073320037643, null, 0.481676128503406, 0.4319835048195859, null], \"hoverinfo\": \"none\", \"mode\": \"lines\", \"line\": {\"width\": 2, \"color\": \"rgb(0, 0, 0)\"}}, {\"x\": [0.9924242424242424, 0.9924242424242424, null, 0.9924242424242424, 0.9742641841437802, null], \"y\": [0.0, 1.0, null, 0.927536231884058, 0.8639432926166397, null], \"hoverinfo\": \"none\", \"mode\": \"lines\", \"line\": {\"width\": 2, \"color\": \"rgb(0, 0, 0)\"}}, {\"x\": [0.0], \"y\": [0.5], \"text\": [\"0\"], \"textposition\": \"middle center\", \"hoverinfo\": \"none\", \"mode\": \"markers+text\", \"marker\": {\"size\": 20, \"color\": \"rgb(0, 0, 255)\", \"line\": {\"width\": 2, \"color\": \"rgb(0, 0, 0)\"}}, \"textfont\": {\"color\": \"rgb(255, 255, 255)\"}}, {\"x\": [0.5], \"y\": [1.0], \"text\": [\"8\"], \"textposition\": \"middle center\", \"hoverinfo\": \"none\", \"mode\": \"markers+text\", \"marker\": {\"size\": 20, \"color\": \"rgb(255, 255, 255)\", \"line\": {\"width\": 2, \"color\": \"rgb(0, 0, 0)\"}}, \"textfont\": {\"color\": \"rgb(0, 0, 0)\"}}, {\"x\": [1.0], \"y\": [1.0], \"text\": [\"14\"], \"textposition\": \"middle center\", \"hoverinfo\": \"none\", \"mode\": \"markers+text\", \"marker\": {\"size\": 20, \"color\": \"rgb(255, 255, 255)\", \"line\": {\"width\": 2, \"color\": \"rgb(0, 0, 0)\"}}, \"textfont\": {\"color\": \"rgb(0, 0, 0)\"}}, {\"x\": [0.5], \"y\": [0.0], \"text\": [\"5\"], \"textposition\": \"middle center\", \"hoverinfo\": \"none\", \"mode\": \"markers+text\", \"marker\": {\"size\": 20, \"color\": \"rgb(0, 255, 0)\", \"line\": {\"width\": 2, \"color\": \"rgb(0, 0, 0)\"}}, \"textfont\": {\"color\": \"rgb(0, 0, 0)\"}}, {\"x\": [1.0], \"y\": [0.0], \"text\": [\"\\u221e\"], \"textposition\": \"middle center\", \"hoverinfo\": \"none\", \"mode\": \"markers+text\", \"marker\": {\"size\": 20, \"color\": \"rgb(255, 255, 255)\", \"line\": {\"width\": 2, \"color\": \"rgb(0, 0, 0)\"}}, \"textfont\": {\"color\": \"rgb(0, 0, 0)\"}}], \"name\": 11}, {\"data\": [{\"x\": [0.0, 0.5, null, 0.46643085439538495, 0.44538388103556675, null, 0.46643085439538495, 0.4285584341548651, null], \"y\": [0.5, 1.0, null, 0.966430854395385, 0.906182816233176, null, 0.966430854395385, 0.967759498957256, null], \"hoverinfo\": \"none\", \"mode\": \"lines\", \"line\": {\"width\": 2, \"color\": \"rgb(0, 0, 0)\"}}, {\"x\": [0.0, 0.5, null, 0.46643085439538495, 0.4285584341548651, null, 0.46643085439538495, 0.44538388103556675, null], \"y\": [0.5, 0.0, null, 0.03356914560461503, 0.032240501042743994, null, 0.03356914560461503, 0.09381718376682407, null], \"hoverinfo\": \"none\", \"mode\": \"lines\", \"line\": {\"width\": 2, \"color\": \"rgb(0, 0, 0)\"}}, {\"x\": [0.5, 1.0, null, 0.9621212121212122, 0.9288794484132434, null, 0.9621212121212122, 0.9288794484132434, null], \"y\": [1.0, 1.0, null, 1.0, 0.9652590189417244, null, 1.0, 1.0347409810582755, null], \"hoverinfo\": \"none\", \"mode\": \"lines\", \"line\": {\"width\": 2, \"color\": \"rgb(0, 0, 0)\"}}, {\"x\": [0.5075757575757576, 0.5075757575757576, null, 0.5075757575757576, 0.5257358158562198, null], \"y\": [1.0, 0.0, null, 0.07246376811594203, 0.13605670738336034, null], \"hoverinfo\": \"none\", \"mode\": \"lines\", \"line\": {\"width\": 2, \"color\": \"rgb(0, 0, 0)\"}}, {\"x\": [1.0075757575757576, 1.0075757575757576, null, 1.0075757575757576, 1.0257358158562198, null], \"y\": [1.0, 0.0, null, 0.07246376811594203, 0.13605670738336034, null], \"hoverinfo\": \"none\", \"mode\": \"lines\", \"line\": {\"width\": 2, \"color\": \"rgb(0, 0, 0)\"}}, {\"x\": [0.49242424242424243, 0.49242424242424243, null, 0.49242424242424243, 0.4742641841437802, null], \"y\": [0.0, 1.0, null, 0.927536231884058, 0.8639432926166397, null], \"hoverinfo\": \"none\", \"mode\": \"lines\", \"line\": {\"width\": 2, \"color\": \"rgb(0, 0, 0)\"}}, {\"x\": [0.5, 1.0, null, 0.9738173240163878, 0.9639630823912474, null, 0.9738173240163878, 0.9377166459078401, null], \"y\": [0.0, 1.0, null, 0.9476346480327754, 0.8776659754484841, null, 0.9476346480327754, 0.9256934811496907, null], \"hoverinfo\": \"none\", \"mode\": \"lines\", \"line\": {\"width\": 2, \"color\": \"rgb(0, 0, 0)\"}}, {\"x\": [0.5, 1.0, null, 0.9621212121212122, 0.9288794484132434, null, 0.9621212121212122, 0.9288794484132434, null], \"y\": [0.0, 0.0, null, 0.0, -0.03474098105827558, null, 0.0, 0.03474098105827558, null], \"hoverinfo\": \"none\", \"mode\": \"lines\", \"line\": {\"width\": 2, \"color\": \"rgb(255, 0, 0)\"}}, {\"x\": [1.0, 0.0, null, 0.03664774299318793, 0.07340128670201525, null, 0.03664774299318793, 0.06421703965128427, null], \"y\": [0.0, 0.5, null, 0.481676128503406, 0.4992073320037643, null, 0.481676128503406, 0.4319835048195859, null], \"hoverinfo\": \"none\", \"mode\": \"lines\", \"line\": {\"width\": 2, \"color\": \"rgb(0, 0, 0)\"}}, {\"x\": [0.9924242424242424, 0.9924242424242424, null, 0.9924242424242424, 0.9742641841437802, null], \"y\": [0.0, 1.0, null, 0.927536231884058, 0.8639432926166397, null], \"hoverinfo\": \"none\", \"mode\": \"lines\", \"line\": {\"width\": 2, \"color\": \"rgb(0, 0, 0)\"}}, {\"x\": [0.0], \"y\": [0.5], \"text\": [\"0\"], \"textposition\": \"middle center\", \"hoverinfo\": \"none\", \"mode\": \"markers+text\", \"marker\": {\"size\": 20, \"color\": \"rgb(0, 0, 255)\", \"line\": {\"width\": 2, \"color\": \"rgb(0, 0, 0)\"}}, \"textfont\": {\"color\": \"rgb(255, 255, 255)\"}}, {\"x\": [0.5], \"y\": [1.0], \"text\": [\"8\"], \"textposition\": \"middle center\", \"hoverinfo\": \"none\", \"mode\": \"markers+text\", \"marker\": {\"size\": 20, \"color\": \"rgb(255, 255, 255)\", \"line\": {\"width\": 2, \"color\": \"rgb(0, 0, 0)\"}}, \"textfont\": {\"color\": \"rgb(0, 0, 0)\"}}, {\"x\": [1.0], \"y\": [1.0], \"text\": [\"14\"], \"textposition\": \"middle center\", \"hoverinfo\": \"none\", \"mode\": \"markers+text\", \"marker\": {\"size\": 20, \"color\": \"rgb(255, 255, 255)\", \"line\": {\"width\": 2, \"color\": \"rgb(0, 0, 0)\"}}, \"textfont\": {\"color\": \"rgb(0, 0, 0)\"}}, {\"x\": [0.5], \"y\": [0.0], \"text\": [\"5\"], \"textposition\": \"middle center\", \"hoverinfo\": \"none\", \"mode\": \"markers+text\", \"marker\": {\"size\": 20, \"color\": \"rgb(0, 255, 0)\", \"line\": {\"width\": 2, \"color\": \"rgb(0, 0, 0)\"}}, \"textfont\": {\"color\": \"rgb(0, 0, 0)\"}}, {\"x\": [1.0], \"y\": [0.0], \"text\": [\"\\u221e\"], \"textposition\": \"middle center\", \"hoverinfo\": \"none\", \"mode\": \"markers+text\", \"marker\": {\"size\": 20, \"color\": \"rgb(255, 255, 255)\", \"line\": {\"width\": 2, \"color\": \"rgb(0, 0, 0)\"}}, \"textfont\": {\"color\": \"rgb(0, 0, 0)\"}}], \"name\": 12}, {\"data\": [{\"x\": [0.0, 0.5, null, 0.46643085439538495, 0.44538388103556675, null, 0.46643085439538495, 0.4285584341548651, null], \"y\": [0.5, 1.0, null, 0.966430854395385, 0.906182816233176, null, 0.966430854395385, 0.967759498957256, null], \"hoverinfo\": \"none\", \"mode\": \"lines\", \"line\": {\"width\": 2, \"color\": \"rgb(0, 0, 0)\"}}, {\"x\": [0.0, 0.5, null, 0.46643085439538495, 0.4285584341548651, null, 0.46643085439538495, 0.44538388103556675, null], \"y\": [0.5, 0.0, null, 0.03356914560461503, 0.032240501042743994, null, 0.03356914560461503, 0.09381718376682407, null], \"hoverinfo\": \"none\", \"mode\": \"lines\", \"line\": {\"width\": 2, \"color\": \"rgb(0, 0, 0)\"}}, {\"x\": [0.5, 1.0, null, 0.9621212121212122, 0.9288794484132434, null, 0.9621212121212122, 0.9288794484132434, null], \"y\": [1.0, 1.0, null, 1.0, 0.9652590189417244, null, 1.0, 1.0347409810582755, null], \"hoverinfo\": \"none\", \"mode\": \"lines\", \"line\": {\"width\": 2, \"color\": \"rgb(0, 0, 0)\"}}, {\"x\": [0.5075757575757576, 0.5075757575757576, null, 0.5075757575757576, 0.5257358158562198, null], \"y\": [1.0, 0.0, null, 0.07246376811594203, 0.13605670738336034, null], \"hoverinfo\": \"none\", \"mode\": \"lines\", \"line\": {\"width\": 2, \"color\": \"rgb(0, 0, 0)\"}}, {\"x\": [1.0075757575757576, 1.0075757575757576, null, 1.0075757575757576, 1.0257358158562198, null], \"y\": [1.0, 0.0, null, 0.07246376811594203, 0.13605670738336034, null], \"hoverinfo\": \"none\", \"mode\": \"lines\", \"line\": {\"width\": 2, \"color\": \"rgb(0, 0, 0)\"}}, {\"x\": [0.49242424242424243, 0.49242424242424243, null, 0.49242424242424243, 0.4742641841437802, null], \"y\": [0.0, 1.0, null, 0.927536231884058, 0.8639432926166397, null], \"hoverinfo\": \"none\", \"mode\": \"lines\", \"line\": {\"width\": 2, \"color\": \"rgb(0, 0, 0)\"}}, {\"x\": [0.5, 1.0, null, 0.9738173240163878, 0.9639630823912474, null, 0.9738173240163878, 0.9377166459078401, null], \"y\": [0.0, 1.0, null, 0.9476346480327754, 0.8776659754484841, null, 0.9476346480327754, 0.9256934811496907, null], \"hoverinfo\": \"none\", \"mode\": \"lines\", \"line\": {\"width\": 2, \"color\": \"rgb(0, 0, 0)\"}}, {\"x\": [0.5, 1.0, null, 0.9621212121212122, 0.9288794484132434, null, 0.9621212121212122, 0.9288794484132434, null], \"y\": [0.0, 0.0, null, 0.0, -0.03474098105827558, null, 0.0, 0.03474098105827558, null], \"hoverinfo\": \"none\", \"mode\": \"lines\", \"line\": {\"width\": 2, \"color\": \"rgb(0, 0, 0)\"}}, {\"x\": [1.0, 0.0, null, 0.03664774299318793, 0.07340128670201525, null, 0.03664774299318793, 0.06421703965128427, null], \"y\": [0.0, 0.5, null, 0.481676128503406, 0.4992073320037643, null, 0.481676128503406, 0.4319835048195859, null], \"hoverinfo\": \"none\", \"mode\": \"lines\", \"line\": {\"width\": 2, \"color\": \"rgb(0, 0, 0)\"}}, {\"x\": [0.9924242424242424, 0.9924242424242424, null, 0.9924242424242424, 0.9742641841437802, null], \"y\": [0.0, 1.0, null, 0.927536231884058, 0.8639432926166397, null], \"hoverinfo\": \"none\", \"mode\": \"lines\", \"line\": {\"width\": 2, \"color\": \"rgb(0, 0, 0)\"}}, {\"x\": [0.0], \"y\": [0.5], \"text\": [\"0\"], \"textposition\": \"middle center\", \"hoverinfo\": \"none\", \"mode\": \"markers+text\", \"marker\": {\"size\": 20, \"color\": \"rgb(0, 0, 255)\", \"line\": {\"width\": 2, \"color\": \"rgb(0, 0, 0)\"}}, \"textfont\": {\"color\": \"rgb(255, 255, 255)\"}}, {\"x\": [0.5], \"y\": [1.0], \"text\": [\"8\"], \"textposition\": \"middle center\", \"hoverinfo\": \"none\", \"mode\": \"markers+text\", \"marker\": {\"size\": 20, \"color\": \"rgb(255, 255, 255)\", \"line\": {\"width\": 2, \"color\": \"rgb(0, 0, 0)\"}}, \"textfont\": {\"color\": \"rgb(0, 0, 0)\"}}, {\"x\": [1.0], \"y\": [1.0], \"text\": [\"14\"], \"textposition\": \"middle center\", \"hoverinfo\": \"none\", \"mode\": \"markers+text\", \"marker\": {\"size\": 20, \"color\": \"rgb(255, 255, 255)\", \"line\": {\"width\": 2, \"color\": \"rgb(0, 0, 0)\"}}, \"textfont\": {\"color\": \"rgb(0, 0, 0)\"}}, {\"x\": [0.5], \"y\": [0.0], \"text\": [\"5\"], \"textposition\": \"middle center\", \"hoverinfo\": \"none\", \"mode\": \"markers+text\", \"marker\": {\"size\": 20, \"color\": \"rgb(0, 255, 0)\", \"line\": {\"width\": 2, \"color\": \"rgb(0, 0, 0)\"}}, \"textfont\": {\"color\": \"rgb(0, 0, 0)\"}}, {\"x\": [1.0], \"y\": [0.0], \"text\": [\"7\"], \"textposition\": \"middle center\", \"hoverinfo\": \"none\", \"mode\": \"markers+text\", \"marker\": {\"size\": 20, \"color\": \"rgb(255, 255, 255)\", \"line\": {\"width\": 2, \"color\": \"rgb(0, 0, 0)\"}}, \"textfont\": {\"color\": \"rgb(0, 0, 0)\"}}], \"name\": 13}, {\"data\": [{\"x\": [0.0, 0.5, null, 0.46643085439538495, 0.44538388103556675, null, 0.46643085439538495, 0.4285584341548651, null], \"y\": [0.5, 1.0, null, 0.966430854395385, 0.906182816233176, null, 0.966430854395385, 0.967759498957256, null], \"hoverinfo\": \"none\", \"mode\": \"lines\", \"line\": {\"width\": 2, \"color\": \"rgb(0, 0, 0)\"}}, {\"x\": [0.0, 0.5, null, 0.46643085439538495, 0.4285584341548651, null, 0.46643085439538495, 0.44538388103556675, null], \"y\": [0.5, 0.0, null, 0.03356914560461503, 0.032240501042743994, null, 0.03356914560461503, 0.09381718376682407, null], \"hoverinfo\": \"none\", \"mode\": \"lines\", \"line\": {\"width\": 2, \"color\": \"rgb(0, 0, 0)\"}}, {\"x\": [0.5, 1.0, null, 0.9621212121212122, 0.9288794484132434, null, 0.9621212121212122, 0.9288794484132434, null], \"y\": [1.0, 1.0, null, 1.0, 0.9652590189417244, null, 1.0, 1.0347409810582755, null], \"hoverinfo\": \"none\", \"mode\": \"lines\", \"line\": {\"width\": 2, \"color\": \"rgb(0, 0, 0)\"}}, {\"x\": [0.5075757575757576, 0.5075757575757576, null, 0.5075757575757576, 0.5257358158562198, null], \"y\": [1.0, 0.0, null, 0.07246376811594203, 0.13605670738336034, null], \"hoverinfo\": \"none\", \"mode\": \"lines\", \"line\": {\"width\": 2, \"color\": \"rgb(0, 0, 0)\"}}, {\"x\": [1.0075757575757576, 1.0075757575757576, null, 1.0075757575757576, 1.0257358158562198, null], \"y\": [1.0, 0.0, null, 0.07246376811594203, 0.13605670738336034, null], \"hoverinfo\": \"none\", \"mode\": \"lines\", \"line\": {\"width\": 2, \"color\": \"rgb(0, 0, 0)\"}}, {\"x\": [0.49242424242424243, 0.49242424242424243, null, 0.49242424242424243, 0.4742641841437802, null], \"y\": [0.0, 1.0, null, 0.927536231884058, 0.8639432926166397, null], \"hoverinfo\": \"none\", \"mode\": \"lines\", \"line\": {\"width\": 2, \"color\": \"rgb(0, 0, 0)\"}}, {\"x\": [0.5, 1.0, null, 0.9738173240163878, 0.9639630823912474, null, 0.9738173240163878, 0.9377166459078401, null], \"y\": [0.0, 1.0, null, 0.9476346480327754, 0.8776659754484841, null, 0.9476346480327754, 0.9256934811496907, null], \"hoverinfo\": \"none\", \"mode\": \"lines\", \"line\": {\"width\": 2, \"color\": \"rgb(0, 0, 0)\"}}, {\"x\": [0.5, 1.0, null, 0.9621212121212122, 0.9288794484132434, null, 0.9621212121212122, 0.9288794484132434, null], \"y\": [0.0, 0.0, null, 0.0, -0.03474098105827558, null, 0.0, 0.03474098105827558, null], \"hoverinfo\": \"none\", \"mode\": \"lines\", \"line\": {\"width\": 2, \"color\": \"rgb(0, 0, 0)\"}}, {\"x\": [1.0, 0.0, null, 0.03664774299318793, 0.07340128670201525, null, 0.03664774299318793, 0.06421703965128427, null], \"y\": [0.0, 0.5, null, 0.481676128503406, 0.4992073320037643, null, 0.481676128503406, 0.4319835048195859, null], \"hoverinfo\": \"none\", \"mode\": \"lines\", \"line\": {\"width\": 2, \"color\": \"rgb(0, 0, 0)\"}}, {\"x\": [0.9924242424242424, 0.9924242424242424, null, 0.9924242424242424, 0.9742641841437802, null], \"y\": [0.0, 1.0, null, 0.927536231884058, 0.8639432926166397, null], \"hoverinfo\": \"none\", \"mode\": \"lines\", \"line\": {\"width\": 2, \"color\": \"rgb(0, 0, 0)\"}}, {\"x\": [0.0], \"y\": [0.5], \"text\": [\"0\"], \"textposition\": \"middle center\", \"hoverinfo\": \"none\", \"mode\": \"markers+text\", \"marker\": {\"size\": 20, \"color\": \"rgb(0, 0, 255)\", \"line\": {\"width\": 2, \"color\": \"rgb(0, 0, 0)\"}}, \"textfont\": {\"color\": \"rgb(255, 255, 255)\"}}, {\"x\": [0.5], \"y\": [1.0], \"text\": [\"8\"], \"textposition\": \"middle center\", \"hoverinfo\": \"none\", \"mode\": \"markers+text\", \"marker\": {\"size\": 20, \"color\": \"rgb(255, 255, 255)\", \"line\": {\"width\": 2, \"color\": \"rgb(0, 0, 0)\"}}, \"textfont\": {\"color\": \"rgb(0, 0, 0)\"}}, {\"x\": [1.0], \"y\": [1.0], \"text\": [\"14\"], \"textposition\": \"middle center\", \"hoverinfo\": \"none\", \"mode\": \"markers+text\", \"marker\": {\"size\": 20, \"color\": \"rgb(255, 255, 255)\", \"line\": {\"width\": 2, \"color\": \"rgb(0, 0, 0)\"}}, \"textfont\": {\"color\": \"rgb(0, 0, 0)\"}}, {\"x\": [0.5], \"y\": [0.0], \"text\": [\"5\"], \"textposition\": \"middle center\", \"hoverinfo\": \"none\", \"mode\": \"markers+text\", \"marker\": {\"size\": 20, \"color\": \"rgb(0, 0, 255)\", \"line\": {\"width\": 2, \"color\": \"rgb(0, 0, 0)\"}}, \"textfont\": {\"color\": \"rgb(255, 255, 255)\"}}, {\"x\": [1.0], \"y\": [0.0], \"text\": [\"7\"], \"textposition\": \"middle center\", \"hoverinfo\": \"none\", \"mode\": \"markers+text\", \"marker\": {\"size\": 20, \"color\": \"rgb(255, 255, 255)\", \"line\": {\"width\": 2, \"color\": \"rgb(0, 0, 0)\"}}, \"textfont\": {\"color\": \"rgb(0, 0, 0)\"}}], \"name\": 14}, {\"data\": [{\"x\": [0.0, 0.5, null, 0.46643085439538495, 0.44538388103556675, null, 0.46643085439538495, 0.4285584341548651, null], \"y\": [0.5, 1.0, null, 0.966430854395385, 0.906182816233176, null, 0.966430854395385, 0.967759498957256, null], \"hoverinfo\": \"none\", \"mode\": \"lines\", \"line\": {\"width\": 2, \"color\": \"rgb(0, 0, 0)\"}}, {\"x\": [0.0, 0.5, null, 0.46643085439538495, 0.4285584341548651, null, 0.46643085439538495, 0.44538388103556675, null], \"y\": [0.5, 0.0, null, 0.03356914560461503, 0.032240501042743994, null, 0.03356914560461503, 0.09381718376682407, null], \"hoverinfo\": \"none\", \"mode\": \"lines\", \"line\": {\"width\": 2, \"color\": \"rgb(0, 0, 0)\"}}, {\"x\": [0.5, 1.0, null, 0.9621212121212122, 0.9288794484132434, null, 0.9621212121212122, 0.9288794484132434, null], \"y\": [1.0, 1.0, null, 1.0, 0.9652590189417244, null, 1.0, 1.0347409810582755, null], \"hoverinfo\": \"none\", \"mode\": \"lines\", \"line\": {\"width\": 2, \"color\": \"rgb(0, 0, 0)\"}}, {\"x\": [0.5075757575757576, 0.5075757575757576, null, 0.5075757575757576, 0.5257358158562198, null], \"y\": [1.0, 0.0, null, 0.07246376811594203, 0.13605670738336034, null], \"hoverinfo\": \"none\", \"mode\": \"lines\", \"line\": {\"width\": 2, \"color\": \"rgb(0, 0, 0)\"}}, {\"x\": [1.0075757575757576, 1.0075757575757576, null, 1.0075757575757576, 1.0257358158562198, null], \"y\": [1.0, 0.0, null, 0.07246376811594203, 0.13605670738336034, null], \"hoverinfo\": \"none\", \"mode\": \"lines\", \"line\": {\"width\": 2, \"color\": \"rgb(0, 0, 0)\"}}, {\"x\": [0.49242424242424243, 0.49242424242424243, null, 0.49242424242424243, 0.4742641841437802, null], \"y\": [0.0, 1.0, null, 0.927536231884058, 0.8639432926166397, null], \"hoverinfo\": \"none\", \"mode\": \"lines\", \"line\": {\"width\": 2, \"color\": \"rgb(0, 0, 0)\"}}, {\"x\": [0.5, 1.0, null, 0.9738173240163878, 0.9639630823912474, null, 0.9738173240163878, 0.9377166459078401, null], \"y\": [0.0, 1.0, null, 0.9476346480327754, 0.8776659754484841, null, 0.9476346480327754, 0.9256934811496907, null], \"hoverinfo\": \"none\", \"mode\": \"lines\", \"line\": {\"width\": 2, \"color\": \"rgb(0, 0, 0)\"}}, {\"x\": [0.5, 1.0, null, 0.9621212121212122, 0.9288794484132434, null, 0.9621212121212122, 0.9288794484132434, null], \"y\": [0.0, 0.0, null, 0.0, -0.03474098105827558, null, 0.0, 0.03474098105827558, null], \"hoverinfo\": \"none\", \"mode\": \"lines\", \"line\": {\"width\": 2, \"color\": \"rgb(0, 0, 0)\"}}, {\"x\": [1.0, 0.0, null, 0.03664774299318793, 0.07340128670201525, null, 0.03664774299318793, 0.06421703965128427, null], \"y\": [0.0, 0.5, null, 0.481676128503406, 0.4992073320037643, null, 0.481676128503406, 0.4319835048195859, null], \"hoverinfo\": \"none\", \"mode\": \"lines\", \"line\": {\"width\": 2, \"color\": \"rgb(0, 0, 0)\"}}, {\"x\": [0.9924242424242424, 0.9924242424242424, null, 0.9924242424242424, 0.9742641841437802, null], \"y\": [0.0, 1.0, null, 0.927536231884058, 0.8639432926166397, null], \"hoverinfo\": \"none\", \"mode\": \"lines\", \"line\": {\"width\": 2, \"color\": \"rgb(0, 0, 0)\"}}, {\"x\": [0.0], \"y\": [0.5], \"text\": [\"0\"], \"textposition\": \"middle center\", \"hoverinfo\": \"none\", \"mode\": \"markers+text\", \"marker\": {\"size\": 20, \"color\": \"rgb(0, 0, 255)\", \"line\": {\"width\": 2, \"color\": \"rgb(0, 0, 0)\"}}, \"textfont\": {\"color\": \"rgb(255, 255, 255)\"}}, {\"x\": [0.5], \"y\": [1.0], \"text\": [\"8\"], \"textposition\": \"middle center\", \"hoverinfo\": \"none\", \"mode\": \"markers+text\", \"marker\": {\"size\": 20, \"color\": \"rgb(255, 255, 255)\", \"line\": {\"width\": 2, \"color\": \"rgb(0, 0, 0)\"}}, \"textfont\": {\"color\": \"rgb(0, 0, 0)\"}}, {\"x\": [1.0], \"y\": [1.0], \"text\": [\"14\"], \"textposition\": \"middle center\", \"hoverinfo\": \"none\", \"mode\": \"markers+text\", \"marker\": {\"size\": 20, \"color\": \"rgb(255, 255, 255)\", \"line\": {\"width\": 2, \"color\": \"rgb(0, 0, 0)\"}}, \"textfont\": {\"color\": \"rgb(0, 0, 0)\"}}, {\"x\": [0.5], \"y\": [0.0], \"text\": [\"5\"], \"textposition\": \"middle center\", \"hoverinfo\": \"none\", \"mode\": \"markers+text\", \"marker\": {\"size\": 20, \"color\": \"rgb(0, 0, 255)\", \"line\": {\"width\": 2, \"color\": \"rgb(0, 0, 0)\"}}, \"textfont\": {\"color\": \"rgb(255, 255, 255)\"}}, {\"x\": [1.0], \"y\": [0.0], \"text\": [\"7\"], \"textposition\": \"middle center\", \"hoverinfo\": \"none\", \"mode\": \"markers+text\", \"marker\": {\"size\": 20, \"color\": \"rgb(0, 255, 0)\", \"line\": {\"width\": 2, \"color\": \"rgb(0, 0, 0)\"}}, \"textfont\": {\"color\": \"rgb(0, 0, 0)\"}}], \"name\": 15}, {\"data\": [{\"x\": [0.0, 0.5, null, 0.46643085439538495, 0.44538388103556675, null, 0.46643085439538495, 0.4285584341548651, null], \"y\": [0.5, 1.0, null, 0.966430854395385, 0.906182816233176, null, 0.966430854395385, 0.967759498957256, null], \"hoverinfo\": \"none\", \"mode\": \"lines\", \"line\": {\"width\": 2, \"color\": \"rgb(0, 0, 0)\"}}, {\"x\": [0.0, 0.5, null, 0.46643085439538495, 0.4285584341548651, null, 0.46643085439538495, 0.44538388103556675, null], \"y\": [0.5, 0.0, null, 0.03356914560461503, 0.032240501042743994, null, 0.03356914560461503, 0.09381718376682407, null], \"hoverinfo\": \"none\", \"mode\": \"lines\", \"line\": {\"width\": 2, \"color\": \"rgb(0, 0, 0)\"}}, {\"x\": [0.5, 1.0, null, 0.9621212121212122, 0.9288794484132434, null, 0.9621212121212122, 0.9288794484132434, null], \"y\": [1.0, 1.0, null, 1.0, 0.9652590189417244, null, 1.0, 1.0347409810582755, null], \"hoverinfo\": \"none\", \"mode\": \"lines\", \"line\": {\"width\": 2, \"color\": \"rgb(0, 0, 0)\"}}, {\"x\": [0.5075757575757576, 0.5075757575757576, null, 0.5075757575757576, 0.5257358158562198, null], \"y\": [1.0, 0.0, null, 0.07246376811594203, 0.13605670738336034, null], \"hoverinfo\": \"none\", \"mode\": \"lines\", \"line\": {\"width\": 2, \"color\": \"rgb(0, 0, 0)\"}}, {\"x\": [1.0075757575757576, 1.0075757575757576, null, 1.0075757575757576, 1.0257358158562198, null], \"y\": [1.0, 0.0, null, 0.07246376811594203, 0.13605670738336034, null], \"hoverinfo\": \"none\", \"mode\": \"lines\", \"line\": {\"width\": 2, \"color\": \"rgb(0, 0, 0)\"}}, {\"x\": [0.49242424242424243, 0.49242424242424243, null, 0.49242424242424243, 0.4742641841437802, null], \"y\": [0.0, 1.0, null, 0.927536231884058, 0.8639432926166397, null], \"hoverinfo\": \"none\", \"mode\": \"lines\", \"line\": {\"width\": 2, \"color\": \"rgb(0, 0, 0)\"}}, {\"x\": [0.5, 1.0, null, 0.9738173240163878, 0.9639630823912474, null, 0.9738173240163878, 0.9377166459078401, null], \"y\": [0.0, 1.0, null, 0.9476346480327754, 0.8776659754484841, null, 0.9476346480327754, 0.9256934811496907, null], \"hoverinfo\": \"none\", \"mode\": \"lines\", \"line\": {\"width\": 2, \"color\": \"rgb(0, 0, 0)\"}}, {\"x\": [0.5, 1.0, null, 0.9621212121212122, 0.9288794484132434, null, 0.9621212121212122, 0.9288794484132434, null], \"y\": [0.0, 0.0, null, 0.0, -0.03474098105827558, null, 0.0, 0.03474098105827558, null], \"hoverinfo\": \"none\", \"mode\": \"lines\", \"line\": {\"width\": 2, \"color\": \"rgb(0, 0, 0)\"}}, {\"x\": [1.0, 0.0, null, 0.03664774299318793, 0.07340128670201525, null, 0.03664774299318793, 0.06421703965128427, null], \"y\": [0.0, 0.5, null, 0.481676128503406, 0.4992073320037643, null, 0.481676128503406, 0.4319835048195859, null], \"hoverinfo\": \"none\", \"mode\": \"lines\", \"line\": {\"width\": 2, \"color\": \"rgb(255, 0, 0)\"}}, {\"x\": [0.9924242424242424, 0.9924242424242424, null, 0.9924242424242424, 0.9742641841437802, null], \"y\": [0.0, 1.0, null, 0.927536231884058, 0.8639432926166397, null], \"hoverinfo\": \"none\", \"mode\": \"lines\", \"line\": {\"width\": 2, \"color\": \"rgb(0, 0, 0)\"}}, {\"x\": [0.0], \"y\": [0.5], \"text\": [\"0\"], \"textposition\": \"middle center\", \"hoverinfo\": \"none\", \"mode\": \"markers+text\", \"marker\": {\"size\": 20, \"color\": \"rgb(0, 0, 255)\", \"line\": {\"width\": 2, \"color\": \"rgb(0, 0, 0)\"}}, \"textfont\": {\"color\": \"rgb(255, 255, 255)\"}}, {\"x\": [0.5], \"y\": [1.0], \"text\": [\"8\"], \"textposition\": \"middle center\", \"hoverinfo\": \"none\", \"mode\": \"markers+text\", \"marker\": {\"size\": 20, \"color\": \"rgb(255, 255, 255)\", \"line\": {\"width\": 2, \"color\": \"rgb(0, 0, 0)\"}}, \"textfont\": {\"color\": \"rgb(0, 0, 0)\"}}, {\"x\": [1.0], \"y\": [1.0], \"text\": [\"14\"], \"textposition\": \"middle center\", \"hoverinfo\": \"none\", \"mode\": \"markers+text\", \"marker\": {\"size\": 20, \"color\": \"rgb(255, 255, 255)\", \"line\": {\"width\": 2, \"color\": \"rgb(0, 0, 0)\"}}, \"textfont\": {\"color\": \"rgb(0, 0, 0)\"}}, {\"x\": [0.5], \"y\": [0.0], \"text\": [\"5\"], \"textposition\": \"middle center\", \"hoverinfo\": \"none\", \"mode\": \"markers+text\", \"marker\": {\"size\": 20, \"color\": \"rgb(0, 0, 255)\", \"line\": {\"width\": 2, \"color\": \"rgb(0, 0, 0)\"}}, \"textfont\": {\"color\": \"rgb(255, 255, 255)\"}}, {\"x\": [1.0], \"y\": [0.0], \"text\": [\"7\"], \"textposition\": \"middle center\", \"hoverinfo\": \"none\", \"mode\": \"markers+text\", \"marker\": {\"size\": 20, \"color\": \"rgb(0, 255, 0)\", \"line\": {\"width\": 2, \"color\": \"rgb(0, 0, 0)\"}}, \"textfont\": {\"color\": \"rgb(0, 0, 0)\"}}], \"name\": 16}, {\"data\": [{\"x\": [0.0, 0.5, null, 0.46643085439538495, 0.44538388103556675, null, 0.46643085439538495, 0.4285584341548651, null], \"y\": [0.5, 1.0, null, 0.966430854395385, 0.906182816233176, null, 0.966430854395385, 0.967759498957256, null], \"hoverinfo\": \"none\", \"mode\": \"lines\", \"line\": {\"width\": 2, \"color\": \"rgb(0, 0, 0)\"}}, {\"x\": [0.0, 0.5, null, 0.46643085439538495, 0.4285584341548651, null, 0.46643085439538495, 0.44538388103556675, null], \"y\": [0.5, 0.0, null, 0.03356914560461503, 0.032240501042743994, null, 0.03356914560461503, 0.09381718376682407, null], \"hoverinfo\": \"none\", \"mode\": \"lines\", \"line\": {\"width\": 2, \"color\": \"rgb(0, 0, 0)\"}}, {\"x\": [0.5, 1.0, null, 0.9621212121212122, 0.9288794484132434, null, 0.9621212121212122, 0.9288794484132434, null], \"y\": [1.0, 1.0, null, 1.0, 0.9652590189417244, null, 1.0, 1.0347409810582755, null], \"hoverinfo\": \"none\", \"mode\": \"lines\", \"line\": {\"width\": 2, \"color\": \"rgb(0, 0, 0)\"}}, {\"x\": [0.5075757575757576, 0.5075757575757576, null, 0.5075757575757576, 0.5257358158562198, null], \"y\": [1.0, 0.0, null, 0.07246376811594203, 0.13605670738336034, null], \"hoverinfo\": \"none\", \"mode\": \"lines\", \"line\": {\"width\": 2, \"color\": \"rgb(0, 0, 0)\"}}, {\"x\": [1.0075757575757576, 1.0075757575757576, null, 1.0075757575757576, 1.0257358158562198, null], \"y\": [1.0, 0.0, null, 0.07246376811594203, 0.13605670738336034, null], \"hoverinfo\": \"none\", \"mode\": \"lines\", \"line\": {\"width\": 2, \"color\": \"rgb(0, 0, 0)\"}}, {\"x\": [0.49242424242424243, 0.49242424242424243, null, 0.49242424242424243, 0.4742641841437802, null], \"y\": [0.0, 1.0, null, 0.927536231884058, 0.8639432926166397, null], \"hoverinfo\": \"none\", \"mode\": \"lines\", \"line\": {\"width\": 2, \"color\": \"rgb(0, 0, 0)\"}}, {\"x\": [0.5, 1.0, null, 0.9738173240163878, 0.9639630823912474, null, 0.9738173240163878, 0.9377166459078401, null], \"y\": [0.0, 1.0, null, 0.9476346480327754, 0.8776659754484841, null, 0.9476346480327754, 0.9256934811496907, null], \"hoverinfo\": \"none\", \"mode\": \"lines\", \"line\": {\"width\": 2, \"color\": \"rgb(0, 0, 0)\"}}, {\"x\": [0.5, 1.0, null, 0.9621212121212122, 0.9288794484132434, null, 0.9621212121212122, 0.9288794484132434, null], \"y\": [0.0, 0.0, null, 0.0, -0.03474098105827558, null, 0.0, 0.03474098105827558, null], \"hoverinfo\": \"none\", \"mode\": \"lines\", \"line\": {\"width\": 2, \"color\": \"rgb(0, 0, 0)\"}}, {\"x\": [1.0, 0.0, null, 0.03664774299318793, 0.07340128670201525, null, 0.03664774299318793, 0.06421703965128427, null], \"y\": [0.0, 0.5, null, 0.481676128503406, 0.4992073320037643, null, 0.481676128503406, 0.4319835048195859, null], \"hoverinfo\": \"none\", \"mode\": \"lines\", \"line\": {\"width\": 2, \"color\": \"rgb(0, 0, 0)\"}}, {\"x\": [0.9924242424242424, 0.9924242424242424, null, 0.9924242424242424, 0.9742641841437802, null], \"y\": [0.0, 1.0, null, 0.927536231884058, 0.8639432926166397, null], \"hoverinfo\": \"none\", \"mode\": \"lines\", \"line\": {\"width\": 2, \"color\": \"rgb(0, 0, 0)\"}}, {\"x\": [0.0], \"y\": [0.5], \"text\": [\"0\"], \"textposition\": \"middle center\", \"hoverinfo\": \"none\", \"mode\": \"markers+text\", \"marker\": {\"size\": 20, \"color\": \"rgb(0, 0, 255)\", \"line\": {\"width\": 2, \"color\": \"rgb(0, 0, 0)\"}}, \"textfont\": {\"color\": \"rgb(255, 255, 255)\"}}, {\"x\": [0.5], \"y\": [1.0], \"text\": [\"8\"], \"textposition\": \"middle center\", \"hoverinfo\": \"none\", \"mode\": \"markers+text\", \"marker\": {\"size\": 20, \"color\": \"rgb(255, 255, 255)\", \"line\": {\"width\": 2, \"color\": \"rgb(0, 0, 0)\"}}, \"textfont\": {\"color\": \"rgb(0, 0, 0)\"}}, {\"x\": [1.0], \"y\": [1.0], \"text\": [\"14\"], \"textposition\": \"middle center\", \"hoverinfo\": \"none\", \"mode\": \"markers+text\", \"marker\": {\"size\": 20, \"color\": \"rgb(255, 255, 255)\", \"line\": {\"width\": 2, \"color\": \"rgb(0, 0, 0)\"}}, \"textfont\": {\"color\": \"rgb(0, 0, 0)\"}}, {\"x\": [0.5], \"y\": [0.0], \"text\": [\"5\"], \"textposition\": \"middle center\", \"hoverinfo\": \"none\", \"mode\": \"markers+text\", \"marker\": {\"size\": 20, \"color\": \"rgb(0, 0, 255)\", \"line\": {\"width\": 2, \"color\": \"rgb(0, 0, 0)\"}}, \"textfont\": {\"color\": \"rgb(255, 255, 255)\"}}, {\"x\": [1.0], \"y\": [0.0], \"text\": [\"7\"], \"textposition\": \"middle center\", \"hoverinfo\": \"none\", \"mode\": \"markers+text\", \"marker\": {\"size\": 20, \"color\": \"rgb(0, 255, 0)\", \"line\": {\"width\": 2, \"color\": \"rgb(0, 0, 0)\"}}, \"textfont\": {\"color\": \"rgb(0, 0, 0)\"}}], \"name\": 17}, {\"data\": [{\"x\": [0.0, 0.5, null, 0.46643085439538495, 0.44538388103556675, null, 0.46643085439538495, 0.4285584341548651, null], \"y\": [0.5, 1.0, null, 0.966430854395385, 0.906182816233176, null, 0.966430854395385, 0.967759498957256, null], \"hoverinfo\": \"none\", \"mode\": \"lines\", \"line\": {\"width\": 2, \"color\": \"rgb(0, 0, 0)\"}}, {\"x\": [0.0, 0.5, null, 0.46643085439538495, 0.4285584341548651, null, 0.46643085439538495, 0.44538388103556675, null], \"y\": [0.5, 0.0, null, 0.03356914560461503, 0.032240501042743994, null, 0.03356914560461503, 0.09381718376682407, null], \"hoverinfo\": \"none\", \"mode\": \"lines\", \"line\": {\"width\": 2, \"color\": \"rgb(0, 0, 0)\"}}, {\"x\": [0.5, 1.0, null, 0.9621212121212122, 0.9288794484132434, null, 0.9621212121212122, 0.9288794484132434, null], \"y\": [1.0, 1.0, null, 1.0, 0.9652590189417244, null, 1.0, 1.0347409810582755, null], \"hoverinfo\": \"none\", \"mode\": \"lines\", \"line\": {\"width\": 2, \"color\": \"rgb(0, 0, 0)\"}}, {\"x\": [0.5075757575757576, 0.5075757575757576, null, 0.5075757575757576, 0.5257358158562198, null], \"y\": [1.0, 0.0, null, 0.07246376811594203, 0.13605670738336034, null], \"hoverinfo\": \"none\", \"mode\": \"lines\", \"line\": {\"width\": 2, \"color\": \"rgb(0, 0, 0)\"}}, {\"x\": [1.0075757575757576, 1.0075757575757576, null, 1.0075757575757576, 1.0257358158562198, null], \"y\": [1.0, 0.0, null, 0.07246376811594203, 0.13605670738336034, null], \"hoverinfo\": \"none\", \"mode\": \"lines\", \"line\": {\"width\": 2, \"color\": \"rgb(0, 0, 0)\"}}, {\"x\": [0.49242424242424243, 0.49242424242424243, null, 0.49242424242424243, 0.4742641841437802, null], \"y\": [0.0, 1.0, null, 0.927536231884058, 0.8639432926166397, null], \"hoverinfo\": \"none\", \"mode\": \"lines\", \"line\": {\"width\": 2, \"color\": \"rgb(0, 0, 0)\"}}, {\"x\": [0.5, 1.0, null, 0.9738173240163878, 0.9639630823912474, null, 0.9738173240163878, 0.9377166459078401, null], \"y\": [0.0, 1.0, null, 0.9476346480327754, 0.8776659754484841, null, 0.9476346480327754, 0.9256934811496907, null], \"hoverinfo\": \"none\", \"mode\": \"lines\", \"line\": {\"width\": 2, \"color\": \"rgb(0, 0, 0)\"}}, {\"x\": [0.5, 1.0, null, 0.9621212121212122, 0.9288794484132434, null, 0.9621212121212122, 0.9288794484132434, null], \"y\": [0.0, 0.0, null, 0.0, -0.03474098105827558, null, 0.0, 0.03474098105827558, null], \"hoverinfo\": \"none\", \"mode\": \"lines\", \"line\": {\"width\": 2, \"color\": \"rgb(0, 0, 0)\"}}, {\"x\": [1.0, 0.0, null, 0.03664774299318793, 0.07340128670201525, null, 0.03664774299318793, 0.06421703965128427, null], \"y\": [0.0, 0.5, null, 0.481676128503406, 0.4992073320037643, null, 0.481676128503406, 0.4319835048195859, null], \"hoverinfo\": \"none\", \"mode\": \"lines\", \"line\": {\"width\": 2, \"color\": \"rgb(0, 0, 0)\"}}, {\"x\": [0.9924242424242424, 0.9924242424242424, null, 0.9924242424242424, 0.9742641841437802, null], \"y\": [0.0, 1.0, null, 0.927536231884058, 0.8639432926166397, null], \"hoverinfo\": \"none\", \"mode\": \"lines\", \"line\": {\"width\": 2, \"color\": \"rgb(255, 0, 0)\"}}, {\"x\": [0.0], \"y\": [0.5], \"text\": [\"0\"], \"textposition\": \"middle center\", \"hoverinfo\": \"none\", \"mode\": \"markers+text\", \"marker\": {\"size\": 20, \"color\": \"rgb(0, 0, 255)\", \"line\": {\"width\": 2, \"color\": \"rgb(0, 0, 0)\"}}, \"textfont\": {\"color\": \"rgb(255, 255, 255)\"}}, {\"x\": [0.5], \"y\": [1.0], \"text\": [\"8\"], \"textposition\": \"middle center\", \"hoverinfo\": \"none\", \"mode\": \"markers+text\", \"marker\": {\"size\": 20, \"color\": \"rgb(255, 255, 255)\", \"line\": {\"width\": 2, \"color\": \"rgb(0, 0, 0)\"}}, \"textfont\": {\"color\": \"rgb(0, 0, 0)\"}}, {\"x\": [1.0], \"y\": [1.0], \"text\": [\"14\"], \"textposition\": \"middle center\", \"hoverinfo\": \"none\", \"mode\": \"markers+text\", \"marker\": {\"size\": 20, \"color\": \"rgb(255, 255, 255)\", \"line\": {\"width\": 2, \"color\": \"rgb(0, 0, 0)\"}}, \"textfont\": {\"color\": \"rgb(0, 0, 0)\"}}, {\"x\": [0.5], \"y\": [0.0], \"text\": [\"5\"], \"textposition\": \"middle center\", \"hoverinfo\": \"none\", \"mode\": \"markers+text\", \"marker\": {\"size\": 20, \"color\": \"rgb(0, 0, 255)\", \"line\": {\"width\": 2, \"color\": \"rgb(0, 0, 0)\"}}, \"textfont\": {\"color\": \"rgb(255, 255, 255)\"}}, {\"x\": [1.0], \"y\": [0.0], \"text\": [\"7\"], \"textposition\": \"middle center\", \"hoverinfo\": \"none\", \"mode\": \"markers+text\", \"marker\": {\"size\": 20, \"color\": \"rgb(0, 255, 0)\", \"line\": {\"width\": 2, \"color\": \"rgb(0, 0, 0)\"}}, \"textfont\": {\"color\": \"rgb(0, 0, 0)\"}}], \"name\": 18}, {\"data\": [{\"x\": [0.0, 0.5, null, 0.46643085439538495, 0.44538388103556675, null, 0.46643085439538495, 0.4285584341548651, null], \"y\": [0.5, 1.0, null, 0.966430854395385, 0.906182816233176, null, 0.966430854395385, 0.967759498957256, null], \"hoverinfo\": \"none\", \"mode\": \"lines\", \"line\": {\"width\": 2, \"color\": \"rgb(0, 0, 0)\"}}, {\"x\": [0.0, 0.5, null, 0.46643085439538495, 0.4285584341548651, null, 0.46643085439538495, 0.44538388103556675, null], \"y\": [0.5, 0.0, null, 0.03356914560461503, 0.032240501042743994, null, 0.03356914560461503, 0.09381718376682407, null], \"hoverinfo\": \"none\", \"mode\": \"lines\", \"line\": {\"width\": 2, \"color\": \"rgb(0, 0, 0)\"}}, {\"x\": [0.5, 1.0, null, 0.9621212121212122, 0.9288794484132434, null, 0.9621212121212122, 0.9288794484132434, null], \"y\": [1.0, 1.0, null, 1.0, 0.9652590189417244, null, 1.0, 1.0347409810582755, null], \"hoverinfo\": \"none\", \"mode\": \"lines\", \"line\": {\"width\": 2, \"color\": \"rgb(0, 0, 0)\"}}, {\"x\": [0.5075757575757576, 0.5075757575757576, null, 0.5075757575757576, 0.5257358158562198, null], \"y\": [1.0, 0.0, null, 0.07246376811594203, 0.13605670738336034, null], \"hoverinfo\": \"none\", \"mode\": \"lines\", \"line\": {\"width\": 2, \"color\": \"rgb(0, 0, 0)\"}}, {\"x\": [1.0075757575757576, 1.0075757575757576, null, 1.0075757575757576, 1.0257358158562198, null], \"y\": [1.0, 0.0, null, 0.07246376811594203, 0.13605670738336034, null], \"hoverinfo\": \"none\", \"mode\": \"lines\", \"line\": {\"width\": 2, \"color\": \"rgb(0, 0, 0)\"}}, {\"x\": [0.49242424242424243, 0.49242424242424243, null, 0.49242424242424243, 0.4742641841437802, null], \"y\": [0.0, 1.0, null, 0.927536231884058, 0.8639432926166397, null], \"hoverinfo\": \"none\", \"mode\": \"lines\", \"line\": {\"width\": 2, \"color\": \"rgb(0, 0, 0)\"}}, {\"x\": [0.5, 1.0, null, 0.9738173240163878, 0.9639630823912474, null, 0.9738173240163878, 0.9377166459078401, null], \"y\": [0.0, 1.0, null, 0.9476346480327754, 0.8776659754484841, null, 0.9476346480327754, 0.9256934811496907, null], \"hoverinfo\": \"none\", \"mode\": \"lines\", \"line\": {\"width\": 2, \"color\": \"rgb(0, 0, 0)\"}}, {\"x\": [0.5, 1.0, null, 0.9621212121212122, 0.9288794484132434, null, 0.9621212121212122, 0.9288794484132434, null], \"y\": [0.0, 0.0, null, 0.0, -0.03474098105827558, null, 0.0, 0.03474098105827558, null], \"hoverinfo\": \"none\", \"mode\": \"lines\", \"line\": {\"width\": 2, \"color\": \"rgb(0, 0, 0)\"}}, {\"x\": [1.0, 0.0, null, 0.03664774299318793, 0.07340128670201525, null, 0.03664774299318793, 0.06421703965128427, null], \"y\": [0.0, 0.5, null, 0.481676128503406, 0.4992073320037643, null, 0.481676128503406, 0.4319835048195859, null], \"hoverinfo\": \"none\", \"mode\": \"lines\", \"line\": {\"width\": 2, \"color\": \"rgb(0, 0, 0)\"}}, {\"x\": [0.9924242424242424, 0.9924242424242424, null, 0.9924242424242424, 0.9742641841437802, null], \"y\": [0.0, 1.0, null, 0.927536231884058, 0.8639432926166397, null], \"hoverinfo\": \"none\", \"mode\": \"lines\", \"line\": {\"width\": 2, \"color\": \"rgb(0, 0, 0)\"}}, {\"x\": [0.0], \"y\": [0.5], \"text\": [\"0\"], \"textposition\": \"middle center\", \"hoverinfo\": \"none\", \"mode\": \"markers+text\", \"marker\": {\"size\": 20, \"color\": \"rgb(0, 0, 255)\", \"line\": {\"width\": 2, \"color\": \"rgb(0, 0, 0)\"}}, \"textfont\": {\"color\": \"rgb(255, 255, 255)\"}}, {\"x\": [0.5], \"y\": [1.0], \"text\": [\"8\"], \"textposition\": \"middle center\", \"hoverinfo\": \"none\", \"mode\": \"markers+text\", \"marker\": {\"size\": 20, \"color\": \"rgb(255, 255, 255)\", \"line\": {\"width\": 2, \"color\": \"rgb(0, 0, 0)\"}}, \"textfont\": {\"color\": \"rgb(0, 0, 0)\"}}, {\"x\": [1.0], \"y\": [1.0], \"text\": [\"13\"], \"textposition\": \"middle center\", \"hoverinfo\": \"none\", \"mode\": \"markers+text\", \"marker\": {\"size\": 20, \"color\": \"rgb(255, 255, 255)\", \"line\": {\"width\": 2, \"color\": \"rgb(0, 0, 0)\"}}, \"textfont\": {\"color\": \"rgb(0, 0, 0)\"}}, {\"x\": [0.5], \"y\": [0.0], \"text\": [\"5\"], \"textposition\": \"middle center\", \"hoverinfo\": \"none\", \"mode\": \"markers+text\", \"marker\": {\"size\": 20, \"color\": \"rgb(0, 0, 255)\", \"line\": {\"width\": 2, \"color\": \"rgb(0, 0, 0)\"}}, \"textfont\": {\"color\": \"rgb(255, 255, 255)\"}}, {\"x\": [1.0], \"y\": [0.0], \"text\": [\"7\"], \"textposition\": \"middle center\", \"hoverinfo\": \"none\", \"mode\": \"markers+text\", \"marker\": {\"size\": 20, \"color\": \"rgb(0, 255, 0)\", \"line\": {\"width\": 2, \"color\": \"rgb(0, 0, 0)\"}}, \"textfont\": {\"color\": \"rgb(0, 0, 0)\"}}], \"name\": 19}, {\"data\": [{\"x\": [0.0, 0.5, null, 0.46643085439538495, 0.44538388103556675, null, 0.46643085439538495, 0.4285584341548651, null], \"y\": [0.5, 1.0, null, 0.966430854395385, 0.906182816233176, null, 0.966430854395385, 0.967759498957256, null], \"hoverinfo\": \"none\", \"mode\": \"lines\", \"line\": {\"width\": 2, \"color\": \"rgb(0, 0, 0)\"}}, {\"x\": [0.0, 0.5, null, 0.46643085439538495, 0.4285584341548651, null, 0.46643085439538495, 0.44538388103556675, null], \"y\": [0.5, 0.0, null, 0.03356914560461503, 0.032240501042743994, null, 0.03356914560461503, 0.09381718376682407, null], \"hoverinfo\": \"none\", \"mode\": \"lines\", \"line\": {\"width\": 2, \"color\": \"rgb(0, 0, 0)\"}}, {\"x\": [0.5, 1.0, null, 0.9621212121212122, 0.9288794484132434, null, 0.9621212121212122, 0.9288794484132434, null], \"y\": [1.0, 1.0, null, 1.0, 0.9652590189417244, null, 1.0, 1.0347409810582755, null], \"hoverinfo\": \"none\", \"mode\": \"lines\", \"line\": {\"width\": 2, \"color\": \"rgb(0, 0, 0)\"}}, {\"x\": [0.5075757575757576, 0.5075757575757576, null, 0.5075757575757576, 0.5257358158562198, null], \"y\": [1.0, 0.0, null, 0.07246376811594203, 0.13605670738336034, null], \"hoverinfo\": \"none\", \"mode\": \"lines\", \"line\": {\"width\": 2, \"color\": \"rgb(0, 0, 0)\"}}, {\"x\": [1.0075757575757576, 1.0075757575757576, null, 1.0075757575757576, 1.0257358158562198, null], \"y\": [1.0, 0.0, null, 0.07246376811594203, 0.13605670738336034, null], \"hoverinfo\": \"none\", \"mode\": \"lines\", \"line\": {\"width\": 2, \"color\": \"rgb(0, 0, 0)\"}}, {\"x\": [0.49242424242424243, 0.49242424242424243, null, 0.49242424242424243, 0.4742641841437802, null], \"y\": [0.0, 1.0, null, 0.927536231884058, 0.8639432926166397, null], \"hoverinfo\": \"none\", \"mode\": \"lines\", \"line\": {\"width\": 2, \"color\": \"rgb(0, 0, 0)\"}}, {\"x\": [0.5, 1.0, null, 0.9738173240163878, 0.9639630823912474, null, 0.9738173240163878, 0.9377166459078401, null], \"y\": [0.0, 1.0, null, 0.9476346480327754, 0.8776659754484841, null, 0.9476346480327754, 0.9256934811496907, null], \"hoverinfo\": \"none\", \"mode\": \"lines\", \"line\": {\"width\": 2, \"color\": \"rgb(0, 0, 0)\"}}, {\"x\": [0.5, 1.0, null, 0.9621212121212122, 0.9288794484132434, null, 0.9621212121212122, 0.9288794484132434, null], \"y\": [0.0, 0.0, null, 0.0, -0.03474098105827558, null, 0.0, 0.03474098105827558, null], \"hoverinfo\": \"none\", \"mode\": \"lines\", \"line\": {\"width\": 2, \"color\": \"rgb(0, 0, 0)\"}}, {\"x\": [1.0, 0.0, null, 0.03664774299318793, 0.07340128670201525, null, 0.03664774299318793, 0.06421703965128427, null], \"y\": [0.0, 0.5, null, 0.481676128503406, 0.4992073320037643, null, 0.481676128503406, 0.4319835048195859, null], \"hoverinfo\": \"none\", \"mode\": \"lines\", \"line\": {\"width\": 2, \"color\": \"rgb(0, 0, 0)\"}}, {\"x\": [0.9924242424242424, 0.9924242424242424, null, 0.9924242424242424, 0.9742641841437802, null], \"y\": [0.0, 1.0, null, 0.927536231884058, 0.8639432926166397, null], \"hoverinfo\": \"none\", \"mode\": \"lines\", \"line\": {\"width\": 2, \"color\": \"rgb(0, 0, 0)\"}}, {\"x\": [0.0], \"y\": [0.5], \"text\": [\"0\"], \"textposition\": \"middle center\", \"hoverinfo\": \"none\", \"mode\": \"markers+text\", \"marker\": {\"size\": 20, \"color\": \"rgb(0, 0, 255)\", \"line\": {\"width\": 2, \"color\": \"rgb(0, 0, 0)\"}}, \"textfont\": {\"color\": \"rgb(255, 255, 255)\"}}, {\"x\": [0.5], \"y\": [1.0], \"text\": [\"8\"], \"textposition\": \"middle center\", \"hoverinfo\": \"none\", \"mode\": \"markers+text\", \"marker\": {\"size\": 20, \"color\": \"rgb(255, 255, 255)\", \"line\": {\"width\": 2, \"color\": \"rgb(0, 0, 0)\"}}, \"textfont\": {\"color\": \"rgb(0, 0, 0)\"}}, {\"x\": [1.0], \"y\": [1.0], \"text\": [\"13\"], \"textposition\": \"middle center\", \"hoverinfo\": \"none\", \"mode\": \"markers+text\", \"marker\": {\"size\": 20, \"color\": \"rgb(255, 255, 255)\", \"line\": {\"width\": 2, \"color\": \"rgb(0, 0, 0)\"}}, \"textfont\": {\"color\": \"rgb(0, 0, 0)\"}}, {\"x\": [0.5], \"y\": [0.0], \"text\": [\"5\"], \"textposition\": \"middle center\", \"hoverinfo\": \"none\", \"mode\": \"markers+text\", \"marker\": {\"size\": 20, \"color\": \"rgb(0, 0, 255)\", \"line\": {\"width\": 2, \"color\": \"rgb(0, 0, 0)\"}}, \"textfont\": {\"color\": \"rgb(255, 255, 255)\"}}, {\"x\": [1.0], \"y\": [0.0], \"text\": [\"7\"], \"textposition\": \"middle center\", \"hoverinfo\": \"none\", \"mode\": \"markers+text\", \"marker\": {\"size\": 20, \"color\": \"rgb(0, 0, 255)\", \"line\": {\"width\": 2, \"color\": \"rgb(0, 0, 0)\"}}, \"textfont\": {\"color\": \"rgb(255, 255, 255)\"}}], \"name\": 20}, {\"data\": [{\"x\": [0.0, 0.5, null, 0.46643085439538495, 0.44538388103556675, null, 0.46643085439538495, 0.4285584341548651, null], \"y\": [0.5, 1.0, null, 0.966430854395385, 0.906182816233176, null, 0.966430854395385, 0.967759498957256, null], \"hoverinfo\": \"none\", \"mode\": \"lines\", \"line\": {\"width\": 2, \"color\": \"rgb(0, 0, 0)\"}}, {\"x\": [0.0, 0.5, null, 0.46643085439538495, 0.4285584341548651, null, 0.46643085439538495, 0.44538388103556675, null], \"y\": [0.5, 0.0, null, 0.03356914560461503, 0.032240501042743994, null, 0.03356914560461503, 0.09381718376682407, null], \"hoverinfo\": \"none\", \"mode\": \"lines\", \"line\": {\"width\": 2, \"color\": \"rgb(0, 0, 0)\"}}, {\"x\": [0.5, 1.0, null, 0.9621212121212122, 0.9288794484132434, null, 0.9621212121212122, 0.9288794484132434, null], \"y\": [1.0, 1.0, null, 1.0, 0.9652590189417244, null, 1.0, 1.0347409810582755, null], \"hoverinfo\": \"none\", \"mode\": \"lines\", \"line\": {\"width\": 2, \"color\": \"rgb(0, 0, 0)\"}}, {\"x\": [0.5075757575757576, 0.5075757575757576, null, 0.5075757575757576, 0.5257358158562198, null], \"y\": [1.0, 0.0, null, 0.07246376811594203, 0.13605670738336034, null], \"hoverinfo\": \"none\", \"mode\": \"lines\", \"line\": {\"width\": 2, \"color\": \"rgb(0, 0, 0)\"}}, {\"x\": [1.0075757575757576, 1.0075757575757576, null, 1.0075757575757576, 1.0257358158562198, null], \"y\": [1.0, 0.0, null, 0.07246376811594203, 0.13605670738336034, null], \"hoverinfo\": \"none\", \"mode\": \"lines\", \"line\": {\"width\": 2, \"color\": \"rgb(0, 0, 0)\"}}, {\"x\": [0.49242424242424243, 0.49242424242424243, null, 0.49242424242424243, 0.4742641841437802, null], \"y\": [0.0, 1.0, null, 0.927536231884058, 0.8639432926166397, null], \"hoverinfo\": \"none\", \"mode\": \"lines\", \"line\": {\"width\": 2, \"color\": \"rgb(0, 0, 0)\"}}, {\"x\": [0.5, 1.0, null, 0.9738173240163878, 0.9639630823912474, null, 0.9738173240163878, 0.9377166459078401, null], \"y\": [0.0, 1.0, null, 0.9476346480327754, 0.8776659754484841, null, 0.9476346480327754, 0.9256934811496907, null], \"hoverinfo\": \"none\", \"mode\": \"lines\", \"line\": {\"width\": 2, \"color\": \"rgb(0, 0, 0)\"}}, {\"x\": [0.5, 1.0, null, 0.9621212121212122, 0.9288794484132434, null, 0.9621212121212122, 0.9288794484132434, null], \"y\": [0.0, 0.0, null, 0.0, -0.03474098105827558, null, 0.0, 0.03474098105827558, null], \"hoverinfo\": \"none\", \"mode\": \"lines\", \"line\": {\"width\": 2, \"color\": \"rgb(0, 0, 0)\"}}, {\"x\": [1.0, 0.0, null, 0.03664774299318793, 0.07340128670201525, null, 0.03664774299318793, 0.06421703965128427, null], \"y\": [0.0, 0.5, null, 0.481676128503406, 0.4992073320037643, null, 0.481676128503406, 0.4319835048195859, null], \"hoverinfo\": \"none\", \"mode\": \"lines\", \"line\": {\"width\": 2, \"color\": \"rgb(0, 0, 0)\"}}, {\"x\": [0.9924242424242424, 0.9924242424242424, null, 0.9924242424242424, 0.9742641841437802, null], \"y\": [0.0, 1.0, null, 0.927536231884058, 0.8639432926166397, null], \"hoverinfo\": \"none\", \"mode\": \"lines\", \"line\": {\"width\": 2, \"color\": \"rgb(0, 0, 0)\"}}, {\"x\": [0.0], \"y\": [0.5], \"text\": [\"0\"], \"textposition\": \"middle center\", \"hoverinfo\": \"none\", \"mode\": \"markers+text\", \"marker\": {\"size\": 20, \"color\": \"rgb(0, 0, 255)\", \"line\": {\"width\": 2, \"color\": \"rgb(0, 0, 0)\"}}, \"textfont\": {\"color\": \"rgb(255, 255, 255)\"}}, {\"x\": [0.5], \"y\": [1.0], \"text\": [\"8\"], \"textposition\": \"middle center\", \"hoverinfo\": \"none\", \"mode\": \"markers+text\", \"marker\": {\"size\": 20, \"color\": \"rgb(0, 255, 0)\", \"line\": {\"width\": 2, \"color\": \"rgb(0, 0, 0)\"}}, \"textfont\": {\"color\": \"rgb(0, 0, 0)\"}}, {\"x\": [1.0], \"y\": [1.0], \"text\": [\"13\"], \"textposition\": \"middle center\", \"hoverinfo\": \"none\", \"mode\": \"markers+text\", \"marker\": {\"size\": 20, \"color\": \"rgb(255, 255, 255)\", \"line\": {\"width\": 2, \"color\": \"rgb(0, 0, 0)\"}}, \"textfont\": {\"color\": \"rgb(0, 0, 0)\"}}, {\"x\": [0.5], \"y\": [0.0], \"text\": [\"5\"], \"textposition\": \"middle center\", \"hoverinfo\": \"none\", \"mode\": \"markers+text\", \"marker\": {\"size\": 20, \"color\": \"rgb(0, 0, 255)\", \"line\": {\"width\": 2, \"color\": \"rgb(0, 0, 0)\"}}, \"textfont\": {\"color\": \"rgb(255, 255, 255)\"}}, {\"x\": [1.0], \"y\": [0.0], \"text\": [\"7\"], \"textposition\": \"middle center\", \"hoverinfo\": \"none\", \"mode\": \"markers+text\", \"marker\": {\"size\": 20, \"color\": \"rgb(0, 0, 255)\", \"line\": {\"width\": 2, \"color\": \"rgb(0, 0, 0)\"}}, \"textfont\": {\"color\": \"rgb(255, 255, 255)\"}}], \"name\": 21}, {\"data\": [{\"x\": [0.0, 0.5, null, 0.46643085439538495, 0.44538388103556675, null, 0.46643085439538495, 0.4285584341548651, null], \"y\": [0.5, 1.0, null, 0.966430854395385, 0.906182816233176, null, 0.966430854395385, 0.967759498957256, null], \"hoverinfo\": \"none\", \"mode\": \"lines\", \"line\": {\"width\": 2, \"color\": \"rgb(0, 0, 0)\"}}, {\"x\": [0.0, 0.5, null, 0.46643085439538495, 0.4285584341548651, null, 0.46643085439538495, 0.44538388103556675, null], \"y\": [0.5, 0.0, null, 0.03356914560461503, 0.032240501042743994, null, 0.03356914560461503, 0.09381718376682407, null], \"hoverinfo\": \"none\", \"mode\": \"lines\", \"line\": {\"width\": 2, \"color\": \"rgb(0, 0, 0)\"}}, {\"x\": [0.5, 1.0, null, 0.9621212121212122, 0.9288794484132434, null, 0.9621212121212122, 0.9288794484132434, null], \"y\": [1.0, 1.0, null, 1.0, 0.9652590189417244, null, 1.0, 1.0347409810582755, null], \"hoverinfo\": \"none\", \"mode\": \"lines\", \"line\": {\"width\": 2, \"color\": \"rgb(255, 0, 0)\"}}, {\"x\": [0.5075757575757576, 0.5075757575757576, null, 0.5075757575757576, 0.5257358158562198, null], \"y\": [1.0, 0.0, null, 0.07246376811594203, 0.13605670738336034, null], \"hoverinfo\": \"none\", \"mode\": \"lines\", \"line\": {\"width\": 2, \"color\": \"rgb(0, 0, 0)\"}}, {\"x\": [1.0075757575757576, 1.0075757575757576, null, 1.0075757575757576, 1.0257358158562198, null], \"y\": [1.0, 0.0, null, 0.07246376811594203, 0.13605670738336034, null], \"hoverinfo\": \"none\", \"mode\": \"lines\", \"line\": {\"width\": 2, \"color\": \"rgb(0, 0, 0)\"}}, {\"x\": [0.49242424242424243, 0.49242424242424243, null, 0.49242424242424243, 0.4742641841437802, null], \"y\": [0.0, 1.0, null, 0.927536231884058, 0.8639432926166397, null], \"hoverinfo\": \"none\", \"mode\": \"lines\", \"line\": {\"width\": 2, \"color\": \"rgb(0, 0, 0)\"}}, {\"x\": [0.5, 1.0, null, 0.9738173240163878, 0.9639630823912474, null, 0.9738173240163878, 0.9377166459078401, null], \"y\": [0.0, 1.0, null, 0.9476346480327754, 0.8776659754484841, null, 0.9476346480327754, 0.9256934811496907, null], \"hoverinfo\": \"none\", \"mode\": \"lines\", \"line\": {\"width\": 2, \"color\": \"rgb(0, 0, 0)\"}}, {\"x\": [0.5, 1.0, null, 0.9621212121212122, 0.9288794484132434, null, 0.9621212121212122, 0.9288794484132434, null], \"y\": [0.0, 0.0, null, 0.0, -0.03474098105827558, null, 0.0, 0.03474098105827558, null], \"hoverinfo\": \"none\", \"mode\": \"lines\", \"line\": {\"width\": 2, \"color\": \"rgb(0, 0, 0)\"}}, {\"x\": [1.0, 0.0, null, 0.03664774299318793, 0.07340128670201525, null, 0.03664774299318793, 0.06421703965128427, null], \"y\": [0.0, 0.5, null, 0.481676128503406, 0.4992073320037643, null, 0.481676128503406, 0.4319835048195859, null], \"hoverinfo\": \"none\", \"mode\": \"lines\", \"line\": {\"width\": 2, \"color\": \"rgb(0, 0, 0)\"}}, {\"x\": [0.9924242424242424, 0.9924242424242424, null, 0.9924242424242424, 0.9742641841437802, null], \"y\": [0.0, 1.0, null, 0.927536231884058, 0.8639432926166397, null], \"hoverinfo\": \"none\", \"mode\": \"lines\", \"line\": {\"width\": 2, \"color\": \"rgb(0, 0, 0)\"}}, {\"x\": [0.0], \"y\": [0.5], \"text\": [\"0\"], \"textposition\": \"middle center\", \"hoverinfo\": \"none\", \"mode\": \"markers+text\", \"marker\": {\"size\": 20, \"color\": \"rgb(0, 0, 255)\", \"line\": {\"width\": 2, \"color\": \"rgb(0, 0, 0)\"}}, \"textfont\": {\"color\": \"rgb(255, 255, 255)\"}}, {\"x\": [0.5], \"y\": [1.0], \"text\": [\"8\"], \"textposition\": \"middle center\", \"hoverinfo\": \"none\", \"mode\": \"markers+text\", \"marker\": {\"size\": 20, \"color\": \"rgb(0, 255, 0)\", \"line\": {\"width\": 2, \"color\": \"rgb(0, 0, 0)\"}}, \"textfont\": {\"color\": \"rgb(0, 0, 0)\"}}, {\"x\": [1.0], \"y\": [1.0], \"text\": [\"13\"], \"textposition\": \"middle center\", \"hoverinfo\": \"none\", \"mode\": \"markers+text\", \"marker\": {\"size\": 20, \"color\": \"rgb(255, 255, 255)\", \"line\": {\"width\": 2, \"color\": \"rgb(0, 0, 0)\"}}, \"textfont\": {\"color\": \"rgb(0, 0, 0)\"}}, {\"x\": [0.5], \"y\": [0.0], \"text\": [\"5\"], \"textposition\": \"middle center\", \"hoverinfo\": \"none\", \"mode\": \"markers+text\", \"marker\": {\"size\": 20, \"color\": \"rgb(0, 0, 255)\", \"line\": {\"width\": 2, \"color\": \"rgb(0, 0, 0)\"}}, \"textfont\": {\"color\": \"rgb(255, 255, 255)\"}}, {\"x\": [1.0], \"y\": [0.0], \"text\": [\"7\"], \"textposition\": \"middle center\", \"hoverinfo\": \"none\", \"mode\": \"markers+text\", \"marker\": {\"size\": 20, \"color\": \"rgb(0, 0, 255)\", \"line\": {\"width\": 2, \"color\": \"rgb(0, 0, 0)\"}}, \"textfont\": {\"color\": \"rgb(255, 255, 255)\"}}], \"name\": 22}, {\"data\": [{\"x\": [0.0, 0.5, null, 0.46643085439538495, 0.44538388103556675, null, 0.46643085439538495, 0.4285584341548651, null], \"y\": [0.5, 1.0, null, 0.966430854395385, 0.906182816233176, null, 0.966430854395385, 0.967759498957256, null], \"hoverinfo\": \"none\", \"mode\": \"lines\", \"line\": {\"width\": 2, \"color\": \"rgb(0, 0, 0)\"}}, {\"x\": [0.0, 0.5, null, 0.46643085439538495, 0.4285584341548651, null, 0.46643085439538495, 0.44538388103556675, null], \"y\": [0.5, 0.0, null, 0.03356914560461503, 0.032240501042743994, null, 0.03356914560461503, 0.09381718376682407, null], \"hoverinfo\": \"none\", \"mode\": \"lines\", \"line\": {\"width\": 2, \"color\": \"rgb(0, 0, 0)\"}}, {\"x\": [0.5, 1.0, null, 0.9621212121212122, 0.9288794484132434, null, 0.9621212121212122, 0.9288794484132434, null], \"y\": [1.0, 1.0, null, 1.0, 0.9652590189417244, null, 1.0, 1.0347409810582755, null], \"hoverinfo\": \"none\", \"mode\": \"lines\", \"line\": {\"width\": 2, \"color\": \"rgb(0, 0, 0)\"}}, {\"x\": [0.5075757575757576, 0.5075757575757576, null, 0.5075757575757576, 0.5257358158562198, null], \"y\": [1.0, 0.0, null, 0.07246376811594203, 0.13605670738336034, null], \"hoverinfo\": \"none\", \"mode\": \"lines\", \"line\": {\"width\": 2, \"color\": \"rgb(0, 0, 0)\"}}, {\"x\": [1.0075757575757576, 1.0075757575757576, null, 1.0075757575757576, 1.0257358158562198, null], \"y\": [1.0, 0.0, null, 0.07246376811594203, 0.13605670738336034, null], \"hoverinfo\": \"none\", \"mode\": \"lines\", \"line\": {\"width\": 2, \"color\": \"rgb(0, 0, 0)\"}}, {\"x\": [0.49242424242424243, 0.49242424242424243, null, 0.49242424242424243, 0.4742641841437802, null], \"y\": [0.0, 1.0, null, 0.927536231884058, 0.8639432926166397, null], \"hoverinfo\": \"none\", \"mode\": \"lines\", \"line\": {\"width\": 2, \"color\": \"rgb(0, 0, 0)\"}}, {\"x\": [0.5, 1.0, null, 0.9738173240163878, 0.9639630823912474, null, 0.9738173240163878, 0.9377166459078401, null], \"y\": [0.0, 1.0, null, 0.9476346480327754, 0.8776659754484841, null, 0.9476346480327754, 0.9256934811496907, null], \"hoverinfo\": \"none\", \"mode\": \"lines\", \"line\": {\"width\": 2, \"color\": \"rgb(0, 0, 0)\"}}, {\"x\": [0.5, 1.0, null, 0.9621212121212122, 0.9288794484132434, null, 0.9621212121212122, 0.9288794484132434, null], \"y\": [0.0, 0.0, null, 0.0, -0.03474098105827558, null, 0.0, 0.03474098105827558, null], \"hoverinfo\": \"none\", \"mode\": \"lines\", \"line\": {\"width\": 2, \"color\": \"rgb(0, 0, 0)\"}}, {\"x\": [1.0, 0.0, null, 0.03664774299318793, 0.07340128670201525, null, 0.03664774299318793, 0.06421703965128427, null], \"y\": [0.0, 0.5, null, 0.481676128503406, 0.4992073320037643, null, 0.481676128503406, 0.4319835048195859, null], \"hoverinfo\": \"none\", \"mode\": \"lines\", \"line\": {\"width\": 2, \"color\": \"rgb(0, 0, 0)\"}}, {\"x\": [0.9924242424242424, 0.9924242424242424, null, 0.9924242424242424, 0.9742641841437802, null], \"y\": [0.0, 1.0, null, 0.927536231884058, 0.8639432926166397, null], \"hoverinfo\": \"none\", \"mode\": \"lines\", \"line\": {\"width\": 2, \"color\": \"rgb(0, 0, 0)\"}}, {\"x\": [0.0], \"y\": [0.5], \"text\": [\"0\"], \"textposition\": \"middle center\", \"hoverinfo\": \"none\", \"mode\": \"markers+text\", \"marker\": {\"size\": 20, \"color\": \"rgb(0, 0, 255)\", \"line\": {\"width\": 2, \"color\": \"rgb(0, 0, 0)\"}}, \"textfont\": {\"color\": \"rgb(255, 255, 255)\"}}, {\"x\": [0.5], \"y\": [1.0], \"text\": [\"8\"], \"textposition\": \"middle center\", \"hoverinfo\": \"none\", \"mode\": \"markers+text\", \"marker\": {\"size\": 20, \"color\": \"rgb(0, 255, 0)\", \"line\": {\"width\": 2, \"color\": \"rgb(0, 0, 0)\"}}, \"textfont\": {\"color\": \"rgb(0, 0, 0)\"}}, {\"x\": [1.0], \"y\": [1.0], \"text\": [\"9\"], \"textposition\": \"middle center\", \"hoverinfo\": \"none\", \"mode\": \"markers+text\", \"marker\": {\"size\": 20, \"color\": \"rgb(255, 255, 255)\", \"line\": {\"width\": 2, \"color\": \"rgb(0, 0, 0)\"}}, \"textfont\": {\"color\": \"rgb(0, 0, 0)\"}}, {\"x\": [0.5], \"y\": [0.0], \"text\": [\"5\"], \"textposition\": \"middle center\", \"hoverinfo\": \"none\", \"mode\": \"markers+text\", \"marker\": {\"size\": 20, \"color\": \"rgb(0, 0, 255)\", \"line\": {\"width\": 2, \"color\": \"rgb(0, 0, 0)\"}}, \"textfont\": {\"color\": \"rgb(255, 255, 255)\"}}, {\"x\": [1.0], \"y\": [0.0], \"text\": [\"7\"], \"textposition\": \"middle center\", \"hoverinfo\": \"none\", \"mode\": \"markers+text\", \"marker\": {\"size\": 20, \"color\": \"rgb(0, 0, 255)\", \"line\": {\"width\": 2, \"color\": \"rgb(0, 0, 0)\"}}, \"textfont\": {\"color\": \"rgb(255, 255, 255)\"}}], \"name\": 23}, {\"data\": [{\"x\": [0.0, 0.5, null, 0.46643085439538495, 0.44538388103556675, null, 0.46643085439538495, 0.4285584341548651, null], \"y\": [0.5, 1.0, null, 0.966430854395385, 0.906182816233176, null, 0.966430854395385, 0.967759498957256, null], \"hoverinfo\": \"none\", \"mode\": \"lines\", \"line\": {\"width\": 2, \"color\": \"rgb(0, 0, 0)\"}}, {\"x\": [0.0, 0.5, null, 0.46643085439538495, 0.4285584341548651, null, 0.46643085439538495, 0.44538388103556675, null], \"y\": [0.5, 0.0, null, 0.03356914560461503, 0.032240501042743994, null, 0.03356914560461503, 0.09381718376682407, null], \"hoverinfo\": \"none\", \"mode\": \"lines\", \"line\": {\"width\": 2, \"color\": \"rgb(0, 0, 0)\"}}, {\"x\": [0.5, 1.0, null, 0.9621212121212122, 0.9288794484132434, null, 0.9621212121212122, 0.9288794484132434, null], \"y\": [1.0, 1.0, null, 1.0, 0.9652590189417244, null, 1.0, 1.0347409810582755, null], \"hoverinfo\": \"none\", \"mode\": \"lines\", \"line\": {\"width\": 2, \"color\": \"rgb(0, 0, 0)\"}}, {\"x\": [0.5075757575757576, 0.5075757575757576, null, 0.5075757575757576, 0.5257358158562198, null], \"y\": [1.0, 0.0, null, 0.07246376811594203, 0.13605670738336034, null], \"hoverinfo\": \"none\", \"mode\": \"lines\", \"line\": {\"width\": 2, \"color\": \"rgb(255, 0, 0)\"}}, {\"x\": [1.0075757575757576, 1.0075757575757576, null, 1.0075757575757576, 1.0257358158562198, null], \"y\": [1.0, 0.0, null, 0.07246376811594203, 0.13605670738336034, null], \"hoverinfo\": \"none\", \"mode\": \"lines\", \"line\": {\"width\": 2, \"color\": \"rgb(0, 0, 0)\"}}, {\"x\": [0.49242424242424243, 0.49242424242424243, null, 0.49242424242424243, 0.4742641841437802, null], \"y\": [0.0, 1.0, null, 0.927536231884058, 0.8639432926166397, null], \"hoverinfo\": \"none\", \"mode\": \"lines\", \"line\": {\"width\": 2, \"color\": \"rgb(0, 0, 0)\"}}, {\"x\": [0.5, 1.0, null, 0.9738173240163878, 0.9639630823912474, null, 0.9738173240163878, 0.9377166459078401, null], \"y\": [0.0, 1.0, null, 0.9476346480327754, 0.8776659754484841, null, 0.9476346480327754, 0.9256934811496907, null], \"hoverinfo\": \"none\", \"mode\": \"lines\", \"line\": {\"width\": 2, \"color\": \"rgb(0, 0, 0)\"}}, {\"x\": [0.5, 1.0, null, 0.9621212121212122, 0.9288794484132434, null, 0.9621212121212122, 0.9288794484132434, null], \"y\": [0.0, 0.0, null, 0.0, -0.03474098105827558, null, 0.0, 0.03474098105827558, null], \"hoverinfo\": \"none\", \"mode\": \"lines\", \"line\": {\"width\": 2, \"color\": \"rgb(0, 0, 0)\"}}, {\"x\": [1.0, 0.0, null, 0.03664774299318793, 0.07340128670201525, null, 0.03664774299318793, 0.06421703965128427, null], \"y\": [0.0, 0.5, null, 0.481676128503406, 0.4992073320037643, null, 0.481676128503406, 0.4319835048195859, null], \"hoverinfo\": \"none\", \"mode\": \"lines\", \"line\": {\"width\": 2, \"color\": \"rgb(0, 0, 0)\"}}, {\"x\": [0.9924242424242424, 0.9924242424242424, null, 0.9924242424242424, 0.9742641841437802, null], \"y\": [0.0, 1.0, null, 0.927536231884058, 0.8639432926166397, null], \"hoverinfo\": \"none\", \"mode\": \"lines\", \"line\": {\"width\": 2, \"color\": \"rgb(0, 0, 0)\"}}, {\"x\": [0.0], \"y\": [0.5], \"text\": [\"0\"], \"textposition\": \"middle center\", \"hoverinfo\": \"none\", \"mode\": \"markers+text\", \"marker\": {\"size\": 20, \"color\": \"rgb(0, 0, 255)\", \"line\": {\"width\": 2, \"color\": \"rgb(0, 0, 0)\"}}, \"textfont\": {\"color\": \"rgb(255, 255, 255)\"}}, {\"x\": [0.5], \"y\": [1.0], \"text\": [\"8\"], \"textposition\": \"middle center\", \"hoverinfo\": \"none\", \"mode\": \"markers+text\", \"marker\": {\"size\": 20, \"color\": \"rgb(0, 255, 0)\", \"line\": {\"width\": 2, \"color\": \"rgb(0, 0, 0)\"}}, \"textfont\": {\"color\": \"rgb(0, 0, 0)\"}}, {\"x\": [1.0], \"y\": [1.0], \"text\": [\"9\"], \"textposition\": \"middle center\", \"hoverinfo\": \"none\", \"mode\": \"markers+text\", \"marker\": {\"size\": 20, \"color\": \"rgb(255, 255, 255)\", \"line\": {\"width\": 2, \"color\": \"rgb(0, 0, 0)\"}}, \"textfont\": {\"color\": \"rgb(0, 0, 0)\"}}, {\"x\": [0.5], \"y\": [0.0], \"text\": [\"5\"], \"textposition\": \"middle center\", \"hoverinfo\": \"none\", \"mode\": \"markers+text\", \"marker\": {\"size\": 20, \"color\": \"rgb(0, 0, 255)\", \"line\": {\"width\": 2, \"color\": \"rgb(0, 0, 0)\"}}, \"textfont\": {\"color\": \"rgb(255, 255, 255)\"}}, {\"x\": [1.0], \"y\": [0.0], \"text\": [\"7\"], \"textposition\": \"middle center\", \"hoverinfo\": \"none\", \"mode\": \"markers+text\", \"marker\": {\"size\": 20, \"color\": \"rgb(0, 0, 255)\", \"line\": {\"width\": 2, \"color\": \"rgb(0, 0, 0)\"}}, \"textfont\": {\"color\": \"rgb(255, 255, 255)\"}}], \"name\": 24}, {\"data\": [{\"x\": [0.0, 0.5, null, 0.46643085439538495, 0.44538388103556675, null, 0.46643085439538495, 0.4285584341548651, null], \"y\": [0.5, 1.0, null, 0.966430854395385, 0.906182816233176, null, 0.966430854395385, 0.967759498957256, null], \"hoverinfo\": \"none\", \"mode\": \"lines\", \"line\": {\"width\": 2, \"color\": \"rgb(0, 0, 0)\"}}, {\"x\": [0.0, 0.5, null, 0.46643085439538495, 0.4285584341548651, null, 0.46643085439538495, 0.44538388103556675, null], \"y\": [0.5, 0.0, null, 0.03356914560461503, 0.032240501042743994, null, 0.03356914560461503, 0.09381718376682407, null], \"hoverinfo\": \"none\", \"mode\": \"lines\", \"line\": {\"width\": 2, \"color\": \"rgb(0, 0, 0)\"}}, {\"x\": [0.5, 1.0, null, 0.9621212121212122, 0.9288794484132434, null, 0.9621212121212122, 0.9288794484132434, null], \"y\": [1.0, 1.0, null, 1.0, 0.9652590189417244, null, 1.0, 1.0347409810582755, null], \"hoverinfo\": \"none\", \"mode\": \"lines\", \"line\": {\"width\": 2, \"color\": \"rgb(0, 0, 0)\"}}, {\"x\": [0.5075757575757576, 0.5075757575757576, null, 0.5075757575757576, 0.5257358158562198, null], \"y\": [1.0, 0.0, null, 0.07246376811594203, 0.13605670738336034, null], \"hoverinfo\": \"none\", \"mode\": \"lines\", \"line\": {\"width\": 2, \"color\": \"rgb(0, 0, 0)\"}}, {\"x\": [1.0075757575757576, 1.0075757575757576, null, 1.0075757575757576, 1.0257358158562198, null], \"y\": [1.0, 0.0, null, 0.07246376811594203, 0.13605670738336034, null], \"hoverinfo\": \"none\", \"mode\": \"lines\", \"line\": {\"width\": 2, \"color\": \"rgb(0, 0, 0)\"}}, {\"x\": [0.49242424242424243, 0.49242424242424243, null, 0.49242424242424243, 0.4742641841437802, null], \"y\": [0.0, 1.0, null, 0.927536231884058, 0.8639432926166397, null], \"hoverinfo\": \"none\", \"mode\": \"lines\", \"line\": {\"width\": 2, \"color\": \"rgb(0, 0, 0)\"}}, {\"x\": [0.5, 1.0, null, 0.9738173240163878, 0.9639630823912474, null, 0.9738173240163878, 0.9377166459078401, null], \"y\": [0.0, 1.0, null, 0.9476346480327754, 0.8776659754484841, null, 0.9476346480327754, 0.9256934811496907, null], \"hoverinfo\": \"none\", \"mode\": \"lines\", \"line\": {\"width\": 2, \"color\": \"rgb(0, 0, 0)\"}}, {\"x\": [0.5, 1.0, null, 0.9621212121212122, 0.9288794484132434, null, 0.9621212121212122, 0.9288794484132434, null], \"y\": [0.0, 0.0, null, 0.0, -0.03474098105827558, null, 0.0, 0.03474098105827558, null], \"hoverinfo\": \"none\", \"mode\": \"lines\", \"line\": {\"width\": 2, \"color\": \"rgb(0, 0, 0)\"}}, {\"x\": [1.0, 0.0, null, 0.03664774299318793, 0.07340128670201525, null, 0.03664774299318793, 0.06421703965128427, null], \"y\": [0.0, 0.5, null, 0.481676128503406, 0.4992073320037643, null, 0.481676128503406, 0.4319835048195859, null], \"hoverinfo\": \"none\", \"mode\": \"lines\", \"line\": {\"width\": 2, \"color\": \"rgb(0, 0, 0)\"}}, {\"x\": [0.9924242424242424, 0.9924242424242424, null, 0.9924242424242424, 0.9742641841437802, null], \"y\": [0.0, 1.0, null, 0.927536231884058, 0.8639432926166397, null], \"hoverinfo\": \"none\", \"mode\": \"lines\", \"line\": {\"width\": 2, \"color\": \"rgb(0, 0, 0)\"}}, {\"x\": [0.0], \"y\": [0.5], \"text\": [\"0\"], \"textposition\": \"middle center\", \"hoverinfo\": \"none\", \"mode\": \"markers+text\", \"marker\": {\"size\": 20, \"color\": \"rgb(0, 0, 255)\", \"line\": {\"width\": 2, \"color\": \"rgb(0, 0, 0)\"}}, \"textfont\": {\"color\": \"rgb(255, 255, 255)\"}}, {\"x\": [0.5], \"y\": [1.0], \"text\": [\"8\"], \"textposition\": \"middle center\", \"hoverinfo\": \"none\", \"mode\": \"markers+text\", \"marker\": {\"size\": 20, \"color\": \"rgb(0, 255, 0)\", \"line\": {\"width\": 2, \"color\": \"rgb(0, 0, 0)\"}}, \"textfont\": {\"color\": \"rgb(0, 0, 0)\"}}, {\"x\": [1.0], \"y\": [1.0], \"text\": [\"9\"], \"textposition\": \"middle center\", \"hoverinfo\": \"none\", \"mode\": \"markers+text\", \"marker\": {\"size\": 20, \"color\": \"rgb(255, 255, 255)\", \"line\": {\"width\": 2, \"color\": \"rgb(0, 0, 0)\"}}, \"textfont\": {\"color\": \"rgb(0, 0, 0)\"}}, {\"x\": [0.5], \"y\": [0.0], \"text\": [\"5\"], \"textposition\": \"middle center\", \"hoverinfo\": \"none\", \"mode\": \"markers+text\", \"marker\": {\"size\": 20, \"color\": \"rgb(0, 0, 255)\", \"line\": {\"width\": 2, \"color\": \"rgb(0, 0, 0)\"}}, \"textfont\": {\"color\": \"rgb(255, 255, 255)\"}}, {\"x\": [1.0], \"y\": [0.0], \"text\": [\"7\"], \"textposition\": \"middle center\", \"hoverinfo\": \"none\", \"mode\": \"markers+text\", \"marker\": {\"size\": 20, \"color\": \"rgb(0, 0, 255)\", \"line\": {\"width\": 2, \"color\": \"rgb(0, 0, 0)\"}}, \"textfont\": {\"color\": \"rgb(255, 255, 255)\"}}], \"name\": 25}, {\"data\": [{\"x\": [0.0, 0.5, null, 0.46643085439538495, 0.44538388103556675, null, 0.46643085439538495, 0.4285584341548651, null], \"y\": [0.5, 1.0, null, 0.966430854395385, 0.906182816233176, null, 0.966430854395385, 0.967759498957256, null], \"hoverinfo\": \"none\", \"mode\": \"lines\", \"line\": {\"width\": 2, \"color\": \"rgb(0, 0, 0)\"}}, {\"x\": [0.0, 0.5, null, 0.46643085439538495, 0.4285584341548651, null, 0.46643085439538495, 0.44538388103556675, null], \"y\": [0.5, 0.0, null, 0.03356914560461503, 0.032240501042743994, null, 0.03356914560461503, 0.09381718376682407, null], \"hoverinfo\": \"none\", \"mode\": \"lines\", \"line\": {\"width\": 2, \"color\": \"rgb(0, 0, 0)\"}}, {\"x\": [0.5, 1.0, null, 0.9621212121212122, 0.9288794484132434, null, 0.9621212121212122, 0.9288794484132434, null], \"y\": [1.0, 1.0, null, 1.0, 0.9652590189417244, null, 1.0, 1.0347409810582755, null], \"hoverinfo\": \"none\", \"mode\": \"lines\", \"line\": {\"width\": 2, \"color\": \"rgb(0, 0, 0)\"}}, {\"x\": [0.5075757575757576, 0.5075757575757576, null, 0.5075757575757576, 0.5257358158562198, null], \"y\": [1.0, 0.0, null, 0.07246376811594203, 0.13605670738336034, null], \"hoverinfo\": \"none\", \"mode\": \"lines\", \"line\": {\"width\": 2, \"color\": \"rgb(0, 0, 0)\"}}, {\"x\": [1.0075757575757576, 1.0075757575757576, null, 1.0075757575757576, 1.0257358158562198, null], \"y\": [1.0, 0.0, null, 0.07246376811594203, 0.13605670738336034, null], \"hoverinfo\": \"none\", \"mode\": \"lines\", \"line\": {\"width\": 2, \"color\": \"rgb(0, 0, 0)\"}}, {\"x\": [0.49242424242424243, 0.49242424242424243, null, 0.49242424242424243, 0.4742641841437802, null], \"y\": [0.0, 1.0, null, 0.927536231884058, 0.8639432926166397, null], \"hoverinfo\": \"none\", \"mode\": \"lines\", \"line\": {\"width\": 2, \"color\": \"rgb(0, 0, 0)\"}}, {\"x\": [0.5, 1.0, null, 0.9738173240163878, 0.9639630823912474, null, 0.9738173240163878, 0.9377166459078401, null], \"y\": [0.0, 1.0, null, 0.9476346480327754, 0.8776659754484841, null, 0.9476346480327754, 0.9256934811496907, null], \"hoverinfo\": \"none\", \"mode\": \"lines\", \"line\": {\"width\": 2, \"color\": \"rgb(0, 0, 0)\"}}, {\"x\": [0.5, 1.0, null, 0.9621212121212122, 0.9288794484132434, null, 0.9621212121212122, 0.9288794484132434, null], \"y\": [0.0, 0.0, null, 0.0, -0.03474098105827558, null, 0.0, 0.03474098105827558, null], \"hoverinfo\": \"none\", \"mode\": \"lines\", \"line\": {\"width\": 2, \"color\": \"rgb(0, 0, 0)\"}}, {\"x\": [1.0, 0.0, null, 0.03664774299318793, 0.07340128670201525, null, 0.03664774299318793, 0.06421703965128427, null], \"y\": [0.0, 0.5, null, 0.481676128503406, 0.4992073320037643, null, 0.481676128503406, 0.4319835048195859, null], \"hoverinfo\": \"none\", \"mode\": \"lines\", \"line\": {\"width\": 2, \"color\": \"rgb(0, 0, 0)\"}}, {\"x\": [0.9924242424242424, 0.9924242424242424, null, 0.9924242424242424, 0.9742641841437802, null], \"y\": [0.0, 1.0, null, 0.927536231884058, 0.8639432926166397, null], \"hoverinfo\": \"none\", \"mode\": \"lines\", \"line\": {\"width\": 2, \"color\": \"rgb(0, 0, 0)\"}}, {\"x\": [0.0], \"y\": [0.5], \"text\": [\"0\"], \"textposition\": \"middle center\", \"hoverinfo\": \"none\", \"mode\": \"markers+text\", \"marker\": {\"size\": 20, \"color\": \"rgb(0, 0, 255)\", \"line\": {\"width\": 2, \"color\": \"rgb(0, 0, 0)\"}}, \"textfont\": {\"color\": \"rgb(255, 255, 255)\"}}, {\"x\": [0.5], \"y\": [1.0], \"text\": [\"8\"], \"textposition\": \"middle center\", \"hoverinfo\": \"none\", \"mode\": \"markers+text\", \"marker\": {\"size\": 20, \"color\": \"rgb(0, 0, 255)\", \"line\": {\"width\": 2, \"color\": \"rgb(0, 0, 0)\"}}, \"textfont\": {\"color\": \"rgb(255, 255, 255)\"}}, {\"x\": [1.0], \"y\": [1.0], \"text\": [\"9\"], \"textposition\": \"middle center\", \"hoverinfo\": \"none\", \"mode\": \"markers+text\", \"marker\": {\"size\": 20, \"color\": \"rgb(255, 255, 255)\", \"line\": {\"width\": 2, \"color\": \"rgb(0, 0, 0)\"}}, \"textfont\": {\"color\": \"rgb(0, 0, 0)\"}}, {\"x\": [0.5], \"y\": [0.0], \"text\": [\"5\"], \"textposition\": \"middle center\", \"hoverinfo\": \"none\", \"mode\": \"markers+text\", \"marker\": {\"size\": 20, \"color\": \"rgb(0, 0, 255)\", \"line\": {\"width\": 2, \"color\": \"rgb(0, 0, 0)\"}}, \"textfont\": {\"color\": \"rgb(255, 255, 255)\"}}, {\"x\": [1.0], \"y\": [0.0], \"text\": [\"7\"], \"textposition\": \"middle center\", \"hoverinfo\": \"none\", \"mode\": \"markers+text\", \"marker\": {\"size\": 20, \"color\": \"rgb(0, 0, 255)\", \"line\": {\"width\": 2, \"color\": \"rgb(0, 0, 0)\"}}, \"textfont\": {\"color\": \"rgb(255, 255, 255)\"}}], \"name\": 26}, {\"data\": [{\"x\": [0.0, 0.5, null, 0.46643085439538495, 0.44538388103556675, null, 0.46643085439538495, 0.4285584341548651, null], \"y\": [0.5, 1.0, null, 0.966430854395385, 0.906182816233176, null, 0.966430854395385, 0.967759498957256, null], \"hoverinfo\": \"none\", \"mode\": \"lines\", \"line\": {\"width\": 2, \"color\": \"rgb(0, 0, 0)\"}}, {\"x\": [0.0, 0.5, null, 0.46643085439538495, 0.4285584341548651, null, 0.46643085439538495, 0.44538388103556675, null], \"y\": [0.5, 0.0, null, 0.03356914560461503, 0.032240501042743994, null, 0.03356914560461503, 0.09381718376682407, null], \"hoverinfo\": \"none\", \"mode\": \"lines\", \"line\": {\"width\": 2, \"color\": \"rgb(0, 0, 0)\"}}, {\"x\": [0.5, 1.0, null, 0.9621212121212122, 0.9288794484132434, null, 0.9621212121212122, 0.9288794484132434, null], \"y\": [1.0, 1.0, null, 1.0, 0.9652590189417244, null, 1.0, 1.0347409810582755, null], \"hoverinfo\": \"none\", \"mode\": \"lines\", \"line\": {\"width\": 2, \"color\": \"rgb(0, 0, 0)\"}}, {\"x\": [0.5075757575757576, 0.5075757575757576, null, 0.5075757575757576, 0.5257358158562198, null], \"y\": [1.0, 0.0, null, 0.07246376811594203, 0.13605670738336034, null], \"hoverinfo\": \"none\", \"mode\": \"lines\", \"line\": {\"width\": 2, \"color\": \"rgb(0, 0, 0)\"}}, {\"x\": [1.0075757575757576, 1.0075757575757576, null, 1.0075757575757576, 1.0257358158562198, null], \"y\": [1.0, 0.0, null, 0.07246376811594203, 0.13605670738336034, null], \"hoverinfo\": \"none\", \"mode\": \"lines\", \"line\": {\"width\": 2, \"color\": \"rgb(0, 0, 0)\"}}, {\"x\": [0.49242424242424243, 0.49242424242424243, null, 0.49242424242424243, 0.4742641841437802, null], \"y\": [0.0, 1.0, null, 0.927536231884058, 0.8639432926166397, null], \"hoverinfo\": \"none\", \"mode\": \"lines\", \"line\": {\"width\": 2, \"color\": \"rgb(0, 0, 0)\"}}, {\"x\": [0.5, 1.0, null, 0.9738173240163878, 0.9639630823912474, null, 0.9738173240163878, 0.9377166459078401, null], \"y\": [0.0, 1.0, null, 0.9476346480327754, 0.8776659754484841, null, 0.9476346480327754, 0.9256934811496907, null], \"hoverinfo\": \"none\", \"mode\": \"lines\", \"line\": {\"width\": 2, \"color\": \"rgb(0, 0, 0)\"}}, {\"x\": [0.5, 1.0, null, 0.9621212121212122, 0.9288794484132434, null, 0.9621212121212122, 0.9288794484132434, null], \"y\": [0.0, 0.0, null, 0.0, -0.03474098105827558, null, 0.0, 0.03474098105827558, null], \"hoverinfo\": \"none\", \"mode\": \"lines\", \"line\": {\"width\": 2, \"color\": \"rgb(0, 0, 0)\"}}, {\"x\": [1.0, 0.0, null, 0.03664774299318793, 0.07340128670201525, null, 0.03664774299318793, 0.06421703965128427, null], \"y\": [0.0, 0.5, null, 0.481676128503406, 0.4992073320037643, null, 0.481676128503406, 0.4319835048195859, null], \"hoverinfo\": \"none\", \"mode\": \"lines\", \"line\": {\"width\": 2, \"color\": \"rgb(0, 0, 0)\"}}, {\"x\": [0.9924242424242424, 0.9924242424242424, null, 0.9924242424242424, 0.9742641841437802, null], \"y\": [0.0, 1.0, null, 0.927536231884058, 0.8639432926166397, null], \"hoverinfo\": \"none\", \"mode\": \"lines\", \"line\": {\"width\": 2, \"color\": \"rgb(0, 0, 0)\"}}, {\"x\": [0.0], \"y\": [0.5], \"text\": [\"0\"], \"textposition\": \"middle center\", \"hoverinfo\": \"none\", \"mode\": \"markers+text\", \"marker\": {\"size\": 20, \"color\": \"rgb(0, 0, 255)\", \"line\": {\"width\": 2, \"color\": \"rgb(0, 0, 0)\"}}, \"textfont\": {\"color\": \"rgb(255, 255, 255)\"}}, {\"x\": [0.5], \"y\": [1.0], \"text\": [\"8\"], \"textposition\": \"middle center\", \"hoverinfo\": \"none\", \"mode\": \"markers+text\", \"marker\": {\"size\": 20, \"color\": \"rgb(0, 0, 255)\", \"line\": {\"width\": 2, \"color\": \"rgb(0, 0, 0)\"}}, \"textfont\": {\"color\": \"rgb(255, 255, 255)\"}}, {\"x\": [1.0], \"y\": [1.0], \"text\": [\"9\"], \"textposition\": \"middle center\", \"hoverinfo\": \"none\", \"mode\": \"markers+text\", \"marker\": {\"size\": 20, \"color\": \"rgb(0, 255, 0)\", \"line\": {\"width\": 2, \"color\": \"rgb(0, 0, 0)\"}}, \"textfont\": {\"color\": \"rgb(0, 0, 0)\"}}, {\"x\": [0.5], \"y\": [0.0], \"text\": [\"5\"], \"textposition\": \"middle center\", \"hoverinfo\": \"none\", \"mode\": \"markers+text\", \"marker\": {\"size\": 20, \"color\": \"rgb(0, 0, 255)\", \"line\": {\"width\": 2, \"color\": \"rgb(0, 0, 0)\"}}, \"textfont\": {\"color\": \"rgb(255, 255, 255)\"}}, {\"x\": [1.0], \"y\": [0.0], \"text\": [\"7\"], \"textposition\": \"middle center\", \"hoverinfo\": \"none\", \"mode\": \"markers+text\", \"marker\": {\"size\": 20, \"color\": \"rgb(0, 0, 255)\", \"line\": {\"width\": 2, \"color\": \"rgb(0, 0, 0)\"}}, \"textfont\": {\"color\": \"rgb(255, 255, 255)\"}}], \"name\": 27}, {\"data\": [{\"x\": [0.0, 0.5, null, 0.46643085439538495, 0.44538388103556675, null, 0.46643085439538495, 0.4285584341548651, null], \"y\": [0.5, 1.0, null, 0.966430854395385, 0.906182816233176, null, 0.966430854395385, 0.967759498957256, null], \"hoverinfo\": \"none\", \"mode\": \"lines\", \"line\": {\"width\": 2, \"color\": \"rgb(0, 0, 0)\"}}, {\"x\": [0.0, 0.5, null, 0.46643085439538495, 0.4285584341548651, null, 0.46643085439538495, 0.44538388103556675, null], \"y\": [0.5, 0.0, null, 0.03356914560461503, 0.032240501042743994, null, 0.03356914560461503, 0.09381718376682407, null], \"hoverinfo\": \"none\", \"mode\": \"lines\", \"line\": {\"width\": 2, \"color\": \"rgb(0, 0, 0)\"}}, {\"x\": [0.5, 1.0, null, 0.9621212121212122, 0.9288794484132434, null, 0.9621212121212122, 0.9288794484132434, null], \"y\": [1.0, 1.0, null, 1.0, 0.9652590189417244, null, 1.0, 1.0347409810582755, null], \"hoverinfo\": \"none\", \"mode\": \"lines\", \"line\": {\"width\": 2, \"color\": \"rgb(0, 0, 0)\"}}, {\"x\": [0.5075757575757576, 0.5075757575757576, null, 0.5075757575757576, 0.5257358158562198, null], \"y\": [1.0, 0.0, null, 0.07246376811594203, 0.13605670738336034, null], \"hoverinfo\": \"none\", \"mode\": \"lines\", \"line\": {\"width\": 2, \"color\": \"rgb(0, 0, 0)\"}}, {\"x\": [1.0075757575757576, 1.0075757575757576, null, 1.0075757575757576, 1.0257358158562198, null], \"y\": [1.0, 0.0, null, 0.07246376811594203, 0.13605670738336034, null], \"hoverinfo\": \"none\", \"mode\": \"lines\", \"line\": {\"width\": 2, \"color\": \"rgb(255, 0, 0)\"}}, {\"x\": [0.49242424242424243, 0.49242424242424243, null, 0.49242424242424243, 0.4742641841437802, null], \"y\": [0.0, 1.0, null, 0.927536231884058, 0.8639432926166397, null], \"hoverinfo\": \"none\", \"mode\": \"lines\", \"line\": {\"width\": 2, \"color\": \"rgb(0, 0, 0)\"}}, {\"x\": [0.5, 1.0, null, 0.9738173240163878, 0.9639630823912474, null, 0.9738173240163878, 0.9377166459078401, null], \"y\": [0.0, 1.0, null, 0.9476346480327754, 0.8776659754484841, null, 0.9476346480327754, 0.9256934811496907, null], \"hoverinfo\": \"none\", \"mode\": \"lines\", \"line\": {\"width\": 2, \"color\": \"rgb(0, 0, 0)\"}}, {\"x\": [0.5, 1.0, null, 0.9621212121212122, 0.9288794484132434, null, 0.9621212121212122, 0.9288794484132434, null], \"y\": [0.0, 0.0, null, 0.0, -0.03474098105827558, null, 0.0, 0.03474098105827558, null], \"hoverinfo\": \"none\", \"mode\": \"lines\", \"line\": {\"width\": 2, \"color\": \"rgb(0, 0, 0)\"}}, {\"x\": [1.0, 0.0, null, 0.03664774299318793, 0.07340128670201525, null, 0.03664774299318793, 0.06421703965128427, null], \"y\": [0.0, 0.5, null, 0.481676128503406, 0.4992073320037643, null, 0.481676128503406, 0.4319835048195859, null], \"hoverinfo\": \"none\", \"mode\": \"lines\", \"line\": {\"width\": 2, \"color\": \"rgb(0, 0, 0)\"}}, {\"x\": [0.9924242424242424, 0.9924242424242424, null, 0.9924242424242424, 0.9742641841437802, null], \"y\": [0.0, 1.0, null, 0.927536231884058, 0.8639432926166397, null], \"hoverinfo\": \"none\", \"mode\": \"lines\", \"line\": {\"width\": 2, \"color\": \"rgb(0, 0, 0)\"}}, {\"x\": [0.0], \"y\": [0.5], \"text\": [\"0\"], \"textposition\": \"middle center\", \"hoverinfo\": \"none\", \"mode\": \"markers+text\", \"marker\": {\"size\": 20, \"color\": \"rgb(0, 0, 255)\", \"line\": {\"width\": 2, \"color\": \"rgb(0, 0, 0)\"}}, \"textfont\": {\"color\": \"rgb(255, 255, 255)\"}}, {\"x\": [0.5], \"y\": [1.0], \"text\": [\"8\"], \"textposition\": \"middle center\", \"hoverinfo\": \"none\", \"mode\": \"markers+text\", \"marker\": {\"size\": 20, \"color\": \"rgb(0, 0, 255)\", \"line\": {\"width\": 2, \"color\": \"rgb(0, 0, 0)\"}}, \"textfont\": {\"color\": \"rgb(255, 255, 255)\"}}, {\"x\": [1.0], \"y\": [1.0], \"text\": [\"9\"], \"textposition\": \"middle center\", \"hoverinfo\": \"none\", \"mode\": \"markers+text\", \"marker\": {\"size\": 20, \"color\": \"rgb(0, 255, 0)\", \"line\": {\"width\": 2, \"color\": \"rgb(0, 0, 0)\"}}, \"textfont\": {\"color\": \"rgb(0, 0, 0)\"}}, {\"x\": [0.5], \"y\": [0.0], \"text\": [\"5\"], \"textposition\": \"middle center\", \"hoverinfo\": \"none\", \"mode\": \"markers+text\", \"marker\": {\"size\": 20, \"color\": \"rgb(0, 0, 255)\", \"line\": {\"width\": 2, \"color\": \"rgb(0, 0, 0)\"}}, \"textfont\": {\"color\": \"rgb(255, 255, 255)\"}}, {\"x\": [1.0], \"y\": [0.0], \"text\": [\"7\"], \"textposition\": \"middle center\", \"hoverinfo\": \"none\", \"mode\": \"markers+text\", \"marker\": {\"size\": 20, \"color\": \"rgb(0, 0, 255)\", \"line\": {\"width\": 2, \"color\": \"rgb(0, 0, 0)\"}}, \"textfont\": {\"color\": \"rgb(255, 255, 255)\"}}], \"name\": 28}, {\"data\": [{\"x\": [0.0, 0.5, null, 0.46643085439538495, 0.44538388103556675, null, 0.46643085439538495, 0.4285584341548651, null], \"y\": [0.5, 1.0, null, 0.966430854395385, 0.906182816233176, null, 0.966430854395385, 0.967759498957256, null], \"hoverinfo\": \"none\", \"mode\": \"lines\", \"line\": {\"width\": 2, \"color\": \"rgb(0, 0, 0)\"}}, {\"x\": [0.0, 0.5, null, 0.46643085439538495, 0.4285584341548651, null, 0.46643085439538495, 0.44538388103556675, null], \"y\": [0.5, 0.0, null, 0.03356914560461503, 0.032240501042743994, null, 0.03356914560461503, 0.09381718376682407, null], \"hoverinfo\": \"none\", \"mode\": \"lines\", \"line\": {\"width\": 2, \"color\": \"rgb(0, 0, 0)\"}}, {\"x\": [0.5, 1.0, null, 0.9621212121212122, 0.9288794484132434, null, 0.9621212121212122, 0.9288794484132434, null], \"y\": [1.0, 1.0, null, 1.0, 0.9652590189417244, null, 1.0, 1.0347409810582755, null], \"hoverinfo\": \"none\", \"mode\": \"lines\", \"line\": {\"width\": 2, \"color\": \"rgb(0, 0, 0)\"}}, {\"x\": [0.5075757575757576, 0.5075757575757576, null, 0.5075757575757576, 0.5257358158562198, null], \"y\": [1.0, 0.0, null, 0.07246376811594203, 0.13605670738336034, null], \"hoverinfo\": \"none\", \"mode\": \"lines\", \"line\": {\"width\": 2, \"color\": \"rgb(0, 0, 0)\"}}, {\"x\": [1.0075757575757576, 1.0075757575757576, null, 1.0075757575757576, 1.0257358158562198, null], \"y\": [1.0, 0.0, null, 0.07246376811594203, 0.13605670738336034, null], \"hoverinfo\": \"none\", \"mode\": \"lines\", \"line\": {\"width\": 2, \"color\": \"rgb(0, 0, 0)\"}}, {\"x\": [0.49242424242424243, 0.49242424242424243, null, 0.49242424242424243, 0.4742641841437802, null], \"y\": [0.0, 1.0, null, 0.927536231884058, 0.8639432926166397, null], \"hoverinfo\": \"none\", \"mode\": \"lines\", \"line\": {\"width\": 2, \"color\": \"rgb(0, 0, 0)\"}}, {\"x\": [0.5, 1.0, null, 0.9738173240163878, 0.9639630823912474, null, 0.9738173240163878, 0.9377166459078401, null], \"y\": [0.0, 1.0, null, 0.9476346480327754, 0.8776659754484841, null, 0.9476346480327754, 0.9256934811496907, null], \"hoverinfo\": \"none\", \"mode\": \"lines\", \"line\": {\"width\": 2, \"color\": \"rgb(0, 0, 0)\"}}, {\"x\": [0.5, 1.0, null, 0.9621212121212122, 0.9288794484132434, null, 0.9621212121212122, 0.9288794484132434, null], \"y\": [0.0, 0.0, null, 0.0, -0.03474098105827558, null, 0.0, 0.03474098105827558, null], \"hoverinfo\": \"none\", \"mode\": \"lines\", \"line\": {\"width\": 2, \"color\": \"rgb(0, 0, 0)\"}}, {\"x\": [1.0, 0.0, null, 0.03664774299318793, 0.07340128670201525, null, 0.03664774299318793, 0.06421703965128427, null], \"y\": [0.0, 0.5, null, 0.481676128503406, 0.4992073320037643, null, 0.481676128503406, 0.4319835048195859, null], \"hoverinfo\": \"none\", \"mode\": \"lines\", \"line\": {\"width\": 2, \"color\": \"rgb(0, 0, 0)\"}}, {\"x\": [0.9924242424242424, 0.9924242424242424, null, 0.9924242424242424, 0.9742641841437802, null], \"y\": [0.0, 1.0, null, 0.927536231884058, 0.8639432926166397, null], \"hoverinfo\": \"none\", \"mode\": \"lines\", \"line\": {\"width\": 2, \"color\": \"rgb(0, 0, 0)\"}}, {\"x\": [0.0], \"y\": [0.5], \"text\": [\"0\"], \"textposition\": \"middle center\", \"hoverinfo\": \"none\", \"mode\": \"markers+text\", \"marker\": {\"size\": 20, \"color\": \"rgb(0, 0, 255)\", \"line\": {\"width\": 2, \"color\": \"rgb(0, 0, 0)\"}}, \"textfont\": {\"color\": \"rgb(255, 255, 255)\"}}, {\"x\": [0.5], \"y\": [1.0], \"text\": [\"8\"], \"textposition\": \"middle center\", \"hoverinfo\": \"none\", \"mode\": \"markers+text\", \"marker\": {\"size\": 20, \"color\": \"rgb(0, 0, 255)\", \"line\": {\"width\": 2, \"color\": \"rgb(0, 0, 0)\"}}, \"textfont\": {\"color\": \"rgb(255, 255, 255)\"}}, {\"x\": [1.0], \"y\": [1.0], \"text\": [\"9\"], \"textposition\": \"middle center\", \"hoverinfo\": \"none\", \"mode\": \"markers+text\", \"marker\": {\"size\": 20, \"color\": \"rgb(0, 255, 0)\", \"line\": {\"width\": 2, \"color\": \"rgb(0, 0, 0)\"}}, \"textfont\": {\"color\": \"rgb(0, 0, 0)\"}}, {\"x\": [0.5], \"y\": [0.0], \"text\": [\"5\"], \"textposition\": \"middle center\", \"hoverinfo\": \"none\", \"mode\": \"markers+text\", \"marker\": {\"size\": 20, \"color\": \"rgb(0, 0, 255)\", \"line\": {\"width\": 2, \"color\": \"rgb(0, 0, 0)\"}}, \"textfont\": {\"color\": \"rgb(255, 255, 255)\"}}, {\"x\": [1.0], \"y\": [0.0], \"text\": [\"7\"], \"textposition\": \"middle center\", \"hoverinfo\": \"none\", \"mode\": \"markers+text\", \"marker\": {\"size\": 20, \"color\": \"rgb(0, 0, 255)\", \"line\": {\"width\": 2, \"color\": \"rgb(0, 0, 0)\"}}, \"textfont\": {\"color\": \"rgb(255, 255, 255)\"}}], \"name\": 29}, {\"data\": [{\"x\": [0.0, 0.5, null, 0.46643085439538495, 0.44538388103556675, null, 0.46643085439538495, 0.4285584341548651, null], \"y\": [0.5, 1.0, null, 0.966430854395385, 0.906182816233176, null, 0.966430854395385, 0.967759498957256, null], \"hoverinfo\": \"none\", \"mode\": \"lines\", \"line\": {\"width\": 2, \"color\": \"rgb(0, 0, 0)\"}}, {\"x\": [0.0, 0.5, null, 0.46643085439538495, 0.4285584341548651, null, 0.46643085439538495, 0.44538388103556675, null], \"y\": [0.5, 0.0, null, 0.03356914560461503, 0.032240501042743994, null, 0.03356914560461503, 0.09381718376682407, null], \"hoverinfo\": \"none\", \"mode\": \"lines\", \"line\": {\"width\": 2, \"color\": \"rgb(0, 0, 0)\"}}, {\"x\": [0.5, 1.0, null, 0.9621212121212122, 0.9288794484132434, null, 0.9621212121212122, 0.9288794484132434, null], \"y\": [1.0, 1.0, null, 1.0, 0.9652590189417244, null, 1.0, 1.0347409810582755, null], \"hoverinfo\": \"none\", \"mode\": \"lines\", \"line\": {\"width\": 2, \"color\": \"rgb(0, 0, 0)\"}}, {\"x\": [0.5075757575757576, 0.5075757575757576, null, 0.5075757575757576, 0.5257358158562198, null], \"y\": [1.0, 0.0, null, 0.07246376811594203, 0.13605670738336034, null], \"hoverinfo\": \"none\", \"mode\": \"lines\", \"line\": {\"width\": 2, \"color\": \"rgb(0, 0, 0)\"}}, {\"x\": [1.0075757575757576, 1.0075757575757576, null, 1.0075757575757576, 1.0257358158562198, null], \"y\": [1.0, 0.0, null, 0.07246376811594203, 0.13605670738336034, null], \"hoverinfo\": \"none\", \"mode\": \"lines\", \"line\": {\"width\": 2, \"color\": \"rgb(0, 0, 0)\"}}, {\"x\": [0.49242424242424243, 0.49242424242424243, null, 0.49242424242424243, 0.4742641841437802, null], \"y\": [0.0, 1.0, null, 0.927536231884058, 0.8639432926166397, null], \"hoverinfo\": \"none\", \"mode\": \"lines\", \"line\": {\"width\": 2, \"color\": \"rgb(0, 0, 0)\"}}, {\"x\": [0.5, 1.0, null, 0.9738173240163878, 0.9639630823912474, null, 0.9738173240163878, 0.9377166459078401, null], \"y\": [0.0, 1.0, null, 0.9476346480327754, 0.8776659754484841, null, 0.9476346480327754, 0.9256934811496907, null], \"hoverinfo\": \"none\", \"mode\": \"lines\", \"line\": {\"width\": 2, \"color\": \"rgb(0, 0, 0)\"}}, {\"x\": [0.5, 1.0, null, 0.9621212121212122, 0.9288794484132434, null, 0.9621212121212122, 0.9288794484132434, null], \"y\": [0.0, 0.0, null, 0.0, -0.03474098105827558, null, 0.0, 0.03474098105827558, null], \"hoverinfo\": \"none\", \"mode\": \"lines\", \"line\": {\"width\": 2, \"color\": \"rgb(0, 0, 0)\"}}, {\"x\": [1.0, 0.0, null, 0.03664774299318793, 0.07340128670201525, null, 0.03664774299318793, 0.06421703965128427, null], \"y\": [0.0, 0.5, null, 0.481676128503406, 0.4992073320037643, null, 0.481676128503406, 0.4319835048195859, null], \"hoverinfo\": \"none\", \"mode\": \"lines\", \"line\": {\"width\": 2, \"color\": \"rgb(0, 0, 0)\"}}, {\"x\": [0.9924242424242424, 0.9924242424242424, null, 0.9924242424242424, 0.9742641841437802, null], \"y\": [0.0, 1.0, null, 0.927536231884058, 0.8639432926166397, null], \"hoverinfo\": \"none\", \"mode\": \"lines\", \"line\": {\"width\": 2, \"color\": \"rgb(0, 0, 0)\"}}, {\"x\": [0.0], \"y\": [0.5], \"text\": [\"0\"], \"textposition\": \"middle center\", \"hoverinfo\": \"none\", \"mode\": \"markers+text\", \"marker\": {\"size\": 20, \"color\": \"rgb(0, 0, 255)\", \"line\": {\"width\": 2, \"color\": \"rgb(0, 0, 0)\"}}, \"textfont\": {\"color\": \"rgb(255, 255, 255)\"}}, {\"x\": [0.5], \"y\": [1.0], \"text\": [\"8\"], \"textposition\": \"middle center\", \"hoverinfo\": \"none\", \"mode\": \"markers+text\", \"marker\": {\"size\": 20, \"color\": \"rgb(0, 0, 255)\", \"line\": {\"width\": 2, \"color\": \"rgb(0, 0, 0)\"}}, \"textfont\": {\"color\": \"rgb(255, 255, 255)\"}}, {\"x\": [1.0], \"y\": [1.0], \"text\": [\"9\"], \"textposition\": \"middle center\", \"hoverinfo\": \"none\", \"mode\": \"markers+text\", \"marker\": {\"size\": 20, \"color\": \"rgb(0, 0, 255)\", \"line\": {\"width\": 2, \"color\": \"rgb(0, 0, 0)\"}}, \"textfont\": {\"color\": \"rgb(255, 255, 255)\"}}, {\"x\": [0.5], \"y\": [0.0], \"text\": [\"5\"], \"textposition\": \"middle center\", \"hoverinfo\": \"none\", \"mode\": \"markers+text\", \"marker\": {\"size\": 20, \"color\": \"rgb(0, 0, 255)\", \"line\": {\"width\": 2, \"color\": \"rgb(0, 0, 0)\"}}, \"textfont\": {\"color\": \"rgb(255, 255, 255)\"}}, {\"x\": [1.0], \"y\": [0.0], \"text\": [\"7\"], \"textposition\": \"middle center\", \"hoverinfo\": \"none\", \"mode\": \"markers+text\", \"marker\": {\"size\": 20, \"color\": \"rgb(0, 0, 255)\", \"line\": {\"width\": 2, \"color\": \"rgb(0, 0, 0)\"}}, \"textfont\": {\"color\": \"rgb(255, 255, 255)\"}}], \"name\": 30}, {\"data\": [{\"x\": [0.0, 0.5, null, 0.46643085439538495, 0.44538388103556675, null, 0.46643085439538495, 0.4285584341548651, null], \"y\": [0.5, 1.0, null, 0.966430854395385, 0.906182816233176, null, 0.966430854395385, 0.967759498957256, null], \"hoverinfo\": \"none\", \"mode\": \"lines\", \"line\": {\"width\": 2, \"color\": \"rgb(0, 0, 0)\"}}, {\"x\": [0.0, 0.5, null, 0.46643085439538495, 0.4285584341548651, null, 0.46643085439538495, 0.44538388103556675, null], \"y\": [0.5, 0.0, null, 0.03356914560461503, 0.032240501042743994, null, 0.03356914560461503, 0.09381718376682407, null], \"hoverinfo\": \"none\", \"mode\": \"lines\", \"line\": {\"width\": 2, \"color\": \"rgb(0, 0, 0)\"}}, {\"x\": [0.5, 1.0, null, 0.9621212121212122, 0.9288794484132434, null, 0.9621212121212122, 0.9288794484132434, null], \"y\": [1.0, 1.0, null, 1.0, 0.9652590189417244, null, 1.0, 1.0347409810582755, null], \"hoverinfo\": \"none\", \"mode\": \"lines\", \"line\": {\"width\": 2, \"color\": \"rgb(0, 0, 0)\"}}, {\"x\": [0.5075757575757576, 0.5075757575757576, null, 0.5075757575757576, 0.5257358158562198, null], \"y\": [1.0, 0.0, null, 0.07246376811594203, 0.13605670738336034, null], \"hoverinfo\": \"none\", \"mode\": \"lines\", \"line\": {\"width\": 2, \"color\": \"rgb(0, 0, 0)\"}}, {\"x\": [1.0075757575757576, 1.0075757575757576, null, 1.0075757575757576, 1.0257358158562198, null], \"y\": [1.0, 0.0, null, 0.07246376811594203, 0.13605670738336034, null], \"hoverinfo\": \"none\", \"mode\": \"lines\", \"line\": {\"width\": 2, \"color\": \"rgb(0, 0, 0)\"}}, {\"x\": [0.49242424242424243, 0.49242424242424243, null, 0.49242424242424243, 0.4742641841437802, null], \"y\": [0.0, 1.0, null, 0.927536231884058, 0.8639432926166397, null], \"hoverinfo\": \"none\", \"mode\": \"lines\", \"line\": {\"width\": 2, \"color\": \"rgb(0, 0, 0)\"}}, {\"x\": [0.5, 1.0, null, 0.9738173240163878, 0.9639630823912474, null, 0.9738173240163878, 0.9377166459078401, null], \"y\": [0.0, 1.0, null, 0.9476346480327754, 0.8776659754484841, null, 0.9476346480327754, 0.9256934811496907, null], \"hoverinfo\": \"none\", \"mode\": \"lines\", \"line\": {\"width\": 2, \"color\": \"rgb(0, 0, 0)\"}}, {\"x\": [0.5, 1.0, null, 0.9621212121212122, 0.9288794484132434, null, 0.9621212121212122, 0.9288794484132434, null], \"y\": [0.0, 0.0, null, 0.0, -0.03474098105827558, null, 0.0, 0.03474098105827558, null], \"hoverinfo\": \"none\", \"mode\": \"lines\", \"line\": {\"width\": 2, \"color\": \"rgb(0, 0, 0)\"}}, {\"x\": [1.0, 0.0, null, 0.03664774299318793, 0.07340128670201525, null, 0.03664774299318793, 0.06421703965128427, null], \"y\": [0.0, 0.5, null, 0.481676128503406, 0.4992073320037643, null, 0.481676128503406, 0.4319835048195859, null], \"hoverinfo\": \"none\", \"mode\": \"lines\", \"line\": {\"width\": 2, \"color\": \"rgb(0, 0, 0)\"}}, {\"x\": [0.9924242424242424, 0.9924242424242424, null, 0.9924242424242424, 0.9742641841437802, null], \"y\": [0.0, 1.0, null, 0.927536231884058, 0.8639432926166397, null], \"hoverinfo\": \"none\", \"mode\": \"lines\", \"line\": {\"width\": 2, \"color\": \"rgb(0, 0, 0)\"}}, {\"x\": [0.0], \"y\": [0.5], \"text\": [\"0\"], \"textposition\": \"middle center\", \"hoverinfo\": \"none\", \"mode\": \"markers+text\", \"marker\": {\"size\": 20, \"color\": \"rgb(0, 0, 255)\", \"line\": {\"width\": 2, \"color\": \"rgb(0, 0, 0)\"}}, \"textfont\": {\"color\": \"rgb(255, 255, 255)\"}}, {\"x\": [0.5], \"y\": [1.0], \"text\": [\"8\"], \"textposition\": \"middle center\", \"hoverinfo\": \"none\", \"mode\": \"markers+text\", \"marker\": {\"size\": 20, \"color\": \"rgb(0, 0, 255)\", \"line\": {\"width\": 2, \"color\": \"rgb(0, 0, 0)\"}}, \"textfont\": {\"color\": \"rgb(255, 255, 255)\"}}, {\"x\": [1.0], \"y\": [1.0], \"text\": [\"9\"], \"textposition\": \"middle center\", \"hoverinfo\": \"none\", \"mode\": \"markers+text\", \"marker\": {\"size\": 20, \"color\": \"rgb(0, 0, 255)\", \"line\": {\"width\": 2, \"color\": \"rgb(0, 0, 0)\"}}, \"textfont\": {\"color\": \"rgb(255, 255, 255)\"}}, {\"x\": [0.5], \"y\": [0.0], \"text\": [\"5\"], \"textposition\": \"middle center\", \"hoverinfo\": \"none\", \"mode\": \"markers+text\", \"marker\": {\"size\": 20, \"color\": \"rgb(0, 0, 255)\", \"line\": {\"width\": 2, \"color\": \"rgb(0, 0, 0)\"}}, \"textfont\": {\"color\": \"rgb(255, 255, 255)\"}}, {\"x\": [1.0], \"y\": [0.0], \"text\": [\"7\"], \"textposition\": \"middle center\", \"hoverinfo\": \"none\", \"mode\": \"markers+text\", \"marker\": {\"size\": 20, \"color\": \"rgb(0, 0, 255)\", \"line\": {\"width\": 2, \"color\": \"rgb(0, 0, 0)\"}}, \"textfont\": {\"color\": \"rgb(255, 255, 255)\"}}], \"name\": 31}, {\"data\": [{\"x\": [0.0, 0.5, null, 0.46643085439538495, 0.44538388103556675, null, 0.46643085439538495, 0.4285584341548651, null], \"y\": [0.5, 1.0, null, 0.966430854395385, 0.906182816233176, null, 0.966430854395385, 0.967759498957256, null], \"hoverinfo\": \"none\", \"mode\": \"lines\", \"line\": {\"width\": 2, \"color\": \"rgb(0, 0, 0)\"}}, {\"x\": [0.0, 0.5, null, 0.46643085439538495, 0.4285584341548651, null, 0.46643085439538495, 0.44538388103556675, null], \"y\": [0.5, 0.0, null, 0.03356914560461503, 0.032240501042743994, null, 0.03356914560461503, 0.09381718376682407, null], \"hoverinfo\": \"none\", \"mode\": \"lines\", \"line\": {\"width\": 2, \"color\": \"rgb(0, 0, 0)\"}}, {\"x\": [0.5, 1.0, null, 0.9621212121212122, 0.9288794484132434, null, 0.9621212121212122, 0.9288794484132434, null], \"y\": [1.0, 1.0, null, 1.0, 0.9652590189417244, null, 1.0, 1.0347409810582755, null], \"hoverinfo\": \"none\", \"mode\": \"lines\", \"line\": {\"width\": 2, \"color\": \"rgb(0, 0, 0)\"}}, {\"x\": [0.5075757575757576, 0.5075757575757576, null, 0.5075757575757576, 0.5257358158562198, null], \"y\": [1.0, 0.0, null, 0.07246376811594203, 0.13605670738336034, null], \"hoverinfo\": \"none\", \"mode\": \"lines\", \"line\": {\"width\": 2, \"color\": \"rgb(0, 0, 0)\"}}, {\"x\": [1.0075757575757576, 1.0075757575757576, null, 1.0075757575757576, 1.0257358158562198, null], \"y\": [1.0, 0.0, null, 0.07246376811594203, 0.13605670738336034, null], \"hoverinfo\": \"none\", \"mode\": \"lines\", \"line\": {\"width\": 2, \"color\": \"rgb(0, 0, 0)\"}}, {\"x\": [0.49242424242424243, 0.49242424242424243, null, 0.49242424242424243, 0.4742641841437802, null], \"y\": [0.0, 1.0, null, 0.927536231884058, 0.8639432926166397, null], \"hoverinfo\": \"none\", \"mode\": \"lines\", \"line\": {\"width\": 2, \"color\": \"rgb(0, 0, 0)\"}}, {\"x\": [0.5, 1.0, null, 0.9738173240163878, 0.9639630823912474, null, 0.9738173240163878, 0.9377166459078401, null], \"y\": [0.0, 1.0, null, 0.9476346480327754, 0.8776659754484841, null, 0.9476346480327754, 0.9256934811496907, null], \"hoverinfo\": \"none\", \"mode\": \"lines\", \"line\": {\"width\": 2, \"color\": \"rgb(0, 0, 0)\"}}, {\"x\": [0.5, 1.0, null, 0.9621212121212122, 0.9288794484132434, null, 0.9621212121212122, 0.9288794484132434, null], \"y\": [0.0, 0.0, null, 0.0, -0.03474098105827558, null, 0.0, 0.03474098105827558, null], \"hoverinfo\": \"none\", \"mode\": \"lines\", \"line\": {\"width\": 2, \"color\": \"rgb(0, 0, 0)\"}}, {\"x\": [1.0, 0.0, null, 0.03664774299318793, 0.07340128670201525, null, 0.03664774299318793, 0.06421703965128427, null], \"y\": [0.0, 0.5, null, 0.481676128503406, 0.4992073320037643, null, 0.481676128503406, 0.4319835048195859, null], \"hoverinfo\": \"none\", \"mode\": \"lines\", \"line\": {\"width\": 2, \"color\": \"rgb(0, 0, 0)\"}}, {\"x\": [0.9924242424242424, 0.9924242424242424, null, 0.9924242424242424, 0.9742641841437802, null], \"y\": [0.0, 1.0, null, 0.927536231884058, 0.8639432926166397, null], \"hoverinfo\": \"none\", \"mode\": \"lines\", \"line\": {\"width\": 2, \"color\": \"rgb(0, 0, 0)\"}}, {\"x\": [0.0], \"y\": [0.5], \"text\": [\"0\"], \"textposition\": \"middle center\", \"hoverinfo\": \"none\", \"mode\": \"markers+text\", \"marker\": {\"size\": 20, \"color\": \"rgb(255, 255, 255)\", \"line\": {\"width\": 2, \"color\": \"rgb(0, 0, 0)\"}}, \"textfont\": {\"color\": \"rgb(0, 0, 0)\"}}, {\"x\": [0.5], \"y\": [1.0], \"text\": [\"8\"], \"textposition\": \"middle center\", \"hoverinfo\": \"none\", \"mode\": \"markers+text\", \"marker\": {\"size\": 20, \"color\": \"rgb(255, 255, 255)\", \"line\": {\"width\": 2, \"color\": \"rgb(0, 0, 0)\"}}, \"textfont\": {\"color\": \"rgb(0, 0, 0)\"}}, {\"x\": [1.0], \"y\": [1.0], \"text\": [\"9\"], \"textposition\": \"middle center\", \"hoverinfo\": \"none\", \"mode\": \"markers+text\", \"marker\": {\"size\": 20, \"color\": \"rgb(255, 255, 255)\", \"line\": {\"width\": 2, \"color\": \"rgb(0, 0, 0)\"}}, \"textfont\": {\"color\": \"rgb(0, 0, 0)\"}}, {\"x\": [0.5], \"y\": [0.0], \"text\": [\"5\"], \"textposition\": \"middle center\", \"hoverinfo\": \"none\", \"mode\": \"markers+text\", \"marker\": {\"size\": 20, \"color\": \"rgb(255, 255, 255)\", \"line\": {\"width\": 2, \"color\": \"rgb(0, 0, 0)\"}}, \"textfont\": {\"color\": \"rgb(0, 0, 0)\"}}, {\"x\": [1.0], \"y\": [0.0], \"text\": [\"7\"], \"textposition\": \"middle center\", \"hoverinfo\": \"none\", \"mode\": \"markers+text\", \"marker\": {\"size\": 20, \"color\": \"rgb(255, 255, 255)\", \"line\": {\"width\": 2, \"color\": \"rgb(0, 0, 0)\"}}, \"textfont\": {\"color\": \"rgb(0, 0, 0)\"}}], \"name\": 32}]);}).then(function(){Plotly.animate('c426ebf0-f873-4967-bee1-74a1938ec32c');})\n",
       "        });</script>"
      ],
      "text/vnd.plotly.v1+html": [
       "<div id=\"c426ebf0-f873-4967-bee1-74a1938ec32c\" style=\"height: 256.0px; width: 408.0px;\" class=\"plotly-graph-div\"></div><script type=\"text/javascript\">require([\"plotly\"], function(Plotly) { window.PLOTLYENV=window.PLOTLYENV || {};window.PLOTLYENV.BASE_URL=\"https://plot.ly\";\n",
       "        Plotly.plot(\n",
       "            'c426ebf0-f873-4967-bee1-74a1938ec32c',\n",
       "            [{\"x\": [0.0, 0.5, null, 0.46643085439538495, 0.44538388103556675, null, 0.46643085439538495, 0.4285584341548651, null], \"y\": [0.5, 1.0, null, 0.966430854395385, 0.906182816233176, null, 0.966430854395385, 0.967759498957256, null], \"hoverinfo\": \"none\", \"mode\": \"lines\", \"line\": {\"width\": 2, \"color\": \"rgb(0, 0, 0)\"}}, {\"x\": [0.0, 0.5, null, 0.46643085439538495, 0.4285584341548651, null, 0.46643085439538495, 0.44538388103556675, null], \"y\": [0.5, 0.0, null, 0.03356914560461503, 0.032240501042743994, null, 0.03356914560461503, 0.09381718376682407, null], \"hoverinfo\": \"none\", \"mode\": \"lines\", \"line\": {\"width\": 2, \"color\": \"rgb(0, 0, 0)\"}}, {\"x\": [0.5, 1.0, null, 0.9621212121212122, 0.9288794484132434, null, 0.9621212121212122, 0.9288794484132434, null], \"y\": [1.0, 1.0, null, 1.0, 0.9652590189417244, null, 1.0, 1.0347409810582755, null], \"hoverinfo\": \"none\", \"mode\": \"lines\", \"line\": {\"width\": 2, \"color\": \"rgb(0, 0, 0)\"}}, {\"x\": [0.5075757575757576, 0.5075757575757576, null, 0.5075757575757576, 0.5257358158562198, null], \"y\": [1.0, 0.0, null, 0.07246376811594203, 0.13605670738336034, null], \"hoverinfo\": \"none\", \"mode\": \"lines\", \"line\": {\"width\": 2, \"color\": \"rgb(0, 0, 0)\"}}, {\"x\": [1.0075757575757576, 1.0075757575757576, null, 1.0075757575757576, 1.0257358158562198, null], \"y\": [1.0, 0.0, null, 0.07246376811594203, 0.13605670738336034, null], \"hoverinfo\": \"none\", \"mode\": \"lines\", \"line\": {\"width\": 2, \"color\": \"rgb(0, 0, 0)\"}}, {\"x\": [0.49242424242424243, 0.49242424242424243, null, 0.49242424242424243, 0.4742641841437802, null], \"y\": [0.0, 1.0, null, 0.927536231884058, 0.8639432926166397, null], \"hoverinfo\": \"none\", \"mode\": \"lines\", \"line\": {\"width\": 2, \"color\": \"rgb(0, 0, 0)\"}}, {\"x\": [0.5, 1.0, null, 0.9738173240163878, 0.9639630823912474, null, 0.9738173240163878, 0.9377166459078401, null], \"y\": [0.0, 1.0, null, 0.9476346480327754, 0.8776659754484841, null, 0.9476346480327754, 0.9256934811496907, null], \"hoverinfo\": \"none\", \"mode\": \"lines\", \"line\": {\"width\": 2, \"color\": \"rgb(0, 0, 0)\"}}, {\"x\": [0.5, 1.0, null, 0.9621212121212122, 0.9288794484132434, null, 0.9621212121212122, 0.9288794484132434, null], \"y\": [0.0, 0.0, null, 0.0, -0.03474098105827558, null, 0.0, 0.03474098105827558, null], \"hoverinfo\": \"none\", \"mode\": \"lines\", \"line\": {\"width\": 2, \"color\": \"rgb(0, 0, 0)\"}}, {\"x\": [1.0, 0.0, null, 0.03664774299318793, 0.07340128670201525, null, 0.03664774299318793, 0.06421703965128427, null], \"y\": [0.0, 0.5, null, 0.481676128503406, 0.4992073320037643, null, 0.481676128503406, 0.4319835048195859, null], \"hoverinfo\": \"none\", \"mode\": \"lines\", \"line\": {\"width\": 2, \"color\": \"rgb(0, 0, 0)\"}}, {\"x\": [0.9924242424242424, 0.9924242424242424, null, 0.9924242424242424, 0.9742641841437802, null], \"y\": [0.0, 1.0, null, 0.927536231884058, 0.8639432926166397, null], \"hoverinfo\": \"none\", \"mode\": \"lines\", \"line\": {\"width\": 2, \"color\": \"rgb(0, 0, 0)\"}}, {\"x\": [0.0], \"y\": [0.5], \"text\": [\"0\"], \"textposition\": \"middle center\", \"hoverinfo\": \"none\", \"mode\": \"markers+text\", \"marker\": {\"size\": 20, \"color\": \"rgb(255, 255, 255)\", \"line\": {\"width\": 2, \"color\": \"rgb(0, 0, 0)\"}}, \"textfont\": {\"color\": \"rgb(0, 0, 0)\"}}, {\"x\": [0.5], \"y\": [1.0], \"text\": [\"8\"], \"textposition\": \"middle center\", \"hoverinfo\": \"none\", \"mode\": \"markers+text\", \"marker\": {\"size\": 20, \"color\": \"rgb(255, 255, 255)\", \"line\": {\"width\": 2, \"color\": \"rgb(0, 0, 0)\"}}, \"textfont\": {\"color\": \"rgb(0, 0, 0)\"}}, {\"x\": [1.0], \"y\": [1.0], \"text\": [\"9\"], \"textposition\": \"middle center\", \"hoverinfo\": \"none\", \"mode\": \"markers+text\", \"marker\": {\"size\": 20, \"color\": \"rgb(255, 255, 255)\", \"line\": {\"width\": 2, \"color\": \"rgb(0, 0, 0)\"}}, \"textfont\": {\"color\": \"rgb(0, 0, 0)\"}}, {\"x\": [0.5], \"y\": [0.0], \"text\": [\"5\"], \"textposition\": \"middle center\", \"hoverinfo\": \"none\", \"mode\": \"markers+text\", \"marker\": {\"size\": 20, \"color\": \"rgb(255, 255, 255)\", \"line\": {\"width\": 2, \"color\": \"rgb(0, 0, 0)\"}}, \"textfont\": {\"color\": \"rgb(0, 0, 0)\"}}, {\"x\": [1.0], \"y\": [0.0], \"text\": [\"7\"], \"textposition\": \"middle center\", \"hoverinfo\": \"none\", \"mode\": \"markers+text\", \"marker\": {\"size\": 20, \"color\": \"rgb(255, 255, 255)\", \"line\": {\"width\": 2, \"color\": \"rgb(0, 0, 0)\"}}, \"textfont\": {\"color\": \"rgb(0, 0, 0)\"}}],\n",
       "            {\"showlegend\": false, \"width\": 408.0, \"height\": 256.0, \"margin\": {\"b\": 0, \"l\": 0, \"r\": 0, \"t\": 0}, \"xaxis\": {\"showgrid\": false, \"zeroline\": false, \"showticklabels\": false}, \"yaxis\": {\"showgrid\": false, \"zeroline\": false, \"showticklabels\": false}, \"updatemenus\": [{\"buttons\": [{\"args\": [null, {\"frame\": {\"redraw\": false}, \"fromcurrent\": true}], \"label\": \"Play\", \"method\": \"animate\"}, {\"args\": [[null], {\"frame\": {\"redraw\": false}, \"mode\": \"immediate\"}], \"label\": \"Pause\", \"method\": \"animate\"}], \"showactive\": true, \"type\": \"buttons\"}], \"sliders\": [{\"currentvalue\": {\"visible\": false}, \"steps\": [{\"args\": [[0], {\"frame\": {\"redraw\": false}, \"mode\": \"immediate\"}], \"label\": \"\", \"method\": \"animate\"}, {\"args\": [[1], {\"frame\": {\"redraw\": false}, \"mode\": \"immediate\"}], \"label\": \"\", \"method\": \"animate\"}, {\"args\": [[2], {\"frame\": {\"redraw\": false}, \"mode\": \"immediate\"}], \"label\": \"\", \"method\": \"animate\"}, {\"args\": [[3], {\"frame\": {\"redraw\": false}, \"mode\": \"immediate\"}], \"label\": \"\", \"method\": \"animate\"}, {\"args\": [[4], {\"frame\": {\"redraw\": false}, \"mode\": \"immediate\"}], \"label\": \"\", \"method\": \"animate\"}, {\"args\": [[5], {\"frame\": {\"redraw\": false}, \"mode\": \"immediate\"}], \"label\": \"\", \"method\": \"animate\"}, {\"args\": [[6], {\"frame\": {\"redraw\": false}, \"mode\": \"immediate\"}], \"label\": \"\", \"method\": \"animate\"}, {\"args\": [[7], {\"frame\": {\"redraw\": false}, \"mode\": \"immediate\"}], \"label\": \"\", \"method\": \"animate\"}, {\"args\": [[8], {\"frame\": {\"redraw\": false}, \"mode\": \"immediate\"}], \"label\": \"\", \"method\": \"animate\"}, {\"args\": [[9], {\"frame\": {\"redraw\": false}, \"mode\": \"immediate\"}], \"label\": \"\", \"method\": \"animate\"}, {\"args\": [[10], {\"frame\": {\"redraw\": false}, \"mode\": \"immediate\"}], \"label\": \"\", \"method\": \"animate\"}, {\"args\": [[11], {\"frame\": {\"redraw\": false}, \"mode\": \"immediate\"}], \"label\": \"\", \"method\": \"animate\"}, {\"args\": [[12], {\"frame\": {\"redraw\": false}, \"mode\": \"immediate\"}], \"label\": \"\", \"method\": \"animate\"}, {\"args\": [[13], {\"frame\": {\"redraw\": false}, \"mode\": \"immediate\"}], \"label\": \"\", \"method\": \"animate\"}, {\"args\": [[14], {\"frame\": {\"redraw\": false}, \"mode\": \"immediate\"}], \"label\": \"\", \"method\": \"animate\"}, {\"args\": [[15], {\"frame\": {\"redraw\": false}, \"mode\": \"immediate\"}], \"label\": \"\", \"method\": \"animate\"}, {\"args\": [[16], {\"frame\": {\"redraw\": false}, \"mode\": \"immediate\"}], \"label\": \"\", \"method\": \"animate\"}, {\"args\": [[17], {\"frame\": {\"redraw\": false}, \"mode\": \"immediate\"}], \"label\": \"\", \"method\": \"animate\"}, {\"args\": [[18], {\"frame\": {\"redraw\": false}, \"mode\": \"immediate\"}], \"label\": \"\", \"method\": \"animate\"}, {\"args\": [[19], {\"frame\": {\"redraw\": false}, \"mode\": \"immediate\"}], \"label\": \"\", \"method\": \"animate\"}, {\"args\": [[20], {\"frame\": {\"redraw\": false}, \"mode\": \"immediate\"}], \"label\": \"\", \"method\": \"animate\"}, {\"args\": [[21], {\"frame\": {\"redraw\": false}, \"mode\": \"immediate\"}], \"label\": \"\", \"method\": \"animate\"}, {\"args\": [[22], {\"frame\": {\"redraw\": false}, \"mode\": \"immediate\"}], \"label\": \"\", \"method\": \"animate\"}, {\"args\": [[23], {\"frame\": {\"redraw\": false}, \"mode\": \"immediate\"}], \"label\": \"\", \"method\": \"animate\"}, {\"args\": [[24], {\"frame\": {\"redraw\": false}, \"mode\": \"immediate\"}], \"label\": \"\", \"method\": \"animate\"}, {\"args\": [[25], {\"frame\": {\"redraw\": false}, \"mode\": \"immediate\"}], \"label\": \"\", \"method\": \"animate\"}, {\"args\": [[26], {\"frame\": {\"redraw\": false}, \"mode\": \"immediate\"}], \"label\": \"\", \"method\": \"animate\"}, {\"args\": [[27], {\"frame\": {\"redraw\": false}, \"mode\": \"immediate\"}], \"label\": \"\", \"method\": \"animate\"}, {\"args\": [[28], {\"frame\": {\"redraw\": false}, \"mode\": \"immediate\"}], \"label\": \"\", \"method\": \"animate\"}, {\"args\": [[29], {\"frame\": {\"redraw\": false}, \"mode\": \"immediate\"}], \"label\": \"\", \"method\": \"animate\"}, {\"args\": [[30], {\"frame\": {\"redraw\": false}, \"mode\": \"immediate\"}], \"label\": \"\", \"method\": \"animate\"}, {\"args\": [[31], {\"frame\": {\"redraw\": false}, \"mode\": \"immediate\"}], \"label\": \"\", \"method\": \"animate\"}, {\"args\": [[32], {\"frame\": {\"redraw\": false}, \"mode\": \"immediate\"}], \"label\": \"\", \"method\": \"animate\"}]}]},\n",
       "            {\"showLink\": false, \"linkText\": \"Export to plot.ly\", \"displayModeBar\": false}\n",
       "        ).then(function () {return Plotly.addFrames('c426ebf0-f873-4967-bee1-74a1938ec32c',[{\"data\": [{\"x\": [0.0, 0.5, null, 0.46643085439538495, 0.44538388103556675, null, 0.46643085439538495, 0.4285584341548651, null], \"y\": [0.5, 1.0, null, 0.966430854395385, 0.906182816233176, null, 0.966430854395385, 0.967759498957256, null], \"hoverinfo\": \"none\", \"mode\": \"lines\", \"line\": {\"width\": 2, \"color\": \"rgb(0, 0, 0)\"}}, {\"x\": [0.0, 0.5, null, 0.46643085439538495, 0.4285584341548651, null, 0.46643085439538495, 0.44538388103556675, null], \"y\": [0.5, 0.0, null, 0.03356914560461503, 0.032240501042743994, null, 0.03356914560461503, 0.09381718376682407, null], \"hoverinfo\": \"none\", \"mode\": \"lines\", \"line\": {\"width\": 2, \"color\": \"rgb(0, 0, 0)\"}}, {\"x\": [0.5, 1.0, null, 0.9621212121212122, 0.9288794484132434, null, 0.9621212121212122, 0.9288794484132434, null], \"y\": [1.0, 1.0, null, 1.0, 0.9652590189417244, null, 1.0, 1.0347409810582755, null], \"hoverinfo\": \"none\", \"mode\": \"lines\", \"line\": {\"width\": 2, \"color\": \"rgb(0, 0, 0)\"}}, {\"x\": [0.5075757575757576, 0.5075757575757576, null, 0.5075757575757576, 0.5257358158562198, null], \"y\": [1.0, 0.0, null, 0.07246376811594203, 0.13605670738336034, null], \"hoverinfo\": \"none\", \"mode\": \"lines\", \"line\": {\"width\": 2, \"color\": \"rgb(0, 0, 0)\"}}, {\"x\": [1.0075757575757576, 1.0075757575757576, null, 1.0075757575757576, 1.0257358158562198, null], \"y\": [1.0, 0.0, null, 0.07246376811594203, 0.13605670738336034, null], \"hoverinfo\": \"none\", \"mode\": \"lines\", \"line\": {\"width\": 2, \"color\": \"rgb(0, 0, 0)\"}}, {\"x\": [0.49242424242424243, 0.49242424242424243, null, 0.49242424242424243, 0.4742641841437802, null], \"y\": [0.0, 1.0, null, 0.927536231884058, 0.8639432926166397, null], \"hoverinfo\": \"none\", \"mode\": \"lines\", \"line\": {\"width\": 2, \"color\": \"rgb(0, 0, 0)\"}}, {\"x\": [0.5, 1.0, null, 0.9738173240163878, 0.9639630823912474, null, 0.9738173240163878, 0.9377166459078401, null], \"y\": [0.0, 1.0, null, 0.9476346480327754, 0.8776659754484841, null, 0.9476346480327754, 0.9256934811496907, null], \"hoverinfo\": \"none\", \"mode\": \"lines\", \"line\": {\"width\": 2, \"color\": \"rgb(0, 0, 0)\"}}, {\"x\": [0.5, 1.0, null, 0.9621212121212122, 0.9288794484132434, null, 0.9621212121212122, 0.9288794484132434, null], \"y\": [0.0, 0.0, null, 0.0, -0.03474098105827558, null, 0.0, 0.03474098105827558, null], \"hoverinfo\": \"none\", \"mode\": \"lines\", \"line\": {\"width\": 2, \"color\": \"rgb(0, 0, 0)\"}}, {\"x\": [1.0, 0.0, null, 0.03664774299318793, 0.07340128670201525, null, 0.03664774299318793, 0.06421703965128427, null], \"y\": [0.0, 0.5, null, 0.481676128503406, 0.4992073320037643, null, 0.481676128503406, 0.4319835048195859, null], \"hoverinfo\": \"none\", \"mode\": \"lines\", \"line\": {\"width\": 2, \"color\": \"rgb(0, 0, 0)\"}}, {\"x\": [0.9924242424242424, 0.9924242424242424, null, 0.9924242424242424, 0.9742641841437802, null], \"y\": [0.0, 1.0, null, 0.927536231884058, 0.8639432926166397, null], \"hoverinfo\": \"none\", \"mode\": \"lines\", \"line\": {\"width\": 2, \"color\": \"rgb(0, 0, 0)\"}}, {\"x\": [0.0], \"y\": [0.5], \"text\": [\"0\"], \"textposition\": \"middle center\", \"hoverinfo\": \"none\", \"mode\": \"markers+text\", \"marker\": {\"size\": 20, \"color\": \"rgb(255, 255, 255)\", \"line\": {\"width\": 2, \"color\": \"rgb(0, 0, 0)\"}}, \"textfont\": {\"color\": \"rgb(0, 0, 0)\"}}, {\"x\": [0.5], \"y\": [1.0], \"text\": [\"8\"], \"textposition\": \"middle center\", \"hoverinfo\": \"none\", \"mode\": \"markers+text\", \"marker\": {\"size\": 20, \"color\": \"rgb(255, 255, 255)\", \"line\": {\"width\": 2, \"color\": \"rgb(0, 0, 0)\"}}, \"textfont\": {\"color\": \"rgb(0, 0, 0)\"}}, {\"x\": [1.0], \"y\": [1.0], \"text\": [\"9\"], \"textposition\": \"middle center\", \"hoverinfo\": \"none\", \"mode\": \"markers+text\", \"marker\": {\"size\": 20, \"color\": \"rgb(255, 255, 255)\", \"line\": {\"width\": 2, \"color\": \"rgb(0, 0, 0)\"}}, \"textfont\": {\"color\": \"rgb(0, 0, 0)\"}}, {\"x\": [0.5], \"y\": [0.0], \"text\": [\"5\"], \"textposition\": \"middle center\", \"hoverinfo\": \"none\", \"mode\": \"markers+text\", \"marker\": {\"size\": 20, \"color\": \"rgb(255, 255, 255)\", \"line\": {\"width\": 2, \"color\": \"rgb(0, 0, 0)\"}}, \"textfont\": {\"color\": \"rgb(0, 0, 0)\"}}, {\"x\": [1.0], \"y\": [0.0], \"text\": [\"7\"], \"textposition\": \"middle center\", \"hoverinfo\": \"none\", \"mode\": \"markers+text\", \"marker\": {\"size\": 20, \"color\": \"rgb(255, 255, 255)\", \"line\": {\"width\": 2, \"color\": \"rgb(0, 0, 0)\"}}, \"textfont\": {\"color\": \"rgb(0, 0, 0)\"}}], \"name\": 0}, {\"data\": [{\"x\": [0.0, 0.5, null, 0.46643085439538495, 0.44538388103556675, null, 0.46643085439538495, 0.4285584341548651, null], \"y\": [0.5, 1.0, null, 0.966430854395385, 0.906182816233176, null, 0.966430854395385, 0.967759498957256, null], \"hoverinfo\": \"none\", \"mode\": \"lines\", \"line\": {\"width\": 2, \"color\": \"rgb(0, 0, 0)\"}}, {\"x\": [0.0, 0.5, null, 0.46643085439538495, 0.4285584341548651, null, 0.46643085439538495, 0.44538388103556675, null], \"y\": [0.5, 0.0, null, 0.03356914560461503, 0.032240501042743994, null, 0.03356914560461503, 0.09381718376682407, null], \"hoverinfo\": \"none\", \"mode\": \"lines\", \"line\": {\"width\": 2, \"color\": \"rgb(0, 0, 0)\"}}, {\"x\": [0.5, 1.0, null, 0.9621212121212122, 0.9288794484132434, null, 0.9621212121212122, 0.9288794484132434, null], \"y\": [1.0, 1.0, null, 1.0, 0.9652590189417244, null, 1.0, 1.0347409810582755, null], \"hoverinfo\": \"none\", \"mode\": \"lines\", \"line\": {\"width\": 2, \"color\": \"rgb(0, 0, 0)\"}}, {\"x\": [0.5075757575757576, 0.5075757575757576, null, 0.5075757575757576, 0.5257358158562198, null], \"y\": [1.0, 0.0, null, 0.07246376811594203, 0.13605670738336034, null], \"hoverinfo\": \"none\", \"mode\": \"lines\", \"line\": {\"width\": 2, \"color\": \"rgb(0, 0, 0)\"}}, {\"x\": [1.0075757575757576, 1.0075757575757576, null, 1.0075757575757576, 1.0257358158562198, null], \"y\": [1.0, 0.0, null, 0.07246376811594203, 0.13605670738336034, null], \"hoverinfo\": \"none\", \"mode\": \"lines\", \"line\": {\"width\": 2, \"color\": \"rgb(0, 0, 0)\"}}, {\"x\": [0.49242424242424243, 0.49242424242424243, null, 0.49242424242424243, 0.4742641841437802, null], \"y\": [0.0, 1.0, null, 0.927536231884058, 0.8639432926166397, null], \"hoverinfo\": \"none\", \"mode\": \"lines\", \"line\": {\"width\": 2, \"color\": \"rgb(0, 0, 0)\"}}, {\"x\": [0.5, 1.0, null, 0.9738173240163878, 0.9639630823912474, null, 0.9738173240163878, 0.9377166459078401, null], \"y\": [0.0, 1.0, null, 0.9476346480327754, 0.8776659754484841, null, 0.9476346480327754, 0.9256934811496907, null], \"hoverinfo\": \"none\", \"mode\": \"lines\", \"line\": {\"width\": 2, \"color\": \"rgb(0, 0, 0)\"}}, {\"x\": [0.5, 1.0, null, 0.9621212121212122, 0.9288794484132434, null, 0.9621212121212122, 0.9288794484132434, null], \"y\": [0.0, 0.0, null, 0.0, -0.03474098105827558, null, 0.0, 0.03474098105827558, null], \"hoverinfo\": \"none\", \"mode\": \"lines\", \"line\": {\"width\": 2, \"color\": \"rgb(0, 0, 0)\"}}, {\"x\": [1.0, 0.0, null, 0.03664774299318793, 0.07340128670201525, null, 0.03664774299318793, 0.06421703965128427, null], \"y\": [0.0, 0.5, null, 0.481676128503406, 0.4992073320037643, null, 0.481676128503406, 0.4319835048195859, null], \"hoverinfo\": \"none\", \"mode\": \"lines\", \"line\": {\"width\": 2, \"color\": \"rgb(0, 0, 0)\"}}, {\"x\": [0.9924242424242424, 0.9924242424242424, null, 0.9924242424242424, 0.9742641841437802, null], \"y\": [0.0, 1.0, null, 0.927536231884058, 0.8639432926166397, null], \"hoverinfo\": \"none\", \"mode\": \"lines\", \"line\": {\"width\": 2, \"color\": \"rgb(0, 0, 0)\"}}, {\"x\": [0.0], \"y\": [0.5], \"text\": [\"0\"], \"textposition\": \"middle center\", \"hoverinfo\": \"none\", \"mode\": \"markers+text\", \"marker\": {\"size\": 20, \"color\": \"rgb(0, 255, 0)\", \"line\": {\"width\": 2, \"color\": \"rgb(0, 0, 0)\"}}, \"textfont\": {\"color\": \"rgb(0, 0, 0)\"}}, {\"x\": [0.5], \"y\": [1.0], \"text\": [\"\\u221e\"], \"textposition\": \"middle center\", \"hoverinfo\": \"none\", \"mode\": \"markers+text\", \"marker\": {\"size\": 20, \"color\": \"rgb(255, 255, 255)\", \"line\": {\"width\": 2, \"color\": \"rgb(0, 0, 0)\"}}, \"textfont\": {\"color\": \"rgb(0, 0, 0)\"}}, {\"x\": [1.0], \"y\": [1.0], \"text\": [\"\\u221e\"], \"textposition\": \"middle center\", \"hoverinfo\": \"none\", \"mode\": \"markers+text\", \"marker\": {\"size\": 20, \"color\": \"rgb(255, 255, 255)\", \"line\": {\"width\": 2, \"color\": \"rgb(0, 0, 0)\"}}, \"textfont\": {\"color\": \"rgb(0, 0, 0)\"}}, {\"x\": [0.5], \"y\": [0.0], \"text\": [\"\\u221e\"], \"textposition\": \"middle center\", \"hoverinfo\": \"none\", \"mode\": \"markers+text\", \"marker\": {\"size\": 20, \"color\": \"rgb(255, 255, 255)\", \"line\": {\"width\": 2, \"color\": \"rgb(0, 0, 0)\"}}, \"textfont\": {\"color\": \"rgb(0, 0, 0)\"}}, {\"x\": [1.0], \"y\": [0.0], \"text\": [\"\\u221e\"], \"textposition\": \"middle center\", \"hoverinfo\": \"none\", \"mode\": \"markers+text\", \"marker\": {\"size\": 20, \"color\": \"rgb(255, 255, 255)\", \"line\": {\"width\": 2, \"color\": \"rgb(0, 0, 0)\"}}, \"textfont\": {\"color\": \"rgb(0, 0, 0)\"}}], \"name\": 1}, {\"data\": [{\"x\": [0.0, 0.5, null, 0.46643085439538495, 0.44538388103556675, null, 0.46643085439538495, 0.4285584341548651, null], \"y\": [0.5, 1.0, null, 0.966430854395385, 0.906182816233176, null, 0.966430854395385, 0.967759498957256, null], \"hoverinfo\": \"none\", \"mode\": \"lines\", \"line\": {\"width\": 2, \"color\": \"rgb(255, 0, 0)\"}}, {\"x\": [0.0, 0.5, null, 0.46643085439538495, 0.4285584341548651, null, 0.46643085439538495, 0.44538388103556675, null], \"y\": [0.5, 0.0, null, 0.03356914560461503, 0.032240501042743994, null, 0.03356914560461503, 0.09381718376682407, null], \"hoverinfo\": \"none\", \"mode\": \"lines\", \"line\": {\"width\": 2, \"color\": \"rgb(0, 0, 0)\"}}, {\"x\": [0.5, 1.0, null, 0.9621212121212122, 0.9288794484132434, null, 0.9621212121212122, 0.9288794484132434, null], \"y\": [1.0, 1.0, null, 1.0, 0.9652590189417244, null, 1.0, 1.0347409810582755, null], \"hoverinfo\": \"none\", \"mode\": \"lines\", \"line\": {\"width\": 2, \"color\": \"rgb(0, 0, 0)\"}}, {\"x\": [0.5075757575757576, 0.5075757575757576, null, 0.5075757575757576, 0.5257358158562198, null], \"y\": [1.0, 0.0, null, 0.07246376811594203, 0.13605670738336034, null], \"hoverinfo\": \"none\", \"mode\": \"lines\", \"line\": {\"width\": 2, \"color\": \"rgb(0, 0, 0)\"}}, {\"x\": [1.0075757575757576, 1.0075757575757576, null, 1.0075757575757576, 1.0257358158562198, null], \"y\": [1.0, 0.0, null, 0.07246376811594203, 0.13605670738336034, null], \"hoverinfo\": \"none\", \"mode\": \"lines\", \"line\": {\"width\": 2, \"color\": \"rgb(0, 0, 0)\"}}, {\"x\": [0.49242424242424243, 0.49242424242424243, null, 0.49242424242424243, 0.4742641841437802, null], \"y\": [0.0, 1.0, null, 0.927536231884058, 0.8639432926166397, null], \"hoverinfo\": \"none\", \"mode\": \"lines\", \"line\": {\"width\": 2, \"color\": \"rgb(0, 0, 0)\"}}, {\"x\": [0.5, 1.0, null, 0.9738173240163878, 0.9639630823912474, null, 0.9738173240163878, 0.9377166459078401, null], \"y\": [0.0, 1.0, null, 0.9476346480327754, 0.8776659754484841, null, 0.9476346480327754, 0.9256934811496907, null], \"hoverinfo\": \"none\", \"mode\": \"lines\", \"line\": {\"width\": 2, \"color\": \"rgb(0, 0, 0)\"}}, {\"x\": [0.5, 1.0, null, 0.9621212121212122, 0.9288794484132434, null, 0.9621212121212122, 0.9288794484132434, null], \"y\": [0.0, 0.0, null, 0.0, -0.03474098105827558, null, 0.0, 0.03474098105827558, null], \"hoverinfo\": \"none\", \"mode\": \"lines\", \"line\": {\"width\": 2, \"color\": \"rgb(0, 0, 0)\"}}, {\"x\": [1.0, 0.0, null, 0.03664774299318793, 0.07340128670201525, null, 0.03664774299318793, 0.06421703965128427, null], \"y\": [0.0, 0.5, null, 0.481676128503406, 0.4992073320037643, null, 0.481676128503406, 0.4319835048195859, null], \"hoverinfo\": \"none\", \"mode\": \"lines\", \"line\": {\"width\": 2, \"color\": \"rgb(0, 0, 0)\"}}, {\"x\": [0.9924242424242424, 0.9924242424242424, null, 0.9924242424242424, 0.9742641841437802, null], \"y\": [0.0, 1.0, null, 0.927536231884058, 0.8639432926166397, null], \"hoverinfo\": \"none\", \"mode\": \"lines\", \"line\": {\"width\": 2, \"color\": \"rgb(0, 0, 0)\"}}, {\"x\": [0.0], \"y\": [0.5], \"text\": [\"0\"], \"textposition\": \"middle center\", \"hoverinfo\": \"none\", \"mode\": \"markers+text\", \"marker\": {\"size\": 20, \"color\": \"rgb(0, 255, 0)\", \"line\": {\"width\": 2, \"color\": \"rgb(0, 0, 0)\"}}, \"textfont\": {\"color\": \"rgb(0, 0, 0)\"}}, {\"x\": [0.5], \"y\": [1.0], \"text\": [\"\\u221e\"], \"textposition\": \"middle center\", \"hoverinfo\": \"none\", \"mode\": \"markers+text\", \"marker\": {\"size\": 20, \"color\": \"rgb(255, 255, 255)\", \"line\": {\"width\": 2, \"color\": \"rgb(0, 0, 0)\"}}, \"textfont\": {\"color\": \"rgb(0, 0, 0)\"}}, {\"x\": [1.0], \"y\": [1.0], \"text\": [\"\\u221e\"], \"textposition\": \"middle center\", \"hoverinfo\": \"none\", \"mode\": \"markers+text\", \"marker\": {\"size\": 20, \"color\": \"rgb(255, 255, 255)\", \"line\": {\"width\": 2, \"color\": \"rgb(0, 0, 0)\"}}, \"textfont\": {\"color\": \"rgb(0, 0, 0)\"}}, {\"x\": [0.5], \"y\": [0.0], \"text\": [\"\\u221e\"], \"textposition\": \"middle center\", \"hoverinfo\": \"none\", \"mode\": \"markers+text\", \"marker\": {\"size\": 20, \"color\": \"rgb(255, 255, 255)\", \"line\": {\"width\": 2, \"color\": \"rgb(0, 0, 0)\"}}, \"textfont\": {\"color\": \"rgb(0, 0, 0)\"}}, {\"x\": [1.0], \"y\": [0.0], \"text\": [\"\\u221e\"], \"textposition\": \"middle center\", \"hoverinfo\": \"none\", \"mode\": \"markers+text\", \"marker\": {\"size\": 20, \"color\": \"rgb(255, 255, 255)\", \"line\": {\"width\": 2, \"color\": \"rgb(0, 0, 0)\"}}, \"textfont\": {\"color\": \"rgb(0, 0, 0)\"}}], \"name\": 2}, {\"data\": [{\"x\": [0.0, 0.5, null, 0.46643085439538495, 0.44538388103556675, null, 0.46643085439538495, 0.4285584341548651, null], \"y\": [0.5, 1.0, null, 0.966430854395385, 0.906182816233176, null, 0.966430854395385, 0.967759498957256, null], \"hoverinfo\": \"none\", \"mode\": \"lines\", \"line\": {\"width\": 2, \"color\": \"rgb(0, 0, 0)\"}}, {\"x\": [0.0, 0.5, null, 0.46643085439538495, 0.4285584341548651, null, 0.46643085439538495, 0.44538388103556675, null], \"y\": [0.5, 0.0, null, 0.03356914560461503, 0.032240501042743994, null, 0.03356914560461503, 0.09381718376682407, null], \"hoverinfo\": \"none\", \"mode\": \"lines\", \"line\": {\"width\": 2, \"color\": \"rgb(0, 0, 0)\"}}, {\"x\": [0.5, 1.0, null, 0.9621212121212122, 0.9288794484132434, null, 0.9621212121212122, 0.9288794484132434, null], \"y\": [1.0, 1.0, null, 1.0, 0.9652590189417244, null, 1.0, 1.0347409810582755, null], \"hoverinfo\": \"none\", \"mode\": \"lines\", \"line\": {\"width\": 2, \"color\": \"rgb(0, 0, 0)\"}}, {\"x\": [0.5075757575757576, 0.5075757575757576, null, 0.5075757575757576, 0.5257358158562198, null], \"y\": [1.0, 0.0, null, 0.07246376811594203, 0.13605670738336034, null], \"hoverinfo\": \"none\", \"mode\": \"lines\", \"line\": {\"width\": 2, \"color\": \"rgb(0, 0, 0)\"}}, {\"x\": [1.0075757575757576, 1.0075757575757576, null, 1.0075757575757576, 1.0257358158562198, null], \"y\": [1.0, 0.0, null, 0.07246376811594203, 0.13605670738336034, null], \"hoverinfo\": \"none\", \"mode\": \"lines\", \"line\": {\"width\": 2, \"color\": \"rgb(0, 0, 0)\"}}, {\"x\": [0.49242424242424243, 0.49242424242424243, null, 0.49242424242424243, 0.4742641841437802, null], \"y\": [0.0, 1.0, null, 0.927536231884058, 0.8639432926166397, null], \"hoverinfo\": \"none\", \"mode\": \"lines\", \"line\": {\"width\": 2, \"color\": \"rgb(0, 0, 0)\"}}, {\"x\": [0.5, 1.0, null, 0.9738173240163878, 0.9639630823912474, null, 0.9738173240163878, 0.9377166459078401, null], \"y\": [0.0, 1.0, null, 0.9476346480327754, 0.8776659754484841, null, 0.9476346480327754, 0.9256934811496907, null], \"hoverinfo\": \"none\", \"mode\": \"lines\", \"line\": {\"width\": 2, \"color\": \"rgb(0, 0, 0)\"}}, {\"x\": [0.5, 1.0, null, 0.9621212121212122, 0.9288794484132434, null, 0.9621212121212122, 0.9288794484132434, null], \"y\": [0.0, 0.0, null, 0.0, -0.03474098105827558, null, 0.0, 0.03474098105827558, null], \"hoverinfo\": \"none\", \"mode\": \"lines\", \"line\": {\"width\": 2, \"color\": \"rgb(0, 0, 0)\"}}, {\"x\": [1.0, 0.0, null, 0.03664774299318793, 0.07340128670201525, null, 0.03664774299318793, 0.06421703965128427, null], \"y\": [0.0, 0.5, null, 0.481676128503406, 0.4992073320037643, null, 0.481676128503406, 0.4319835048195859, null], \"hoverinfo\": \"none\", \"mode\": \"lines\", \"line\": {\"width\": 2, \"color\": \"rgb(0, 0, 0)\"}}, {\"x\": [0.9924242424242424, 0.9924242424242424, null, 0.9924242424242424, 0.9742641841437802, null], \"y\": [0.0, 1.0, null, 0.927536231884058, 0.8639432926166397, null], \"hoverinfo\": \"none\", \"mode\": \"lines\", \"line\": {\"width\": 2, \"color\": \"rgb(0, 0, 0)\"}}, {\"x\": [0.0], \"y\": [0.5], \"text\": [\"0\"], \"textposition\": \"middle center\", \"hoverinfo\": \"none\", \"mode\": \"markers+text\", \"marker\": {\"size\": 20, \"color\": \"rgb(0, 255, 0)\", \"line\": {\"width\": 2, \"color\": \"rgb(0, 0, 0)\"}}, \"textfont\": {\"color\": \"rgb(0, 0, 0)\"}}, {\"x\": [0.5], \"y\": [1.0], \"text\": [\"10\"], \"textposition\": \"middle center\", \"hoverinfo\": \"none\", \"mode\": \"markers+text\", \"marker\": {\"size\": 20, \"color\": \"rgb(255, 255, 255)\", \"line\": {\"width\": 2, \"color\": \"rgb(0, 0, 0)\"}}, \"textfont\": {\"color\": \"rgb(0, 0, 0)\"}}, {\"x\": [1.0], \"y\": [1.0], \"text\": [\"\\u221e\"], \"textposition\": \"middle center\", \"hoverinfo\": \"none\", \"mode\": \"markers+text\", \"marker\": {\"size\": 20, \"color\": \"rgb(255, 255, 255)\", \"line\": {\"width\": 2, \"color\": \"rgb(0, 0, 0)\"}}, \"textfont\": {\"color\": \"rgb(0, 0, 0)\"}}, {\"x\": [0.5], \"y\": [0.0], \"text\": [\"\\u221e\"], \"textposition\": \"middle center\", \"hoverinfo\": \"none\", \"mode\": \"markers+text\", \"marker\": {\"size\": 20, \"color\": \"rgb(255, 255, 255)\", \"line\": {\"width\": 2, \"color\": \"rgb(0, 0, 0)\"}}, \"textfont\": {\"color\": \"rgb(0, 0, 0)\"}}, {\"x\": [1.0], \"y\": [0.0], \"text\": [\"\\u221e\"], \"textposition\": \"middle center\", \"hoverinfo\": \"none\", \"mode\": \"markers+text\", \"marker\": {\"size\": 20, \"color\": \"rgb(255, 255, 255)\", \"line\": {\"width\": 2, \"color\": \"rgb(0, 0, 0)\"}}, \"textfont\": {\"color\": \"rgb(0, 0, 0)\"}}], \"name\": 3}, {\"data\": [{\"x\": [0.0, 0.5, null, 0.46643085439538495, 0.44538388103556675, null, 0.46643085439538495, 0.4285584341548651, null], \"y\": [0.5, 1.0, null, 0.966430854395385, 0.906182816233176, null, 0.966430854395385, 0.967759498957256, null], \"hoverinfo\": \"none\", \"mode\": \"lines\", \"line\": {\"width\": 2, \"color\": \"rgb(0, 0, 0)\"}}, {\"x\": [0.0, 0.5, null, 0.46643085439538495, 0.4285584341548651, null, 0.46643085439538495, 0.44538388103556675, null], \"y\": [0.5, 0.0, null, 0.03356914560461503, 0.032240501042743994, null, 0.03356914560461503, 0.09381718376682407, null], \"hoverinfo\": \"none\", \"mode\": \"lines\", \"line\": {\"width\": 2, \"color\": \"rgb(255, 0, 0)\"}}, {\"x\": [0.5, 1.0, null, 0.9621212121212122, 0.9288794484132434, null, 0.9621212121212122, 0.9288794484132434, null], \"y\": [1.0, 1.0, null, 1.0, 0.9652590189417244, null, 1.0, 1.0347409810582755, null], \"hoverinfo\": \"none\", \"mode\": \"lines\", \"line\": {\"width\": 2, \"color\": \"rgb(0, 0, 0)\"}}, {\"x\": [0.5075757575757576, 0.5075757575757576, null, 0.5075757575757576, 0.5257358158562198, null], \"y\": [1.0, 0.0, null, 0.07246376811594203, 0.13605670738336034, null], \"hoverinfo\": \"none\", \"mode\": \"lines\", \"line\": {\"width\": 2, \"color\": \"rgb(0, 0, 0)\"}}, {\"x\": [1.0075757575757576, 1.0075757575757576, null, 1.0075757575757576, 1.0257358158562198, null], \"y\": [1.0, 0.0, null, 0.07246376811594203, 0.13605670738336034, null], \"hoverinfo\": \"none\", \"mode\": \"lines\", \"line\": {\"width\": 2, \"color\": \"rgb(0, 0, 0)\"}}, {\"x\": [0.49242424242424243, 0.49242424242424243, null, 0.49242424242424243, 0.4742641841437802, null], \"y\": [0.0, 1.0, null, 0.927536231884058, 0.8639432926166397, null], \"hoverinfo\": \"none\", \"mode\": \"lines\", \"line\": {\"width\": 2, \"color\": \"rgb(0, 0, 0)\"}}, {\"x\": [0.5, 1.0, null, 0.9738173240163878, 0.9639630823912474, null, 0.9738173240163878, 0.9377166459078401, null], \"y\": [0.0, 1.0, null, 0.9476346480327754, 0.8776659754484841, null, 0.9476346480327754, 0.9256934811496907, null], \"hoverinfo\": \"none\", \"mode\": \"lines\", \"line\": {\"width\": 2, \"color\": \"rgb(0, 0, 0)\"}}, {\"x\": [0.5, 1.0, null, 0.9621212121212122, 0.9288794484132434, null, 0.9621212121212122, 0.9288794484132434, null], \"y\": [0.0, 0.0, null, 0.0, -0.03474098105827558, null, 0.0, 0.03474098105827558, null], \"hoverinfo\": \"none\", \"mode\": \"lines\", \"line\": {\"width\": 2, \"color\": \"rgb(0, 0, 0)\"}}, {\"x\": [1.0, 0.0, null, 0.03664774299318793, 0.07340128670201525, null, 0.03664774299318793, 0.06421703965128427, null], \"y\": [0.0, 0.5, null, 0.481676128503406, 0.4992073320037643, null, 0.481676128503406, 0.4319835048195859, null], \"hoverinfo\": \"none\", \"mode\": \"lines\", \"line\": {\"width\": 2, \"color\": \"rgb(0, 0, 0)\"}}, {\"x\": [0.9924242424242424, 0.9924242424242424, null, 0.9924242424242424, 0.9742641841437802, null], \"y\": [0.0, 1.0, null, 0.927536231884058, 0.8639432926166397, null], \"hoverinfo\": \"none\", \"mode\": \"lines\", \"line\": {\"width\": 2, \"color\": \"rgb(0, 0, 0)\"}}, {\"x\": [0.0], \"y\": [0.5], \"text\": [\"0\"], \"textposition\": \"middle center\", \"hoverinfo\": \"none\", \"mode\": \"markers+text\", \"marker\": {\"size\": 20, \"color\": \"rgb(0, 255, 0)\", \"line\": {\"width\": 2, \"color\": \"rgb(0, 0, 0)\"}}, \"textfont\": {\"color\": \"rgb(0, 0, 0)\"}}, {\"x\": [0.5], \"y\": [1.0], \"text\": [\"10\"], \"textposition\": \"middle center\", \"hoverinfo\": \"none\", \"mode\": \"markers+text\", \"marker\": {\"size\": 20, \"color\": \"rgb(255, 255, 255)\", \"line\": {\"width\": 2, \"color\": \"rgb(0, 0, 0)\"}}, \"textfont\": {\"color\": \"rgb(0, 0, 0)\"}}, {\"x\": [1.0], \"y\": [1.0], \"text\": [\"\\u221e\"], \"textposition\": \"middle center\", \"hoverinfo\": \"none\", \"mode\": \"markers+text\", \"marker\": {\"size\": 20, \"color\": \"rgb(255, 255, 255)\", \"line\": {\"width\": 2, \"color\": \"rgb(0, 0, 0)\"}}, \"textfont\": {\"color\": \"rgb(0, 0, 0)\"}}, {\"x\": [0.5], \"y\": [0.0], \"text\": [\"\\u221e\"], \"textposition\": \"middle center\", \"hoverinfo\": \"none\", \"mode\": \"markers+text\", \"marker\": {\"size\": 20, \"color\": \"rgb(255, 255, 255)\", \"line\": {\"width\": 2, \"color\": \"rgb(0, 0, 0)\"}}, \"textfont\": {\"color\": \"rgb(0, 0, 0)\"}}, {\"x\": [1.0], \"y\": [0.0], \"text\": [\"\\u221e\"], \"textposition\": \"middle center\", \"hoverinfo\": \"none\", \"mode\": \"markers+text\", \"marker\": {\"size\": 20, \"color\": \"rgb(255, 255, 255)\", \"line\": {\"width\": 2, \"color\": \"rgb(0, 0, 0)\"}}, \"textfont\": {\"color\": \"rgb(0, 0, 0)\"}}], \"name\": 4}, {\"data\": [{\"x\": [0.0, 0.5, null, 0.46643085439538495, 0.44538388103556675, null, 0.46643085439538495, 0.4285584341548651, null], \"y\": [0.5, 1.0, null, 0.966430854395385, 0.906182816233176, null, 0.966430854395385, 0.967759498957256, null], \"hoverinfo\": \"none\", \"mode\": \"lines\", \"line\": {\"width\": 2, \"color\": \"rgb(0, 0, 0)\"}}, {\"x\": [0.0, 0.5, null, 0.46643085439538495, 0.4285584341548651, null, 0.46643085439538495, 0.44538388103556675, null], \"y\": [0.5, 0.0, null, 0.03356914560461503, 0.032240501042743994, null, 0.03356914560461503, 0.09381718376682407, null], \"hoverinfo\": \"none\", \"mode\": \"lines\", \"line\": {\"width\": 2, \"color\": \"rgb(0, 0, 0)\"}}, {\"x\": [0.5, 1.0, null, 0.9621212121212122, 0.9288794484132434, null, 0.9621212121212122, 0.9288794484132434, null], \"y\": [1.0, 1.0, null, 1.0, 0.9652590189417244, null, 1.0, 1.0347409810582755, null], \"hoverinfo\": \"none\", \"mode\": \"lines\", \"line\": {\"width\": 2, \"color\": \"rgb(0, 0, 0)\"}}, {\"x\": [0.5075757575757576, 0.5075757575757576, null, 0.5075757575757576, 0.5257358158562198, null], \"y\": [1.0, 0.0, null, 0.07246376811594203, 0.13605670738336034, null], \"hoverinfo\": \"none\", \"mode\": \"lines\", \"line\": {\"width\": 2, \"color\": \"rgb(0, 0, 0)\"}}, {\"x\": [1.0075757575757576, 1.0075757575757576, null, 1.0075757575757576, 1.0257358158562198, null], \"y\": [1.0, 0.0, null, 0.07246376811594203, 0.13605670738336034, null], \"hoverinfo\": \"none\", \"mode\": \"lines\", \"line\": {\"width\": 2, \"color\": \"rgb(0, 0, 0)\"}}, {\"x\": [0.49242424242424243, 0.49242424242424243, null, 0.49242424242424243, 0.4742641841437802, null], \"y\": [0.0, 1.0, null, 0.927536231884058, 0.8639432926166397, null], \"hoverinfo\": \"none\", \"mode\": \"lines\", \"line\": {\"width\": 2, \"color\": \"rgb(0, 0, 0)\"}}, {\"x\": [0.5, 1.0, null, 0.9738173240163878, 0.9639630823912474, null, 0.9738173240163878, 0.9377166459078401, null], \"y\": [0.0, 1.0, null, 0.9476346480327754, 0.8776659754484841, null, 0.9476346480327754, 0.9256934811496907, null], \"hoverinfo\": \"none\", \"mode\": \"lines\", \"line\": {\"width\": 2, \"color\": \"rgb(0, 0, 0)\"}}, {\"x\": [0.5, 1.0, null, 0.9621212121212122, 0.9288794484132434, null, 0.9621212121212122, 0.9288794484132434, null], \"y\": [0.0, 0.0, null, 0.0, -0.03474098105827558, null, 0.0, 0.03474098105827558, null], \"hoverinfo\": \"none\", \"mode\": \"lines\", \"line\": {\"width\": 2, \"color\": \"rgb(0, 0, 0)\"}}, {\"x\": [1.0, 0.0, null, 0.03664774299318793, 0.07340128670201525, null, 0.03664774299318793, 0.06421703965128427, null], \"y\": [0.0, 0.5, null, 0.481676128503406, 0.4992073320037643, null, 0.481676128503406, 0.4319835048195859, null], \"hoverinfo\": \"none\", \"mode\": \"lines\", \"line\": {\"width\": 2, \"color\": \"rgb(0, 0, 0)\"}}, {\"x\": [0.9924242424242424, 0.9924242424242424, null, 0.9924242424242424, 0.9742641841437802, null], \"y\": [0.0, 1.0, null, 0.927536231884058, 0.8639432926166397, null], \"hoverinfo\": \"none\", \"mode\": \"lines\", \"line\": {\"width\": 2, \"color\": \"rgb(0, 0, 0)\"}}, {\"x\": [0.0], \"y\": [0.5], \"text\": [\"0\"], \"textposition\": \"middle center\", \"hoverinfo\": \"none\", \"mode\": \"markers+text\", \"marker\": {\"size\": 20, \"color\": \"rgb(0, 255, 0)\", \"line\": {\"width\": 2, \"color\": \"rgb(0, 0, 0)\"}}, \"textfont\": {\"color\": \"rgb(0, 0, 0)\"}}, {\"x\": [0.5], \"y\": [1.0], \"text\": [\"10\"], \"textposition\": \"middle center\", \"hoverinfo\": \"none\", \"mode\": \"markers+text\", \"marker\": {\"size\": 20, \"color\": \"rgb(255, 255, 255)\", \"line\": {\"width\": 2, \"color\": \"rgb(0, 0, 0)\"}}, \"textfont\": {\"color\": \"rgb(0, 0, 0)\"}}, {\"x\": [1.0], \"y\": [1.0], \"text\": [\"\\u221e\"], \"textposition\": \"middle center\", \"hoverinfo\": \"none\", \"mode\": \"markers+text\", \"marker\": {\"size\": 20, \"color\": \"rgb(255, 255, 255)\", \"line\": {\"width\": 2, \"color\": \"rgb(0, 0, 0)\"}}, \"textfont\": {\"color\": \"rgb(0, 0, 0)\"}}, {\"x\": [0.5], \"y\": [0.0], \"text\": [\"5\"], \"textposition\": \"middle center\", \"hoverinfo\": \"none\", \"mode\": \"markers+text\", \"marker\": {\"size\": 20, \"color\": \"rgb(255, 255, 255)\", \"line\": {\"width\": 2, \"color\": \"rgb(0, 0, 0)\"}}, \"textfont\": {\"color\": \"rgb(0, 0, 0)\"}}, {\"x\": [1.0], \"y\": [0.0], \"text\": [\"\\u221e\"], \"textposition\": \"middle center\", \"hoverinfo\": \"none\", \"mode\": \"markers+text\", \"marker\": {\"size\": 20, \"color\": \"rgb(255, 255, 255)\", \"line\": {\"width\": 2, \"color\": \"rgb(0, 0, 0)\"}}, \"textfont\": {\"color\": \"rgb(0, 0, 0)\"}}], \"name\": 5}, {\"data\": [{\"x\": [0.0, 0.5, null, 0.46643085439538495, 0.44538388103556675, null, 0.46643085439538495, 0.4285584341548651, null], \"y\": [0.5, 1.0, null, 0.966430854395385, 0.906182816233176, null, 0.966430854395385, 0.967759498957256, null], \"hoverinfo\": \"none\", \"mode\": \"lines\", \"line\": {\"width\": 2, \"color\": \"rgb(0, 0, 0)\"}}, {\"x\": [0.0, 0.5, null, 0.46643085439538495, 0.4285584341548651, null, 0.46643085439538495, 0.44538388103556675, null], \"y\": [0.5, 0.0, null, 0.03356914560461503, 0.032240501042743994, null, 0.03356914560461503, 0.09381718376682407, null], \"hoverinfo\": \"none\", \"mode\": \"lines\", \"line\": {\"width\": 2, \"color\": \"rgb(0, 0, 0)\"}}, {\"x\": [0.5, 1.0, null, 0.9621212121212122, 0.9288794484132434, null, 0.9621212121212122, 0.9288794484132434, null], \"y\": [1.0, 1.0, null, 1.0, 0.9652590189417244, null, 1.0, 1.0347409810582755, null], \"hoverinfo\": \"none\", \"mode\": \"lines\", \"line\": {\"width\": 2, \"color\": \"rgb(0, 0, 0)\"}}, {\"x\": [0.5075757575757576, 0.5075757575757576, null, 0.5075757575757576, 0.5257358158562198, null], \"y\": [1.0, 0.0, null, 0.07246376811594203, 0.13605670738336034, null], \"hoverinfo\": \"none\", \"mode\": \"lines\", \"line\": {\"width\": 2, \"color\": \"rgb(0, 0, 0)\"}}, {\"x\": [1.0075757575757576, 1.0075757575757576, null, 1.0075757575757576, 1.0257358158562198, null], \"y\": [1.0, 0.0, null, 0.07246376811594203, 0.13605670738336034, null], \"hoverinfo\": \"none\", \"mode\": \"lines\", \"line\": {\"width\": 2, \"color\": \"rgb(0, 0, 0)\"}}, {\"x\": [0.49242424242424243, 0.49242424242424243, null, 0.49242424242424243, 0.4742641841437802, null], \"y\": [0.0, 1.0, null, 0.927536231884058, 0.8639432926166397, null], \"hoverinfo\": \"none\", \"mode\": \"lines\", \"line\": {\"width\": 2, \"color\": \"rgb(0, 0, 0)\"}}, {\"x\": [0.5, 1.0, null, 0.9738173240163878, 0.9639630823912474, null, 0.9738173240163878, 0.9377166459078401, null], \"y\": [0.0, 1.0, null, 0.9476346480327754, 0.8776659754484841, null, 0.9476346480327754, 0.9256934811496907, null], \"hoverinfo\": \"none\", \"mode\": \"lines\", \"line\": {\"width\": 2, \"color\": \"rgb(0, 0, 0)\"}}, {\"x\": [0.5, 1.0, null, 0.9621212121212122, 0.9288794484132434, null, 0.9621212121212122, 0.9288794484132434, null], \"y\": [0.0, 0.0, null, 0.0, -0.03474098105827558, null, 0.0, 0.03474098105827558, null], \"hoverinfo\": \"none\", \"mode\": \"lines\", \"line\": {\"width\": 2, \"color\": \"rgb(0, 0, 0)\"}}, {\"x\": [1.0, 0.0, null, 0.03664774299318793, 0.07340128670201525, null, 0.03664774299318793, 0.06421703965128427, null], \"y\": [0.0, 0.5, null, 0.481676128503406, 0.4992073320037643, null, 0.481676128503406, 0.4319835048195859, null], \"hoverinfo\": \"none\", \"mode\": \"lines\", \"line\": {\"width\": 2, \"color\": \"rgb(0, 0, 0)\"}}, {\"x\": [0.9924242424242424, 0.9924242424242424, null, 0.9924242424242424, 0.9742641841437802, null], \"y\": [0.0, 1.0, null, 0.927536231884058, 0.8639432926166397, null], \"hoverinfo\": \"none\", \"mode\": \"lines\", \"line\": {\"width\": 2, \"color\": \"rgb(0, 0, 0)\"}}, {\"x\": [0.0], \"y\": [0.5], \"text\": [\"0\"], \"textposition\": \"middle center\", \"hoverinfo\": \"none\", \"mode\": \"markers+text\", \"marker\": {\"size\": 20, \"color\": \"rgb(0, 0, 255)\", \"line\": {\"width\": 2, \"color\": \"rgb(0, 0, 0)\"}}, \"textfont\": {\"color\": \"rgb(255, 255, 255)\"}}, {\"x\": [0.5], \"y\": [1.0], \"text\": [\"10\"], \"textposition\": \"middle center\", \"hoverinfo\": \"none\", \"mode\": \"markers+text\", \"marker\": {\"size\": 20, \"color\": \"rgb(255, 255, 255)\", \"line\": {\"width\": 2, \"color\": \"rgb(0, 0, 0)\"}}, \"textfont\": {\"color\": \"rgb(0, 0, 0)\"}}, {\"x\": [1.0], \"y\": [1.0], \"text\": [\"\\u221e\"], \"textposition\": \"middle center\", \"hoverinfo\": \"none\", \"mode\": \"markers+text\", \"marker\": {\"size\": 20, \"color\": \"rgb(255, 255, 255)\", \"line\": {\"width\": 2, \"color\": \"rgb(0, 0, 0)\"}}, \"textfont\": {\"color\": \"rgb(0, 0, 0)\"}}, {\"x\": [0.5], \"y\": [0.0], \"text\": [\"5\"], \"textposition\": \"middle center\", \"hoverinfo\": \"none\", \"mode\": \"markers+text\", \"marker\": {\"size\": 20, \"color\": \"rgb(255, 255, 255)\", \"line\": {\"width\": 2, \"color\": \"rgb(0, 0, 0)\"}}, \"textfont\": {\"color\": \"rgb(0, 0, 0)\"}}, {\"x\": [1.0], \"y\": [0.0], \"text\": [\"\\u221e\"], \"textposition\": \"middle center\", \"hoverinfo\": \"none\", \"mode\": \"markers+text\", \"marker\": {\"size\": 20, \"color\": \"rgb(255, 255, 255)\", \"line\": {\"width\": 2, \"color\": \"rgb(0, 0, 0)\"}}, \"textfont\": {\"color\": \"rgb(0, 0, 0)\"}}], \"name\": 6}, {\"data\": [{\"x\": [0.0, 0.5, null, 0.46643085439538495, 0.44538388103556675, null, 0.46643085439538495, 0.4285584341548651, null], \"y\": [0.5, 1.0, null, 0.966430854395385, 0.906182816233176, null, 0.966430854395385, 0.967759498957256, null], \"hoverinfo\": \"none\", \"mode\": \"lines\", \"line\": {\"width\": 2, \"color\": \"rgb(0, 0, 0)\"}}, {\"x\": [0.0, 0.5, null, 0.46643085439538495, 0.4285584341548651, null, 0.46643085439538495, 0.44538388103556675, null], \"y\": [0.5, 0.0, null, 0.03356914560461503, 0.032240501042743994, null, 0.03356914560461503, 0.09381718376682407, null], \"hoverinfo\": \"none\", \"mode\": \"lines\", \"line\": {\"width\": 2, \"color\": \"rgb(0, 0, 0)\"}}, {\"x\": [0.5, 1.0, null, 0.9621212121212122, 0.9288794484132434, null, 0.9621212121212122, 0.9288794484132434, null], \"y\": [1.0, 1.0, null, 1.0, 0.9652590189417244, null, 1.0, 1.0347409810582755, null], \"hoverinfo\": \"none\", \"mode\": \"lines\", \"line\": {\"width\": 2, \"color\": \"rgb(0, 0, 0)\"}}, {\"x\": [0.5075757575757576, 0.5075757575757576, null, 0.5075757575757576, 0.5257358158562198, null], \"y\": [1.0, 0.0, null, 0.07246376811594203, 0.13605670738336034, null], \"hoverinfo\": \"none\", \"mode\": \"lines\", \"line\": {\"width\": 2, \"color\": \"rgb(0, 0, 0)\"}}, {\"x\": [1.0075757575757576, 1.0075757575757576, null, 1.0075757575757576, 1.0257358158562198, null], \"y\": [1.0, 0.0, null, 0.07246376811594203, 0.13605670738336034, null], \"hoverinfo\": \"none\", \"mode\": \"lines\", \"line\": {\"width\": 2, \"color\": \"rgb(0, 0, 0)\"}}, {\"x\": [0.49242424242424243, 0.49242424242424243, null, 0.49242424242424243, 0.4742641841437802, null], \"y\": [0.0, 1.0, null, 0.927536231884058, 0.8639432926166397, null], \"hoverinfo\": \"none\", \"mode\": \"lines\", \"line\": {\"width\": 2, \"color\": \"rgb(0, 0, 0)\"}}, {\"x\": [0.5, 1.0, null, 0.9738173240163878, 0.9639630823912474, null, 0.9738173240163878, 0.9377166459078401, null], \"y\": [0.0, 1.0, null, 0.9476346480327754, 0.8776659754484841, null, 0.9476346480327754, 0.9256934811496907, null], \"hoverinfo\": \"none\", \"mode\": \"lines\", \"line\": {\"width\": 2, \"color\": \"rgb(0, 0, 0)\"}}, {\"x\": [0.5, 1.0, null, 0.9621212121212122, 0.9288794484132434, null, 0.9621212121212122, 0.9288794484132434, null], \"y\": [0.0, 0.0, null, 0.0, -0.03474098105827558, null, 0.0, 0.03474098105827558, null], \"hoverinfo\": \"none\", \"mode\": \"lines\", \"line\": {\"width\": 2, \"color\": \"rgb(0, 0, 0)\"}}, {\"x\": [1.0, 0.0, null, 0.03664774299318793, 0.07340128670201525, null, 0.03664774299318793, 0.06421703965128427, null], \"y\": [0.0, 0.5, null, 0.481676128503406, 0.4992073320037643, null, 0.481676128503406, 0.4319835048195859, null], \"hoverinfo\": \"none\", \"mode\": \"lines\", \"line\": {\"width\": 2, \"color\": \"rgb(0, 0, 0)\"}}, {\"x\": [0.9924242424242424, 0.9924242424242424, null, 0.9924242424242424, 0.9742641841437802, null], \"y\": [0.0, 1.0, null, 0.927536231884058, 0.8639432926166397, null], \"hoverinfo\": \"none\", \"mode\": \"lines\", \"line\": {\"width\": 2, \"color\": \"rgb(0, 0, 0)\"}}, {\"x\": [0.0], \"y\": [0.5], \"text\": [\"0\"], \"textposition\": \"middle center\", \"hoverinfo\": \"none\", \"mode\": \"markers+text\", \"marker\": {\"size\": 20, \"color\": \"rgb(0, 0, 255)\", \"line\": {\"width\": 2, \"color\": \"rgb(0, 0, 0)\"}}, \"textfont\": {\"color\": \"rgb(255, 255, 255)\"}}, {\"x\": [0.5], \"y\": [1.0], \"text\": [\"10\"], \"textposition\": \"middle center\", \"hoverinfo\": \"none\", \"mode\": \"markers+text\", \"marker\": {\"size\": 20, \"color\": \"rgb(255, 255, 255)\", \"line\": {\"width\": 2, \"color\": \"rgb(0, 0, 0)\"}}, \"textfont\": {\"color\": \"rgb(0, 0, 0)\"}}, {\"x\": [1.0], \"y\": [1.0], \"text\": [\"\\u221e\"], \"textposition\": \"middle center\", \"hoverinfo\": \"none\", \"mode\": \"markers+text\", \"marker\": {\"size\": 20, \"color\": \"rgb(255, 255, 255)\", \"line\": {\"width\": 2, \"color\": \"rgb(0, 0, 0)\"}}, \"textfont\": {\"color\": \"rgb(0, 0, 0)\"}}, {\"x\": [0.5], \"y\": [0.0], \"text\": [\"5\"], \"textposition\": \"middle center\", \"hoverinfo\": \"none\", \"mode\": \"markers+text\", \"marker\": {\"size\": 20, \"color\": \"rgb(0, 255, 0)\", \"line\": {\"width\": 2, \"color\": \"rgb(0, 0, 0)\"}}, \"textfont\": {\"color\": \"rgb(0, 0, 0)\"}}, {\"x\": [1.0], \"y\": [0.0], \"text\": [\"\\u221e\"], \"textposition\": \"middle center\", \"hoverinfo\": \"none\", \"mode\": \"markers+text\", \"marker\": {\"size\": 20, \"color\": \"rgb(255, 255, 255)\", \"line\": {\"width\": 2, \"color\": \"rgb(0, 0, 0)\"}}, \"textfont\": {\"color\": \"rgb(0, 0, 0)\"}}], \"name\": 7}, {\"data\": [{\"x\": [0.0, 0.5, null, 0.46643085439538495, 0.44538388103556675, null, 0.46643085439538495, 0.4285584341548651, null], \"y\": [0.5, 1.0, null, 0.966430854395385, 0.906182816233176, null, 0.966430854395385, 0.967759498957256, null], \"hoverinfo\": \"none\", \"mode\": \"lines\", \"line\": {\"width\": 2, \"color\": \"rgb(0, 0, 0)\"}}, {\"x\": [0.0, 0.5, null, 0.46643085439538495, 0.4285584341548651, null, 0.46643085439538495, 0.44538388103556675, null], \"y\": [0.5, 0.0, null, 0.03356914560461503, 0.032240501042743994, null, 0.03356914560461503, 0.09381718376682407, null], \"hoverinfo\": \"none\", \"mode\": \"lines\", \"line\": {\"width\": 2, \"color\": \"rgb(0, 0, 0)\"}}, {\"x\": [0.5, 1.0, null, 0.9621212121212122, 0.9288794484132434, null, 0.9621212121212122, 0.9288794484132434, null], \"y\": [1.0, 1.0, null, 1.0, 0.9652590189417244, null, 1.0, 1.0347409810582755, null], \"hoverinfo\": \"none\", \"mode\": \"lines\", \"line\": {\"width\": 2, \"color\": \"rgb(0, 0, 0)\"}}, {\"x\": [0.5075757575757576, 0.5075757575757576, null, 0.5075757575757576, 0.5257358158562198, null], \"y\": [1.0, 0.0, null, 0.07246376811594203, 0.13605670738336034, null], \"hoverinfo\": \"none\", \"mode\": \"lines\", \"line\": {\"width\": 2, \"color\": \"rgb(0, 0, 0)\"}}, {\"x\": [1.0075757575757576, 1.0075757575757576, null, 1.0075757575757576, 1.0257358158562198, null], \"y\": [1.0, 0.0, null, 0.07246376811594203, 0.13605670738336034, null], \"hoverinfo\": \"none\", \"mode\": \"lines\", \"line\": {\"width\": 2, \"color\": \"rgb(0, 0, 0)\"}}, {\"x\": [0.49242424242424243, 0.49242424242424243, null, 0.49242424242424243, 0.4742641841437802, null], \"y\": [0.0, 1.0, null, 0.927536231884058, 0.8639432926166397, null], \"hoverinfo\": \"none\", \"mode\": \"lines\", \"line\": {\"width\": 2, \"color\": \"rgb(255, 0, 0)\"}}, {\"x\": [0.5, 1.0, null, 0.9738173240163878, 0.9639630823912474, null, 0.9738173240163878, 0.9377166459078401, null], \"y\": [0.0, 1.0, null, 0.9476346480327754, 0.8776659754484841, null, 0.9476346480327754, 0.9256934811496907, null], \"hoverinfo\": \"none\", \"mode\": \"lines\", \"line\": {\"width\": 2, \"color\": \"rgb(0, 0, 0)\"}}, {\"x\": [0.5, 1.0, null, 0.9621212121212122, 0.9288794484132434, null, 0.9621212121212122, 0.9288794484132434, null], \"y\": [0.0, 0.0, null, 0.0, -0.03474098105827558, null, 0.0, 0.03474098105827558, null], \"hoverinfo\": \"none\", \"mode\": \"lines\", \"line\": {\"width\": 2, \"color\": \"rgb(0, 0, 0)\"}}, {\"x\": [1.0, 0.0, null, 0.03664774299318793, 0.07340128670201525, null, 0.03664774299318793, 0.06421703965128427, null], \"y\": [0.0, 0.5, null, 0.481676128503406, 0.4992073320037643, null, 0.481676128503406, 0.4319835048195859, null], \"hoverinfo\": \"none\", \"mode\": \"lines\", \"line\": {\"width\": 2, \"color\": \"rgb(0, 0, 0)\"}}, {\"x\": [0.9924242424242424, 0.9924242424242424, null, 0.9924242424242424, 0.9742641841437802, null], \"y\": [0.0, 1.0, null, 0.927536231884058, 0.8639432926166397, null], \"hoverinfo\": \"none\", \"mode\": \"lines\", \"line\": {\"width\": 2, \"color\": \"rgb(0, 0, 0)\"}}, {\"x\": [0.0], \"y\": [0.5], \"text\": [\"0\"], \"textposition\": \"middle center\", \"hoverinfo\": \"none\", \"mode\": \"markers+text\", \"marker\": {\"size\": 20, \"color\": \"rgb(0, 0, 255)\", \"line\": {\"width\": 2, \"color\": \"rgb(0, 0, 0)\"}}, \"textfont\": {\"color\": \"rgb(255, 255, 255)\"}}, {\"x\": [0.5], \"y\": [1.0], \"text\": [\"10\"], \"textposition\": \"middle center\", \"hoverinfo\": \"none\", \"mode\": \"markers+text\", \"marker\": {\"size\": 20, \"color\": \"rgb(255, 255, 255)\", \"line\": {\"width\": 2, \"color\": \"rgb(0, 0, 0)\"}}, \"textfont\": {\"color\": \"rgb(0, 0, 0)\"}}, {\"x\": [1.0], \"y\": [1.0], \"text\": [\"\\u221e\"], \"textposition\": \"middle center\", \"hoverinfo\": \"none\", \"mode\": \"markers+text\", \"marker\": {\"size\": 20, \"color\": \"rgb(255, 255, 255)\", \"line\": {\"width\": 2, \"color\": \"rgb(0, 0, 0)\"}}, \"textfont\": {\"color\": \"rgb(0, 0, 0)\"}}, {\"x\": [0.5], \"y\": [0.0], \"text\": [\"5\"], \"textposition\": \"middle center\", \"hoverinfo\": \"none\", \"mode\": \"markers+text\", \"marker\": {\"size\": 20, \"color\": \"rgb(0, 255, 0)\", \"line\": {\"width\": 2, \"color\": \"rgb(0, 0, 0)\"}}, \"textfont\": {\"color\": \"rgb(0, 0, 0)\"}}, {\"x\": [1.0], \"y\": [0.0], \"text\": [\"\\u221e\"], \"textposition\": \"middle center\", \"hoverinfo\": \"none\", \"mode\": \"markers+text\", \"marker\": {\"size\": 20, \"color\": \"rgb(255, 255, 255)\", \"line\": {\"width\": 2, \"color\": \"rgb(0, 0, 0)\"}}, \"textfont\": {\"color\": \"rgb(0, 0, 0)\"}}], \"name\": 8}, {\"data\": [{\"x\": [0.0, 0.5, null, 0.46643085439538495, 0.44538388103556675, null, 0.46643085439538495, 0.4285584341548651, null], \"y\": [0.5, 1.0, null, 0.966430854395385, 0.906182816233176, null, 0.966430854395385, 0.967759498957256, null], \"hoverinfo\": \"none\", \"mode\": \"lines\", \"line\": {\"width\": 2, \"color\": \"rgb(0, 0, 0)\"}}, {\"x\": [0.0, 0.5, null, 0.46643085439538495, 0.4285584341548651, null, 0.46643085439538495, 0.44538388103556675, null], \"y\": [0.5, 0.0, null, 0.03356914560461503, 0.032240501042743994, null, 0.03356914560461503, 0.09381718376682407, null], \"hoverinfo\": \"none\", \"mode\": \"lines\", \"line\": {\"width\": 2, \"color\": \"rgb(0, 0, 0)\"}}, {\"x\": [0.5, 1.0, null, 0.9621212121212122, 0.9288794484132434, null, 0.9621212121212122, 0.9288794484132434, null], \"y\": [1.0, 1.0, null, 1.0, 0.9652590189417244, null, 1.0, 1.0347409810582755, null], \"hoverinfo\": \"none\", \"mode\": \"lines\", \"line\": {\"width\": 2, \"color\": \"rgb(0, 0, 0)\"}}, {\"x\": [0.5075757575757576, 0.5075757575757576, null, 0.5075757575757576, 0.5257358158562198, null], \"y\": [1.0, 0.0, null, 0.07246376811594203, 0.13605670738336034, null], \"hoverinfo\": \"none\", \"mode\": \"lines\", \"line\": {\"width\": 2, \"color\": \"rgb(0, 0, 0)\"}}, {\"x\": [1.0075757575757576, 1.0075757575757576, null, 1.0075757575757576, 1.0257358158562198, null], \"y\": [1.0, 0.0, null, 0.07246376811594203, 0.13605670738336034, null], \"hoverinfo\": \"none\", \"mode\": \"lines\", \"line\": {\"width\": 2, \"color\": \"rgb(0, 0, 0)\"}}, {\"x\": [0.49242424242424243, 0.49242424242424243, null, 0.49242424242424243, 0.4742641841437802, null], \"y\": [0.0, 1.0, null, 0.927536231884058, 0.8639432926166397, null], \"hoverinfo\": \"none\", \"mode\": \"lines\", \"line\": {\"width\": 2, \"color\": \"rgb(0, 0, 0)\"}}, {\"x\": [0.5, 1.0, null, 0.9738173240163878, 0.9639630823912474, null, 0.9738173240163878, 0.9377166459078401, null], \"y\": [0.0, 1.0, null, 0.9476346480327754, 0.8776659754484841, null, 0.9476346480327754, 0.9256934811496907, null], \"hoverinfo\": \"none\", \"mode\": \"lines\", \"line\": {\"width\": 2, \"color\": \"rgb(0, 0, 0)\"}}, {\"x\": [0.5, 1.0, null, 0.9621212121212122, 0.9288794484132434, null, 0.9621212121212122, 0.9288794484132434, null], \"y\": [0.0, 0.0, null, 0.0, -0.03474098105827558, null, 0.0, 0.03474098105827558, null], \"hoverinfo\": \"none\", \"mode\": \"lines\", \"line\": {\"width\": 2, \"color\": \"rgb(0, 0, 0)\"}}, {\"x\": [1.0, 0.0, null, 0.03664774299318793, 0.07340128670201525, null, 0.03664774299318793, 0.06421703965128427, null], \"y\": [0.0, 0.5, null, 0.481676128503406, 0.4992073320037643, null, 0.481676128503406, 0.4319835048195859, null], \"hoverinfo\": \"none\", \"mode\": \"lines\", \"line\": {\"width\": 2, \"color\": \"rgb(0, 0, 0)\"}}, {\"x\": [0.9924242424242424, 0.9924242424242424, null, 0.9924242424242424, 0.9742641841437802, null], \"y\": [0.0, 1.0, null, 0.927536231884058, 0.8639432926166397, null], \"hoverinfo\": \"none\", \"mode\": \"lines\", \"line\": {\"width\": 2, \"color\": \"rgb(0, 0, 0)\"}}, {\"x\": [0.0], \"y\": [0.5], \"text\": [\"0\"], \"textposition\": \"middle center\", \"hoverinfo\": \"none\", \"mode\": \"markers+text\", \"marker\": {\"size\": 20, \"color\": \"rgb(0, 0, 255)\", \"line\": {\"width\": 2, \"color\": \"rgb(0, 0, 0)\"}}, \"textfont\": {\"color\": \"rgb(255, 255, 255)\"}}, {\"x\": [0.5], \"y\": [1.0], \"text\": [\"8\"], \"textposition\": \"middle center\", \"hoverinfo\": \"none\", \"mode\": \"markers+text\", \"marker\": {\"size\": 20, \"color\": \"rgb(255, 255, 255)\", \"line\": {\"width\": 2, \"color\": \"rgb(0, 0, 0)\"}}, \"textfont\": {\"color\": \"rgb(0, 0, 0)\"}}, {\"x\": [1.0], \"y\": [1.0], \"text\": [\"\\u221e\"], \"textposition\": \"middle center\", \"hoverinfo\": \"none\", \"mode\": \"markers+text\", \"marker\": {\"size\": 20, \"color\": \"rgb(255, 255, 255)\", \"line\": {\"width\": 2, \"color\": \"rgb(0, 0, 0)\"}}, \"textfont\": {\"color\": \"rgb(0, 0, 0)\"}}, {\"x\": [0.5], \"y\": [0.0], \"text\": [\"5\"], \"textposition\": \"middle center\", \"hoverinfo\": \"none\", \"mode\": \"markers+text\", \"marker\": {\"size\": 20, \"color\": \"rgb(0, 255, 0)\", \"line\": {\"width\": 2, \"color\": \"rgb(0, 0, 0)\"}}, \"textfont\": {\"color\": \"rgb(0, 0, 0)\"}}, {\"x\": [1.0], \"y\": [0.0], \"text\": [\"\\u221e\"], \"textposition\": \"middle center\", \"hoverinfo\": \"none\", \"mode\": \"markers+text\", \"marker\": {\"size\": 20, \"color\": \"rgb(255, 255, 255)\", \"line\": {\"width\": 2, \"color\": \"rgb(0, 0, 0)\"}}, \"textfont\": {\"color\": \"rgb(0, 0, 0)\"}}], \"name\": 9}, {\"data\": [{\"x\": [0.0, 0.5, null, 0.46643085439538495, 0.44538388103556675, null, 0.46643085439538495, 0.4285584341548651, null], \"y\": [0.5, 1.0, null, 0.966430854395385, 0.906182816233176, null, 0.966430854395385, 0.967759498957256, null], \"hoverinfo\": \"none\", \"mode\": \"lines\", \"line\": {\"width\": 2, \"color\": \"rgb(0, 0, 0)\"}}, {\"x\": [0.0, 0.5, null, 0.46643085439538495, 0.4285584341548651, null, 0.46643085439538495, 0.44538388103556675, null], \"y\": [0.5, 0.0, null, 0.03356914560461503, 0.032240501042743994, null, 0.03356914560461503, 0.09381718376682407, null], \"hoverinfo\": \"none\", \"mode\": \"lines\", \"line\": {\"width\": 2, \"color\": \"rgb(0, 0, 0)\"}}, {\"x\": [0.5, 1.0, null, 0.9621212121212122, 0.9288794484132434, null, 0.9621212121212122, 0.9288794484132434, null], \"y\": [1.0, 1.0, null, 1.0, 0.9652590189417244, null, 1.0, 1.0347409810582755, null], \"hoverinfo\": \"none\", \"mode\": \"lines\", \"line\": {\"width\": 2, \"color\": \"rgb(0, 0, 0)\"}}, {\"x\": [0.5075757575757576, 0.5075757575757576, null, 0.5075757575757576, 0.5257358158562198, null], \"y\": [1.0, 0.0, null, 0.07246376811594203, 0.13605670738336034, null], \"hoverinfo\": \"none\", \"mode\": \"lines\", \"line\": {\"width\": 2, \"color\": \"rgb(0, 0, 0)\"}}, {\"x\": [1.0075757575757576, 1.0075757575757576, null, 1.0075757575757576, 1.0257358158562198, null], \"y\": [1.0, 0.0, null, 0.07246376811594203, 0.13605670738336034, null], \"hoverinfo\": \"none\", \"mode\": \"lines\", \"line\": {\"width\": 2, \"color\": \"rgb(0, 0, 0)\"}}, {\"x\": [0.49242424242424243, 0.49242424242424243, null, 0.49242424242424243, 0.4742641841437802, null], \"y\": [0.0, 1.0, null, 0.927536231884058, 0.8639432926166397, null], \"hoverinfo\": \"none\", \"mode\": \"lines\", \"line\": {\"width\": 2, \"color\": \"rgb(0, 0, 0)\"}}, {\"x\": [0.5, 1.0, null, 0.9738173240163878, 0.9639630823912474, null, 0.9738173240163878, 0.9377166459078401, null], \"y\": [0.0, 1.0, null, 0.9476346480327754, 0.8776659754484841, null, 0.9476346480327754, 0.9256934811496907, null], \"hoverinfo\": \"none\", \"mode\": \"lines\", \"line\": {\"width\": 2, \"color\": \"rgb(255, 0, 0)\"}}, {\"x\": [0.5, 1.0, null, 0.9621212121212122, 0.9288794484132434, null, 0.9621212121212122, 0.9288794484132434, null], \"y\": [0.0, 0.0, null, 0.0, -0.03474098105827558, null, 0.0, 0.03474098105827558, null], \"hoverinfo\": \"none\", \"mode\": \"lines\", \"line\": {\"width\": 2, \"color\": \"rgb(0, 0, 0)\"}}, {\"x\": [1.0, 0.0, null, 0.03664774299318793, 0.07340128670201525, null, 0.03664774299318793, 0.06421703965128427, null], \"y\": [0.0, 0.5, null, 0.481676128503406, 0.4992073320037643, null, 0.481676128503406, 0.4319835048195859, null], \"hoverinfo\": \"none\", \"mode\": \"lines\", \"line\": {\"width\": 2, \"color\": \"rgb(0, 0, 0)\"}}, {\"x\": [0.9924242424242424, 0.9924242424242424, null, 0.9924242424242424, 0.9742641841437802, null], \"y\": [0.0, 1.0, null, 0.927536231884058, 0.8639432926166397, null], \"hoverinfo\": \"none\", \"mode\": \"lines\", \"line\": {\"width\": 2, \"color\": \"rgb(0, 0, 0)\"}}, {\"x\": [0.0], \"y\": [0.5], \"text\": [\"0\"], \"textposition\": \"middle center\", \"hoverinfo\": \"none\", \"mode\": \"markers+text\", \"marker\": {\"size\": 20, \"color\": \"rgb(0, 0, 255)\", \"line\": {\"width\": 2, \"color\": \"rgb(0, 0, 0)\"}}, \"textfont\": {\"color\": \"rgb(255, 255, 255)\"}}, {\"x\": [0.5], \"y\": [1.0], \"text\": [\"8\"], \"textposition\": \"middle center\", \"hoverinfo\": \"none\", \"mode\": \"markers+text\", \"marker\": {\"size\": 20, \"color\": \"rgb(255, 255, 255)\", \"line\": {\"width\": 2, \"color\": \"rgb(0, 0, 0)\"}}, \"textfont\": {\"color\": \"rgb(0, 0, 0)\"}}, {\"x\": [1.0], \"y\": [1.0], \"text\": [\"\\u221e\"], \"textposition\": \"middle center\", \"hoverinfo\": \"none\", \"mode\": \"markers+text\", \"marker\": {\"size\": 20, \"color\": \"rgb(255, 255, 255)\", \"line\": {\"width\": 2, \"color\": \"rgb(0, 0, 0)\"}}, \"textfont\": {\"color\": \"rgb(0, 0, 0)\"}}, {\"x\": [0.5], \"y\": [0.0], \"text\": [\"5\"], \"textposition\": \"middle center\", \"hoverinfo\": \"none\", \"mode\": \"markers+text\", \"marker\": {\"size\": 20, \"color\": \"rgb(0, 255, 0)\", \"line\": {\"width\": 2, \"color\": \"rgb(0, 0, 0)\"}}, \"textfont\": {\"color\": \"rgb(0, 0, 0)\"}}, {\"x\": [1.0], \"y\": [0.0], \"text\": [\"\\u221e\"], \"textposition\": \"middle center\", \"hoverinfo\": \"none\", \"mode\": \"markers+text\", \"marker\": {\"size\": 20, \"color\": \"rgb(255, 255, 255)\", \"line\": {\"width\": 2, \"color\": \"rgb(0, 0, 0)\"}}, \"textfont\": {\"color\": \"rgb(0, 0, 0)\"}}], \"name\": 10}, {\"data\": [{\"x\": [0.0, 0.5, null, 0.46643085439538495, 0.44538388103556675, null, 0.46643085439538495, 0.4285584341548651, null], \"y\": [0.5, 1.0, null, 0.966430854395385, 0.906182816233176, null, 0.966430854395385, 0.967759498957256, null], \"hoverinfo\": \"none\", \"mode\": \"lines\", \"line\": {\"width\": 2, \"color\": \"rgb(0, 0, 0)\"}}, {\"x\": [0.0, 0.5, null, 0.46643085439538495, 0.4285584341548651, null, 0.46643085439538495, 0.44538388103556675, null], \"y\": [0.5, 0.0, null, 0.03356914560461503, 0.032240501042743994, null, 0.03356914560461503, 0.09381718376682407, null], \"hoverinfo\": \"none\", \"mode\": \"lines\", \"line\": {\"width\": 2, \"color\": \"rgb(0, 0, 0)\"}}, {\"x\": [0.5, 1.0, null, 0.9621212121212122, 0.9288794484132434, null, 0.9621212121212122, 0.9288794484132434, null], \"y\": [1.0, 1.0, null, 1.0, 0.9652590189417244, null, 1.0, 1.0347409810582755, null], \"hoverinfo\": \"none\", \"mode\": \"lines\", \"line\": {\"width\": 2, \"color\": \"rgb(0, 0, 0)\"}}, {\"x\": [0.5075757575757576, 0.5075757575757576, null, 0.5075757575757576, 0.5257358158562198, null], \"y\": [1.0, 0.0, null, 0.07246376811594203, 0.13605670738336034, null], \"hoverinfo\": \"none\", \"mode\": \"lines\", \"line\": {\"width\": 2, \"color\": \"rgb(0, 0, 0)\"}}, {\"x\": [1.0075757575757576, 1.0075757575757576, null, 1.0075757575757576, 1.0257358158562198, null], \"y\": [1.0, 0.0, null, 0.07246376811594203, 0.13605670738336034, null], \"hoverinfo\": \"none\", \"mode\": \"lines\", \"line\": {\"width\": 2, \"color\": \"rgb(0, 0, 0)\"}}, {\"x\": [0.49242424242424243, 0.49242424242424243, null, 0.49242424242424243, 0.4742641841437802, null], \"y\": [0.0, 1.0, null, 0.927536231884058, 0.8639432926166397, null], \"hoverinfo\": \"none\", \"mode\": \"lines\", \"line\": {\"width\": 2, \"color\": \"rgb(0, 0, 0)\"}}, {\"x\": [0.5, 1.0, null, 0.9738173240163878, 0.9639630823912474, null, 0.9738173240163878, 0.9377166459078401, null], \"y\": [0.0, 1.0, null, 0.9476346480327754, 0.8776659754484841, null, 0.9476346480327754, 0.9256934811496907, null], \"hoverinfo\": \"none\", \"mode\": \"lines\", \"line\": {\"width\": 2, \"color\": \"rgb(0, 0, 0)\"}}, {\"x\": [0.5, 1.0, null, 0.9621212121212122, 0.9288794484132434, null, 0.9621212121212122, 0.9288794484132434, null], \"y\": [0.0, 0.0, null, 0.0, -0.03474098105827558, null, 0.0, 0.03474098105827558, null], \"hoverinfo\": \"none\", \"mode\": \"lines\", \"line\": {\"width\": 2, \"color\": \"rgb(0, 0, 0)\"}}, {\"x\": [1.0, 0.0, null, 0.03664774299318793, 0.07340128670201525, null, 0.03664774299318793, 0.06421703965128427, null], \"y\": [0.0, 0.5, null, 0.481676128503406, 0.4992073320037643, null, 0.481676128503406, 0.4319835048195859, null], \"hoverinfo\": \"none\", \"mode\": \"lines\", \"line\": {\"width\": 2, \"color\": \"rgb(0, 0, 0)\"}}, {\"x\": [0.9924242424242424, 0.9924242424242424, null, 0.9924242424242424, 0.9742641841437802, null], \"y\": [0.0, 1.0, null, 0.927536231884058, 0.8639432926166397, null], \"hoverinfo\": \"none\", \"mode\": \"lines\", \"line\": {\"width\": 2, \"color\": \"rgb(0, 0, 0)\"}}, {\"x\": [0.0], \"y\": [0.5], \"text\": [\"0\"], \"textposition\": \"middle center\", \"hoverinfo\": \"none\", \"mode\": \"markers+text\", \"marker\": {\"size\": 20, \"color\": \"rgb(0, 0, 255)\", \"line\": {\"width\": 2, \"color\": \"rgb(0, 0, 0)\"}}, \"textfont\": {\"color\": \"rgb(255, 255, 255)\"}}, {\"x\": [0.5], \"y\": [1.0], \"text\": [\"8\"], \"textposition\": \"middle center\", \"hoverinfo\": \"none\", \"mode\": \"markers+text\", \"marker\": {\"size\": 20, \"color\": \"rgb(255, 255, 255)\", \"line\": {\"width\": 2, \"color\": \"rgb(0, 0, 0)\"}}, \"textfont\": {\"color\": \"rgb(0, 0, 0)\"}}, {\"x\": [1.0], \"y\": [1.0], \"text\": [\"14\"], \"textposition\": \"middle center\", \"hoverinfo\": \"none\", \"mode\": \"markers+text\", \"marker\": {\"size\": 20, \"color\": \"rgb(255, 255, 255)\", \"line\": {\"width\": 2, \"color\": \"rgb(0, 0, 0)\"}}, \"textfont\": {\"color\": \"rgb(0, 0, 0)\"}}, {\"x\": [0.5], \"y\": [0.0], \"text\": [\"5\"], \"textposition\": \"middle center\", \"hoverinfo\": \"none\", \"mode\": \"markers+text\", \"marker\": {\"size\": 20, \"color\": \"rgb(0, 255, 0)\", \"line\": {\"width\": 2, \"color\": \"rgb(0, 0, 0)\"}}, \"textfont\": {\"color\": \"rgb(0, 0, 0)\"}}, {\"x\": [1.0], \"y\": [0.0], \"text\": [\"\\u221e\"], \"textposition\": \"middle center\", \"hoverinfo\": \"none\", \"mode\": \"markers+text\", \"marker\": {\"size\": 20, \"color\": \"rgb(255, 255, 255)\", \"line\": {\"width\": 2, \"color\": \"rgb(0, 0, 0)\"}}, \"textfont\": {\"color\": \"rgb(0, 0, 0)\"}}], \"name\": 11}, {\"data\": [{\"x\": [0.0, 0.5, null, 0.46643085439538495, 0.44538388103556675, null, 0.46643085439538495, 0.4285584341548651, null], \"y\": [0.5, 1.0, null, 0.966430854395385, 0.906182816233176, null, 0.966430854395385, 0.967759498957256, null], \"hoverinfo\": \"none\", \"mode\": \"lines\", \"line\": {\"width\": 2, \"color\": \"rgb(0, 0, 0)\"}}, {\"x\": [0.0, 0.5, null, 0.46643085439538495, 0.4285584341548651, null, 0.46643085439538495, 0.44538388103556675, null], \"y\": [0.5, 0.0, null, 0.03356914560461503, 0.032240501042743994, null, 0.03356914560461503, 0.09381718376682407, null], \"hoverinfo\": \"none\", \"mode\": \"lines\", \"line\": {\"width\": 2, \"color\": \"rgb(0, 0, 0)\"}}, {\"x\": [0.5, 1.0, null, 0.9621212121212122, 0.9288794484132434, null, 0.9621212121212122, 0.9288794484132434, null], \"y\": [1.0, 1.0, null, 1.0, 0.9652590189417244, null, 1.0, 1.0347409810582755, null], \"hoverinfo\": \"none\", \"mode\": \"lines\", \"line\": {\"width\": 2, \"color\": \"rgb(0, 0, 0)\"}}, {\"x\": [0.5075757575757576, 0.5075757575757576, null, 0.5075757575757576, 0.5257358158562198, null], \"y\": [1.0, 0.0, null, 0.07246376811594203, 0.13605670738336034, null], \"hoverinfo\": \"none\", \"mode\": \"lines\", \"line\": {\"width\": 2, \"color\": \"rgb(0, 0, 0)\"}}, {\"x\": [1.0075757575757576, 1.0075757575757576, null, 1.0075757575757576, 1.0257358158562198, null], \"y\": [1.0, 0.0, null, 0.07246376811594203, 0.13605670738336034, null], \"hoverinfo\": \"none\", \"mode\": \"lines\", \"line\": {\"width\": 2, \"color\": \"rgb(0, 0, 0)\"}}, {\"x\": [0.49242424242424243, 0.49242424242424243, null, 0.49242424242424243, 0.4742641841437802, null], \"y\": [0.0, 1.0, null, 0.927536231884058, 0.8639432926166397, null], \"hoverinfo\": \"none\", \"mode\": \"lines\", \"line\": {\"width\": 2, \"color\": \"rgb(0, 0, 0)\"}}, {\"x\": [0.5, 1.0, null, 0.9738173240163878, 0.9639630823912474, null, 0.9738173240163878, 0.9377166459078401, null], \"y\": [0.0, 1.0, null, 0.9476346480327754, 0.8776659754484841, null, 0.9476346480327754, 0.9256934811496907, null], \"hoverinfo\": \"none\", \"mode\": \"lines\", \"line\": {\"width\": 2, \"color\": \"rgb(0, 0, 0)\"}}, {\"x\": [0.5, 1.0, null, 0.9621212121212122, 0.9288794484132434, null, 0.9621212121212122, 0.9288794484132434, null], \"y\": [0.0, 0.0, null, 0.0, -0.03474098105827558, null, 0.0, 0.03474098105827558, null], \"hoverinfo\": \"none\", \"mode\": \"lines\", \"line\": {\"width\": 2, \"color\": \"rgb(255, 0, 0)\"}}, {\"x\": [1.0, 0.0, null, 0.03664774299318793, 0.07340128670201525, null, 0.03664774299318793, 0.06421703965128427, null], \"y\": [0.0, 0.5, null, 0.481676128503406, 0.4992073320037643, null, 0.481676128503406, 0.4319835048195859, null], \"hoverinfo\": \"none\", \"mode\": \"lines\", \"line\": {\"width\": 2, \"color\": \"rgb(0, 0, 0)\"}}, {\"x\": [0.9924242424242424, 0.9924242424242424, null, 0.9924242424242424, 0.9742641841437802, null], \"y\": [0.0, 1.0, null, 0.927536231884058, 0.8639432926166397, null], \"hoverinfo\": \"none\", \"mode\": \"lines\", \"line\": {\"width\": 2, \"color\": \"rgb(0, 0, 0)\"}}, {\"x\": [0.0], \"y\": [0.5], \"text\": [\"0\"], \"textposition\": \"middle center\", \"hoverinfo\": \"none\", \"mode\": \"markers+text\", \"marker\": {\"size\": 20, \"color\": \"rgb(0, 0, 255)\", \"line\": {\"width\": 2, \"color\": \"rgb(0, 0, 0)\"}}, \"textfont\": {\"color\": \"rgb(255, 255, 255)\"}}, {\"x\": [0.5], \"y\": [1.0], \"text\": [\"8\"], \"textposition\": \"middle center\", \"hoverinfo\": \"none\", \"mode\": \"markers+text\", \"marker\": {\"size\": 20, \"color\": \"rgb(255, 255, 255)\", \"line\": {\"width\": 2, \"color\": \"rgb(0, 0, 0)\"}}, \"textfont\": {\"color\": \"rgb(0, 0, 0)\"}}, {\"x\": [1.0], \"y\": [1.0], \"text\": [\"14\"], \"textposition\": \"middle center\", \"hoverinfo\": \"none\", \"mode\": \"markers+text\", \"marker\": {\"size\": 20, \"color\": \"rgb(255, 255, 255)\", \"line\": {\"width\": 2, \"color\": \"rgb(0, 0, 0)\"}}, \"textfont\": {\"color\": \"rgb(0, 0, 0)\"}}, {\"x\": [0.5], \"y\": [0.0], \"text\": [\"5\"], \"textposition\": \"middle center\", \"hoverinfo\": \"none\", \"mode\": \"markers+text\", \"marker\": {\"size\": 20, \"color\": \"rgb(0, 255, 0)\", \"line\": {\"width\": 2, \"color\": \"rgb(0, 0, 0)\"}}, \"textfont\": {\"color\": \"rgb(0, 0, 0)\"}}, {\"x\": [1.0], \"y\": [0.0], \"text\": [\"\\u221e\"], \"textposition\": \"middle center\", \"hoverinfo\": \"none\", \"mode\": \"markers+text\", \"marker\": {\"size\": 20, \"color\": \"rgb(255, 255, 255)\", \"line\": {\"width\": 2, \"color\": \"rgb(0, 0, 0)\"}}, \"textfont\": {\"color\": \"rgb(0, 0, 0)\"}}], \"name\": 12}, {\"data\": [{\"x\": [0.0, 0.5, null, 0.46643085439538495, 0.44538388103556675, null, 0.46643085439538495, 0.4285584341548651, null], \"y\": [0.5, 1.0, null, 0.966430854395385, 0.906182816233176, null, 0.966430854395385, 0.967759498957256, null], \"hoverinfo\": \"none\", \"mode\": \"lines\", \"line\": {\"width\": 2, \"color\": \"rgb(0, 0, 0)\"}}, {\"x\": [0.0, 0.5, null, 0.46643085439538495, 0.4285584341548651, null, 0.46643085439538495, 0.44538388103556675, null], \"y\": [0.5, 0.0, null, 0.03356914560461503, 0.032240501042743994, null, 0.03356914560461503, 0.09381718376682407, null], \"hoverinfo\": \"none\", \"mode\": \"lines\", \"line\": {\"width\": 2, \"color\": \"rgb(0, 0, 0)\"}}, {\"x\": [0.5, 1.0, null, 0.9621212121212122, 0.9288794484132434, null, 0.9621212121212122, 0.9288794484132434, null], \"y\": [1.0, 1.0, null, 1.0, 0.9652590189417244, null, 1.0, 1.0347409810582755, null], \"hoverinfo\": \"none\", \"mode\": \"lines\", \"line\": {\"width\": 2, \"color\": \"rgb(0, 0, 0)\"}}, {\"x\": [0.5075757575757576, 0.5075757575757576, null, 0.5075757575757576, 0.5257358158562198, null], \"y\": [1.0, 0.0, null, 0.07246376811594203, 0.13605670738336034, null], \"hoverinfo\": \"none\", \"mode\": \"lines\", \"line\": {\"width\": 2, \"color\": \"rgb(0, 0, 0)\"}}, {\"x\": [1.0075757575757576, 1.0075757575757576, null, 1.0075757575757576, 1.0257358158562198, null], \"y\": [1.0, 0.0, null, 0.07246376811594203, 0.13605670738336034, null], \"hoverinfo\": \"none\", \"mode\": \"lines\", \"line\": {\"width\": 2, \"color\": \"rgb(0, 0, 0)\"}}, {\"x\": [0.49242424242424243, 0.49242424242424243, null, 0.49242424242424243, 0.4742641841437802, null], \"y\": [0.0, 1.0, null, 0.927536231884058, 0.8639432926166397, null], \"hoverinfo\": \"none\", \"mode\": \"lines\", \"line\": {\"width\": 2, \"color\": \"rgb(0, 0, 0)\"}}, {\"x\": [0.5, 1.0, null, 0.9738173240163878, 0.9639630823912474, null, 0.9738173240163878, 0.9377166459078401, null], \"y\": [0.0, 1.0, null, 0.9476346480327754, 0.8776659754484841, null, 0.9476346480327754, 0.9256934811496907, null], \"hoverinfo\": \"none\", \"mode\": \"lines\", \"line\": {\"width\": 2, \"color\": \"rgb(0, 0, 0)\"}}, {\"x\": [0.5, 1.0, null, 0.9621212121212122, 0.9288794484132434, null, 0.9621212121212122, 0.9288794484132434, null], \"y\": [0.0, 0.0, null, 0.0, -0.03474098105827558, null, 0.0, 0.03474098105827558, null], \"hoverinfo\": \"none\", \"mode\": \"lines\", \"line\": {\"width\": 2, \"color\": \"rgb(0, 0, 0)\"}}, {\"x\": [1.0, 0.0, null, 0.03664774299318793, 0.07340128670201525, null, 0.03664774299318793, 0.06421703965128427, null], \"y\": [0.0, 0.5, null, 0.481676128503406, 0.4992073320037643, null, 0.481676128503406, 0.4319835048195859, null], \"hoverinfo\": \"none\", \"mode\": \"lines\", \"line\": {\"width\": 2, \"color\": \"rgb(0, 0, 0)\"}}, {\"x\": [0.9924242424242424, 0.9924242424242424, null, 0.9924242424242424, 0.9742641841437802, null], \"y\": [0.0, 1.0, null, 0.927536231884058, 0.8639432926166397, null], \"hoverinfo\": \"none\", \"mode\": \"lines\", \"line\": {\"width\": 2, \"color\": \"rgb(0, 0, 0)\"}}, {\"x\": [0.0], \"y\": [0.5], \"text\": [\"0\"], \"textposition\": \"middle center\", \"hoverinfo\": \"none\", \"mode\": \"markers+text\", \"marker\": {\"size\": 20, \"color\": \"rgb(0, 0, 255)\", \"line\": {\"width\": 2, \"color\": \"rgb(0, 0, 0)\"}}, \"textfont\": {\"color\": \"rgb(255, 255, 255)\"}}, {\"x\": [0.5], \"y\": [1.0], \"text\": [\"8\"], \"textposition\": \"middle center\", \"hoverinfo\": \"none\", \"mode\": \"markers+text\", \"marker\": {\"size\": 20, \"color\": \"rgb(255, 255, 255)\", \"line\": {\"width\": 2, \"color\": \"rgb(0, 0, 0)\"}}, \"textfont\": {\"color\": \"rgb(0, 0, 0)\"}}, {\"x\": [1.0], \"y\": [1.0], \"text\": [\"14\"], \"textposition\": \"middle center\", \"hoverinfo\": \"none\", \"mode\": \"markers+text\", \"marker\": {\"size\": 20, \"color\": \"rgb(255, 255, 255)\", \"line\": {\"width\": 2, \"color\": \"rgb(0, 0, 0)\"}}, \"textfont\": {\"color\": \"rgb(0, 0, 0)\"}}, {\"x\": [0.5], \"y\": [0.0], \"text\": [\"5\"], \"textposition\": \"middle center\", \"hoverinfo\": \"none\", \"mode\": \"markers+text\", \"marker\": {\"size\": 20, \"color\": \"rgb(0, 255, 0)\", \"line\": {\"width\": 2, \"color\": \"rgb(0, 0, 0)\"}}, \"textfont\": {\"color\": \"rgb(0, 0, 0)\"}}, {\"x\": [1.0], \"y\": [0.0], \"text\": [\"7\"], \"textposition\": \"middle center\", \"hoverinfo\": \"none\", \"mode\": \"markers+text\", \"marker\": {\"size\": 20, \"color\": \"rgb(255, 255, 255)\", \"line\": {\"width\": 2, \"color\": \"rgb(0, 0, 0)\"}}, \"textfont\": {\"color\": \"rgb(0, 0, 0)\"}}], \"name\": 13}, {\"data\": [{\"x\": [0.0, 0.5, null, 0.46643085439538495, 0.44538388103556675, null, 0.46643085439538495, 0.4285584341548651, null], \"y\": [0.5, 1.0, null, 0.966430854395385, 0.906182816233176, null, 0.966430854395385, 0.967759498957256, null], \"hoverinfo\": \"none\", \"mode\": \"lines\", \"line\": {\"width\": 2, \"color\": \"rgb(0, 0, 0)\"}}, {\"x\": [0.0, 0.5, null, 0.46643085439538495, 0.4285584341548651, null, 0.46643085439538495, 0.44538388103556675, null], \"y\": [0.5, 0.0, null, 0.03356914560461503, 0.032240501042743994, null, 0.03356914560461503, 0.09381718376682407, null], \"hoverinfo\": \"none\", \"mode\": \"lines\", \"line\": {\"width\": 2, \"color\": \"rgb(0, 0, 0)\"}}, {\"x\": [0.5, 1.0, null, 0.9621212121212122, 0.9288794484132434, null, 0.9621212121212122, 0.9288794484132434, null], \"y\": [1.0, 1.0, null, 1.0, 0.9652590189417244, null, 1.0, 1.0347409810582755, null], \"hoverinfo\": \"none\", \"mode\": \"lines\", \"line\": {\"width\": 2, \"color\": \"rgb(0, 0, 0)\"}}, {\"x\": [0.5075757575757576, 0.5075757575757576, null, 0.5075757575757576, 0.5257358158562198, null], \"y\": [1.0, 0.0, null, 0.07246376811594203, 0.13605670738336034, null], \"hoverinfo\": \"none\", \"mode\": \"lines\", \"line\": {\"width\": 2, \"color\": \"rgb(0, 0, 0)\"}}, {\"x\": [1.0075757575757576, 1.0075757575757576, null, 1.0075757575757576, 1.0257358158562198, null], \"y\": [1.0, 0.0, null, 0.07246376811594203, 0.13605670738336034, null], \"hoverinfo\": \"none\", \"mode\": \"lines\", \"line\": {\"width\": 2, \"color\": \"rgb(0, 0, 0)\"}}, {\"x\": [0.49242424242424243, 0.49242424242424243, null, 0.49242424242424243, 0.4742641841437802, null], \"y\": [0.0, 1.0, null, 0.927536231884058, 0.8639432926166397, null], \"hoverinfo\": \"none\", \"mode\": \"lines\", \"line\": {\"width\": 2, \"color\": \"rgb(0, 0, 0)\"}}, {\"x\": [0.5, 1.0, null, 0.9738173240163878, 0.9639630823912474, null, 0.9738173240163878, 0.9377166459078401, null], \"y\": [0.0, 1.0, null, 0.9476346480327754, 0.8776659754484841, null, 0.9476346480327754, 0.9256934811496907, null], \"hoverinfo\": \"none\", \"mode\": \"lines\", \"line\": {\"width\": 2, \"color\": \"rgb(0, 0, 0)\"}}, {\"x\": [0.5, 1.0, null, 0.9621212121212122, 0.9288794484132434, null, 0.9621212121212122, 0.9288794484132434, null], \"y\": [0.0, 0.0, null, 0.0, -0.03474098105827558, null, 0.0, 0.03474098105827558, null], \"hoverinfo\": \"none\", \"mode\": \"lines\", \"line\": {\"width\": 2, \"color\": \"rgb(0, 0, 0)\"}}, {\"x\": [1.0, 0.0, null, 0.03664774299318793, 0.07340128670201525, null, 0.03664774299318793, 0.06421703965128427, null], \"y\": [0.0, 0.5, null, 0.481676128503406, 0.4992073320037643, null, 0.481676128503406, 0.4319835048195859, null], \"hoverinfo\": \"none\", \"mode\": \"lines\", \"line\": {\"width\": 2, \"color\": \"rgb(0, 0, 0)\"}}, {\"x\": [0.9924242424242424, 0.9924242424242424, null, 0.9924242424242424, 0.9742641841437802, null], \"y\": [0.0, 1.0, null, 0.927536231884058, 0.8639432926166397, null], \"hoverinfo\": \"none\", \"mode\": \"lines\", \"line\": {\"width\": 2, \"color\": \"rgb(0, 0, 0)\"}}, {\"x\": [0.0], \"y\": [0.5], \"text\": [\"0\"], \"textposition\": \"middle center\", \"hoverinfo\": \"none\", \"mode\": \"markers+text\", \"marker\": {\"size\": 20, \"color\": \"rgb(0, 0, 255)\", \"line\": {\"width\": 2, \"color\": \"rgb(0, 0, 0)\"}}, \"textfont\": {\"color\": \"rgb(255, 255, 255)\"}}, {\"x\": [0.5], \"y\": [1.0], \"text\": [\"8\"], \"textposition\": \"middle center\", \"hoverinfo\": \"none\", \"mode\": \"markers+text\", \"marker\": {\"size\": 20, \"color\": \"rgb(255, 255, 255)\", \"line\": {\"width\": 2, \"color\": \"rgb(0, 0, 0)\"}}, \"textfont\": {\"color\": \"rgb(0, 0, 0)\"}}, {\"x\": [1.0], \"y\": [1.0], \"text\": [\"14\"], \"textposition\": \"middle center\", \"hoverinfo\": \"none\", \"mode\": \"markers+text\", \"marker\": {\"size\": 20, \"color\": \"rgb(255, 255, 255)\", \"line\": {\"width\": 2, \"color\": \"rgb(0, 0, 0)\"}}, \"textfont\": {\"color\": \"rgb(0, 0, 0)\"}}, {\"x\": [0.5], \"y\": [0.0], \"text\": [\"5\"], \"textposition\": \"middle center\", \"hoverinfo\": \"none\", \"mode\": \"markers+text\", \"marker\": {\"size\": 20, \"color\": \"rgb(0, 0, 255)\", \"line\": {\"width\": 2, \"color\": \"rgb(0, 0, 0)\"}}, \"textfont\": {\"color\": \"rgb(255, 255, 255)\"}}, {\"x\": [1.0], \"y\": [0.0], \"text\": [\"7\"], \"textposition\": \"middle center\", \"hoverinfo\": \"none\", \"mode\": \"markers+text\", \"marker\": {\"size\": 20, \"color\": \"rgb(255, 255, 255)\", \"line\": {\"width\": 2, \"color\": \"rgb(0, 0, 0)\"}}, \"textfont\": {\"color\": \"rgb(0, 0, 0)\"}}], \"name\": 14}, {\"data\": [{\"x\": [0.0, 0.5, null, 0.46643085439538495, 0.44538388103556675, null, 0.46643085439538495, 0.4285584341548651, null], \"y\": [0.5, 1.0, null, 0.966430854395385, 0.906182816233176, null, 0.966430854395385, 0.967759498957256, null], \"hoverinfo\": \"none\", \"mode\": \"lines\", \"line\": {\"width\": 2, \"color\": \"rgb(0, 0, 0)\"}}, {\"x\": [0.0, 0.5, null, 0.46643085439538495, 0.4285584341548651, null, 0.46643085439538495, 0.44538388103556675, null], \"y\": [0.5, 0.0, null, 0.03356914560461503, 0.032240501042743994, null, 0.03356914560461503, 0.09381718376682407, null], \"hoverinfo\": \"none\", \"mode\": \"lines\", \"line\": {\"width\": 2, \"color\": \"rgb(0, 0, 0)\"}}, {\"x\": [0.5, 1.0, null, 0.9621212121212122, 0.9288794484132434, null, 0.9621212121212122, 0.9288794484132434, null], \"y\": [1.0, 1.0, null, 1.0, 0.9652590189417244, null, 1.0, 1.0347409810582755, null], \"hoverinfo\": \"none\", \"mode\": \"lines\", \"line\": {\"width\": 2, \"color\": \"rgb(0, 0, 0)\"}}, {\"x\": [0.5075757575757576, 0.5075757575757576, null, 0.5075757575757576, 0.5257358158562198, null], \"y\": [1.0, 0.0, null, 0.07246376811594203, 0.13605670738336034, null], \"hoverinfo\": \"none\", \"mode\": \"lines\", \"line\": {\"width\": 2, \"color\": \"rgb(0, 0, 0)\"}}, {\"x\": [1.0075757575757576, 1.0075757575757576, null, 1.0075757575757576, 1.0257358158562198, null], \"y\": [1.0, 0.0, null, 0.07246376811594203, 0.13605670738336034, null], \"hoverinfo\": \"none\", \"mode\": \"lines\", \"line\": {\"width\": 2, \"color\": \"rgb(0, 0, 0)\"}}, {\"x\": [0.49242424242424243, 0.49242424242424243, null, 0.49242424242424243, 0.4742641841437802, null], \"y\": [0.0, 1.0, null, 0.927536231884058, 0.8639432926166397, null], \"hoverinfo\": \"none\", \"mode\": \"lines\", \"line\": {\"width\": 2, \"color\": \"rgb(0, 0, 0)\"}}, {\"x\": [0.5, 1.0, null, 0.9738173240163878, 0.9639630823912474, null, 0.9738173240163878, 0.9377166459078401, null], \"y\": [0.0, 1.0, null, 0.9476346480327754, 0.8776659754484841, null, 0.9476346480327754, 0.9256934811496907, null], \"hoverinfo\": \"none\", \"mode\": \"lines\", \"line\": {\"width\": 2, \"color\": \"rgb(0, 0, 0)\"}}, {\"x\": [0.5, 1.0, null, 0.9621212121212122, 0.9288794484132434, null, 0.9621212121212122, 0.9288794484132434, null], \"y\": [0.0, 0.0, null, 0.0, -0.03474098105827558, null, 0.0, 0.03474098105827558, null], \"hoverinfo\": \"none\", \"mode\": \"lines\", \"line\": {\"width\": 2, \"color\": \"rgb(0, 0, 0)\"}}, {\"x\": [1.0, 0.0, null, 0.03664774299318793, 0.07340128670201525, null, 0.03664774299318793, 0.06421703965128427, null], \"y\": [0.0, 0.5, null, 0.481676128503406, 0.4992073320037643, null, 0.481676128503406, 0.4319835048195859, null], \"hoverinfo\": \"none\", \"mode\": \"lines\", \"line\": {\"width\": 2, \"color\": \"rgb(0, 0, 0)\"}}, {\"x\": [0.9924242424242424, 0.9924242424242424, null, 0.9924242424242424, 0.9742641841437802, null], \"y\": [0.0, 1.0, null, 0.927536231884058, 0.8639432926166397, null], \"hoverinfo\": \"none\", \"mode\": \"lines\", \"line\": {\"width\": 2, \"color\": \"rgb(0, 0, 0)\"}}, {\"x\": [0.0], \"y\": [0.5], \"text\": [\"0\"], \"textposition\": \"middle center\", \"hoverinfo\": \"none\", \"mode\": \"markers+text\", \"marker\": {\"size\": 20, \"color\": \"rgb(0, 0, 255)\", \"line\": {\"width\": 2, \"color\": \"rgb(0, 0, 0)\"}}, \"textfont\": {\"color\": \"rgb(255, 255, 255)\"}}, {\"x\": [0.5], \"y\": [1.0], \"text\": [\"8\"], \"textposition\": \"middle center\", \"hoverinfo\": \"none\", \"mode\": \"markers+text\", \"marker\": {\"size\": 20, \"color\": \"rgb(255, 255, 255)\", \"line\": {\"width\": 2, \"color\": \"rgb(0, 0, 0)\"}}, \"textfont\": {\"color\": \"rgb(0, 0, 0)\"}}, {\"x\": [1.0], \"y\": [1.0], \"text\": [\"14\"], \"textposition\": \"middle center\", \"hoverinfo\": \"none\", \"mode\": \"markers+text\", \"marker\": {\"size\": 20, \"color\": \"rgb(255, 255, 255)\", \"line\": {\"width\": 2, \"color\": \"rgb(0, 0, 0)\"}}, \"textfont\": {\"color\": \"rgb(0, 0, 0)\"}}, {\"x\": [0.5], \"y\": [0.0], \"text\": [\"5\"], \"textposition\": \"middle center\", \"hoverinfo\": \"none\", \"mode\": \"markers+text\", \"marker\": {\"size\": 20, \"color\": \"rgb(0, 0, 255)\", \"line\": {\"width\": 2, \"color\": \"rgb(0, 0, 0)\"}}, \"textfont\": {\"color\": \"rgb(255, 255, 255)\"}}, {\"x\": [1.0], \"y\": [0.0], \"text\": [\"7\"], \"textposition\": \"middle center\", \"hoverinfo\": \"none\", \"mode\": \"markers+text\", \"marker\": {\"size\": 20, \"color\": \"rgb(0, 255, 0)\", \"line\": {\"width\": 2, \"color\": \"rgb(0, 0, 0)\"}}, \"textfont\": {\"color\": \"rgb(0, 0, 0)\"}}], \"name\": 15}, {\"data\": [{\"x\": [0.0, 0.5, null, 0.46643085439538495, 0.44538388103556675, null, 0.46643085439538495, 0.4285584341548651, null], \"y\": [0.5, 1.0, null, 0.966430854395385, 0.906182816233176, null, 0.966430854395385, 0.967759498957256, null], \"hoverinfo\": \"none\", \"mode\": \"lines\", \"line\": {\"width\": 2, \"color\": \"rgb(0, 0, 0)\"}}, {\"x\": [0.0, 0.5, null, 0.46643085439538495, 0.4285584341548651, null, 0.46643085439538495, 0.44538388103556675, null], \"y\": [0.5, 0.0, null, 0.03356914560461503, 0.032240501042743994, null, 0.03356914560461503, 0.09381718376682407, null], \"hoverinfo\": \"none\", \"mode\": \"lines\", \"line\": {\"width\": 2, \"color\": \"rgb(0, 0, 0)\"}}, {\"x\": [0.5, 1.0, null, 0.9621212121212122, 0.9288794484132434, null, 0.9621212121212122, 0.9288794484132434, null], \"y\": [1.0, 1.0, null, 1.0, 0.9652590189417244, null, 1.0, 1.0347409810582755, null], \"hoverinfo\": \"none\", \"mode\": \"lines\", \"line\": {\"width\": 2, \"color\": \"rgb(0, 0, 0)\"}}, {\"x\": [0.5075757575757576, 0.5075757575757576, null, 0.5075757575757576, 0.5257358158562198, null], \"y\": [1.0, 0.0, null, 0.07246376811594203, 0.13605670738336034, null], \"hoverinfo\": \"none\", \"mode\": \"lines\", \"line\": {\"width\": 2, \"color\": \"rgb(0, 0, 0)\"}}, {\"x\": [1.0075757575757576, 1.0075757575757576, null, 1.0075757575757576, 1.0257358158562198, null], \"y\": [1.0, 0.0, null, 0.07246376811594203, 0.13605670738336034, null], \"hoverinfo\": \"none\", \"mode\": \"lines\", \"line\": {\"width\": 2, \"color\": \"rgb(0, 0, 0)\"}}, {\"x\": [0.49242424242424243, 0.49242424242424243, null, 0.49242424242424243, 0.4742641841437802, null], \"y\": [0.0, 1.0, null, 0.927536231884058, 0.8639432926166397, null], \"hoverinfo\": \"none\", \"mode\": \"lines\", \"line\": {\"width\": 2, \"color\": \"rgb(0, 0, 0)\"}}, {\"x\": [0.5, 1.0, null, 0.9738173240163878, 0.9639630823912474, null, 0.9738173240163878, 0.9377166459078401, null], \"y\": [0.0, 1.0, null, 0.9476346480327754, 0.8776659754484841, null, 0.9476346480327754, 0.9256934811496907, null], \"hoverinfo\": \"none\", \"mode\": \"lines\", \"line\": {\"width\": 2, \"color\": \"rgb(0, 0, 0)\"}}, {\"x\": [0.5, 1.0, null, 0.9621212121212122, 0.9288794484132434, null, 0.9621212121212122, 0.9288794484132434, null], \"y\": [0.0, 0.0, null, 0.0, -0.03474098105827558, null, 0.0, 0.03474098105827558, null], \"hoverinfo\": \"none\", \"mode\": \"lines\", \"line\": {\"width\": 2, \"color\": \"rgb(0, 0, 0)\"}}, {\"x\": [1.0, 0.0, null, 0.03664774299318793, 0.07340128670201525, null, 0.03664774299318793, 0.06421703965128427, null], \"y\": [0.0, 0.5, null, 0.481676128503406, 0.4992073320037643, null, 0.481676128503406, 0.4319835048195859, null], \"hoverinfo\": \"none\", \"mode\": \"lines\", \"line\": {\"width\": 2, \"color\": \"rgb(255, 0, 0)\"}}, {\"x\": [0.9924242424242424, 0.9924242424242424, null, 0.9924242424242424, 0.9742641841437802, null], \"y\": [0.0, 1.0, null, 0.927536231884058, 0.8639432926166397, null], \"hoverinfo\": \"none\", \"mode\": \"lines\", \"line\": {\"width\": 2, \"color\": \"rgb(0, 0, 0)\"}}, {\"x\": [0.0], \"y\": [0.5], \"text\": [\"0\"], \"textposition\": \"middle center\", \"hoverinfo\": \"none\", \"mode\": \"markers+text\", \"marker\": {\"size\": 20, \"color\": \"rgb(0, 0, 255)\", \"line\": {\"width\": 2, \"color\": \"rgb(0, 0, 0)\"}}, \"textfont\": {\"color\": \"rgb(255, 255, 255)\"}}, {\"x\": [0.5], \"y\": [1.0], \"text\": [\"8\"], \"textposition\": \"middle center\", \"hoverinfo\": \"none\", \"mode\": \"markers+text\", \"marker\": {\"size\": 20, \"color\": \"rgb(255, 255, 255)\", \"line\": {\"width\": 2, \"color\": \"rgb(0, 0, 0)\"}}, \"textfont\": {\"color\": \"rgb(0, 0, 0)\"}}, {\"x\": [1.0], \"y\": [1.0], \"text\": [\"14\"], \"textposition\": \"middle center\", \"hoverinfo\": \"none\", \"mode\": \"markers+text\", \"marker\": {\"size\": 20, \"color\": \"rgb(255, 255, 255)\", \"line\": {\"width\": 2, \"color\": \"rgb(0, 0, 0)\"}}, \"textfont\": {\"color\": \"rgb(0, 0, 0)\"}}, {\"x\": [0.5], \"y\": [0.0], \"text\": [\"5\"], \"textposition\": \"middle center\", \"hoverinfo\": \"none\", \"mode\": \"markers+text\", \"marker\": {\"size\": 20, \"color\": \"rgb(0, 0, 255)\", \"line\": {\"width\": 2, \"color\": \"rgb(0, 0, 0)\"}}, \"textfont\": {\"color\": \"rgb(255, 255, 255)\"}}, {\"x\": [1.0], \"y\": [0.0], \"text\": [\"7\"], \"textposition\": \"middle center\", \"hoverinfo\": \"none\", \"mode\": \"markers+text\", \"marker\": {\"size\": 20, \"color\": \"rgb(0, 255, 0)\", \"line\": {\"width\": 2, \"color\": \"rgb(0, 0, 0)\"}}, \"textfont\": {\"color\": \"rgb(0, 0, 0)\"}}], \"name\": 16}, {\"data\": [{\"x\": [0.0, 0.5, null, 0.46643085439538495, 0.44538388103556675, null, 0.46643085439538495, 0.4285584341548651, null], \"y\": [0.5, 1.0, null, 0.966430854395385, 0.906182816233176, null, 0.966430854395385, 0.967759498957256, null], \"hoverinfo\": \"none\", \"mode\": \"lines\", \"line\": {\"width\": 2, \"color\": \"rgb(0, 0, 0)\"}}, {\"x\": [0.0, 0.5, null, 0.46643085439538495, 0.4285584341548651, null, 0.46643085439538495, 0.44538388103556675, null], \"y\": [0.5, 0.0, null, 0.03356914560461503, 0.032240501042743994, null, 0.03356914560461503, 0.09381718376682407, null], \"hoverinfo\": \"none\", \"mode\": \"lines\", \"line\": {\"width\": 2, \"color\": \"rgb(0, 0, 0)\"}}, {\"x\": [0.5, 1.0, null, 0.9621212121212122, 0.9288794484132434, null, 0.9621212121212122, 0.9288794484132434, null], \"y\": [1.0, 1.0, null, 1.0, 0.9652590189417244, null, 1.0, 1.0347409810582755, null], \"hoverinfo\": \"none\", \"mode\": \"lines\", \"line\": {\"width\": 2, \"color\": \"rgb(0, 0, 0)\"}}, {\"x\": [0.5075757575757576, 0.5075757575757576, null, 0.5075757575757576, 0.5257358158562198, null], \"y\": [1.0, 0.0, null, 0.07246376811594203, 0.13605670738336034, null], \"hoverinfo\": \"none\", \"mode\": \"lines\", \"line\": {\"width\": 2, \"color\": \"rgb(0, 0, 0)\"}}, {\"x\": [1.0075757575757576, 1.0075757575757576, null, 1.0075757575757576, 1.0257358158562198, null], \"y\": [1.0, 0.0, null, 0.07246376811594203, 0.13605670738336034, null], \"hoverinfo\": \"none\", \"mode\": \"lines\", \"line\": {\"width\": 2, \"color\": \"rgb(0, 0, 0)\"}}, {\"x\": [0.49242424242424243, 0.49242424242424243, null, 0.49242424242424243, 0.4742641841437802, null], \"y\": [0.0, 1.0, null, 0.927536231884058, 0.8639432926166397, null], \"hoverinfo\": \"none\", \"mode\": \"lines\", \"line\": {\"width\": 2, \"color\": \"rgb(0, 0, 0)\"}}, {\"x\": [0.5, 1.0, null, 0.9738173240163878, 0.9639630823912474, null, 0.9738173240163878, 0.9377166459078401, null], \"y\": [0.0, 1.0, null, 0.9476346480327754, 0.8776659754484841, null, 0.9476346480327754, 0.9256934811496907, null], \"hoverinfo\": \"none\", \"mode\": \"lines\", \"line\": {\"width\": 2, \"color\": \"rgb(0, 0, 0)\"}}, {\"x\": [0.5, 1.0, null, 0.9621212121212122, 0.9288794484132434, null, 0.9621212121212122, 0.9288794484132434, null], \"y\": [0.0, 0.0, null, 0.0, -0.03474098105827558, null, 0.0, 0.03474098105827558, null], \"hoverinfo\": \"none\", \"mode\": \"lines\", \"line\": {\"width\": 2, \"color\": \"rgb(0, 0, 0)\"}}, {\"x\": [1.0, 0.0, null, 0.03664774299318793, 0.07340128670201525, null, 0.03664774299318793, 0.06421703965128427, null], \"y\": [0.0, 0.5, null, 0.481676128503406, 0.4992073320037643, null, 0.481676128503406, 0.4319835048195859, null], \"hoverinfo\": \"none\", \"mode\": \"lines\", \"line\": {\"width\": 2, \"color\": \"rgb(0, 0, 0)\"}}, {\"x\": [0.9924242424242424, 0.9924242424242424, null, 0.9924242424242424, 0.9742641841437802, null], \"y\": [0.0, 1.0, null, 0.927536231884058, 0.8639432926166397, null], \"hoverinfo\": \"none\", \"mode\": \"lines\", \"line\": {\"width\": 2, \"color\": \"rgb(0, 0, 0)\"}}, {\"x\": [0.0], \"y\": [0.5], \"text\": [\"0\"], \"textposition\": \"middle center\", \"hoverinfo\": \"none\", \"mode\": \"markers+text\", \"marker\": {\"size\": 20, \"color\": \"rgb(0, 0, 255)\", \"line\": {\"width\": 2, \"color\": \"rgb(0, 0, 0)\"}}, \"textfont\": {\"color\": \"rgb(255, 255, 255)\"}}, {\"x\": [0.5], \"y\": [1.0], \"text\": [\"8\"], \"textposition\": \"middle center\", \"hoverinfo\": \"none\", \"mode\": \"markers+text\", \"marker\": {\"size\": 20, \"color\": \"rgb(255, 255, 255)\", \"line\": {\"width\": 2, \"color\": \"rgb(0, 0, 0)\"}}, \"textfont\": {\"color\": \"rgb(0, 0, 0)\"}}, {\"x\": [1.0], \"y\": [1.0], \"text\": [\"14\"], \"textposition\": \"middle center\", \"hoverinfo\": \"none\", \"mode\": \"markers+text\", \"marker\": {\"size\": 20, \"color\": \"rgb(255, 255, 255)\", \"line\": {\"width\": 2, \"color\": \"rgb(0, 0, 0)\"}}, \"textfont\": {\"color\": \"rgb(0, 0, 0)\"}}, {\"x\": [0.5], \"y\": [0.0], \"text\": [\"5\"], \"textposition\": \"middle center\", \"hoverinfo\": \"none\", \"mode\": \"markers+text\", \"marker\": {\"size\": 20, \"color\": \"rgb(0, 0, 255)\", \"line\": {\"width\": 2, \"color\": \"rgb(0, 0, 0)\"}}, \"textfont\": {\"color\": \"rgb(255, 255, 255)\"}}, {\"x\": [1.0], \"y\": [0.0], \"text\": [\"7\"], \"textposition\": \"middle center\", \"hoverinfo\": \"none\", \"mode\": \"markers+text\", \"marker\": {\"size\": 20, \"color\": \"rgb(0, 255, 0)\", \"line\": {\"width\": 2, \"color\": \"rgb(0, 0, 0)\"}}, \"textfont\": {\"color\": \"rgb(0, 0, 0)\"}}], \"name\": 17}, {\"data\": [{\"x\": [0.0, 0.5, null, 0.46643085439538495, 0.44538388103556675, null, 0.46643085439538495, 0.4285584341548651, null], \"y\": [0.5, 1.0, null, 0.966430854395385, 0.906182816233176, null, 0.966430854395385, 0.967759498957256, null], \"hoverinfo\": \"none\", \"mode\": \"lines\", \"line\": {\"width\": 2, \"color\": \"rgb(0, 0, 0)\"}}, {\"x\": [0.0, 0.5, null, 0.46643085439538495, 0.4285584341548651, null, 0.46643085439538495, 0.44538388103556675, null], \"y\": [0.5, 0.0, null, 0.03356914560461503, 0.032240501042743994, null, 0.03356914560461503, 0.09381718376682407, null], \"hoverinfo\": \"none\", \"mode\": \"lines\", \"line\": {\"width\": 2, \"color\": \"rgb(0, 0, 0)\"}}, {\"x\": [0.5, 1.0, null, 0.9621212121212122, 0.9288794484132434, null, 0.9621212121212122, 0.9288794484132434, null], \"y\": [1.0, 1.0, null, 1.0, 0.9652590189417244, null, 1.0, 1.0347409810582755, null], \"hoverinfo\": \"none\", \"mode\": \"lines\", \"line\": {\"width\": 2, \"color\": \"rgb(0, 0, 0)\"}}, {\"x\": [0.5075757575757576, 0.5075757575757576, null, 0.5075757575757576, 0.5257358158562198, null], \"y\": [1.0, 0.0, null, 0.07246376811594203, 0.13605670738336034, null], \"hoverinfo\": \"none\", \"mode\": \"lines\", \"line\": {\"width\": 2, \"color\": \"rgb(0, 0, 0)\"}}, {\"x\": [1.0075757575757576, 1.0075757575757576, null, 1.0075757575757576, 1.0257358158562198, null], \"y\": [1.0, 0.0, null, 0.07246376811594203, 0.13605670738336034, null], \"hoverinfo\": \"none\", \"mode\": \"lines\", \"line\": {\"width\": 2, \"color\": \"rgb(0, 0, 0)\"}}, {\"x\": [0.49242424242424243, 0.49242424242424243, null, 0.49242424242424243, 0.4742641841437802, null], \"y\": [0.0, 1.0, null, 0.927536231884058, 0.8639432926166397, null], \"hoverinfo\": \"none\", \"mode\": \"lines\", \"line\": {\"width\": 2, \"color\": \"rgb(0, 0, 0)\"}}, {\"x\": [0.5, 1.0, null, 0.9738173240163878, 0.9639630823912474, null, 0.9738173240163878, 0.9377166459078401, null], \"y\": [0.0, 1.0, null, 0.9476346480327754, 0.8776659754484841, null, 0.9476346480327754, 0.9256934811496907, null], \"hoverinfo\": \"none\", \"mode\": \"lines\", \"line\": {\"width\": 2, \"color\": \"rgb(0, 0, 0)\"}}, {\"x\": [0.5, 1.0, null, 0.9621212121212122, 0.9288794484132434, null, 0.9621212121212122, 0.9288794484132434, null], \"y\": [0.0, 0.0, null, 0.0, -0.03474098105827558, null, 0.0, 0.03474098105827558, null], \"hoverinfo\": \"none\", \"mode\": \"lines\", \"line\": {\"width\": 2, \"color\": \"rgb(0, 0, 0)\"}}, {\"x\": [1.0, 0.0, null, 0.03664774299318793, 0.07340128670201525, null, 0.03664774299318793, 0.06421703965128427, null], \"y\": [0.0, 0.5, null, 0.481676128503406, 0.4992073320037643, null, 0.481676128503406, 0.4319835048195859, null], \"hoverinfo\": \"none\", \"mode\": \"lines\", \"line\": {\"width\": 2, \"color\": \"rgb(0, 0, 0)\"}}, {\"x\": [0.9924242424242424, 0.9924242424242424, null, 0.9924242424242424, 0.9742641841437802, null], \"y\": [0.0, 1.0, null, 0.927536231884058, 0.8639432926166397, null], \"hoverinfo\": \"none\", \"mode\": \"lines\", \"line\": {\"width\": 2, \"color\": \"rgb(255, 0, 0)\"}}, {\"x\": [0.0], \"y\": [0.5], \"text\": [\"0\"], \"textposition\": \"middle center\", \"hoverinfo\": \"none\", \"mode\": \"markers+text\", \"marker\": {\"size\": 20, \"color\": \"rgb(0, 0, 255)\", \"line\": {\"width\": 2, \"color\": \"rgb(0, 0, 0)\"}}, \"textfont\": {\"color\": \"rgb(255, 255, 255)\"}}, {\"x\": [0.5], \"y\": [1.0], \"text\": [\"8\"], \"textposition\": \"middle center\", \"hoverinfo\": \"none\", \"mode\": \"markers+text\", \"marker\": {\"size\": 20, \"color\": \"rgb(255, 255, 255)\", \"line\": {\"width\": 2, \"color\": \"rgb(0, 0, 0)\"}}, \"textfont\": {\"color\": \"rgb(0, 0, 0)\"}}, {\"x\": [1.0], \"y\": [1.0], \"text\": [\"14\"], \"textposition\": \"middle center\", \"hoverinfo\": \"none\", \"mode\": \"markers+text\", \"marker\": {\"size\": 20, \"color\": \"rgb(255, 255, 255)\", \"line\": {\"width\": 2, \"color\": \"rgb(0, 0, 0)\"}}, \"textfont\": {\"color\": \"rgb(0, 0, 0)\"}}, {\"x\": [0.5], \"y\": [0.0], \"text\": [\"5\"], \"textposition\": \"middle center\", \"hoverinfo\": \"none\", \"mode\": \"markers+text\", \"marker\": {\"size\": 20, \"color\": \"rgb(0, 0, 255)\", \"line\": {\"width\": 2, \"color\": \"rgb(0, 0, 0)\"}}, \"textfont\": {\"color\": \"rgb(255, 255, 255)\"}}, {\"x\": [1.0], \"y\": [0.0], \"text\": [\"7\"], \"textposition\": \"middle center\", \"hoverinfo\": \"none\", \"mode\": \"markers+text\", \"marker\": {\"size\": 20, \"color\": \"rgb(0, 255, 0)\", \"line\": {\"width\": 2, \"color\": \"rgb(0, 0, 0)\"}}, \"textfont\": {\"color\": \"rgb(0, 0, 0)\"}}], \"name\": 18}, {\"data\": [{\"x\": [0.0, 0.5, null, 0.46643085439538495, 0.44538388103556675, null, 0.46643085439538495, 0.4285584341548651, null], \"y\": [0.5, 1.0, null, 0.966430854395385, 0.906182816233176, null, 0.966430854395385, 0.967759498957256, null], \"hoverinfo\": \"none\", \"mode\": \"lines\", \"line\": {\"width\": 2, \"color\": \"rgb(0, 0, 0)\"}}, {\"x\": [0.0, 0.5, null, 0.46643085439538495, 0.4285584341548651, null, 0.46643085439538495, 0.44538388103556675, null], \"y\": [0.5, 0.0, null, 0.03356914560461503, 0.032240501042743994, null, 0.03356914560461503, 0.09381718376682407, null], \"hoverinfo\": \"none\", \"mode\": \"lines\", \"line\": {\"width\": 2, \"color\": \"rgb(0, 0, 0)\"}}, {\"x\": [0.5, 1.0, null, 0.9621212121212122, 0.9288794484132434, null, 0.9621212121212122, 0.9288794484132434, null], \"y\": [1.0, 1.0, null, 1.0, 0.9652590189417244, null, 1.0, 1.0347409810582755, null], \"hoverinfo\": \"none\", \"mode\": \"lines\", \"line\": {\"width\": 2, \"color\": \"rgb(0, 0, 0)\"}}, {\"x\": [0.5075757575757576, 0.5075757575757576, null, 0.5075757575757576, 0.5257358158562198, null], \"y\": [1.0, 0.0, null, 0.07246376811594203, 0.13605670738336034, null], \"hoverinfo\": \"none\", \"mode\": \"lines\", \"line\": {\"width\": 2, \"color\": \"rgb(0, 0, 0)\"}}, {\"x\": [1.0075757575757576, 1.0075757575757576, null, 1.0075757575757576, 1.0257358158562198, null], \"y\": [1.0, 0.0, null, 0.07246376811594203, 0.13605670738336034, null], \"hoverinfo\": \"none\", \"mode\": \"lines\", \"line\": {\"width\": 2, \"color\": \"rgb(0, 0, 0)\"}}, {\"x\": [0.49242424242424243, 0.49242424242424243, null, 0.49242424242424243, 0.4742641841437802, null], \"y\": [0.0, 1.0, null, 0.927536231884058, 0.8639432926166397, null], \"hoverinfo\": \"none\", \"mode\": \"lines\", \"line\": {\"width\": 2, \"color\": \"rgb(0, 0, 0)\"}}, {\"x\": [0.5, 1.0, null, 0.9738173240163878, 0.9639630823912474, null, 0.9738173240163878, 0.9377166459078401, null], \"y\": [0.0, 1.0, null, 0.9476346480327754, 0.8776659754484841, null, 0.9476346480327754, 0.9256934811496907, null], \"hoverinfo\": \"none\", \"mode\": \"lines\", \"line\": {\"width\": 2, \"color\": \"rgb(0, 0, 0)\"}}, {\"x\": [0.5, 1.0, null, 0.9621212121212122, 0.9288794484132434, null, 0.9621212121212122, 0.9288794484132434, null], \"y\": [0.0, 0.0, null, 0.0, -0.03474098105827558, null, 0.0, 0.03474098105827558, null], \"hoverinfo\": \"none\", \"mode\": \"lines\", \"line\": {\"width\": 2, \"color\": \"rgb(0, 0, 0)\"}}, {\"x\": [1.0, 0.0, null, 0.03664774299318793, 0.07340128670201525, null, 0.03664774299318793, 0.06421703965128427, null], \"y\": [0.0, 0.5, null, 0.481676128503406, 0.4992073320037643, null, 0.481676128503406, 0.4319835048195859, null], \"hoverinfo\": \"none\", \"mode\": \"lines\", \"line\": {\"width\": 2, \"color\": \"rgb(0, 0, 0)\"}}, {\"x\": [0.9924242424242424, 0.9924242424242424, null, 0.9924242424242424, 0.9742641841437802, null], \"y\": [0.0, 1.0, null, 0.927536231884058, 0.8639432926166397, null], \"hoverinfo\": \"none\", \"mode\": \"lines\", \"line\": {\"width\": 2, \"color\": \"rgb(0, 0, 0)\"}}, {\"x\": [0.0], \"y\": [0.5], \"text\": [\"0\"], \"textposition\": \"middle center\", \"hoverinfo\": \"none\", \"mode\": \"markers+text\", \"marker\": {\"size\": 20, \"color\": \"rgb(0, 0, 255)\", \"line\": {\"width\": 2, \"color\": \"rgb(0, 0, 0)\"}}, \"textfont\": {\"color\": \"rgb(255, 255, 255)\"}}, {\"x\": [0.5], \"y\": [1.0], \"text\": [\"8\"], \"textposition\": \"middle center\", \"hoverinfo\": \"none\", \"mode\": \"markers+text\", \"marker\": {\"size\": 20, \"color\": \"rgb(255, 255, 255)\", \"line\": {\"width\": 2, \"color\": \"rgb(0, 0, 0)\"}}, \"textfont\": {\"color\": \"rgb(0, 0, 0)\"}}, {\"x\": [1.0], \"y\": [1.0], \"text\": [\"13\"], \"textposition\": \"middle center\", \"hoverinfo\": \"none\", \"mode\": \"markers+text\", \"marker\": {\"size\": 20, \"color\": \"rgb(255, 255, 255)\", \"line\": {\"width\": 2, \"color\": \"rgb(0, 0, 0)\"}}, \"textfont\": {\"color\": \"rgb(0, 0, 0)\"}}, {\"x\": [0.5], \"y\": [0.0], \"text\": [\"5\"], \"textposition\": \"middle center\", \"hoverinfo\": \"none\", \"mode\": \"markers+text\", \"marker\": {\"size\": 20, \"color\": \"rgb(0, 0, 255)\", \"line\": {\"width\": 2, \"color\": \"rgb(0, 0, 0)\"}}, \"textfont\": {\"color\": \"rgb(255, 255, 255)\"}}, {\"x\": [1.0], \"y\": [0.0], \"text\": [\"7\"], \"textposition\": \"middle center\", \"hoverinfo\": \"none\", \"mode\": \"markers+text\", \"marker\": {\"size\": 20, \"color\": \"rgb(0, 255, 0)\", \"line\": {\"width\": 2, \"color\": \"rgb(0, 0, 0)\"}}, \"textfont\": {\"color\": \"rgb(0, 0, 0)\"}}], \"name\": 19}, {\"data\": [{\"x\": [0.0, 0.5, null, 0.46643085439538495, 0.44538388103556675, null, 0.46643085439538495, 0.4285584341548651, null], \"y\": [0.5, 1.0, null, 0.966430854395385, 0.906182816233176, null, 0.966430854395385, 0.967759498957256, null], \"hoverinfo\": \"none\", \"mode\": \"lines\", \"line\": {\"width\": 2, \"color\": \"rgb(0, 0, 0)\"}}, {\"x\": [0.0, 0.5, null, 0.46643085439538495, 0.4285584341548651, null, 0.46643085439538495, 0.44538388103556675, null], \"y\": [0.5, 0.0, null, 0.03356914560461503, 0.032240501042743994, null, 0.03356914560461503, 0.09381718376682407, null], \"hoverinfo\": \"none\", \"mode\": \"lines\", \"line\": {\"width\": 2, \"color\": \"rgb(0, 0, 0)\"}}, {\"x\": [0.5, 1.0, null, 0.9621212121212122, 0.9288794484132434, null, 0.9621212121212122, 0.9288794484132434, null], \"y\": [1.0, 1.0, null, 1.0, 0.9652590189417244, null, 1.0, 1.0347409810582755, null], \"hoverinfo\": \"none\", \"mode\": \"lines\", \"line\": {\"width\": 2, \"color\": \"rgb(0, 0, 0)\"}}, {\"x\": [0.5075757575757576, 0.5075757575757576, null, 0.5075757575757576, 0.5257358158562198, null], \"y\": [1.0, 0.0, null, 0.07246376811594203, 0.13605670738336034, null], \"hoverinfo\": \"none\", \"mode\": \"lines\", \"line\": {\"width\": 2, \"color\": \"rgb(0, 0, 0)\"}}, {\"x\": [1.0075757575757576, 1.0075757575757576, null, 1.0075757575757576, 1.0257358158562198, null], \"y\": [1.0, 0.0, null, 0.07246376811594203, 0.13605670738336034, null], \"hoverinfo\": \"none\", \"mode\": \"lines\", \"line\": {\"width\": 2, \"color\": \"rgb(0, 0, 0)\"}}, {\"x\": [0.49242424242424243, 0.49242424242424243, null, 0.49242424242424243, 0.4742641841437802, null], \"y\": [0.0, 1.0, null, 0.927536231884058, 0.8639432926166397, null], \"hoverinfo\": \"none\", \"mode\": \"lines\", \"line\": {\"width\": 2, \"color\": \"rgb(0, 0, 0)\"}}, {\"x\": [0.5, 1.0, null, 0.9738173240163878, 0.9639630823912474, null, 0.9738173240163878, 0.9377166459078401, null], \"y\": [0.0, 1.0, null, 0.9476346480327754, 0.8776659754484841, null, 0.9476346480327754, 0.9256934811496907, null], \"hoverinfo\": \"none\", \"mode\": \"lines\", \"line\": {\"width\": 2, \"color\": \"rgb(0, 0, 0)\"}}, {\"x\": [0.5, 1.0, null, 0.9621212121212122, 0.9288794484132434, null, 0.9621212121212122, 0.9288794484132434, null], \"y\": [0.0, 0.0, null, 0.0, -0.03474098105827558, null, 0.0, 0.03474098105827558, null], \"hoverinfo\": \"none\", \"mode\": \"lines\", \"line\": {\"width\": 2, \"color\": \"rgb(0, 0, 0)\"}}, {\"x\": [1.0, 0.0, null, 0.03664774299318793, 0.07340128670201525, null, 0.03664774299318793, 0.06421703965128427, null], \"y\": [0.0, 0.5, null, 0.481676128503406, 0.4992073320037643, null, 0.481676128503406, 0.4319835048195859, null], \"hoverinfo\": \"none\", \"mode\": \"lines\", \"line\": {\"width\": 2, \"color\": \"rgb(0, 0, 0)\"}}, {\"x\": [0.9924242424242424, 0.9924242424242424, null, 0.9924242424242424, 0.9742641841437802, null], \"y\": [0.0, 1.0, null, 0.927536231884058, 0.8639432926166397, null], \"hoverinfo\": \"none\", \"mode\": \"lines\", \"line\": {\"width\": 2, \"color\": \"rgb(0, 0, 0)\"}}, {\"x\": [0.0], \"y\": [0.5], \"text\": [\"0\"], \"textposition\": \"middle center\", \"hoverinfo\": \"none\", \"mode\": \"markers+text\", \"marker\": {\"size\": 20, \"color\": \"rgb(0, 0, 255)\", \"line\": {\"width\": 2, \"color\": \"rgb(0, 0, 0)\"}}, \"textfont\": {\"color\": \"rgb(255, 255, 255)\"}}, {\"x\": [0.5], \"y\": [1.0], \"text\": [\"8\"], \"textposition\": \"middle center\", \"hoverinfo\": \"none\", \"mode\": \"markers+text\", \"marker\": {\"size\": 20, \"color\": \"rgb(255, 255, 255)\", \"line\": {\"width\": 2, \"color\": \"rgb(0, 0, 0)\"}}, \"textfont\": {\"color\": \"rgb(0, 0, 0)\"}}, {\"x\": [1.0], \"y\": [1.0], \"text\": [\"13\"], \"textposition\": \"middle center\", \"hoverinfo\": \"none\", \"mode\": \"markers+text\", \"marker\": {\"size\": 20, \"color\": \"rgb(255, 255, 255)\", \"line\": {\"width\": 2, \"color\": \"rgb(0, 0, 0)\"}}, \"textfont\": {\"color\": \"rgb(0, 0, 0)\"}}, {\"x\": [0.5], \"y\": [0.0], \"text\": [\"5\"], \"textposition\": \"middle center\", \"hoverinfo\": \"none\", \"mode\": \"markers+text\", \"marker\": {\"size\": 20, \"color\": \"rgb(0, 0, 255)\", \"line\": {\"width\": 2, \"color\": \"rgb(0, 0, 0)\"}}, \"textfont\": {\"color\": \"rgb(255, 255, 255)\"}}, {\"x\": [1.0], \"y\": [0.0], \"text\": [\"7\"], \"textposition\": \"middle center\", \"hoverinfo\": \"none\", \"mode\": \"markers+text\", \"marker\": {\"size\": 20, \"color\": \"rgb(0, 0, 255)\", \"line\": {\"width\": 2, \"color\": \"rgb(0, 0, 0)\"}}, \"textfont\": {\"color\": \"rgb(255, 255, 255)\"}}], \"name\": 20}, {\"data\": [{\"x\": [0.0, 0.5, null, 0.46643085439538495, 0.44538388103556675, null, 0.46643085439538495, 0.4285584341548651, null], \"y\": [0.5, 1.0, null, 0.966430854395385, 0.906182816233176, null, 0.966430854395385, 0.967759498957256, null], \"hoverinfo\": \"none\", \"mode\": \"lines\", \"line\": {\"width\": 2, \"color\": \"rgb(0, 0, 0)\"}}, {\"x\": [0.0, 0.5, null, 0.46643085439538495, 0.4285584341548651, null, 0.46643085439538495, 0.44538388103556675, null], \"y\": [0.5, 0.0, null, 0.03356914560461503, 0.032240501042743994, null, 0.03356914560461503, 0.09381718376682407, null], \"hoverinfo\": \"none\", \"mode\": \"lines\", \"line\": {\"width\": 2, \"color\": \"rgb(0, 0, 0)\"}}, {\"x\": [0.5, 1.0, null, 0.9621212121212122, 0.9288794484132434, null, 0.9621212121212122, 0.9288794484132434, null], \"y\": [1.0, 1.0, null, 1.0, 0.9652590189417244, null, 1.0, 1.0347409810582755, null], \"hoverinfo\": \"none\", \"mode\": \"lines\", \"line\": {\"width\": 2, \"color\": \"rgb(0, 0, 0)\"}}, {\"x\": [0.5075757575757576, 0.5075757575757576, null, 0.5075757575757576, 0.5257358158562198, null], \"y\": [1.0, 0.0, null, 0.07246376811594203, 0.13605670738336034, null], \"hoverinfo\": \"none\", \"mode\": \"lines\", \"line\": {\"width\": 2, \"color\": \"rgb(0, 0, 0)\"}}, {\"x\": [1.0075757575757576, 1.0075757575757576, null, 1.0075757575757576, 1.0257358158562198, null], \"y\": [1.0, 0.0, null, 0.07246376811594203, 0.13605670738336034, null], \"hoverinfo\": \"none\", \"mode\": \"lines\", \"line\": {\"width\": 2, \"color\": \"rgb(0, 0, 0)\"}}, {\"x\": [0.49242424242424243, 0.49242424242424243, null, 0.49242424242424243, 0.4742641841437802, null], \"y\": [0.0, 1.0, null, 0.927536231884058, 0.8639432926166397, null], \"hoverinfo\": \"none\", \"mode\": \"lines\", \"line\": {\"width\": 2, \"color\": \"rgb(0, 0, 0)\"}}, {\"x\": [0.5, 1.0, null, 0.9738173240163878, 0.9639630823912474, null, 0.9738173240163878, 0.9377166459078401, null], \"y\": [0.0, 1.0, null, 0.9476346480327754, 0.8776659754484841, null, 0.9476346480327754, 0.9256934811496907, null], \"hoverinfo\": \"none\", \"mode\": \"lines\", \"line\": {\"width\": 2, \"color\": \"rgb(0, 0, 0)\"}}, {\"x\": [0.5, 1.0, null, 0.9621212121212122, 0.9288794484132434, null, 0.9621212121212122, 0.9288794484132434, null], \"y\": [0.0, 0.0, null, 0.0, -0.03474098105827558, null, 0.0, 0.03474098105827558, null], \"hoverinfo\": \"none\", \"mode\": \"lines\", \"line\": {\"width\": 2, \"color\": \"rgb(0, 0, 0)\"}}, {\"x\": [1.0, 0.0, null, 0.03664774299318793, 0.07340128670201525, null, 0.03664774299318793, 0.06421703965128427, null], \"y\": [0.0, 0.5, null, 0.481676128503406, 0.4992073320037643, null, 0.481676128503406, 0.4319835048195859, null], \"hoverinfo\": \"none\", \"mode\": \"lines\", \"line\": {\"width\": 2, \"color\": \"rgb(0, 0, 0)\"}}, {\"x\": [0.9924242424242424, 0.9924242424242424, null, 0.9924242424242424, 0.9742641841437802, null], \"y\": [0.0, 1.0, null, 0.927536231884058, 0.8639432926166397, null], \"hoverinfo\": \"none\", \"mode\": \"lines\", \"line\": {\"width\": 2, \"color\": \"rgb(0, 0, 0)\"}}, {\"x\": [0.0], \"y\": [0.5], \"text\": [\"0\"], \"textposition\": \"middle center\", \"hoverinfo\": \"none\", \"mode\": \"markers+text\", \"marker\": {\"size\": 20, \"color\": \"rgb(0, 0, 255)\", \"line\": {\"width\": 2, \"color\": \"rgb(0, 0, 0)\"}}, \"textfont\": {\"color\": \"rgb(255, 255, 255)\"}}, {\"x\": [0.5], \"y\": [1.0], \"text\": [\"8\"], \"textposition\": \"middle center\", \"hoverinfo\": \"none\", \"mode\": \"markers+text\", \"marker\": {\"size\": 20, \"color\": \"rgb(0, 255, 0)\", \"line\": {\"width\": 2, \"color\": \"rgb(0, 0, 0)\"}}, \"textfont\": {\"color\": \"rgb(0, 0, 0)\"}}, {\"x\": [1.0], \"y\": [1.0], \"text\": [\"13\"], \"textposition\": \"middle center\", \"hoverinfo\": \"none\", \"mode\": \"markers+text\", \"marker\": {\"size\": 20, \"color\": \"rgb(255, 255, 255)\", \"line\": {\"width\": 2, \"color\": \"rgb(0, 0, 0)\"}}, \"textfont\": {\"color\": \"rgb(0, 0, 0)\"}}, {\"x\": [0.5], \"y\": [0.0], \"text\": [\"5\"], \"textposition\": \"middle center\", \"hoverinfo\": \"none\", \"mode\": \"markers+text\", \"marker\": {\"size\": 20, \"color\": \"rgb(0, 0, 255)\", \"line\": {\"width\": 2, \"color\": \"rgb(0, 0, 0)\"}}, \"textfont\": {\"color\": \"rgb(255, 255, 255)\"}}, {\"x\": [1.0], \"y\": [0.0], \"text\": [\"7\"], \"textposition\": \"middle center\", \"hoverinfo\": \"none\", \"mode\": \"markers+text\", \"marker\": {\"size\": 20, \"color\": \"rgb(0, 0, 255)\", \"line\": {\"width\": 2, \"color\": \"rgb(0, 0, 0)\"}}, \"textfont\": {\"color\": \"rgb(255, 255, 255)\"}}], \"name\": 21}, {\"data\": [{\"x\": [0.0, 0.5, null, 0.46643085439538495, 0.44538388103556675, null, 0.46643085439538495, 0.4285584341548651, null], \"y\": [0.5, 1.0, null, 0.966430854395385, 0.906182816233176, null, 0.966430854395385, 0.967759498957256, null], \"hoverinfo\": \"none\", \"mode\": \"lines\", \"line\": {\"width\": 2, \"color\": \"rgb(0, 0, 0)\"}}, {\"x\": [0.0, 0.5, null, 0.46643085439538495, 0.4285584341548651, null, 0.46643085439538495, 0.44538388103556675, null], \"y\": [0.5, 0.0, null, 0.03356914560461503, 0.032240501042743994, null, 0.03356914560461503, 0.09381718376682407, null], \"hoverinfo\": \"none\", \"mode\": \"lines\", \"line\": {\"width\": 2, \"color\": \"rgb(0, 0, 0)\"}}, {\"x\": [0.5, 1.0, null, 0.9621212121212122, 0.9288794484132434, null, 0.9621212121212122, 0.9288794484132434, null], \"y\": [1.0, 1.0, null, 1.0, 0.9652590189417244, null, 1.0, 1.0347409810582755, null], \"hoverinfo\": \"none\", \"mode\": \"lines\", \"line\": {\"width\": 2, \"color\": \"rgb(255, 0, 0)\"}}, {\"x\": [0.5075757575757576, 0.5075757575757576, null, 0.5075757575757576, 0.5257358158562198, null], \"y\": [1.0, 0.0, null, 0.07246376811594203, 0.13605670738336034, null], \"hoverinfo\": \"none\", \"mode\": \"lines\", \"line\": {\"width\": 2, \"color\": \"rgb(0, 0, 0)\"}}, {\"x\": [1.0075757575757576, 1.0075757575757576, null, 1.0075757575757576, 1.0257358158562198, null], \"y\": [1.0, 0.0, null, 0.07246376811594203, 0.13605670738336034, null], \"hoverinfo\": \"none\", \"mode\": \"lines\", \"line\": {\"width\": 2, \"color\": \"rgb(0, 0, 0)\"}}, {\"x\": [0.49242424242424243, 0.49242424242424243, null, 0.49242424242424243, 0.4742641841437802, null], \"y\": [0.0, 1.0, null, 0.927536231884058, 0.8639432926166397, null], \"hoverinfo\": \"none\", \"mode\": \"lines\", \"line\": {\"width\": 2, \"color\": \"rgb(0, 0, 0)\"}}, {\"x\": [0.5, 1.0, null, 0.9738173240163878, 0.9639630823912474, null, 0.9738173240163878, 0.9377166459078401, null], \"y\": [0.0, 1.0, null, 0.9476346480327754, 0.8776659754484841, null, 0.9476346480327754, 0.9256934811496907, null], \"hoverinfo\": \"none\", \"mode\": \"lines\", \"line\": {\"width\": 2, \"color\": \"rgb(0, 0, 0)\"}}, {\"x\": [0.5, 1.0, null, 0.9621212121212122, 0.9288794484132434, null, 0.9621212121212122, 0.9288794484132434, null], \"y\": [0.0, 0.0, null, 0.0, -0.03474098105827558, null, 0.0, 0.03474098105827558, null], \"hoverinfo\": \"none\", \"mode\": \"lines\", \"line\": {\"width\": 2, \"color\": \"rgb(0, 0, 0)\"}}, {\"x\": [1.0, 0.0, null, 0.03664774299318793, 0.07340128670201525, null, 0.03664774299318793, 0.06421703965128427, null], \"y\": [0.0, 0.5, null, 0.481676128503406, 0.4992073320037643, null, 0.481676128503406, 0.4319835048195859, null], \"hoverinfo\": \"none\", \"mode\": \"lines\", \"line\": {\"width\": 2, \"color\": \"rgb(0, 0, 0)\"}}, {\"x\": [0.9924242424242424, 0.9924242424242424, null, 0.9924242424242424, 0.9742641841437802, null], \"y\": [0.0, 1.0, null, 0.927536231884058, 0.8639432926166397, null], \"hoverinfo\": \"none\", \"mode\": \"lines\", \"line\": {\"width\": 2, \"color\": \"rgb(0, 0, 0)\"}}, {\"x\": [0.0], \"y\": [0.5], \"text\": [\"0\"], \"textposition\": \"middle center\", \"hoverinfo\": \"none\", \"mode\": \"markers+text\", \"marker\": {\"size\": 20, \"color\": \"rgb(0, 0, 255)\", \"line\": {\"width\": 2, \"color\": \"rgb(0, 0, 0)\"}}, \"textfont\": {\"color\": \"rgb(255, 255, 255)\"}}, {\"x\": [0.5], \"y\": [1.0], \"text\": [\"8\"], \"textposition\": \"middle center\", \"hoverinfo\": \"none\", \"mode\": \"markers+text\", \"marker\": {\"size\": 20, \"color\": \"rgb(0, 255, 0)\", \"line\": {\"width\": 2, \"color\": \"rgb(0, 0, 0)\"}}, \"textfont\": {\"color\": \"rgb(0, 0, 0)\"}}, {\"x\": [1.0], \"y\": [1.0], \"text\": [\"13\"], \"textposition\": \"middle center\", \"hoverinfo\": \"none\", \"mode\": \"markers+text\", \"marker\": {\"size\": 20, \"color\": \"rgb(255, 255, 255)\", \"line\": {\"width\": 2, \"color\": \"rgb(0, 0, 0)\"}}, \"textfont\": {\"color\": \"rgb(0, 0, 0)\"}}, {\"x\": [0.5], \"y\": [0.0], \"text\": [\"5\"], \"textposition\": \"middle center\", \"hoverinfo\": \"none\", \"mode\": \"markers+text\", \"marker\": {\"size\": 20, \"color\": \"rgb(0, 0, 255)\", \"line\": {\"width\": 2, \"color\": \"rgb(0, 0, 0)\"}}, \"textfont\": {\"color\": \"rgb(255, 255, 255)\"}}, {\"x\": [1.0], \"y\": [0.0], \"text\": [\"7\"], \"textposition\": \"middle center\", \"hoverinfo\": \"none\", \"mode\": \"markers+text\", \"marker\": {\"size\": 20, \"color\": \"rgb(0, 0, 255)\", \"line\": {\"width\": 2, \"color\": \"rgb(0, 0, 0)\"}}, \"textfont\": {\"color\": \"rgb(255, 255, 255)\"}}], \"name\": 22}, {\"data\": [{\"x\": [0.0, 0.5, null, 0.46643085439538495, 0.44538388103556675, null, 0.46643085439538495, 0.4285584341548651, null], \"y\": [0.5, 1.0, null, 0.966430854395385, 0.906182816233176, null, 0.966430854395385, 0.967759498957256, null], \"hoverinfo\": \"none\", \"mode\": \"lines\", \"line\": {\"width\": 2, \"color\": \"rgb(0, 0, 0)\"}}, {\"x\": [0.0, 0.5, null, 0.46643085439538495, 0.4285584341548651, null, 0.46643085439538495, 0.44538388103556675, null], \"y\": [0.5, 0.0, null, 0.03356914560461503, 0.032240501042743994, null, 0.03356914560461503, 0.09381718376682407, null], \"hoverinfo\": \"none\", \"mode\": \"lines\", \"line\": {\"width\": 2, \"color\": \"rgb(0, 0, 0)\"}}, {\"x\": [0.5, 1.0, null, 0.9621212121212122, 0.9288794484132434, null, 0.9621212121212122, 0.9288794484132434, null], \"y\": [1.0, 1.0, null, 1.0, 0.9652590189417244, null, 1.0, 1.0347409810582755, null], \"hoverinfo\": \"none\", \"mode\": \"lines\", \"line\": {\"width\": 2, \"color\": \"rgb(0, 0, 0)\"}}, {\"x\": [0.5075757575757576, 0.5075757575757576, null, 0.5075757575757576, 0.5257358158562198, null], \"y\": [1.0, 0.0, null, 0.07246376811594203, 0.13605670738336034, null], \"hoverinfo\": \"none\", \"mode\": \"lines\", \"line\": {\"width\": 2, \"color\": \"rgb(0, 0, 0)\"}}, {\"x\": [1.0075757575757576, 1.0075757575757576, null, 1.0075757575757576, 1.0257358158562198, null], \"y\": [1.0, 0.0, null, 0.07246376811594203, 0.13605670738336034, null], \"hoverinfo\": \"none\", \"mode\": \"lines\", \"line\": {\"width\": 2, \"color\": \"rgb(0, 0, 0)\"}}, {\"x\": [0.49242424242424243, 0.49242424242424243, null, 0.49242424242424243, 0.4742641841437802, null], \"y\": [0.0, 1.0, null, 0.927536231884058, 0.8639432926166397, null], \"hoverinfo\": \"none\", \"mode\": \"lines\", \"line\": {\"width\": 2, \"color\": \"rgb(0, 0, 0)\"}}, {\"x\": [0.5, 1.0, null, 0.9738173240163878, 0.9639630823912474, null, 0.9738173240163878, 0.9377166459078401, null], \"y\": [0.0, 1.0, null, 0.9476346480327754, 0.8776659754484841, null, 0.9476346480327754, 0.9256934811496907, null], \"hoverinfo\": \"none\", \"mode\": \"lines\", \"line\": {\"width\": 2, \"color\": \"rgb(0, 0, 0)\"}}, {\"x\": [0.5, 1.0, null, 0.9621212121212122, 0.9288794484132434, null, 0.9621212121212122, 0.9288794484132434, null], \"y\": [0.0, 0.0, null, 0.0, -0.03474098105827558, null, 0.0, 0.03474098105827558, null], \"hoverinfo\": \"none\", \"mode\": \"lines\", \"line\": {\"width\": 2, \"color\": \"rgb(0, 0, 0)\"}}, {\"x\": [1.0, 0.0, null, 0.03664774299318793, 0.07340128670201525, null, 0.03664774299318793, 0.06421703965128427, null], \"y\": [0.0, 0.5, null, 0.481676128503406, 0.4992073320037643, null, 0.481676128503406, 0.4319835048195859, null], \"hoverinfo\": \"none\", \"mode\": \"lines\", \"line\": {\"width\": 2, \"color\": \"rgb(0, 0, 0)\"}}, {\"x\": [0.9924242424242424, 0.9924242424242424, null, 0.9924242424242424, 0.9742641841437802, null], \"y\": [0.0, 1.0, null, 0.927536231884058, 0.8639432926166397, null], \"hoverinfo\": \"none\", \"mode\": \"lines\", \"line\": {\"width\": 2, \"color\": \"rgb(0, 0, 0)\"}}, {\"x\": [0.0], \"y\": [0.5], \"text\": [\"0\"], \"textposition\": \"middle center\", \"hoverinfo\": \"none\", \"mode\": \"markers+text\", \"marker\": {\"size\": 20, \"color\": \"rgb(0, 0, 255)\", \"line\": {\"width\": 2, \"color\": \"rgb(0, 0, 0)\"}}, \"textfont\": {\"color\": \"rgb(255, 255, 255)\"}}, {\"x\": [0.5], \"y\": [1.0], \"text\": [\"8\"], \"textposition\": \"middle center\", \"hoverinfo\": \"none\", \"mode\": \"markers+text\", \"marker\": {\"size\": 20, \"color\": \"rgb(0, 255, 0)\", \"line\": {\"width\": 2, \"color\": \"rgb(0, 0, 0)\"}}, \"textfont\": {\"color\": \"rgb(0, 0, 0)\"}}, {\"x\": [1.0], \"y\": [1.0], \"text\": [\"9\"], \"textposition\": \"middle center\", \"hoverinfo\": \"none\", \"mode\": \"markers+text\", \"marker\": {\"size\": 20, \"color\": \"rgb(255, 255, 255)\", \"line\": {\"width\": 2, \"color\": \"rgb(0, 0, 0)\"}}, \"textfont\": {\"color\": \"rgb(0, 0, 0)\"}}, {\"x\": [0.5], \"y\": [0.0], \"text\": [\"5\"], \"textposition\": \"middle center\", \"hoverinfo\": \"none\", \"mode\": \"markers+text\", \"marker\": {\"size\": 20, \"color\": \"rgb(0, 0, 255)\", \"line\": {\"width\": 2, \"color\": \"rgb(0, 0, 0)\"}}, \"textfont\": {\"color\": \"rgb(255, 255, 255)\"}}, {\"x\": [1.0], \"y\": [0.0], \"text\": [\"7\"], \"textposition\": \"middle center\", \"hoverinfo\": \"none\", \"mode\": \"markers+text\", \"marker\": {\"size\": 20, \"color\": \"rgb(0, 0, 255)\", \"line\": {\"width\": 2, \"color\": \"rgb(0, 0, 0)\"}}, \"textfont\": {\"color\": \"rgb(255, 255, 255)\"}}], \"name\": 23}, {\"data\": [{\"x\": [0.0, 0.5, null, 0.46643085439538495, 0.44538388103556675, null, 0.46643085439538495, 0.4285584341548651, null], \"y\": [0.5, 1.0, null, 0.966430854395385, 0.906182816233176, null, 0.966430854395385, 0.967759498957256, null], \"hoverinfo\": \"none\", \"mode\": \"lines\", \"line\": {\"width\": 2, \"color\": \"rgb(0, 0, 0)\"}}, {\"x\": [0.0, 0.5, null, 0.46643085439538495, 0.4285584341548651, null, 0.46643085439538495, 0.44538388103556675, null], \"y\": [0.5, 0.0, null, 0.03356914560461503, 0.032240501042743994, null, 0.03356914560461503, 0.09381718376682407, null], \"hoverinfo\": \"none\", \"mode\": \"lines\", \"line\": {\"width\": 2, \"color\": \"rgb(0, 0, 0)\"}}, {\"x\": [0.5, 1.0, null, 0.9621212121212122, 0.9288794484132434, null, 0.9621212121212122, 0.9288794484132434, null], \"y\": [1.0, 1.0, null, 1.0, 0.9652590189417244, null, 1.0, 1.0347409810582755, null], \"hoverinfo\": \"none\", \"mode\": \"lines\", \"line\": {\"width\": 2, \"color\": \"rgb(0, 0, 0)\"}}, {\"x\": [0.5075757575757576, 0.5075757575757576, null, 0.5075757575757576, 0.5257358158562198, null], \"y\": [1.0, 0.0, null, 0.07246376811594203, 0.13605670738336034, null], \"hoverinfo\": \"none\", \"mode\": \"lines\", \"line\": {\"width\": 2, \"color\": \"rgb(255, 0, 0)\"}}, {\"x\": [1.0075757575757576, 1.0075757575757576, null, 1.0075757575757576, 1.0257358158562198, null], \"y\": [1.0, 0.0, null, 0.07246376811594203, 0.13605670738336034, null], \"hoverinfo\": \"none\", \"mode\": \"lines\", \"line\": {\"width\": 2, \"color\": \"rgb(0, 0, 0)\"}}, {\"x\": [0.49242424242424243, 0.49242424242424243, null, 0.49242424242424243, 0.4742641841437802, null], \"y\": [0.0, 1.0, null, 0.927536231884058, 0.8639432926166397, null], \"hoverinfo\": \"none\", \"mode\": \"lines\", \"line\": {\"width\": 2, \"color\": \"rgb(0, 0, 0)\"}}, {\"x\": [0.5, 1.0, null, 0.9738173240163878, 0.9639630823912474, null, 0.9738173240163878, 0.9377166459078401, null], \"y\": [0.0, 1.0, null, 0.9476346480327754, 0.8776659754484841, null, 0.9476346480327754, 0.9256934811496907, null], \"hoverinfo\": \"none\", \"mode\": \"lines\", \"line\": {\"width\": 2, \"color\": \"rgb(0, 0, 0)\"}}, {\"x\": [0.5, 1.0, null, 0.9621212121212122, 0.9288794484132434, null, 0.9621212121212122, 0.9288794484132434, null], \"y\": [0.0, 0.0, null, 0.0, -0.03474098105827558, null, 0.0, 0.03474098105827558, null], \"hoverinfo\": \"none\", \"mode\": \"lines\", \"line\": {\"width\": 2, \"color\": \"rgb(0, 0, 0)\"}}, {\"x\": [1.0, 0.0, null, 0.03664774299318793, 0.07340128670201525, null, 0.03664774299318793, 0.06421703965128427, null], \"y\": [0.0, 0.5, null, 0.481676128503406, 0.4992073320037643, null, 0.481676128503406, 0.4319835048195859, null], \"hoverinfo\": \"none\", \"mode\": \"lines\", \"line\": {\"width\": 2, \"color\": \"rgb(0, 0, 0)\"}}, {\"x\": [0.9924242424242424, 0.9924242424242424, null, 0.9924242424242424, 0.9742641841437802, null], \"y\": [0.0, 1.0, null, 0.927536231884058, 0.8639432926166397, null], \"hoverinfo\": \"none\", \"mode\": \"lines\", \"line\": {\"width\": 2, \"color\": \"rgb(0, 0, 0)\"}}, {\"x\": [0.0], \"y\": [0.5], \"text\": [\"0\"], \"textposition\": \"middle center\", \"hoverinfo\": \"none\", \"mode\": \"markers+text\", \"marker\": {\"size\": 20, \"color\": \"rgb(0, 0, 255)\", \"line\": {\"width\": 2, \"color\": \"rgb(0, 0, 0)\"}}, \"textfont\": {\"color\": \"rgb(255, 255, 255)\"}}, {\"x\": [0.5], \"y\": [1.0], \"text\": [\"8\"], \"textposition\": \"middle center\", \"hoverinfo\": \"none\", \"mode\": \"markers+text\", \"marker\": {\"size\": 20, \"color\": \"rgb(0, 255, 0)\", \"line\": {\"width\": 2, \"color\": \"rgb(0, 0, 0)\"}}, \"textfont\": {\"color\": \"rgb(0, 0, 0)\"}}, {\"x\": [1.0], \"y\": [1.0], \"text\": [\"9\"], \"textposition\": \"middle center\", \"hoverinfo\": \"none\", \"mode\": \"markers+text\", \"marker\": {\"size\": 20, \"color\": \"rgb(255, 255, 255)\", \"line\": {\"width\": 2, \"color\": \"rgb(0, 0, 0)\"}}, \"textfont\": {\"color\": \"rgb(0, 0, 0)\"}}, {\"x\": [0.5], \"y\": [0.0], \"text\": [\"5\"], \"textposition\": \"middle center\", \"hoverinfo\": \"none\", \"mode\": \"markers+text\", \"marker\": {\"size\": 20, \"color\": \"rgb(0, 0, 255)\", \"line\": {\"width\": 2, \"color\": \"rgb(0, 0, 0)\"}}, \"textfont\": {\"color\": \"rgb(255, 255, 255)\"}}, {\"x\": [1.0], \"y\": [0.0], \"text\": [\"7\"], \"textposition\": \"middle center\", \"hoverinfo\": \"none\", \"mode\": \"markers+text\", \"marker\": {\"size\": 20, \"color\": \"rgb(0, 0, 255)\", \"line\": {\"width\": 2, \"color\": \"rgb(0, 0, 0)\"}}, \"textfont\": {\"color\": \"rgb(255, 255, 255)\"}}], \"name\": 24}, {\"data\": [{\"x\": [0.0, 0.5, null, 0.46643085439538495, 0.44538388103556675, null, 0.46643085439538495, 0.4285584341548651, null], \"y\": [0.5, 1.0, null, 0.966430854395385, 0.906182816233176, null, 0.966430854395385, 0.967759498957256, null], \"hoverinfo\": \"none\", \"mode\": \"lines\", \"line\": {\"width\": 2, \"color\": \"rgb(0, 0, 0)\"}}, {\"x\": [0.0, 0.5, null, 0.46643085439538495, 0.4285584341548651, null, 0.46643085439538495, 0.44538388103556675, null], \"y\": [0.5, 0.0, null, 0.03356914560461503, 0.032240501042743994, null, 0.03356914560461503, 0.09381718376682407, null], \"hoverinfo\": \"none\", \"mode\": \"lines\", \"line\": {\"width\": 2, \"color\": \"rgb(0, 0, 0)\"}}, {\"x\": [0.5, 1.0, null, 0.9621212121212122, 0.9288794484132434, null, 0.9621212121212122, 0.9288794484132434, null], \"y\": [1.0, 1.0, null, 1.0, 0.9652590189417244, null, 1.0, 1.0347409810582755, null], \"hoverinfo\": \"none\", \"mode\": \"lines\", \"line\": {\"width\": 2, \"color\": \"rgb(0, 0, 0)\"}}, {\"x\": [0.5075757575757576, 0.5075757575757576, null, 0.5075757575757576, 0.5257358158562198, null], \"y\": [1.0, 0.0, null, 0.07246376811594203, 0.13605670738336034, null], \"hoverinfo\": \"none\", \"mode\": \"lines\", \"line\": {\"width\": 2, \"color\": \"rgb(0, 0, 0)\"}}, {\"x\": [1.0075757575757576, 1.0075757575757576, null, 1.0075757575757576, 1.0257358158562198, null], \"y\": [1.0, 0.0, null, 0.07246376811594203, 0.13605670738336034, null], \"hoverinfo\": \"none\", \"mode\": \"lines\", \"line\": {\"width\": 2, \"color\": \"rgb(0, 0, 0)\"}}, {\"x\": [0.49242424242424243, 0.49242424242424243, null, 0.49242424242424243, 0.4742641841437802, null], \"y\": [0.0, 1.0, null, 0.927536231884058, 0.8639432926166397, null], \"hoverinfo\": \"none\", \"mode\": \"lines\", \"line\": {\"width\": 2, \"color\": \"rgb(0, 0, 0)\"}}, {\"x\": [0.5, 1.0, null, 0.9738173240163878, 0.9639630823912474, null, 0.9738173240163878, 0.9377166459078401, null], \"y\": [0.0, 1.0, null, 0.9476346480327754, 0.8776659754484841, null, 0.9476346480327754, 0.9256934811496907, null], \"hoverinfo\": \"none\", \"mode\": \"lines\", \"line\": {\"width\": 2, \"color\": \"rgb(0, 0, 0)\"}}, {\"x\": [0.5, 1.0, null, 0.9621212121212122, 0.9288794484132434, null, 0.9621212121212122, 0.9288794484132434, null], \"y\": [0.0, 0.0, null, 0.0, -0.03474098105827558, null, 0.0, 0.03474098105827558, null], \"hoverinfo\": \"none\", \"mode\": \"lines\", \"line\": {\"width\": 2, \"color\": \"rgb(0, 0, 0)\"}}, {\"x\": [1.0, 0.0, null, 0.03664774299318793, 0.07340128670201525, null, 0.03664774299318793, 0.06421703965128427, null], \"y\": [0.0, 0.5, null, 0.481676128503406, 0.4992073320037643, null, 0.481676128503406, 0.4319835048195859, null], \"hoverinfo\": \"none\", \"mode\": \"lines\", \"line\": {\"width\": 2, \"color\": \"rgb(0, 0, 0)\"}}, {\"x\": [0.9924242424242424, 0.9924242424242424, null, 0.9924242424242424, 0.9742641841437802, null], \"y\": [0.0, 1.0, null, 0.927536231884058, 0.8639432926166397, null], \"hoverinfo\": \"none\", \"mode\": \"lines\", \"line\": {\"width\": 2, \"color\": \"rgb(0, 0, 0)\"}}, {\"x\": [0.0], \"y\": [0.5], \"text\": [\"0\"], \"textposition\": \"middle center\", \"hoverinfo\": \"none\", \"mode\": \"markers+text\", \"marker\": {\"size\": 20, \"color\": \"rgb(0, 0, 255)\", \"line\": {\"width\": 2, \"color\": \"rgb(0, 0, 0)\"}}, \"textfont\": {\"color\": \"rgb(255, 255, 255)\"}}, {\"x\": [0.5], \"y\": [1.0], \"text\": [\"8\"], \"textposition\": \"middle center\", \"hoverinfo\": \"none\", \"mode\": \"markers+text\", \"marker\": {\"size\": 20, \"color\": \"rgb(0, 255, 0)\", \"line\": {\"width\": 2, \"color\": \"rgb(0, 0, 0)\"}}, \"textfont\": {\"color\": \"rgb(0, 0, 0)\"}}, {\"x\": [1.0], \"y\": [1.0], \"text\": [\"9\"], \"textposition\": \"middle center\", \"hoverinfo\": \"none\", \"mode\": \"markers+text\", \"marker\": {\"size\": 20, \"color\": \"rgb(255, 255, 255)\", \"line\": {\"width\": 2, \"color\": \"rgb(0, 0, 0)\"}}, \"textfont\": {\"color\": \"rgb(0, 0, 0)\"}}, {\"x\": [0.5], \"y\": [0.0], \"text\": [\"5\"], \"textposition\": \"middle center\", \"hoverinfo\": \"none\", \"mode\": \"markers+text\", \"marker\": {\"size\": 20, \"color\": \"rgb(0, 0, 255)\", \"line\": {\"width\": 2, \"color\": \"rgb(0, 0, 0)\"}}, \"textfont\": {\"color\": \"rgb(255, 255, 255)\"}}, {\"x\": [1.0], \"y\": [0.0], \"text\": [\"7\"], \"textposition\": \"middle center\", \"hoverinfo\": \"none\", \"mode\": \"markers+text\", \"marker\": {\"size\": 20, \"color\": \"rgb(0, 0, 255)\", \"line\": {\"width\": 2, \"color\": \"rgb(0, 0, 0)\"}}, \"textfont\": {\"color\": \"rgb(255, 255, 255)\"}}], \"name\": 25}, {\"data\": [{\"x\": [0.0, 0.5, null, 0.46643085439538495, 0.44538388103556675, null, 0.46643085439538495, 0.4285584341548651, null], \"y\": [0.5, 1.0, null, 0.966430854395385, 0.906182816233176, null, 0.966430854395385, 0.967759498957256, null], \"hoverinfo\": \"none\", \"mode\": \"lines\", \"line\": {\"width\": 2, \"color\": \"rgb(0, 0, 0)\"}}, {\"x\": [0.0, 0.5, null, 0.46643085439538495, 0.4285584341548651, null, 0.46643085439538495, 0.44538388103556675, null], \"y\": [0.5, 0.0, null, 0.03356914560461503, 0.032240501042743994, null, 0.03356914560461503, 0.09381718376682407, null], \"hoverinfo\": \"none\", \"mode\": \"lines\", \"line\": {\"width\": 2, \"color\": \"rgb(0, 0, 0)\"}}, {\"x\": [0.5, 1.0, null, 0.9621212121212122, 0.9288794484132434, null, 0.9621212121212122, 0.9288794484132434, null], \"y\": [1.0, 1.0, null, 1.0, 0.9652590189417244, null, 1.0, 1.0347409810582755, null], \"hoverinfo\": \"none\", \"mode\": \"lines\", \"line\": {\"width\": 2, \"color\": \"rgb(0, 0, 0)\"}}, {\"x\": [0.5075757575757576, 0.5075757575757576, null, 0.5075757575757576, 0.5257358158562198, null], \"y\": [1.0, 0.0, null, 0.07246376811594203, 0.13605670738336034, null], \"hoverinfo\": \"none\", \"mode\": \"lines\", \"line\": {\"width\": 2, \"color\": \"rgb(0, 0, 0)\"}}, {\"x\": [1.0075757575757576, 1.0075757575757576, null, 1.0075757575757576, 1.0257358158562198, null], \"y\": [1.0, 0.0, null, 0.07246376811594203, 0.13605670738336034, null], \"hoverinfo\": \"none\", \"mode\": \"lines\", \"line\": {\"width\": 2, \"color\": \"rgb(0, 0, 0)\"}}, {\"x\": [0.49242424242424243, 0.49242424242424243, null, 0.49242424242424243, 0.4742641841437802, null], \"y\": [0.0, 1.0, null, 0.927536231884058, 0.8639432926166397, null], \"hoverinfo\": \"none\", \"mode\": \"lines\", \"line\": {\"width\": 2, \"color\": \"rgb(0, 0, 0)\"}}, {\"x\": [0.5, 1.0, null, 0.9738173240163878, 0.9639630823912474, null, 0.9738173240163878, 0.9377166459078401, null], \"y\": [0.0, 1.0, null, 0.9476346480327754, 0.8776659754484841, null, 0.9476346480327754, 0.9256934811496907, null], \"hoverinfo\": \"none\", \"mode\": \"lines\", \"line\": {\"width\": 2, \"color\": \"rgb(0, 0, 0)\"}}, {\"x\": [0.5, 1.0, null, 0.9621212121212122, 0.9288794484132434, null, 0.9621212121212122, 0.9288794484132434, null], \"y\": [0.0, 0.0, null, 0.0, -0.03474098105827558, null, 0.0, 0.03474098105827558, null], \"hoverinfo\": \"none\", \"mode\": \"lines\", \"line\": {\"width\": 2, \"color\": \"rgb(0, 0, 0)\"}}, {\"x\": [1.0, 0.0, null, 0.03664774299318793, 0.07340128670201525, null, 0.03664774299318793, 0.06421703965128427, null], \"y\": [0.0, 0.5, null, 0.481676128503406, 0.4992073320037643, null, 0.481676128503406, 0.4319835048195859, null], \"hoverinfo\": \"none\", \"mode\": \"lines\", \"line\": {\"width\": 2, \"color\": \"rgb(0, 0, 0)\"}}, {\"x\": [0.9924242424242424, 0.9924242424242424, null, 0.9924242424242424, 0.9742641841437802, null], \"y\": [0.0, 1.0, null, 0.927536231884058, 0.8639432926166397, null], \"hoverinfo\": \"none\", \"mode\": \"lines\", \"line\": {\"width\": 2, \"color\": \"rgb(0, 0, 0)\"}}, {\"x\": [0.0], \"y\": [0.5], \"text\": [\"0\"], \"textposition\": \"middle center\", \"hoverinfo\": \"none\", \"mode\": \"markers+text\", \"marker\": {\"size\": 20, \"color\": \"rgb(0, 0, 255)\", \"line\": {\"width\": 2, \"color\": \"rgb(0, 0, 0)\"}}, \"textfont\": {\"color\": \"rgb(255, 255, 255)\"}}, {\"x\": [0.5], \"y\": [1.0], \"text\": [\"8\"], \"textposition\": \"middle center\", \"hoverinfo\": \"none\", \"mode\": \"markers+text\", \"marker\": {\"size\": 20, \"color\": \"rgb(0, 0, 255)\", \"line\": {\"width\": 2, \"color\": \"rgb(0, 0, 0)\"}}, \"textfont\": {\"color\": \"rgb(255, 255, 255)\"}}, {\"x\": [1.0], \"y\": [1.0], \"text\": [\"9\"], \"textposition\": \"middle center\", \"hoverinfo\": \"none\", \"mode\": \"markers+text\", \"marker\": {\"size\": 20, \"color\": \"rgb(255, 255, 255)\", \"line\": {\"width\": 2, \"color\": \"rgb(0, 0, 0)\"}}, \"textfont\": {\"color\": \"rgb(0, 0, 0)\"}}, {\"x\": [0.5], \"y\": [0.0], \"text\": [\"5\"], \"textposition\": \"middle center\", \"hoverinfo\": \"none\", \"mode\": \"markers+text\", \"marker\": {\"size\": 20, \"color\": \"rgb(0, 0, 255)\", \"line\": {\"width\": 2, \"color\": \"rgb(0, 0, 0)\"}}, \"textfont\": {\"color\": \"rgb(255, 255, 255)\"}}, {\"x\": [1.0], \"y\": [0.0], \"text\": [\"7\"], \"textposition\": \"middle center\", \"hoverinfo\": \"none\", \"mode\": \"markers+text\", \"marker\": {\"size\": 20, \"color\": \"rgb(0, 0, 255)\", \"line\": {\"width\": 2, \"color\": \"rgb(0, 0, 0)\"}}, \"textfont\": {\"color\": \"rgb(255, 255, 255)\"}}], \"name\": 26}, {\"data\": [{\"x\": [0.0, 0.5, null, 0.46643085439538495, 0.44538388103556675, null, 0.46643085439538495, 0.4285584341548651, null], \"y\": [0.5, 1.0, null, 0.966430854395385, 0.906182816233176, null, 0.966430854395385, 0.967759498957256, null], \"hoverinfo\": \"none\", \"mode\": \"lines\", \"line\": {\"width\": 2, \"color\": \"rgb(0, 0, 0)\"}}, {\"x\": [0.0, 0.5, null, 0.46643085439538495, 0.4285584341548651, null, 0.46643085439538495, 0.44538388103556675, null], \"y\": [0.5, 0.0, null, 0.03356914560461503, 0.032240501042743994, null, 0.03356914560461503, 0.09381718376682407, null], \"hoverinfo\": \"none\", \"mode\": \"lines\", \"line\": {\"width\": 2, \"color\": \"rgb(0, 0, 0)\"}}, {\"x\": [0.5, 1.0, null, 0.9621212121212122, 0.9288794484132434, null, 0.9621212121212122, 0.9288794484132434, null], \"y\": [1.0, 1.0, null, 1.0, 0.9652590189417244, null, 1.0, 1.0347409810582755, null], \"hoverinfo\": \"none\", \"mode\": \"lines\", \"line\": {\"width\": 2, \"color\": \"rgb(0, 0, 0)\"}}, {\"x\": [0.5075757575757576, 0.5075757575757576, null, 0.5075757575757576, 0.5257358158562198, null], \"y\": [1.0, 0.0, null, 0.07246376811594203, 0.13605670738336034, null], \"hoverinfo\": \"none\", \"mode\": \"lines\", \"line\": {\"width\": 2, \"color\": \"rgb(0, 0, 0)\"}}, {\"x\": [1.0075757575757576, 1.0075757575757576, null, 1.0075757575757576, 1.0257358158562198, null], \"y\": [1.0, 0.0, null, 0.07246376811594203, 0.13605670738336034, null], \"hoverinfo\": \"none\", \"mode\": \"lines\", \"line\": {\"width\": 2, \"color\": \"rgb(0, 0, 0)\"}}, {\"x\": [0.49242424242424243, 0.49242424242424243, null, 0.49242424242424243, 0.4742641841437802, null], \"y\": [0.0, 1.0, null, 0.927536231884058, 0.8639432926166397, null], \"hoverinfo\": \"none\", \"mode\": \"lines\", \"line\": {\"width\": 2, \"color\": \"rgb(0, 0, 0)\"}}, {\"x\": [0.5, 1.0, null, 0.9738173240163878, 0.9639630823912474, null, 0.9738173240163878, 0.9377166459078401, null], \"y\": [0.0, 1.0, null, 0.9476346480327754, 0.8776659754484841, null, 0.9476346480327754, 0.9256934811496907, null], \"hoverinfo\": \"none\", \"mode\": \"lines\", \"line\": {\"width\": 2, \"color\": \"rgb(0, 0, 0)\"}}, {\"x\": [0.5, 1.0, null, 0.9621212121212122, 0.9288794484132434, null, 0.9621212121212122, 0.9288794484132434, null], \"y\": [0.0, 0.0, null, 0.0, -0.03474098105827558, null, 0.0, 0.03474098105827558, null], \"hoverinfo\": \"none\", \"mode\": \"lines\", \"line\": {\"width\": 2, \"color\": \"rgb(0, 0, 0)\"}}, {\"x\": [1.0, 0.0, null, 0.03664774299318793, 0.07340128670201525, null, 0.03664774299318793, 0.06421703965128427, null], \"y\": [0.0, 0.5, null, 0.481676128503406, 0.4992073320037643, null, 0.481676128503406, 0.4319835048195859, null], \"hoverinfo\": \"none\", \"mode\": \"lines\", \"line\": {\"width\": 2, \"color\": \"rgb(0, 0, 0)\"}}, {\"x\": [0.9924242424242424, 0.9924242424242424, null, 0.9924242424242424, 0.9742641841437802, null], \"y\": [0.0, 1.0, null, 0.927536231884058, 0.8639432926166397, null], \"hoverinfo\": \"none\", \"mode\": \"lines\", \"line\": {\"width\": 2, \"color\": \"rgb(0, 0, 0)\"}}, {\"x\": [0.0], \"y\": [0.5], \"text\": [\"0\"], \"textposition\": \"middle center\", \"hoverinfo\": \"none\", \"mode\": \"markers+text\", \"marker\": {\"size\": 20, \"color\": \"rgb(0, 0, 255)\", \"line\": {\"width\": 2, \"color\": \"rgb(0, 0, 0)\"}}, \"textfont\": {\"color\": \"rgb(255, 255, 255)\"}}, {\"x\": [0.5], \"y\": [1.0], \"text\": [\"8\"], \"textposition\": \"middle center\", \"hoverinfo\": \"none\", \"mode\": \"markers+text\", \"marker\": {\"size\": 20, \"color\": \"rgb(0, 0, 255)\", \"line\": {\"width\": 2, \"color\": \"rgb(0, 0, 0)\"}}, \"textfont\": {\"color\": \"rgb(255, 255, 255)\"}}, {\"x\": [1.0], \"y\": [1.0], \"text\": [\"9\"], \"textposition\": \"middle center\", \"hoverinfo\": \"none\", \"mode\": \"markers+text\", \"marker\": {\"size\": 20, \"color\": \"rgb(0, 255, 0)\", \"line\": {\"width\": 2, \"color\": \"rgb(0, 0, 0)\"}}, \"textfont\": {\"color\": \"rgb(0, 0, 0)\"}}, {\"x\": [0.5], \"y\": [0.0], \"text\": [\"5\"], \"textposition\": \"middle center\", \"hoverinfo\": \"none\", \"mode\": \"markers+text\", \"marker\": {\"size\": 20, \"color\": \"rgb(0, 0, 255)\", \"line\": {\"width\": 2, \"color\": \"rgb(0, 0, 0)\"}}, \"textfont\": {\"color\": \"rgb(255, 255, 255)\"}}, {\"x\": [1.0], \"y\": [0.0], \"text\": [\"7\"], \"textposition\": \"middle center\", \"hoverinfo\": \"none\", \"mode\": \"markers+text\", \"marker\": {\"size\": 20, \"color\": \"rgb(0, 0, 255)\", \"line\": {\"width\": 2, \"color\": \"rgb(0, 0, 0)\"}}, \"textfont\": {\"color\": \"rgb(255, 255, 255)\"}}], \"name\": 27}, {\"data\": [{\"x\": [0.0, 0.5, null, 0.46643085439538495, 0.44538388103556675, null, 0.46643085439538495, 0.4285584341548651, null], \"y\": [0.5, 1.0, null, 0.966430854395385, 0.906182816233176, null, 0.966430854395385, 0.967759498957256, null], \"hoverinfo\": \"none\", \"mode\": \"lines\", \"line\": {\"width\": 2, \"color\": \"rgb(0, 0, 0)\"}}, {\"x\": [0.0, 0.5, null, 0.46643085439538495, 0.4285584341548651, null, 0.46643085439538495, 0.44538388103556675, null], \"y\": [0.5, 0.0, null, 0.03356914560461503, 0.032240501042743994, null, 0.03356914560461503, 0.09381718376682407, null], \"hoverinfo\": \"none\", \"mode\": \"lines\", \"line\": {\"width\": 2, \"color\": \"rgb(0, 0, 0)\"}}, {\"x\": [0.5, 1.0, null, 0.9621212121212122, 0.9288794484132434, null, 0.9621212121212122, 0.9288794484132434, null], \"y\": [1.0, 1.0, null, 1.0, 0.9652590189417244, null, 1.0, 1.0347409810582755, null], \"hoverinfo\": \"none\", \"mode\": \"lines\", \"line\": {\"width\": 2, \"color\": \"rgb(0, 0, 0)\"}}, {\"x\": [0.5075757575757576, 0.5075757575757576, null, 0.5075757575757576, 0.5257358158562198, null], \"y\": [1.0, 0.0, null, 0.07246376811594203, 0.13605670738336034, null], \"hoverinfo\": \"none\", \"mode\": \"lines\", \"line\": {\"width\": 2, \"color\": \"rgb(0, 0, 0)\"}}, {\"x\": [1.0075757575757576, 1.0075757575757576, null, 1.0075757575757576, 1.0257358158562198, null], \"y\": [1.0, 0.0, null, 0.07246376811594203, 0.13605670738336034, null], \"hoverinfo\": \"none\", \"mode\": \"lines\", \"line\": {\"width\": 2, \"color\": \"rgb(255, 0, 0)\"}}, {\"x\": [0.49242424242424243, 0.49242424242424243, null, 0.49242424242424243, 0.4742641841437802, null], \"y\": [0.0, 1.0, null, 0.927536231884058, 0.8639432926166397, null], \"hoverinfo\": \"none\", \"mode\": \"lines\", \"line\": {\"width\": 2, \"color\": \"rgb(0, 0, 0)\"}}, {\"x\": [0.5, 1.0, null, 0.9738173240163878, 0.9639630823912474, null, 0.9738173240163878, 0.9377166459078401, null], \"y\": [0.0, 1.0, null, 0.9476346480327754, 0.8776659754484841, null, 0.9476346480327754, 0.9256934811496907, null], \"hoverinfo\": \"none\", \"mode\": \"lines\", \"line\": {\"width\": 2, \"color\": \"rgb(0, 0, 0)\"}}, {\"x\": [0.5, 1.0, null, 0.9621212121212122, 0.9288794484132434, null, 0.9621212121212122, 0.9288794484132434, null], \"y\": [0.0, 0.0, null, 0.0, -0.03474098105827558, null, 0.0, 0.03474098105827558, null], \"hoverinfo\": \"none\", \"mode\": \"lines\", \"line\": {\"width\": 2, \"color\": \"rgb(0, 0, 0)\"}}, {\"x\": [1.0, 0.0, null, 0.03664774299318793, 0.07340128670201525, null, 0.03664774299318793, 0.06421703965128427, null], \"y\": [0.0, 0.5, null, 0.481676128503406, 0.4992073320037643, null, 0.481676128503406, 0.4319835048195859, null], \"hoverinfo\": \"none\", \"mode\": \"lines\", \"line\": {\"width\": 2, \"color\": \"rgb(0, 0, 0)\"}}, {\"x\": [0.9924242424242424, 0.9924242424242424, null, 0.9924242424242424, 0.9742641841437802, null], \"y\": [0.0, 1.0, null, 0.927536231884058, 0.8639432926166397, null], \"hoverinfo\": \"none\", \"mode\": \"lines\", \"line\": {\"width\": 2, \"color\": \"rgb(0, 0, 0)\"}}, {\"x\": [0.0], \"y\": [0.5], \"text\": [\"0\"], \"textposition\": \"middle center\", \"hoverinfo\": \"none\", \"mode\": \"markers+text\", \"marker\": {\"size\": 20, \"color\": \"rgb(0, 0, 255)\", \"line\": {\"width\": 2, \"color\": \"rgb(0, 0, 0)\"}}, \"textfont\": {\"color\": \"rgb(255, 255, 255)\"}}, {\"x\": [0.5], \"y\": [1.0], \"text\": [\"8\"], \"textposition\": \"middle center\", \"hoverinfo\": \"none\", \"mode\": \"markers+text\", \"marker\": {\"size\": 20, \"color\": \"rgb(0, 0, 255)\", \"line\": {\"width\": 2, \"color\": \"rgb(0, 0, 0)\"}}, \"textfont\": {\"color\": \"rgb(255, 255, 255)\"}}, {\"x\": [1.0], \"y\": [1.0], \"text\": [\"9\"], \"textposition\": \"middle center\", \"hoverinfo\": \"none\", \"mode\": \"markers+text\", \"marker\": {\"size\": 20, \"color\": \"rgb(0, 255, 0)\", \"line\": {\"width\": 2, \"color\": \"rgb(0, 0, 0)\"}}, \"textfont\": {\"color\": \"rgb(0, 0, 0)\"}}, {\"x\": [0.5], \"y\": [0.0], \"text\": [\"5\"], \"textposition\": \"middle center\", \"hoverinfo\": \"none\", \"mode\": \"markers+text\", \"marker\": {\"size\": 20, \"color\": \"rgb(0, 0, 255)\", \"line\": {\"width\": 2, \"color\": \"rgb(0, 0, 0)\"}}, \"textfont\": {\"color\": \"rgb(255, 255, 255)\"}}, {\"x\": [1.0], \"y\": [0.0], \"text\": [\"7\"], \"textposition\": \"middle center\", \"hoverinfo\": \"none\", \"mode\": \"markers+text\", \"marker\": {\"size\": 20, \"color\": \"rgb(0, 0, 255)\", \"line\": {\"width\": 2, \"color\": \"rgb(0, 0, 0)\"}}, \"textfont\": {\"color\": \"rgb(255, 255, 255)\"}}], \"name\": 28}, {\"data\": [{\"x\": [0.0, 0.5, null, 0.46643085439538495, 0.44538388103556675, null, 0.46643085439538495, 0.4285584341548651, null], \"y\": [0.5, 1.0, null, 0.966430854395385, 0.906182816233176, null, 0.966430854395385, 0.967759498957256, null], \"hoverinfo\": \"none\", \"mode\": \"lines\", \"line\": {\"width\": 2, \"color\": \"rgb(0, 0, 0)\"}}, {\"x\": [0.0, 0.5, null, 0.46643085439538495, 0.4285584341548651, null, 0.46643085439538495, 0.44538388103556675, null], \"y\": [0.5, 0.0, null, 0.03356914560461503, 0.032240501042743994, null, 0.03356914560461503, 0.09381718376682407, null], \"hoverinfo\": \"none\", \"mode\": \"lines\", \"line\": {\"width\": 2, \"color\": \"rgb(0, 0, 0)\"}}, {\"x\": [0.5, 1.0, null, 0.9621212121212122, 0.9288794484132434, null, 0.9621212121212122, 0.9288794484132434, null], \"y\": [1.0, 1.0, null, 1.0, 0.9652590189417244, null, 1.0, 1.0347409810582755, null], \"hoverinfo\": \"none\", \"mode\": \"lines\", \"line\": {\"width\": 2, \"color\": \"rgb(0, 0, 0)\"}}, {\"x\": [0.5075757575757576, 0.5075757575757576, null, 0.5075757575757576, 0.5257358158562198, null], \"y\": [1.0, 0.0, null, 0.07246376811594203, 0.13605670738336034, null], \"hoverinfo\": \"none\", \"mode\": \"lines\", \"line\": {\"width\": 2, \"color\": \"rgb(0, 0, 0)\"}}, {\"x\": [1.0075757575757576, 1.0075757575757576, null, 1.0075757575757576, 1.0257358158562198, null], \"y\": [1.0, 0.0, null, 0.07246376811594203, 0.13605670738336034, null], \"hoverinfo\": \"none\", \"mode\": \"lines\", \"line\": {\"width\": 2, \"color\": \"rgb(0, 0, 0)\"}}, {\"x\": [0.49242424242424243, 0.49242424242424243, null, 0.49242424242424243, 0.4742641841437802, null], \"y\": [0.0, 1.0, null, 0.927536231884058, 0.8639432926166397, null], \"hoverinfo\": \"none\", \"mode\": \"lines\", \"line\": {\"width\": 2, \"color\": \"rgb(0, 0, 0)\"}}, {\"x\": [0.5, 1.0, null, 0.9738173240163878, 0.9639630823912474, null, 0.9738173240163878, 0.9377166459078401, null], \"y\": [0.0, 1.0, null, 0.9476346480327754, 0.8776659754484841, null, 0.9476346480327754, 0.9256934811496907, null], \"hoverinfo\": \"none\", \"mode\": \"lines\", \"line\": {\"width\": 2, \"color\": \"rgb(0, 0, 0)\"}}, {\"x\": [0.5, 1.0, null, 0.9621212121212122, 0.9288794484132434, null, 0.9621212121212122, 0.9288794484132434, null], \"y\": [0.0, 0.0, null, 0.0, -0.03474098105827558, null, 0.0, 0.03474098105827558, null], \"hoverinfo\": \"none\", \"mode\": \"lines\", \"line\": {\"width\": 2, \"color\": \"rgb(0, 0, 0)\"}}, {\"x\": [1.0, 0.0, null, 0.03664774299318793, 0.07340128670201525, null, 0.03664774299318793, 0.06421703965128427, null], \"y\": [0.0, 0.5, null, 0.481676128503406, 0.4992073320037643, null, 0.481676128503406, 0.4319835048195859, null], \"hoverinfo\": \"none\", \"mode\": \"lines\", \"line\": {\"width\": 2, \"color\": \"rgb(0, 0, 0)\"}}, {\"x\": [0.9924242424242424, 0.9924242424242424, null, 0.9924242424242424, 0.9742641841437802, null], \"y\": [0.0, 1.0, null, 0.927536231884058, 0.8639432926166397, null], \"hoverinfo\": \"none\", \"mode\": \"lines\", \"line\": {\"width\": 2, \"color\": \"rgb(0, 0, 0)\"}}, {\"x\": [0.0], \"y\": [0.5], \"text\": [\"0\"], \"textposition\": \"middle center\", \"hoverinfo\": \"none\", \"mode\": \"markers+text\", \"marker\": {\"size\": 20, \"color\": \"rgb(0, 0, 255)\", \"line\": {\"width\": 2, \"color\": \"rgb(0, 0, 0)\"}}, \"textfont\": {\"color\": \"rgb(255, 255, 255)\"}}, {\"x\": [0.5], \"y\": [1.0], \"text\": [\"8\"], \"textposition\": \"middle center\", \"hoverinfo\": \"none\", \"mode\": \"markers+text\", \"marker\": {\"size\": 20, \"color\": \"rgb(0, 0, 255)\", \"line\": {\"width\": 2, \"color\": \"rgb(0, 0, 0)\"}}, \"textfont\": {\"color\": \"rgb(255, 255, 255)\"}}, {\"x\": [1.0], \"y\": [1.0], \"text\": [\"9\"], \"textposition\": \"middle center\", \"hoverinfo\": \"none\", \"mode\": \"markers+text\", \"marker\": {\"size\": 20, \"color\": \"rgb(0, 255, 0)\", \"line\": {\"width\": 2, \"color\": \"rgb(0, 0, 0)\"}}, \"textfont\": {\"color\": \"rgb(0, 0, 0)\"}}, {\"x\": [0.5], \"y\": [0.0], \"text\": [\"5\"], \"textposition\": \"middle center\", \"hoverinfo\": \"none\", \"mode\": \"markers+text\", \"marker\": {\"size\": 20, \"color\": \"rgb(0, 0, 255)\", \"line\": {\"width\": 2, \"color\": \"rgb(0, 0, 0)\"}}, \"textfont\": {\"color\": \"rgb(255, 255, 255)\"}}, {\"x\": [1.0], \"y\": [0.0], \"text\": [\"7\"], \"textposition\": \"middle center\", \"hoverinfo\": \"none\", \"mode\": \"markers+text\", \"marker\": {\"size\": 20, \"color\": \"rgb(0, 0, 255)\", \"line\": {\"width\": 2, \"color\": \"rgb(0, 0, 0)\"}}, \"textfont\": {\"color\": \"rgb(255, 255, 255)\"}}], \"name\": 29}, {\"data\": [{\"x\": [0.0, 0.5, null, 0.46643085439538495, 0.44538388103556675, null, 0.46643085439538495, 0.4285584341548651, null], \"y\": [0.5, 1.0, null, 0.966430854395385, 0.906182816233176, null, 0.966430854395385, 0.967759498957256, null], \"hoverinfo\": \"none\", \"mode\": \"lines\", \"line\": {\"width\": 2, \"color\": \"rgb(0, 0, 0)\"}}, {\"x\": [0.0, 0.5, null, 0.46643085439538495, 0.4285584341548651, null, 0.46643085439538495, 0.44538388103556675, null], \"y\": [0.5, 0.0, null, 0.03356914560461503, 0.032240501042743994, null, 0.03356914560461503, 0.09381718376682407, null], \"hoverinfo\": \"none\", \"mode\": \"lines\", \"line\": {\"width\": 2, \"color\": \"rgb(0, 0, 0)\"}}, {\"x\": [0.5, 1.0, null, 0.9621212121212122, 0.9288794484132434, null, 0.9621212121212122, 0.9288794484132434, null], \"y\": [1.0, 1.0, null, 1.0, 0.9652590189417244, null, 1.0, 1.0347409810582755, null], \"hoverinfo\": \"none\", \"mode\": \"lines\", \"line\": {\"width\": 2, \"color\": \"rgb(0, 0, 0)\"}}, {\"x\": [0.5075757575757576, 0.5075757575757576, null, 0.5075757575757576, 0.5257358158562198, null], \"y\": [1.0, 0.0, null, 0.07246376811594203, 0.13605670738336034, null], \"hoverinfo\": \"none\", \"mode\": \"lines\", \"line\": {\"width\": 2, \"color\": \"rgb(0, 0, 0)\"}}, {\"x\": [1.0075757575757576, 1.0075757575757576, null, 1.0075757575757576, 1.0257358158562198, null], \"y\": [1.0, 0.0, null, 0.07246376811594203, 0.13605670738336034, null], \"hoverinfo\": \"none\", \"mode\": \"lines\", \"line\": {\"width\": 2, \"color\": \"rgb(0, 0, 0)\"}}, {\"x\": [0.49242424242424243, 0.49242424242424243, null, 0.49242424242424243, 0.4742641841437802, null], \"y\": [0.0, 1.0, null, 0.927536231884058, 0.8639432926166397, null], \"hoverinfo\": \"none\", \"mode\": \"lines\", \"line\": {\"width\": 2, \"color\": \"rgb(0, 0, 0)\"}}, {\"x\": [0.5, 1.0, null, 0.9738173240163878, 0.9639630823912474, null, 0.9738173240163878, 0.9377166459078401, null], \"y\": [0.0, 1.0, null, 0.9476346480327754, 0.8776659754484841, null, 0.9476346480327754, 0.9256934811496907, null], \"hoverinfo\": \"none\", \"mode\": \"lines\", \"line\": {\"width\": 2, \"color\": \"rgb(0, 0, 0)\"}}, {\"x\": [0.5, 1.0, null, 0.9621212121212122, 0.9288794484132434, null, 0.9621212121212122, 0.9288794484132434, null], \"y\": [0.0, 0.0, null, 0.0, -0.03474098105827558, null, 0.0, 0.03474098105827558, null], \"hoverinfo\": \"none\", \"mode\": \"lines\", \"line\": {\"width\": 2, \"color\": \"rgb(0, 0, 0)\"}}, {\"x\": [1.0, 0.0, null, 0.03664774299318793, 0.07340128670201525, null, 0.03664774299318793, 0.06421703965128427, null], \"y\": [0.0, 0.5, null, 0.481676128503406, 0.4992073320037643, null, 0.481676128503406, 0.4319835048195859, null], \"hoverinfo\": \"none\", \"mode\": \"lines\", \"line\": {\"width\": 2, \"color\": \"rgb(0, 0, 0)\"}}, {\"x\": [0.9924242424242424, 0.9924242424242424, null, 0.9924242424242424, 0.9742641841437802, null], \"y\": [0.0, 1.0, null, 0.927536231884058, 0.8639432926166397, null], \"hoverinfo\": \"none\", \"mode\": \"lines\", \"line\": {\"width\": 2, \"color\": \"rgb(0, 0, 0)\"}}, {\"x\": [0.0], \"y\": [0.5], \"text\": [\"0\"], \"textposition\": \"middle center\", \"hoverinfo\": \"none\", \"mode\": \"markers+text\", \"marker\": {\"size\": 20, \"color\": \"rgb(0, 0, 255)\", \"line\": {\"width\": 2, \"color\": \"rgb(0, 0, 0)\"}}, \"textfont\": {\"color\": \"rgb(255, 255, 255)\"}}, {\"x\": [0.5], \"y\": [1.0], \"text\": [\"8\"], \"textposition\": \"middle center\", \"hoverinfo\": \"none\", \"mode\": \"markers+text\", \"marker\": {\"size\": 20, \"color\": \"rgb(0, 0, 255)\", \"line\": {\"width\": 2, \"color\": \"rgb(0, 0, 0)\"}}, \"textfont\": {\"color\": \"rgb(255, 255, 255)\"}}, {\"x\": [1.0], \"y\": [1.0], \"text\": [\"9\"], \"textposition\": \"middle center\", \"hoverinfo\": \"none\", \"mode\": \"markers+text\", \"marker\": {\"size\": 20, \"color\": \"rgb(0, 0, 255)\", \"line\": {\"width\": 2, \"color\": \"rgb(0, 0, 0)\"}}, \"textfont\": {\"color\": \"rgb(255, 255, 255)\"}}, {\"x\": [0.5], \"y\": [0.0], \"text\": [\"5\"], \"textposition\": \"middle center\", \"hoverinfo\": \"none\", \"mode\": \"markers+text\", \"marker\": {\"size\": 20, \"color\": \"rgb(0, 0, 255)\", \"line\": {\"width\": 2, \"color\": \"rgb(0, 0, 0)\"}}, \"textfont\": {\"color\": \"rgb(255, 255, 255)\"}}, {\"x\": [1.0], \"y\": [0.0], \"text\": [\"7\"], \"textposition\": \"middle center\", \"hoverinfo\": \"none\", \"mode\": \"markers+text\", \"marker\": {\"size\": 20, \"color\": \"rgb(0, 0, 255)\", \"line\": {\"width\": 2, \"color\": \"rgb(0, 0, 0)\"}}, \"textfont\": {\"color\": \"rgb(255, 255, 255)\"}}], \"name\": 30}, {\"data\": [{\"x\": [0.0, 0.5, null, 0.46643085439538495, 0.44538388103556675, null, 0.46643085439538495, 0.4285584341548651, null], \"y\": [0.5, 1.0, null, 0.966430854395385, 0.906182816233176, null, 0.966430854395385, 0.967759498957256, null], \"hoverinfo\": \"none\", \"mode\": \"lines\", \"line\": {\"width\": 2, \"color\": \"rgb(0, 0, 0)\"}}, {\"x\": [0.0, 0.5, null, 0.46643085439538495, 0.4285584341548651, null, 0.46643085439538495, 0.44538388103556675, null], \"y\": [0.5, 0.0, null, 0.03356914560461503, 0.032240501042743994, null, 0.03356914560461503, 0.09381718376682407, null], \"hoverinfo\": \"none\", \"mode\": \"lines\", \"line\": {\"width\": 2, \"color\": \"rgb(0, 0, 0)\"}}, {\"x\": [0.5, 1.0, null, 0.9621212121212122, 0.9288794484132434, null, 0.9621212121212122, 0.9288794484132434, null], \"y\": [1.0, 1.0, null, 1.0, 0.9652590189417244, null, 1.0, 1.0347409810582755, null], \"hoverinfo\": \"none\", \"mode\": \"lines\", \"line\": {\"width\": 2, \"color\": \"rgb(0, 0, 0)\"}}, {\"x\": [0.5075757575757576, 0.5075757575757576, null, 0.5075757575757576, 0.5257358158562198, null], \"y\": [1.0, 0.0, null, 0.07246376811594203, 0.13605670738336034, null], \"hoverinfo\": \"none\", \"mode\": \"lines\", \"line\": {\"width\": 2, \"color\": \"rgb(0, 0, 0)\"}}, {\"x\": [1.0075757575757576, 1.0075757575757576, null, 1.0075757575757576, 1.0257358158562198, null], \"y\": [1.0, 0.0, null, 0.07246376811594203, 0.13605670738336034, null], \"hoverinfo\": \"none\", \"mode\": \"lines\", \"line\": {\"width\": 2, \"color\": \"rgb(0, 0, 0)\"}}, {\"x\": [0.49242424242424243, 0.49242424242424243, null, 0.49242424242424243, 0.4742641841437802, null], \"y\": [0.0, 1.0, null, 0.927536231884058, 0.8639432926166397, null], \"hoverinfo\": \"none\", \"mode\": \"lines\", \"line\": {\"width\": 2, \"color\": \"rgb(0, 0, 0)\"}}, {\"x\": [0.5, 1.0, null, 0.9738173240163878, 0.9639630823912474, null, 0.9738173240163878, 0.9377166459078401, null], \"y\": [0.0, 1.0, null, 0.9476346480327754, 0.8776659754484841, null, 0.9476346480327754, 0.9256934811496907, null], \"hoverinfo\": \"none\", \"mode\": \"lines\", \"line\": {\"width\": 2, \"color\": \"rgb(0, 0, 0)\"}}, {\"x\": [0.5, 1.0, null, 0.9621212121212122, 0.9288794484132434, null, 0.9621212121212122, 0.9288794484132434, null], \"y\": [0.0, 0.0, null, 0.0, -0.03474098105827558, null, 0.0, 0.03474098105827558, null], \"hoverinfo\": \"none\", \"mode\": \"lines\", \"line\": {\"width\": 2, \"color\": \"rgb(0, 0, 0)\"}}, {\"x\": [1.0, 0.0, null, 0.03664774299318793, 0.07340128670201525, null, 0.03664774299318793, 0.06421703965128427, null], \"y\": [0.0, 0.5, null, 0.481676128503406, 0.4992073320037643, null, 0.481676128503406, 0.4319835048195859, null], \"hoverinfo\": \"none\", \"mode\": \"lines\", \"line\": {\"width\": 2, \"color\": \"rgb(0, 0, 0)\"}}, {\"x\": [0.9924242424242424, 0.9924242424242424, null, 0.9924242424242424, 0.9742641841437802, null], \"y\": [0.0, 1.0, null, 0.927536231884058, 0.8639432926166397, null], \"hoverinfo\": \"none\", \"mode\": \"lines\", \"line\": {\"width\": 2, \"color\": \"rgb(0, 0, 0)\"}}, {\"x\": [0.0], \"y\": [0.5], \"text\": [\"0\"], \"textposition\": \"middle center\", \"hoverinfo\": \"none\", \"mode\": \"markers+text\", \"marker\": {\"size\": 20, \"color\": \"rgb(0, 0, 255)\", \"line\": {\"width\": 2, \"color\": \"rgb(0, 0, 0)\"}}, \"textfont\": {\"color\": \"rgb(255, 255, 255)\"}}, {\"x\": [0.5], \"y\": [1.0], \"text\": [\"8\"], \"textposition\": \"middle center\", \"hoverinfo\": \"none\", \"mode\": \"markers+text\", \"marker\": {\"size\": 20, \"color\": \"rgb(0, 0, 255)\", \"line\": {\"width\": 2, \"color\": \"rgb(0, 0, 0)\"}}, \"textfont\": {\"color\": \"rgb(255, 255, 255)\"}}, {\"x\": [1.0], \"y\": [1.0], \"text\": [\"9\"], \"textposition\": \"middle center\", \"hoverinfo\": \"none\", \"mode\": \"markers+text\", \"marker\": {\"size\": 20, \"color\": \"rgb(0, 0, 255)\", \"line\": {\"width\": 2, \"color\": \"rgb(0, 0, 0)\"}}, \"textfont\": {\"color\": \"rgb(255, 255, 255)\"}}, {\"x\": [0.5], \"y\": [0.0], \"text\": [\"5\"], \"textposition\": \"middle center\", \"hoverinfo\": \"none\", \"mode\": \"markers+text\", \"marker\": {\"size\": 20, \"color\": \"rgb(0, 0, 255)\", \"line\": {\"width\": 2, \"color\": \"rgb(0, 0, 0)\"}}, \"textfont\": {\"color\": \"rgb(255, 255, 255)\"}}, {\"x\": [1.0], \"y\": [0.0], \"text\": [\"7\"], \"textposition\": \"middle center\", \"hoverinfo\": \"none\", \"mode\": \"markers+text\", \"marker\": {\"size\": 20, \"color\": \"rgb(0, 0, 255)\", \"line\": {\"width\": 2, \"color\": \"rgb(0, 0, 0)\"}}, \"textfont\": {\"color\": \"rgb(255, 255, 255)\"}}], \"name\": 31}, {\"data\": [{\"x\": [0.0, 0.5, null, 0.46643085439538495, 0.44538388103556675, null, 0.46643085439538495, 0.4285584341548651, null], \"y\": [0.5, 1.0, null, 0.966430854395385, 0.906182816233176, null, 0.966430854395385, 0.967759498957256, null], \"hoverinfo\": \"none\", \"mode\": \"lines\", \"line\": {\"width\": 2, \"color\": \"rgb(0, 0, 0)\"}}, {\"x\": [0.0, 0.5, null, 0.46643085439538495, 0.4285584341548651, null, 0.46643085439538495, 0.44538388103556675, null], \"y\": [0.5, 0.0, null, 0.03356914560461503, 0.032240501042743994, null, 0.03356914560461503, 0.09381718376682407, null], \"hoverinfo\": \"none\", \"mode\": \"lines\", \"line\": {\"width\": 2, \"color\": \"rgb(0, 0, 0)\"}}, {\"x\": [0.5, 1.0, null, 0.9621212121212122, 0.9288794484132434, null, 0.9621212121212122, 0.9288794484132434, null], \"y\": [1.0, 1.0, null, 1.0, 0.9652590189417244, null, 1.0, 1.0347409810582755, null], \"hoverinfo\": \"none\", \"mode\": \"lines\", \"line\": {\"width\": 2, \"color\": \"rgb(0, 0, 0)\"}}, {\"x\": [0.5075757575757576, 0.5075757575757576, null, 0.5075757575757576, 0.5257358158562198, null], \"y\": [1.0, 0.0, null, 0.07246376811594203, 0.13605670738336034, null], \"hoverinfo\": \"none\", \"mode\": \"lines\", \"line\": {\"width\": 2, \"color\": \"rgb(0, 0, 0)\"}}, {\"x\": [1.0075757575757576, 1.0075757575757576, null, 1.0075757575757576, 1.0257358158562198, null], \"y\": [1.0, 0.0, null, 0.07246376811594203, 0.13605670738336034, null], \"hoverinfo\": \"none\", \"mode\": \"lines\", \"line\": {\"width\": 2, \"color\": \"rgb(0, 0, 0)\"}}, {\"x\": [0.49242424242424243, 0.49242424242424243, null, 0.49242424242424243, 0.4742641841437802, null], \"y\": [0.0, 1.0, null, 0.927536231884058, 0.8639432926166397, null], \"hoverinfo\": \"none\", \"mode\": \"lines\", \"line\": {\"width\": 2, \"color\": \"rgb(0, 0, 0)\"}}, {\"x\": [0.5, 1.0, null, 0.9738173240163878, 0.9639630823912474, null, 0.9738173240163878, 0.9377166459078401, null], \"y\": [0.0, 1.0, null, 0.9476346480327754, 0.8776659754484841, null, 0.9476346480327754, 0.9256934811496907, null], \"hoverinfo\": \"none\", \"mode\": \"lines\", \"line\": {\"width\": 2, \"color\": \"rgb(0, 0, 0)\"}}, {\"x\": [0.5, 1.0, null, 0.9621212121212122, 0.9288794484132434, null, 0.9621212121212122, 0.9288794484132434, null], \"y\": [0.0, 0.0, null, 0.0, -0.03474098105827558, null, 0.0, 0.03474098105827558, null], \"hoverinfo\": \"none\", \"mode\": \"lines\", \"line\": {\"width\": 2, \"color\": \"rgb(0, 0, 0)\"}}, {\"x\": [1.0, 0.0, null, 0.03664774299318793, 0.07340128670201525, null, 0.03664774299318793, 0.06421703965128427, null], \"y\": [0.0, 0.5, null, 0.481676128503406, 0.4992073320037643, null, 0.481676128503406, 0.4319835048195859, null], \"hoverinfo\": \"none\", \"mode\": \"lines\", \"line\": {\"width\": 2, \"color\": \"rgb(0, 0, 0)\"}}, {\"x\": [0.9924242424242424, 0.9924242424242424, null, 0.9924242424242424, 0.9742641841437802, null], \"y\": [0.0, 1.0, null, 0.927536231884058, 0.8639432926166397, null], \"hoverinfo\": \"none\", \"mode\": \"lines\", \"line\": {\"width\": 2, \"color\": \"rgb(0, 0, 0)\"}}, {\"x\": [0.0], \"y\": [0.5], \"text\": [\"0\"], \"textposition\": \"middle center\", \"hoverinfo\": \"none\", \"mode\": \"markers+text\", \"marker\": {\"size\": 20, \"color\": \"rgb(255, 255, 255)\", \"line\": {\"width\": 2, \"color\": \"rgb(0, 0, 0)\"}}, \"textfont\": {\"color\": \"rgb(0, 0, 0)\"}}, {\"x\": [0.5], \"y\": [1.0], \"text\": [\"8\"], \"textposition\": \"middle center\", \"hoverinfo\": \"none\", \"mode\": \"markers+text\", \"marker\": {\"size\": 20, \"color\": \"rgb(255, 255, 255)\", \"line\": {\"width\": 2, \"color\": \"rgb(0, 0, 0)\"}}, \"textfont\": {\"color\": \"rgb(0, 0, 0)\"}}, {\"x\": [1.0], \"y\": [1.0], \"text\": [\"9\"], \"textposition\": \"middle center\", \"hoverinfo\": \"none\", \"mode\": \"markers+text\", \"marker\": {\"size\": 20, \"color\": \"rgb(255, 255, 255)\", \"line\": {\"width\": 2, \"color\": \"rgb(0, 0, 0)\"}}, \"textfont\": {\"color\": \"rgb(0, 0, 0)\"}}, {\"x\": [0.5], \"y\": [0.0], \"text\": [\"5\"], \"textposition\": \"middle center\", \"hoverinfo\": \"none\", \"mode\": \"markers+text\", \"marker\": {\"size\": 20, \"color\": \"rgb(255, 255, 255)\", \"line\": {\"width\": 2, \"color\": \"rgb(0, 0, 0)\"}}, \"textfont\": {\"color\": \"rgb(0, 0, 0)\"}}, {\"x\": [1.0], \"y\": [0.0], \"text\": [\"7\"], \"textposition\": \"middle center\", \"hoverinfo\": \"none\", \"mode\": \"markers+text\", \"marker\": {\"size\": 20, \"color\": \"rgb(255, 255, 255)\", \"line\": {\"width\": 2, \"color\": \"rgb(0, 0, 0)\"}}, \"textfont\": {\"color\": \"rgb(0, 0, 0)\"}}], \"name\": 32}]);}).then(function(){Plotly.animate('c426ebf0-f873-4967-bee1-74a1938ec32c');})\n",
       "        });</script>"
      ]
     },
     "metadata": {},
     "output_type": "display_data"
    }
   ],
   "source": [
    "from math import inf, isinf\n",
    "\n",
    "def snapshot(g, frames):\n",
    "    for n in g.nodes():\n",
    "        if isinf(g.node[n]['d']):\n",
    "            g.node[n]['label'] = '∞'\n",
    "        else:\n",
    "            g.node[n]['label'] = str(g.node[n]['d'])\n",
    "\n",
    "    frame = sn.generate_frame(g, nlab=True)\n",
    "\n",
    "    frames.append(frame)\n",
    "\n",
    "    \n",
    "red = (255, 0, 0)  \n",
    "blue = (0, 0, 255)\n",
    "green = (0,255,0)\n",
    "frames = [] \n",
    "\n",
    "sn.reset_node_colors(g)\n",
    "sn.reset_edge_colors(g)\n",
    "snapshot(g, frames)\n",
    "\n",
    "h = Heap(g)\n",
    "for n in g.nodes():\n",
    "    g.node[n]['d'] = inf\n",
    "    h.put(n)\n",
    "\n",
    "s=0\n",
    "g.node[s]['d'] = 0\n",
    "h.fix(0)\n",
    "\n",
    "\n",
    "while not h.empty():\n",
    "    n = h.get()\n",
    "    g.node[n]['color'] = green\n",
    "    snapshot (g, frames)\n",
    "    \n",
    "    for m in g.successors(n):\n",
    "        g.edge[n][m]['color'] = red\n",
    "        d = g.node[n]['d'] + g.edge[n][m]['c']\n",
    "        snapshot(g, frames)\n",
    "        if g.node[m]['d'] > d:\n",
    "            g.node[m]['d'] = d\n",
    "            h.fix(m)\n",
    "        g.edge[n][m]['color'] = sn.edge_color\n",
    "        snapshot(g, frames)\n",
    "    \n",
    "    g.node[n]['color'] = blue\n",
    "    snapshot(g, frames)\n",
    "\n",
    "\n",
    "snapshot(g, frames)\n",
    "\n",
    "sn.reset_edge_colors(g)\n",
    "sn.reset_node_colors(g)\n",
    "snapshot(g, frames)\n",
    "\n",
    "\n",
    "sn.show_animation(frames)"
   ]
  }
 ],
 "metadata": {
  "kernelspec": {
   "display_name": "Python 3",
   "language": "python",
   "name": "python3"
  },
  "language_info": {
   "codemirror_mode": {
    "name": "ipython",
    "version": 3
   },
   "file_extension": ".py",
   "mimetype": "text/x-python",
   "name": "python",
   "nbconvert_exporter": "python",
   "pygments_lexer": "ipython3",
   "version": "3.6.1"
  }
 },
 "nbformat": 4,
 "nbformat_minor": 1
}
